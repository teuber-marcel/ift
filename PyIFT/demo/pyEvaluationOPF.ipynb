{
 "cells": [
  {
   "cell_type": "code",
   "execution_count": 9,
   "metadata": {},
   "outputs": [],
   "source": [
    "import pyift as ift\n",
    "import numpy as np"
   ]
  },
  {
   "cell_type": "code",
   "execution_count": 10,
   "metadata": {},
   "outputs": [],
   "source": [
    "# file_name = sys.argv[0]\n",
    "# n_splits = sys.argv[1]\n",
    "file_name = \"path/to/iftDataSet.zip\"\n",
    "n_splits = 10"
   ]
  },
  {
   "cell_type": "code",
   "execution_count": 11,
   "metadata": {},
   "outputs": [],
   "source": [
    "ift.RandomSeed(42)\n",
    "\n",
    "Z = ift.ReadDataSet(file_name)\n",
    "\n",
    "sampler = ift.KFold(Z.nsamples, n_splits)\n",
    "\n",
    "kappas = []"
   ]
  },
  {
   "cell_type": "code",
   "execution_count": 16,
   "metadata": {},
   "outputs": [
    {
     "name": "stdout",
     "output_type": "stream",
     "text": [
      "Kappa Score 1: -0.153153\n",
      "Kappa Score 2: -0.142857\n",
      "Kappa Score 3: 0.020408\n",
      "Kappa Score 4: 0.111111\n",
      "Kappa Score 5: 0.104000\n",
      "Kappa Score 6: 0.191919\n",
      "Kappa Score 7: -0.086420\n",
      "Kappa Score 8: 0.157895\n",
      "Kappa Score 9: 0.000000\n",
      "Kappa Score 10: -0.117021\n"
     ]
    }
   ],
   "source": [
    "for i in range(0, n_splits):\n",
    "    \n",
    "    ift.DataSetSampling(Z, sampler, i)\n",
    "    \n",
    "    Z_train = ift.ExtractSamples(Z,  ift.TRAIN) # TRAIN = 0x04\n",
    "    Z_test = ift.ExtractSamples(Z, ift.TEST) # TEST = 0x02\n",
    "    \n",
    "    graph = ift.CreateCplGraph(Z_train)\n",
    "\n",
    "    ift.SupTrain(graph)\n",
    "\n",
    "    ift.Classify(graph, Z_test)\n",
    "    \n",
    "    score = ift.CohenKappaScore(Z_test)\n",
    "    kappas.append(score)\n",
    "    print(\"Kappa Score %d: %f\" % (i+1, score))"
   ]
  },
  {
   "cell_type": "code",
   "execution_count": 17,
   "metadata": {},
   "outputs": [
    {
     "name": "stdout",
     "output_type": "stream",
     "text": [
      "Score Mean: -0.006116\n",
      "Score Std Dev: 0.125558\n"
     ]
    }
   ],
   "source": [
    "kp = np.asarray(kappas)\n",
    "\n",
    "print(\"Score Mean: %f\" % kp.mean())\n",
    "print(\"Score Std Dev: %f\" % kp.std())"
   ]
  },
  {
   "cell_type": "code",
   "execution_count": null,
   "metadata": {},
   "outputs": [],
   "source": []
  }
 ],
 "metadata": {
  "kernelspec": {
   "display_name": "Python 3",
   "language": "python",
   "name": "python3"
  },
  "language_info": {
   "codemirror_mode": {
    "name": "ipython",
    "version": 3
   },
   "file_extension": ".py",
   "mimetype": "text/x-python",
   "name": "python",
   "nbconvert_exporter": "python",
   "pygments_lexer": "ipython3",
   "version": "3.7.1"
  }
 },
 "nbformat": 4,
 "nbformat_minor": 2
}
