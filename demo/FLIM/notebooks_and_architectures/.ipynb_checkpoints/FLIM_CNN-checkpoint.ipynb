{
 "cells": [
  {
   "cell_type": "code",
   "execution_count": 1,
   "metadata": {
    "colab": {
     "base_uri": "https://localhost:8080/"
    },
    "id": "5r38dynQvu7D",
    "outputId": "d2c9f2bb-f5b4-4bd3-b5c3-fb0a69af0fb1"
   },
   "outputs": [
    {
     "data": {
      "text/plain": [
       "<torch._C.Generator at 0x7fe420126af0>"
      ]
     },
     "execution_count": 1,
     "metadata": {},
     "output_type": "execute_result"
    }
   ],
   "source": [
    "import torch\n",
    "from flim.experiments import utils\n",
    "from torch import nn as nn\n",
    "import math\n",
    "from glob import glob\n",
    "from torchsummary import summary\n",
    "from torch_snippets import *\n",
    "from torch.utils.data import TensorDataset, DataLoader\n",
    "from torchvision import transforms\n",
    "import torch.optim as optim\n",
    "import matplotlib.pyplot as plt\n",
    "import numpy as np\n",
    "import pyift.pyift as ift\n",
    "\n",
    "#is GPU available?\n",
    "gpu = torch.cuda.is_available()\n",
    "\n",
    "#defining device where to to the computation\n",
    "device = torch.device(0) if gpu else torch.device('cpu')\n",
    "\n",
    "# fixed random seeds for comparative analysis \n",
    "np.random.seed(42)\n",
    "torch.manual_seed(42)"
   ]
  },
  {
   "cell_type": "markdown",
   "metadata": {},
   "source": [
    "### Randomly split a fileset into training, validation, and test sets: output lists of image names"
   ]
  },
  {
   "cell_type": "code",
   "execution_count": 2,
   "metadata": {},
   "outputs": [],
   "source": [
    "# Set the folder with the samples (images) that compose a dataset and the number of classes\n",
    "\n",
    "orig_dir   = './images/corel'\n",
    "nclasses   = 6\n",
    "\n",
    "# Set the desired image size for rescaling and maximum value for normalization\n",
    "\n",
    "width       = 200 \n",
    "height      = 200\n",
    "nchannels   = 3\n",
    "maxval      = 255. \n",
    "input_shape = (nchannels,height,width)\n",
    "\n",
    "# Set the percentages of samples that will be used for training, validation and test. \n",
    "\n",
    "train_perc = 0.40\n",
    "valid_perc = 0.30\n",
    "test_perc  = 0.30\n",
    "\n",
    "# Create training, validation, and test sets.\n",
    "\n",
    "data = glob(orig_dir+\"/*.png\") # it returns a list of image filenames\n",
    "\n",
    "num_train_samples = int(len(data)*train_perc)\n",
    "num_valid_samples = int(len(data)*valid_perc)  \n",
    "num_test_samples  = len(data) - num_train_samples - num_valid_samples \n",
    "np.random.shuffle(data) # randomly change the order of the filenames in data\n",
    "trainset = data[:num_train_samples] \n",
    "validset = data[num_train_samples:num_train_samples+num_valid_samples]\n",
    "testset  = data[num_train_samples+num_valid_samples:]\n",
    "\n",
    "# Set output model name\n",
    "\n",
    "model_name  = 'CorelCNN.pth'"
   ]
  },
  {
   "cell_type": "markdown",
   "metadata": {},
   "source": [
    "***\n",
    "### Create image datasets with some preprocessing: output a list of image tensors"
   ]
  },
  {
   "cell_type": "code",
   "execution_count": 3,
   "metadata": {},
   "outputs": [],
   "source": [
    "# Create an image dataset by applying one of the preprocessing transformations above\n",
    "\n",
    "class ImageDataset(): # there are three mandatory functions: init, len, getitem\n",
    "    def __init__(self, dataset):\n",
    "        # it gets the image true labels and set the preprocessing transformation\n",
    "        self.dataset   = dataset\n",
    "        self.targets   = [int(str(x).split(\"/\")[-1].split(\"_\")[0])-1 for x in self.dataset]\n",
    "    def __len__(self): return len(self.dataset)        \n",
    "    def __getitem__(self, ix): # returns the item at position ix \n",
    "        filename = self.dataset[ix]\n",
    "        target   = self.targets[ix]\n",
    "        #image    = utils.load_image(filename) # It is much faster to directly use pyift\n",
    "        image    = ift.ReadImageByExt(filename)\n",
    "        image    = ift.ImageToMImage(image, color_space=ift.LABNorm2_CSPACE).AsNumPy().squeeze()\n",
    "        #--------------------#\n",
    "        image    = torch.from_numpy(np.array(image)).permute(2,0,1).float() # convert to tensor                 \n",
    "        return(image,target) "
   ]
  },
  {
   "cell_type": "code",
   "execution_count": 4,
   "metadata": {},
   "outputs": [],
   "source": [
    "trainset = ImageDataset(trainset) \n",
    "validset = ImageDataset(validset)\n",
    "testset  = ImageDataset(testset)"
   ]
  },
  {
   "cell_type": "markdown",
   "metadata": {},
   "source": [
    "### Generate batches with batchsize images at random"
   ]
  },
  {
   "cell_type": "code",
   "execution_count": 5,
   "metadata": {},
   "outputs": [
    {
     "name": "stdout",
     "output_type": "stream",
     "text": [
      "==================================================================\n",
      "list of 2 items\n",
      "\tTensor\tShape: torch.Size([32, 3, 200, 200])\tMin: 0.000\tMax: 0.995\tMean: 0.567\tdtype: torch.float32 @ cpu\n",
      "\tTensor\tShape: torch.Size([32])\tMin: 0.000\tMax: 5.000\tMean: 2.344\tdtype: torch.int64 @ cpu\n",
      "==================================================================\n"
     ]
    }
   ],
   "source": [
    "batchsize = 32\n",
    "trainload = DataLoader(trainset, batch_size=batchsize, shuffle=True)\n",
    "testload  = DataLoader(testset, batch_size=batchsize, shuffle=True)\n",
    "validload = DataLoader(validset, batch_size=batchsize, shuffle=True)\n",
    "\n",
    "inspect(next(iter(trainload))) # inspect a couple of items in the batches"
   ]
  },
  {
   "cell_type": "markdown",
   "metadata": {},
   "source": [
    "***\n",
    "### Load FLIM network\n",
    "Please, provide the path containing the FLIM model training with the libift and the name of the architecture. "
   ]
  },
  {
   "cell_type": "code",
   "execution_count": 6,
   "metadata": {
    "scrolled": true
   },
   "outputs": [
    {
     "name": "stdout",
     "output_type": "stream",
     "text": [
      "Loading LIDS model...\n",
      "block1.m-norm1\n",
      "block1.conv1\n",
      "block1.relu1\n",
      "block1.pool1\n",
      "Finish loading...\n"
     ]
    },
    {
     "data": {
      "text/plain": [
       "Sequential(\n",
       "  (block1): Sequential(\n",
       "    (m-norm1): MarkerBasedNorm2d(3, epsilon=0.001)\n",
       "    (conv1): Conv2d(3, 75, kernel_size=(5, 5), stride=(1, 1), padding=(2, 2), bias=False)\n",
       "    (relu1): ReLU(inplace=True)\n",
       "    (pool1): MaxPool2d(kernel_size=[3, 3], stride=2, padding=[1, 1], dilation=1, ceil_mode=False)\n",
       "  )\n",
       ")"
      ]
     },
     "execution_count": 6,
     "metadata": {},
     "output_type": "execute_result"
    }
   ],
   "source": [
    "model_path        = \"./model\"# path to the model trained with FLIM.\n",
    "architecture_name = \"arch2D-python.json\"# name of the architecture to be searched in the model_path \n",
    "architecture    = utils.load_architecture('%s/%s' % (model_path,architecture_name))\n",
    "\n",
    "encoder         = utils.build_model(architecture, input_shape=[3]).features\n",
    "encoder         = utils.load_weights_from_lids_model(encoder, '%s/' % (model_path)).to(device=device)\n",
    "\n",
    "# run encoder to get its output shape\n",
    "\n",
    "encoder.eval()\n",
    "img  = torch.ones(1,input_shape[0],input_shape[1],input_shape[2], device=device)\n",
    "#in_features = encoder(img).flatten(start_dim=1).shape[1]\n",
    "img = encoder(img).squeeze()\n",
    "out_shape = (img.shape[0],img.shape[1],img.shape[2])\n",
    "encoder.train()"
   ]
  },
  {
   "cell_type": "code",
   "execution_count": 7,
   "metadata": {
    "scrolled": true
   },
   "outputs": [
    {
     "name": "stdout",
     "output_type": "stream",
     "text": [
      "Sequential(\n",
      "  (block1): Sequential(\n",
      "    (m-norm1): MarkerBasedNorm2d(3, epsilon=0.001)\n",
      "    (conv1): Conv2d(3, 75, kernel_size=(5, 5), stride=(1, 1), padding=(2, 2), bias=False)\n",
      "    (relu1): ReLU(inplace=True)\n",
      "    (pool1): MaxPool2d(kernel_size=[3, 3], stride=2, padding=[1, 1], dilation=1, ceil_mode=False)\n",
      "  )\n",
      ")\n",
      "==========================================================================================\n",
      "Layer (type:depth-idx)                   Output Shape              Param #\n",
      "==========================================================================================\n",
      "├─Sequential: 1-1                        [-1, 75, 100, 100]        --\n",
      "|    └─MarkerBasedNorm2d: 2-1            [-1, 3, 200, 200]         6\n",
      "|    └─Conv2d: 2-2                       [-1, 75, 200, 200]        5,625\n",
      "|    └─ReLU: 2-3                         [-1, 75, 200, 200]        --\n",
      "|    └─MaxPool2d: 2-4                    [-1, 75, 100, 100]        --\n",
      "==========================================================================================\n",
      "Total params: 5,631\n",
      "Trainable params: 5,631\n",
      "Non-trainable params: 0\n",
      "Total mult-adds (M): 225.01\n",
      "==========================================================================================\n",
      "Input size (MB): 0.46\n",
      "Forward/backward pass size (MB): 23.80\n",
      "Params size (MB): 0.02\n",
      "Estimated Total Size (MB): 24.28\n",
      "==========================================================================================\n"
     ]
    },
    {
     "data": {
      "text/plain": [
       "==========================================================================================\n",
       "Layer (type:depth-idx)                   Output Shape              Param #\n",
       "==========================================================================================\n",
       "├─Sequential: 1-1                        [-1, 75, 100, 100]        --\n",
       "|    └─MarkerBasedNorm2d: 2-1            [-1, 3, 200, 200]         6\n",
       "|    └─Conv2d: 2-2                       [-1, 75, 200, 200]        5,625\n",
       "|    └─ReLU: 2-3                         [-1, 75, 200, 200]        --\n",
       "|    └─MaxPool2d: 2-4                    [-1, 75, 100, 100]        --\n",
       "==========================================================================================\n",
       "Total params: 5,631\n",
       "Trainable params: 5,631\n",
       "Non-trainable params: 0\n",
       "Total mult-adds (M): 225.01\n",
       "==========================================================================================\n",
       "Input size (MB): 0.46\n",
       "Forward/backward pass size (MB): 23.80\n",
       "Params size (MB): 0.02\n",
       "Estimated Total Size (MB): 24.28\n",
       "=========================================================================================="
      ]
     },
     "execution_count": 7,
     "metadata": {},
     "output_type": "execute_result"
    }
   ],
   "source": [
    "print(encoder)\n",
    "summary(encoder, input_shape)"
   ]
  },
  {
   "cell_type": "code",
   "execution_count": 8,
   "metadata": {},
   "outputs": [],
   "source": [
    "# Comment for fine-tunning/learning from scratch\n",
    "for param in encoder.block1.parameters():\n",
    "    param.requires_grad = False\n",
    "#for param in encoder.block2.parameters():\n",
    "#    param.requires_grad = False"
   ]
  },
  {
   "cell_type": "markdown",
   "metadata": {},
   "source": [
    "***\n",
    "### Define the model"
   ]
  },
  {
   "cell_type": "code",
   "execution_count": 9,
   "metadata": {},
   "outputs": [],
   "source": [
    "class CorelNet(nn.Module):\n",
    "\n",
    "    def __init__(self, input_shape, encoder, out_shape, num_classes):\n",
    "        super(CorelNet, self).__init__()\n",
    "        \n",
    "        #defining feature extractor\n",
    "        self.features = encoder.block1 \n",
    "        # initialize weights: Uncomment to learn from scratch\n",
    "        # self.init_weights(self.features)\n",
    "        \n",
    "        in_features = out_shape[0]*out_shape[1]*out_shape[2]\n",
    "        \n",
    "        #defining classifier\n",
    "        self.classifier = nn.Sequential(\n",
    "            nn.BatchNorm2d(out_shape[0]),\n",
    "            nn.Flatten(start_dim=1),\n",
    "            nn.Linear(in_features=in_features, out_features=256, bias=True),\n",
    "            nn.Dropout(0.20),\n",
    "            nn.ReLU(),\n",
    "            nn.Linear(256, nclasses)\n",
    "        )\n",
    "        # initialize weights\n",
    "        self.init_weights(self.classifier)\n",
    "\n",
    "    def forward(self, x):\n",
    "       #extracts features\n",
    "        x = self.features(x)\n",
    "\n",
    "       # flatten features\n",
    "    \n",
    "        #x = torch.flatten(x, start_dim=1)\n",
    "\n",
    "        #classifies features\n",
    "        y = self.classifier(x)\n",
    "  \n",
    "        return y\n",
    "  \n",
    "    def init_weights(self, seq):\n",
    "        for m in seq.modules():\n",
    "            if (isinstance(m,nn.Conv2d)):\n",
    "                torch.nn.init.xavier_uniform_(m.weight)\n",
    "                if m.bias is not None:\n",
    "                    m.bias.data.fill_(0.01)\n",
    "            elif isinstance(m, nn.Linear):\n",
    "                m.weight.data.normal_(mean=0, std=0.01)\n",
    "                if m.bias is not None:\n",
    "                    m.bias.data.zero_()"
   ]
  },
  {
   "cell_type": "markdown",
   "metadata": {},
   "source": [
    "### Create the model"
   ]
  },
  {
   "cell_type": "code",
   "execution_count": 10,
   "metadata": {
    "scrolled": true
   },
   "outputs": [
    {
     "name": "stdout",
     "output_type": "stream",
     "text": [
      "==========================================================================================\n",
      "Layer (type:depth-idx)                   Output Shape              Param #\n",
      "==========================================================================================\n",
      "├─Sequential: 1-1                        [-1, 75, 100, 100]        --\n",
      "|    └─MarkerBasedNorm2d: 2-1            [-1, 3, 200, 200]         (6)\n",
      "|    └─Conv2d: 2-2                       [-1, 75, 200, 200]        (5,625)\n",
      "|    └─ReLU: 2-3                         [-1, 75, 200, 200]        --\n",
      "|    └─MaxPool2d: 2-4                    [-1, 75, 100, 100]        --\n",
      "├─Sequential: 1-2                        [-1, 6]                   --\n",
      "|    └─BatchNorm2d: 2-5                  [-1, 75, 100, 100]        150\n",
      "|    └─Flatten: 2-6                      [-1, 750000]              --\n",
      "|    └─Linear: 2-7                       [-1, 256]                 192,000,256\n",
      "|    └─Dropout: 2-8                      [-1, 256]                 --\n",
      "|    └─ReLU: 2-9                         [-1, 256]                 --\n",
      "|    └─Linear: 2-10                      [-1, 6]                   1,542\n",
      "==========================================================================================\n",
      "Total params: 192,007,579\n",
      "Trainable params: 192,001,948\n",
      "Non-trainable params: 5,631\n",
      "Total mult-adds (M): 609.01\n",
      "==========================================================================================\n",
      "Input size (MB): 0.46\n",
      "Forward/backward pass size (MB): 29.53\n",
      "Params size (MB): 732.45\n",
      "Estimated Total Size (MB): 762.44\n",
      "==========================================================================================\n"
     ]
    },
    {
     "data": {
      "text/plain": [
       "==========================================================================================\n",
       "Layer (type:depth-idx)                   Output Shape              Param #\n",
       "==========================================================================================\n",
       "├─Sequential: 1-1                        [-1, 75, 100, 100]        --\n",
       "|    └─MarkerBasedNorm2d: 2-1            [-1, 3, 200, 200]         (6)\n",
       "|    └─Conv2d: 2-2                       [-1, 75, 200, 200]        (5,625)\n",
       "|    └─ReLU: 2-3                         [-1, 75, 200, 200]        --\n",
       "|    └─MaxPool2d: 2-4                    [-1, 75, 100, 100]        --\n",
       "├─Sequential: 1-2                        [-1, 6]                   --\n",
       "|    └─BatchNorm2d: 2-5                  [-1, 75, 100, 100]        150\n",
       "|    └─Flatten: 2-6                      [-1, 750000]              --\n",
       "|    └─Linear: 2-7                       [-1, 256]                 192,000,256\n",
       "|    └─Dropout: 2-8                      [-1, 256]                 --\n",
       "|    └─ReLU: 2-9                         [-1, 256]                 --\n",
       "|    └─Linear: 2-10                      [-1, 6]                   1,542\n",
       "==========================================================================================\n",
       "Total params: 192,007,579\n",
       "Trainable params: 192,001,948\n",
       "Non-trainable params: 5,631\n",
       "Total mult-adds (M): 609.01\n",
       "==========================================================================================\n",
       "Input size (MB): 0.46\n",
       "Forward/backward pass size (MB): 29.53\n",
       "Params size (MB): 732.45\n",
       "Estimated Total Size (MB): 762.44\n",
       "=========================================================================================="
      ]
     },
     "execution_count": 10,
     "metadata": {},
     "output_type": "execute_result"
    }
   ],
   "source": [
    "model = CorelNet(input_shape, encoder, out_shape, nclasses).to(device)\n",
    "summary(model,input_shape)"
   ]
  },
  {
   "cell_type": "markdown",
   "metadata": {},
   "source": [
    "### Define the loss function, optimizer, and learning rate scheduler"
   ]
  },
  {
   "cell_type": "code",
   "execution_count": 11,
   "metadata": {},
   "outputs": [],
   "source": [
    "def Criterion(model, preds, targets):\n",
    "    ce            = nn.CrossEntropyLoss().to(device)\n",
    "    loss          = ce(preds, targets.long()) \n",
    "    pred_labels   = torch.max(preds, 1)[1] # same as argmax\n",
    "    acc           = torch.sum(pred_labels == targets.data) / pred_labels.size(0)\n",
    "    return loss, acc\n",
    "\n",
    "\n",
    "criterion     = Criterion\n",
    "optimizer     = torch.optim.Adam(model.parameters(), lr=1e-5, weight_decay=0.9)\n",
    "scheduler     = torch.optim.lr_scheduler.ExponentialLR(optimizer, 0.90) "
   ]
  },
  {
   "cell_type": "markdown",
   "metadata": {},
   "source": [
    "***\n",
    "### Train model\n"
   ]
  },
  {
   "cell_type": "code",
   "execution_count": 12,
   "metadata": {
    "id": "CzzQfvyrwx6M"
   },
   "outputs": [],
   "source": [
    "def train_batch(model, data, optimizer, criterion, device):\n",
    "    model.train()\n",
    "    ims, targets = data\n",
    "    ims          = ims.to(device=device)\n",
    "    targets      = targets.to(device=device)\n",
    "    preds        = model(ims)\n",
    "    loss, acc    = criterion(model, preds, targets)\n",
    "    loss.backward()\n",
    "    optimizer.step()\n",
    "    optimizer.zero_grad()\n",
    "    \n",
    "    return loss.item(), acc.item()\n",
    "\n",
    "@torch.no_grad()\n",
    "def validate_batch(model, data, criterion, device):\n",
    "    model.eval()\n",
    "    ims, targets = data\n",
    "    ims          = ims.to(device=device)\n",
    "    targets      = targets.to(device=device)\n",
    "    preds        = model(ims)\n",
    "    loss, acc    = criterion(model, preds, targets)\n",
    "   \n",
    "    return loss.item(), acc.item()"
   ]
  },
  {
   "cell_type": "code",
   "execution_count": 13,
   "metadata": {
    "colab": {
     "base_uri": "https://localhost:8080/",
     "height": 83,
     "referenced_widgets": [
      "5292c3b952b3466f9c2d05bf97dc3fcc",
      "bd6d2b25f8254a77925ed65471913b48",
      "300e54bb169442a19c843ee9b240ae51",
      "f06a86af1f854643bcc67d7921214717",
      "a25e41d7ae29488788c6c3b1cee7d00e",
      "0431d166f9d946a1a9cb6da37e08e900",
      "433a0a7d7d4b49f9bfcf610c9d0f66ad",
      "b0d5e6d13dd14b02a3e60517301dfeb6"
     ]
    },
    "id": "wob9T8n7w0Q-",
    "outputId": "658203d6-fdb0-43f3-8148-076003acbac5"
   },
   "outputs": [
    {
     "name": "stdout",
     "output_type": "stream",
     "text": [
      "EPOCH: 10.000\ttrn_loss: 0.404\ttrn_acc: 0.961\tval_loss: 0.837\tval_acc: 0.658\t(10.96s - 98.66s remaining)\n",
      "EPOCH: 20.000\ttrn_loss: 0.319\ttrn_acc: 0.981\tval_loss: 0.751\tval_acc: 0.714\t(21.85s - 87.39s remaining)\n",
      "EPOCH: 30.000\ttrn_loss: 0.250\ttrn_acc: 0.994\tval_loss: 0.671\tval_acc: 0.745\t(32.82s - 76.59s remaining)\n",
      "EPOCH: 40.000\ttrn_loss: 0.223\ttrn_acc: 0.994\tval_loss: 0.730\tval_acc: 0.697\t(43.66s - 65.49s remaining)\n",
      "EPOCH: 50.000\ttrn_loss: 0.180\ttrn_acc: 1.000\tval_loss: 0.578\tval_acc: 0.844\t(54.50s - 54.50s remaining)\n",
      "EPOCH: 60.000\ttrn_loss: 0.167\ttrn_acc: 1.000\tval_loss: 0.597\tval_acc: 0.794\t(65.36s - 43.57s remaining)\n",
      "EPOCH: 70.000\ttrn_loss: 0.170\ttrn_acc: 1.000\tval_loss: 0.704\tval_acc: 0.784\t(76.21s - 32.66s remaining)\n",
      "EPOCH: 80.000\ttrn_loss: 0.170\ttrn_acc: 1.000\tval_loss: 0.658\tval_acc: 0.792\t(87.04s - 21.76s remaining)\n",
      "EPOCH: 90.000\ttrn_loss: 0.151\ttrn_acc: 1.000\tval_loss: 0.597\tval_acc: 0.792\t(97.89s - 10.88s remaining)\n",
      "EPOCH: 100.000\ttrn_loss: 0.157\ttrn_acc: 1.000\tval_loss: 0.550\tval_acc: 0.794\t(108.73s - 0.00s remaining)\n"
     ]
    }
   ],
   "source": [
    "# initializing variables\n",
    "n_epochs = 100\n",
    "log      = Report(n_epochs)\n",
    "\n",
    "# starting training and validation\n",
    "for ex in range(n_epochs):\n",
    "    N = len(trainload)\n",
    "    for bx, data in enumerate(trainload):\n",
    "        loss, acc = train_batch(model, data, optimizer, criterion, device)\n",
    "        #report results for the batch\n",
    "        log.record((ex+(bx+1)/N), trn_loss=loss, trn_acc=acc, end='\\r')\n",
    "\n",
    "    N = len(validload)\n",
    "    for bx, data in enumerate(validload):\n",
    "        loss, acc = validate_batch(model, data, criterion, device)\n",
    "        log.record((ex+(bx+1)/N), val_loss=loss, val_acc=acc, end='\\r')\n",
    "\n",
    "    if (ex+1)%10==0: \n",
    "        log.report_avgs(ex+1)\n",
    "        #count epochs for auto-adjusting the learning rate\n",
    "        scheduler.step()"
   ]
  },
  {
   "cell_type": "markdown",
   "metadata": {},
   "source": [
    "### Plot the results"
   ]
  },
  {
   "cell_type": "code",
   "execution_count": 14,
   "metadata": {
    "colab": {
     "base_uri": "https://localhost:8080/",
     "height": 473
    },
    "id": "qO45oGH7w9vr",
    "outputId": "995f5e7c-b75f-4013-f070-6b9207c16949"
   },
   "outputs": [
    {
     "name": "stderr",
     "output_type": "stream",
     "text": [
      "100%|██████████████████████████████████████| 201/201 [00:00<00:00, 11097.36it/s]\n"
     ]
    },
    {
     "data": {
      "image/png": "[encoded data removed]",
      "text/plain": [
       "<Figure size 576x432 with 1 Axes>"
      ]
     },
     "metadata": {
      "needs_background": "light"
     },
     "output_type": "display_data"
    },
    {
     "name": "stderr",
     "output_type": "stream",
     "text": [
      "100%|██████████████████████████████████████| 201/201 [00:00<00:00, 11327.88it/s]\n"
     ]
    },
    {
     "data": {
      "image/png": "[encoded data removed]",
      "text/plain": [
       "<Figure size 576x432 with 1 Axes>"
      ]
     },
     "metadata": {
      "needs_background": "light"
     },
     "output_type": "display_data"
    }
   ],
   "source": [
    "log.plot_epochs(['trn_loss','val_loss'])\n",
    "log.plot_epochs(['trn_acc','val_acc'])"
   ]
  },
  {
   "cell_type": "markdown",
   "metadata": {},
   "source": [
    "### Evaluate the model"
   ]
  },
  {
   "cell_type": "code",
   "execution_count": 15,
   "metadata": {},
   "outputs": [
    {
     "name": "stdout",
     "output_type": "stream",
     "text": [
      "Loss: 0.439035 Acc: 0.891335\n"
     ]
    }
   ],
   "source": [
    "def Test(model, testload, criterion, device):\n",
    "    N = len(testload)\n",
    "    mean_loss = 0\n",
    "    mean_acc  = 0\n",
    "    for bx, data in enumerate(testload):\n",
    "        loss, acc  = validate_batch(model, data, criterion, device)\n",
    "        mean_loss += loss\n",
    "        mean_acc  += acc\n",
    "    \n",
    "    mean_loss = mean_loss / N\n",
    "    mean_acc  = mean_acc / N\n",
    "    return(mean_loss, mean_acc)\n",
    "\n",
    "(loss, acc) = Test(model, testload, criterion, device)\n",
    "print('Loss: {:.6f} Acc: {:.6f}'.format(loss,acc))"
   ]
  },
  {
   "cell_type": "markdown",
   "metadata": {},
   "source": [
    "***\n",
    "### Save the model"
   ]
  },
  {
   "cell_type": "code",
   "execution_count": 16,
   "metadata": {},
   "outputs": [
    {
     "name": "stdout",
     "output_type": "stream",
     "text": [
      "Saving model in LIDS format...\n"
     ]
    }
   ],
   "source": [
    "torch.save(model.to('cpu').state_dict(), model_name) # the state dictionary of the model\n",
    "utils.save_lids_model(model, architecture, \"./\", \"corel_model\") # save the encoder for evaluation in C"
   ]
  },
  {
   "cell_type": "markdown",
   "metadata": {},
   "source": [
    "### Evaluate the encoder with a SVM model"
   ]
  },
  {
   "cell_type": "code",
   "execution_count": 17,
   "metadata": {},
   "outputs": [
    {
     "name": "stdout",
     "output_type": "stream",
     "text": [
      "Preparing to train SVM\n",
      "Fitting SVM...\n",
      "Done\n"
     ]
    }
   ],
   "source": [
    "svm = utils.train_svm(encoder, trainset, batch_size=32, max_iter=10000, C=1e2, device=device)"
   ]
  },
  {
   "cell_type": "code",
   "execution_count": 18,
   "metadata": {},
   "outputs": [
    {
     "name": "stdout",
     "output_type": "stream",
     "text": [
      "Calculating metrics...\n",
      "##################################################\n",
      "\u001b[33mAcc\u001b[0m : \u001b[1m\u001b[34m0.934579\u001b[0m\n",
      "--------------------------------------------------\n",
      "\u001b[33mF1-score\u001b[0m : \u001b[1m\u001b[34m0.933746\u001b[0m\n",
      "--------------------------------------------------\n",
      "Accuracy 0.9583333333333334 0.92 0.7857142857142857 1.0 0.9090909090909091 1.0\n",
      "--------------------------------------------------\n",
      "Precision: 0.8846153846153846 0.9583333333333334 1.0 0.9166666666666666 1.0 0.9166666666666666\n",
      "Recall: 0.9583333333333334 0.92 0.7857142857142857 1.0 0.9090909090909091 1.0\n",
      "F-score: 0.9199999999999999 0.9387755102040817 0.88 0.9565217391304348 0.9523809523809523 0.9565217391304348\n",
      "--------------------------------------------------\n",
      "W-Precision: 0.9386832015336689\n",
      "W-Recall: 0.9345794392523364\n",
      "W-F-score: 0.9337457534822137\n",
      "--------------------------------------------------\n",
      "Kappa 0.9194710246210085\n",
      "--------------------------------------------------\n",
      "Suport 24 25 14 11 11 22\n",
      "##################################################\n"
     ]
    }
   ],
   "source": [
    "utils.validate_svm(encoder, svm, testset, batch_size=32, device=device)"
   ]
  }
 ],
 "metadata": {
  "accelerator": "GPU",
  "colab": {
   "include_colab_link": true,
   "name": "Semantic_Segmentation_with_U_Net.ipynb",
   "provenance": []
  },
  "interpreter": {
   "hash": "6895300d4d065fc1424a67b55d47bfcdfa33df3e124e85dd1644bc8f91c11580"
  },
  "kernelspec": {
   "display_name": "Python 3 (ipykernel)",
   "language": "python",
   "name": "python3"
  },
  "language_info": {
   "codemirror_mode": {
    "name": "ipython",
    "version": 3
   },
   "file_extension": ".py",
   "mimetype": "text/x-python",
   "name": "python",
   "nbconvert_exporter": "python",
   "pygments_lexer": "ipython3",
   "version": "3.10.11"
  },
  "widgets": {
   "application/vnd.jupyter.widget-state+json": {
    "0431d166f9d946a1a9cb6da37e08e900": {
     "model_module": "@jupyter-widgets/base",
     "model_name": "LayoutModel",
     "state": {
      "_model_module": "@jupyter-widgets/base",
      "_model_module_version": "1.2.0",
      "_model_name": "LayoutModel",
      "_view_count": null,
      "_view_module": "@jupyter-widgets/base",
      "_view_module_version": "1.2.0",
      "_view_name": "LayoutView",
      "align_content": null,
      "align_items": null,
      "align_self": null,
      "border": null,
      "bottom": null,
      "display": null,
      "flex": null,
      "flex_flow": null,
      "grid_area": null,
      "grid_auto_columns": null,
      "grid_auto_flow": null,
      "grid_auto_rows": null,
      "grid_column": null,
      "grid_gap": null,
      "grid_row": null,
      "grid_template_areas": null,
      "grid_template_columns": null,
      "grid_template_rows": null,
      "height": null,
      "justify_content": null,
      "justify_items": null,
      "left": null,
      "margin": null,
      "max_height": null,
      "max_width": null,
      "min_height": null,
      "min_width": null,
      "object_fit": null,
      "object_position": null,
      "order": null,
      "overflow": null,
      "overflow_x": null,
      "overflow_y": null,
      "padding": null,
      "right": null,
      "top": null,
      "visibility": null,
      "width": null
     }
    },
    "300e54bb169442a19c843ee9b240ae51": {
     "model_module": "@jupyter-widgets/controls",
     "model_name": "FloatProgressModel",
     "state": {
      "_dom_classes": [],
      "_model_module": "@jupyter-widgets/controls",
      "_model_module_version": "1.5.0",
      "_model_name": "FloatProgressModel",
      "_view_count": null,
      "_view_module": "@jupyter-widgets/controls",
      "_view_module_version": "1.5.0",
      "_view_name": "ProgressView",
      "bar_style": "success",
      "description": "100%",
      "description_tooltip": null,
      "layout": "IPY_MODEL_0431d166f9d946a1a9cb6da37e08e900",
      "max": 553507836,
      "min": 0,
      "orientation": "horizontal",
      "style": "IPY_MODEL_a25e41d7ae29488788c6c3b1cee7d00e",
      "value": 553507836
     }
    },
    "433a0a7d7d4b49f9bfcf610c9d0f66ad": {
     "model_module": "@jupyter-widgets/controls",
     "model_name": "DescriptionStyleModel",
     "state": {
      "_model_module": "@jupyter-widgets/controls",
      "_model_module_version": "1.5.0",
      "_model_name": "DescriptionStyleModel",
      "_view_count": null,
      "_view_module": "@jupyter-widgets/base",
      "_view_module_version": "1.2.0",
      "_view_name": "StyleView",
      "description_width": ""
     }
    },
    "5292c3b952b3466f9c2d05bf97dc3fcc": {
     "model_module": "@jupyter-widgets/controls",
     "model_name": "HBoxModel",
     "state": {
      "_dom_classes": [],
      "_model_module": "@jupyter-widgets/controls",
      "_model_module_version": "1.5.0",
      "_model_name": "HBoxModel",
      "_view_count": null,
      "_view_module": "@jupyter-widgets/controls",
      "_view_module_version": "1.5.0",
      "_view_name": "HBoxView",
      "box_style": "",
      "children": [
       "IPY_MODEL_300e54bb169442a19c843ee9b240ae51",
       "IPY_MODEL_f06a86af1f854643bcc67d7921214717"
      ],
      "layout": "IPY_MODEL_bd6d2b25f8254a77925ed65471913b48"
     }
    },
    "a25e41d7ae29488788c6c3b1cee7d00e": {
     "model_module": "@jupyter-widgets/controls",
     "model_name": "ProgressStyleModel",
     "state": {
      "_model_module": "@jupyter-widgets/controls",
      "_model_module_version": "1.5.0",
      "_model_name": "ProgressStyleModel",
      "_view_count": null,
      "_view_module": "@jupyter-widgets/base",
      "_view_module_version": "1.2.0",
      "_view_name": "StyleView",
      "bar_color": null,
      "description_width": "initial"
     }
    },
    "b0d5e6d13dd14b02a3e60517301dfeb6": {
     "model_module": "@jupyter-widgets/base",
     "model_name": "LayoutModel",
     "state": {
      "_model_module": "@jupyter-widgets/base",
      "_model_module_version": "1.2.0",
      "_model_name": "LayoutModel",
      "_view_count": null,
      "_view_module": "@jupyter-widgets/base",
      "_view_module_version": "1.2.0",
      "_view_name": "LayoutView",
      "align_content": null,
      "align_items": null,
      "align_self": null,
      "border": null,
      "bottom": null,
      "display": null,
      "flex": null,
      "flex_flow": null,
      "grid_area": null,
      "grid_auto_columns": null,
      "grid_auto_flow": null,
      "grid_auto_rows": null,
      "grid_column": null,
      "grid_gap": null,
      "grid_row": null,
      "grid_template_areas": null,
      "grid_template_columns": null,
      "grid_template_rows": null,
      "height": null,
      "justify_content": null,
      "justify_items": null,
      "left": null,
      "margin": null,
      "max_height": null,
      "max_width": null,
      "min_height": null,
      "min_width": null,
      "object_fit": null,
      "object_position": null,
      "order": null,
      "overflow": null,
      "overflow_x": null,
      "overflow_y": null,
      "padding": null,
      "right": null,
      "top": null,
      "visibility": null,
      "width": null
     }
    },
    "bd6d2b25f8254a77925ed65471913b48": {
     "model_module": "@jupyter-widgets/base",
     "model_name": "LayoutModel",
     "state": {
      "_model_module": "@jupyter-widgets/base",
      "_model_module_version": "1.2.0",
      "_model_name": "LayoutModel",
      "_view_count": null,
      "_view_module": "@jupyter-widgets/base",
      "_view_module_version": "1.2.0",
      "_view_name": "LayoutView",
      "align_content": null,
      "align_items": null,
      "align_self": null,
      "border": null,
      "bottom": null,
      "display": null,
      "flex": null,
      "flex_flow": null,
      "grid_area": null,
      "grid_auto_columns": null,
      "grid_auto_flow": null,
      "grid_auto_rows": null,
      "grid_column": null,
      "grid_gap": null,
      "grid_row": null,
      "grid_template_areas": null,
      "grid_template_columns": null,
      "grid_template_rows": null,
      "height": null,
      "justify_content": null,
      "justify_items": null,
      "left": null,
      "margin": null,
      "max_height": null,
      "max_width": null,
      "min_height": null,
      "min_width": null,
      "object_fit": null,
      "object_position": null,
      "order": null,
      "overflow": null,
      "overflow_x": null,
      "overflow_y": null,
      "padding": null,
      "right": null,
      "top": null,
      "visibility": null,
      "width": null
     }
    },
    "f06a86af1f854643bcc67d7921214717": {
     "model_module": "@jupyter-widgets/controls",
     "model_name": "HTMLModel",
     "state": {
      "_dom_classes": [],
      "_model_module": "@jupyter-widgets/controls",
      "_model_module_version": "1.5.0",
      "_model_name": "HTMLModel",
      "_view_count": null,
      "_view_module": "@jupyter-widgets/controls",
      "_view_module_version": "1.5.0",
      "_view_name": "HTMLView",
      "description": "",
      "description_tooltip": null,
      "layout": "IPY_MODEL_b0d5e6d13dd14b02a3e60517301dfeb6",
      "placeholder": "​",
      "style": "IPY_MODEL_433a0a7d7d4b49f9bfcf610c9d0f66ad",
      "value": " 528M/528M [03:52&lt;00:00, 2.38MB/s]"
     }
    }
   }
  }
 },
 "nbformat": 4,
 "nbformat_minor": 1
}
