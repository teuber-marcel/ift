{
 "cells": [
  {
   "cell_type": "code",
   "execution_count": 2,
   "metadata": {},
   "outputs": [
    {
     "data": {
      "text/html": [
       "        <script type=\"text/javascript\">\n",
       "        window.PlotlyConfig = {MathJaxConfig: 'local'};\n",
       "        if (window.MathJax) {MathJax.Hub.Config({SVG: {font: \"STIX-Web\"}});}\n",
       "        if (typeof require !== 'undefined') {\n",
       "        require.undef(\"plotly\");\n",
       "        requirejs.config({\n",
       "            paths: {\n",
       "                'plotly': ['https://cdn.plot.ly/plotly-latest.min']\n",
       "            }\n",
       "        });\n",
       "        require(['plotly'], function(Plotly) {\n",
       "            window._Plotly = Plotly;\n",
       "        });\n",
       "        }\n",
       "        </script>\n",
       "        "
      ]
     },
     "metadata": {},
     "output_type": "display_data"
    }
   ],
   "source": [
    "import os\n",
    "from os.path import join as pjoin\n",
    "import pdb\n",
    "\n",
    "import plotly.graph_objs as go\n",
    "import plotly as py\n",
    "import ipywidgets as widgets\n",
    "py.offline.init_notebook_mode(connected=True)\n",
    "\n",
    "import numpy as np\n",
    "from sklearn.metrics import confusion_matrix\n",
    "import pyift.pyift as ift"
   ]
  },
  {
   "cell_type": "code",
   "execution_count": 10,
   "metadata": {},
   "outputs": [
    {
     "name": "stdout",
     "output_type": "stream",
     "text": [
      "Image ID: 000001_000001\n",
      "\tsvoxel = 94\n",
      "\tsvoxel = 129\n",
      "\tsvoxel = 167\n",
      "\tsvoxel = 184\n",
      "\tsvoxel = 186\n",
      "\tsvoxel = 188\n",
      "\tsvoxel = 200\n",
      "\tsvoxel = 201\n",
      "\tsvoxel = 216\n",
      "\tsvoxel = 217\n"
     ]
    }
   ],
   "source": [
    "result_dir = \"../exps/SAAD\"\n",
    "gt_dir = \"../bases/ATLAS-304/3T/regs/nonrigid/labels/primary_stroke\"\n",
    "\n",
    "tpr_dict = {0: [], 1: []}\n",
    "precision_dict = {0: [], 1: []}\n",
    "fdr_dict = {0: [], 1: []}\n",
    "svoxel_vols_dict = {0: [], 1: []}\n",
    "dist_to_border_dict = {0: [], 1: []}\n",
    "# detected_arr = {0 = [], 1 = []}\n",
    "\n",
    "\n",
    "img_id = \"000001_000001\"\n",
    "print(f\"Image ID: {img_id}\")\n",
    "\n",
    "svoxels_path = pjoin(result_dir, img_id, \"svoxels.nii.gz\")\n",
    "result_path = pjoin(result_dir, img_id, \"result.nii.gz\")\n",
    "gt_path = pjoin(gt_dir, img_id + \".nii.gz\")\n",
    "\n",
    "gt_img = ift.ReadImageByExt(gt_path)\n",
    "sagittal_slice = gt_img.xsize // 2\n",
    "\n",
    "gt_img_flip = ift.FlipImage(gt_img, ift.IFT_AXIS_X)\n",
    "gt_mask = gt_img.AsNumPy() + gt_img_flip.AsNumPy()\n",
    "gt_mask[:, :, sagittal_slice:] = 0\n",
    "gt_mask = gt_mask.astype(np.bool)\n",
    "\n",
    "svoxels_data = ift.ReadImageByExt(svoxels_path).AsNumPy()\n",
    "svoxels_data[:, :, sagittal_slice:] = 0\n",
    "result_data = ift.ReadImageByExt(result_path).AsNumPy()\n",
    "result_data[:, :, sagittal_slice:] = 0\n",
    "\n",
    "target_svoxels = np.unique(svoxels_data * gt_mask)[1:]  # ignore the 0-label    \n",
    "target_svoxels_data = np.isin(svoxels_data, target_svoxels) * svoxels_data\n",
    "\n",
    "for svoxel in target_svoxels:\n",
    "    print(f\"\\tsvoxel = {svoxel}\")\n",
    "    target_svoxel_mask = target_svoxels_data == svoxel\n",
    "\n",
    "    tn, fp, fn, tp = confusion_matrix(gt_mask.ravel(), target_svoxel_mask.ravel()).ravel()\n",
    "\n",
    "    tpr = tp / (tp + fn)  # true positive rate\n",
    "    precision = tp / (tp + fp)\n",
    "    fdr = fp / (fp + tp)  # false discovery rate\n",
    "    svoxel_vol = tp + fp\n",
    "    was_detected = np.any(result_data == svoxel)\n",
    "    print(f\"\\t\\twas detected: {was_detected}\")\n",
    "\n",
    "    tpr_dict[was_detected].append(tpr)\n",
    "    precision_dict[was_detected].append(precision)\n",
    "    fdr_dict[was_detected].append(fdr)\n",
    "    svoxel_vols_dict[was_detected].append(svoxel_vol)"
   ]
  },
  {
   "cell_type": "code",
   "execution_count": 11,
   "metadata": {},
   "outputs": [
    {
     "data": {
      "text/plain": [
       "[0.5318627450980392,\n",
       " 0.0196078431372549,\n",
       " 0.051470588235294115,\n",
       " 0.07107843137254902,\n",
       " 0.02696078431372549,\n",
       " 0.004901960784313725,\n",
       " 0.024509803921568627,\n",
       " 0.06372549019607843]"
      ]
     },
     "execution_count": 11,
     "metadata": {},
     "output_type": "execute_result"
    }
   ],
   "source": [
    "tpr_dict[0]"
   ]
  },
  {
   "cell_type": "code",
   "execution_count": 7,
   "metadata": {},
   "outputs": [
    {
     "data": {
      "application/vnd.plotly.v1+json": {
       "config": {
        "linkText": "Export to plot.ly",
        "plotlyServerURL": "https://plot.ly",
        "showLink": false
       },
       "data": [
        {
         "dimensions": [
          {
           "label": "SVoxel Volume",
           "tickformat": ".2f",
           "values": [
            140,
            223
           ]
          },
          {
           "label": "Perc. SVoxel on GT (Precision)",
           "range": [
            0,
            1
           ],
           "tickformat": ".2f",
           "values": [
            0.5214285714285715,
            0.04932735426008968
           ]
          },
          {
           "label": "Perc. Intersection SVoxel and GT (TPR)",
           "range": [
            0,
            1
           ],
           "tickformat": ".2f",
           "values": [
            0.17892156862745098,
            0.02696078431372549
           ]
          }
         ],
         "line": {
          "color": "#33a067"
         },
         "type": "parcoords",
         "uid": "8d2bd5b9-6374-4233-9dac-ae5691c8e465"
        }
       ],
       "layout": {
        "title": {
         "text": "Detected Supervoxels on GT"
        }
       }
      },
      "text/html": [
       "<div>\n",
       "        \n",
       "        \n",
       "            <div id=\"a5036abb-3d7d-4ca7-810b-c2d8d689b16f\" class=\"plotly-graph-div\" style=\"height:525px; width:100%;\"></div>\n",
       "            <script type=\"text/javascript\">\n",
       "                require([\"plotly\"], function(Plotly) {\n",
       "                    window.PLOTLYENV=window.PLOTLYENV || {};\n",
       "                    window.PLOTLYENV.BASE_URL='https://plot.ly';\n",
       "                    \n",
       "                if (document.getElementById(\"a5036abb-3d7d-4ca7-810b-c2d8d689b16f\")) {\n",
       "                    Plotly.newPlot(\n",
       "                        'a5036abb-3d7d-4ca7-810b-c2d8d689b16f',\n",
       "                        [{\"dimensions\": [{\"label\": \"SVoxel Volume\", \"tickformat\": \".2f\", \"values\": [140, 223]}, {\"label\": \"Perc. SVoxel on GT (Precision)\", \"range\": [0.0, 1.0], \"tickformat\": \".2f\", \"values\": [0.5214285714285715, 0.04932735426008968]}, {\"label\": \"Perc. Intersection SVoxel and GT (TPR)\", \"range\": [0.0, 1.0], \"tickformat\": \".2f\", \"values\": [0.17892156862745098, 0.02696078431372549]}], \"line\": {\"color\": \"#33a067\"}, \"type\": \"parcoords\", \"uid\": \"8d2bd5b9-6374-4233-9dac-ae5691c8e465\"}],\n",
       "                        {\"title\": {\"text\": \"Detected Supervoxels on GT\"}},\n",
       "                        {\"showLink\": false, \"linkText\": \"Export to plot.ly\", \"plotlyServerURL\": \"https://plot.ly\", \"responsive\": true}\n",
       "                    ).then(function(){\n",
       "                            \n",
       "var gd = document.getElementById('a5036abb-3d7d-4ca7-810b-c2d8d689b16f');\n",
       "var x = new MutationObserver(function (mutations, observer) {{\n",
       "        var display = window.getComputedStyle(gd).display;\n",
       "        if (!display || display === 'none') {{\n",
       "            console.log([gd, 'removed!']);\n",
       "            Plotly.purge(gd);\n",
       "            observer.disconnect();\n",
       "        }}\n",
       "}});\n",
       "\n",
       "// Listen for the removal of the full notebook cells\n",
       "var notebookContainer = gd.closest('#notebook-container');\n",
       "if (notebookContainer) {{\n",
       "    x.observe(notebookContainer, {childList: true});\n",
       "}}\n",
       "\n",
       "// Listen for the clearing of the current output cell\n",
       "var outputEl = gd.closest('.output');\n",
       "if (outputEl) {{\n",
       "    x.observe(outputEl, {childList: true});\n",
       "}}\n",
       "\n",
       "                        })\n",
       "                };\n",
       "                });\n",
       "            </script>\n",
       "        </div>"
      ]
     },
     "metadata": {},
     "output_type": "display_data"
    }
   ],
   "source": [
    "data = [\n",
    "    go.Parcoords(\n",
    "        line = dict(color = '#33a067'),\n",
    "        dimensions = list([\n",
    "            dict(\n",
    "                label = 'SVoxel Volume',\n",
    "                values = svoxel_vols_dict[1],\n",
    "                tickformat = \".2f\"),\n",
    "            dict(\n",
    "                label = 'Perc. SVoxel on GT (Precision)',\n",
    "                values = precision_dict[1],\n",
    "                range = [0.0, 1.0],\n",
    "                tickformat = \".2f\"),\n",
    "#             dict(\n",
    "#                 label = 'Perc. SVoxel out of GT (FDR)',\n",
    "#                 values = fdr_dict[1],\n",
    "#                 range = [0.0, 1.0],\n",
    "#                 tickformat = \".2f\"),\n",
    "            dict(\n",
    "                label = 'Perc. Intersection SVoxel and GT (TPR)',\n",
    "                values = tpr_dict[1],\n",
    "                range = [0.0, 1.0],\n",
    "                tickformat = \".2f\"),\n",
    "        ])\n",
    "    )\n",
    "]\n",
    "\n",
    "layout = go.Layout(\n",
    "    title = \"Detected Supervoxels on GT\"\n",
    ")\n",
    "\n",
    "fig = go.Figure(data = data, layout = layout)\n",
    "py.offline.iplot(fig)"
   ]
  },
  {
   "cell_type": "code",
   "execution_count": 9,
   "metadata": {},
   "outputs": [
    {
     "data": {
      "application/vnd.plotly.v1+json": {
       "config": {
        "linkText": "Export to plot.ly",
        "plotlyServerURL": "https://plot.ly",
        "showLink": false
       },
       "data": [
        {
         "dimensions": [
          {
           "label": "SVoxel Volume",
           "tickformat": ".2f",
           "values": [
            88538,
            19724,
            6136,
            7730,
            358,
            300155,
            13495,
            6251
           ]
          },
          {
           "label": "Perc. SVoxel on GT (Precision)",
           "range": [
            0,
            1
           ],
           "tickformat": ".2f",
           "values": [
            0.002450925026542276,
            0.00040559724193875484,
            0.003422425032594524,
            0.0037516170763260024,
            0.030726256983240222,
            6.663224000932852e-06,
            0.0007410151908114116,
            0.004159334506478964
           ]
          },
          {
           "label": "Perc. Intersection SVoxel and GT (TPR)",
           "range": [
            0,
            1
           ],
           "tickformat": ".2f",
           "values": [
            0.5318627450980392,
            0.0196078431372549,
            0.051470588235294115,
            0.07107843137254902,
            0.02696078431372549,
            0.004901960784313725,
            0.024509803921568627,
            0.06372549019607843
           ]
          }
         ],
         "line": {
          "color": "#ee6e73"
         },
         "type": "parcoords",
         "uid": "579443d3-e47d-4afa-8b90-899ee96a55c4"
        }
       ],
       "layout": {
        "title": {
         "text": "Non-Detected Supervoxels on GT"
        }
       }
      },
      "text/html": [
       "<div>\n",
       "        \n",
       "        \n",
       "            <div id=\"458bb555-ea97-4056-ac24-0f12eab28295\" class=\"plotly-graph-div\" style=\"height:525px; width:100%;\"></div>\n",
       "            <script type=\"text/javascript\">\n",
       "                require([\"plotly\"], function(Plotly) {\n",
       "                    window.PLOTLYENV=window.PLOTLYENV || {};\n",
       "                    window.PLOTLYENV.BASE_URL='https://plot.ly';\n",
       "                    \n",
       "                if (document.getElementById(\"458bb555-ea97-4056-ac24-0f12eab28295\")) {\n",
       "                    Plotly.newPlot(\n",
       "                        '458bb555-ea97-4056-ac24-0f12eab28295',\n",
       "                        [{\"dimensions\": [{\"label\": \"SVoxel Volume\", \"tickformat\": \".2f\", \"values\": [88538, 19724, 6136, 7730, 358, 300155, 13495, 6251]}, {\"label\": \"Perc. SVoxel on GT (Precision)\", \"range\": [0.0, 1.0], \"tickformat\": \".2f\", \"values\": [0.002450925026542276, 0.00040559724193875484, 0.003422425032594524, 0.0037516170763260024, 0.030726256983240222, 6.663224000932852e-06, 0.0007410151908114116, 0.004159334506478964]}, {\"label\": \"Perc. Intersection SVoxel and GT (TPR)\", \"range\": [0.0, 1.0], \"tickformat\": \".2f\", \"values\": [0.5318627450980392, 0.0196078431372549, 0.051470588235294115, 0.07107843137254902, 0.02696078431372549, 0.004901960784313725, 0.024509803921568627, 0.06372549019607843]}], \"line\": {\"color\": \"#ee6e73\"}, \"type\": \"parcoords\", \"uid\": \"579443d3-e47d-4afa-8b90-899ee96a55c4\"}],\n",
       "                        {\"title\": {\"text\": \"Non-Detected Supervoxels on GT\"}},\n",
       "                        {\"showLink\": false, \"linkText\": \"Export to plot.ly\", \"plotlyServerURL\": \"https://plot.ly\", \"responsive\": true}\n",
       "                    ).then(function(){\n",
       "                            \n",
       "var gd = document.getElementById('458bb555-ea97-4056-ac24-0f12eab28295');\n",
       "var x = new MutationObserver(function (mutations, observer) {{\n",
       "        var display = window.getComputedStyle(gd).display;\n",
       "        if (!display || display === 'none') {{\n",
       "            console.log([gd, 'removed!']);\n",
       "            Plotly.purge(gd);\n",
       "            observer.disconnect();\n",
       "        }}\n",
       "}});\n",
       "\n",
       "// Listen for the removal of the full notebook cells\n",
       "var notebookContainer = gd.closest('#notebook-container');\n",
       "if (notebookContainer) {{\n",
       "    x.observe(notebookContainer, {childList: true});\n",
       "}}\n",
       "\n",
       "// Listen for the clearing of the current output cell\n",
       "var outputEl = gd.closest('.output');\n",
       "if (outputEl) {{\n",
       "    x.observe(outputEl, {childList: true});\n",
       "}}\n",
       "\n",
       "                        })\n",
       "                };\n",
       "                });\n",
       "            </script>\n",
       "        </div>"
      ]
     },
     "metadata": {},
     "output_type": "display_data"
    }
   ],
   "source": [
    "data = [\n",
    "    go.Parcoords(\n",
    "        line = dict(color = '#ee6e73'),\n",
    "        dimensions = list([\n",
    "            dict(\n",
    "                label = 'SVoxel Volume',\n",
    "                values = svoxel_vols_dict[0],\n",
    "                tickformat = \".2f\"),\n",
    "            dict(\n",
    "                label = 'Perc. SVoxel on GT (Precision)',\n",
    "                values = precision_dict[0],\n",
    "                range = [0.0, 1.0],\n",
    "                tickformat = \".2f\"),\n",
    "#             dict(\n",
    "#                 label = 'Perc. SVoxel out of GT (FDR)',\n",
    "#                 values = fdr_dict[1],\n",
    "#                 range = [0.0, 1.0],\n",
    "#                 tickformat = \".2f\"),\n",
    "            dict(\n",
    "                label = 'Perc. Intersection SVoxel and GT (TPR)',\n",
    "                values = tpr_dict[0],\n",
    "                range = [0.0, 1.0],\n",
    "                tickformat = \".2f\"),\n",
    "        ])\n",
    "    )\n",
    "]\n",
    "\n",
    "layout = go.Layout(\n",
    "    title = \"Non-Detected Supervoxels on GT\"\n",
    ")\n",
    "\n",
    "fig = go.Figure(data = data, layout = layout)\n",
    "py.offline.iplot(fig)"
   ]
  }
 ],
 "metadata": {
  "kernelspec": {
   "display_name": "Python 3",
   "language": "python",
   "name": "python3"
  },
  "language_info": {
   "codemirror_mode": {
    "name": "ipython",
    "version": 3
   },
   "file_extension": ".py",
   "mimetype": "text/x-python",
   "name": "python",
   "nbconvert_exporter": "python",
   "pygments_lexer": "ipython3",
   "version": "3.7.3"
  }
 },
 "nbformat": 4,
 "nbformat_minor": 2
}
