{
 "cells": [
  {
   "cell_type": "markdown",
   "metadata": {},
   "source": [
    "# Exploring FLIM Towards Semantic Segmentation\n",
    "\n",
    "> This notebook covers the necessary steps to experiment with a FLIM and a U-Net architecture, visualizing its activations. We will use FLIM to learn our encoder.\n",
    "\n",
    "We will approach the following:\n",
    "\n",
    "1. Split our data into training and testing;\n",
    "2. Configure a dataset;\n",
    "3. Configure our dataset as a data loader to provide data ingestion during the training phase;\n",
    "4. Define a fully convolutional network (U-Net);\n",
    "5. Define a method to load FLIM-Encoder into our U-Net model\n",
    "6. Learning rate schedulers;\n",
    "7. Define a training loop;\n",
    "8. Define a testing loop;\n",
    "9. Run training experiments and test our model;\n",
    "10. Run inferences with FLIM-Encoder using an adaptive decoder."
   ]
  },
  {
   "cell_type": "markdown",
   "metadata": {},
   "source": [
    "## 1. Split data into training and testing sets"
   ]
  },
  {
   "cell_type": "markdown",
   "metadata": {},
   "source": [
    "Let us first define our dataset; we will explore the parasite egg dataset towards 2D segmentation. The eggs are from Schistosoma Mansoni. The cell below imports the necessary libraries."
   ]
  },
  {
   "cell_type": "code",
   "execution_count": 1,
   "metadata": {
    "tags": []
   },
   "outputs": [],
   "source": [
    "# Necessary libraries\n",
    "from pathlib import Path, PosixPath\n",
    "import os\n",
    "from tqdm import tqdm\n",
    "from typing import List, Union\n",
    "import json\n",
    "\n",
    "from PIL import ImageOps\n",
    "from tifffile import imsave\n",
    "import numpy as np\n",
    "import matplotlib.pyplot as plt\n",
    "from PIL import Image\n",
    "\n",
    "import torch\n",
    "from torch.utils.data import Dataset\n",
    "from torch import nn\n",
    "from torchvision import transforms\n",
    "from torch.utils.data import DataLoader\n",
    "import torch_snippets\n",
    "\n",
    "from skimage.color import lab2rgb, rgb2lab"
   ]
  },
  {
   "cell_type": "markdown",
   "metadata": {},
   "source": [
    "First, we need to define the path to our dataset. We are using the reshaped parasite dataset (images and labels have a shape of 240x240 pixels with three channels). To run our experiments, we need to use either a GPU (DEVICE) or a CPU (\"cpu\"); for such, we set the DEVICE variable.\n",
    "\n",
    "We will also define the path to a JSON file which specifies our encoder architecture, and a folder with our endoder's weights."
   ]
  },
  {
   "cell_type": "code",
   "execution_count": 2,
   "metadata": {
    "tags": []
   },
   "outputs": [],
   "source": [
    "DATA_PATH = Path(\"../data/parasites\")\n",
    "ORIG_PATH = DATA_PATH / Path(\"all_images\")\n",
    "LABELS_PATH = DATA_PATH / Path(\"all_truelabels\")\n",
    "DEVICE = \"cuda\"\n",
    "\n",
    "ARCH_JSON = Path(\n",
    "    DATA_PATH / Path(\"flim_data/arch2d_seg.json\")\n",
    ")\n",
    "WEIGHTS_PATH = Path(\n",
    "    DATA_PATH / Path(\"flim_data/model_bias\")\n",
    ")\n",
    "\n",
    "# Reads architecture dict to define our network\n",
    "with open(ARCH_JSON, \"r\") as json_data:\n",
    "    arch_description = json.load(json_data)"
   ]
  },
  {
   "cell_type": "markdown",
   "metadata": {},
   "source": [
    "Our dataset contains 96 images. We will further divide it into training and testing images. We will use ~80% to train (76) and ~20% to test (20) the model. You may modify the n_train variable (currently derived using 80% - 0.8 - to adjust train and test size)."
   ]
  },
  {
   "cell_type": "code",
   "execution_count": 3,
   "metadata": {
    "tags": []
   },
   "outputs": [],
   "source": [
    "images = os.listdir(ORIG_PATH)\n",
    "images.sort()\n",
    "labels = images\n",
    "\n",
    "# 80% of train and 20% of test\n",
    "n_train = int((0.8 * len(images)))\n",
    "\n",
    "# Train Data (File Names)\n",
    "train_images = images[:n_train]\n",
    "train_labels = images[:n_train]\n",
    "# Test Data (File Names)\n",
    "test_images = images[n_train:]\n",
    "test_labels = images[n_train:]"
   ]
  },
  {
   "cell_type": "markdown",
   "metadata": {},
   "source": [
    "## 2. Configure a dataset\n",
    "\n",
    "Now, we need to define the Dataset class. It must:\n",
    "\n",
    "- Enable training and testing with a single image (If we want to train with a single image - Overfit). In this case, we set the parameter `image_id` to a number (e.g., 0);\n",
    "- Enable training and testing using the data splits. In this case, we set the parameter `image_id` to `None`."
   ]
  },
  {
   "cell_type": "markdown",
   "metadata": {},
   "source": [
    "We start by importing the necessary libraries. As FLIM works with images in the LAB space, we also need to convert our images from RGB to LAB."
   ]
  },
  {
   "cell_type": "code",
   "execution_count": 4,
   "metadata": {
    "tags": []
   },
   "outputs": [],
   "source": [
    "class SegDataset(Dataset):\n",
    "    def __init__(\n",
    "        self,\n",
    "        images_path: PosixPath, # Path to images\n",
    "        labels_path: PosixPath, # Path to labels\n",
    "        images: List[str], # List of images\n",
    "        labels: List[str], # List of labels\n",
    "        image_id: int = None # Image ID if training with a single image\n",
    "    ):\n",
    "        self.images_path = [images_path / Path(image) for image in images]\n",
    "        self.labels_path = [labels_path / Path(label) for label in labels]\n",
    "        self.image_id = image_id\n",
    "\n",
    "        \"\"\"If training with the whole dataset we must resize images\n",
    "        to the same size (240, 240)\"\"\"\n",
    "        # Converts to tensor and normalize LAB\n",
    "        self.image_transforms = transforms.Compose([\n",
    "                rgb2lab,\n",
    "                transforms.ToTensor(),\n",
    "                transforms.ConvertImageDtype(torch.float32),\n",
    "                transforms.Normalize(\n",
    "                    mean=[0, -86.182236, -107.867744],\n",
    "                    std=[99.998337, 86.182236 + 98.258614, 107.867744 + 94.481682]\n",
    "                )\n",
    "        ])\n",
    "        self.label_transforms = transforms.ToTensor()\n",
    "\n",
    "    def __len__(self):\n",
    "        # If image id not provided, we are training with the whole dataset\n",
    "        if self.image_id == None:\n",
    "            return len(self.images_path)\n",
    "        else:\n",
    "            return 1\n",
    "\n",
    "    def __getitem__(self, idx):\n",
    "        if self.image_id == None:\n",
    "            image_path = self.images_path[idx]\n",
    "            label_path = self.labels_path[idx]\n",
    "        else:\n",
    "            image_path = self.images_path[self.image_id]\n",
    "            label_path = self.labels_path[self.image_id]\n",
    "\n",
    "        image = Image.open(image_path)\n",
    "        image = self.image_transforms(image)\n",
    "        \n",
    "        label = ImageOps.grayscale(Image.open(label_path))\n",
    "        label = self.label_transforms(label)\n",
    "        \n",
    "        # Tackles label as a two channel prediction (Background and Foreground)\n",
    "        background = torch.zeros(1, label.shape[1], label.shape[2])\n",
    "        foreground = torch.zeros(1, label.shape[1], label.shape[2])\n",
    "        background[label == 0] = 1\n",
    "        foreground[label == 1] = 1\n",
    "        label = torch.cat([background, foreground], axis=0)\n",
    "\n",
    "        return image, label"
   ]
  },
  {
   "cell_type": "markdown",
   "metadata": {},
   "source": [
    "Now, let us visualize the output of our dataset object for a single image. The method `visualize_dataset_item` enables us to visualize an image of our dataset.\n",
    "\n",
    "Notice that it generates two masks, one for our foreground (parasite egg) and the other for the background."
   ]
  },
  {
   "cell_type": "code",
   "execution_count": 5,
   "metadata": {
    "tags": []
   },
   "outputs": [],
   "source": [
    "# Method to visualize Dataset Item (LAB)\n",
    "def visualize_dataset_item(dataset, item):\n",
    "    img, label = dataset.__getitem__(item)\n",
    "    img = img.permute(1, 2, 0)\n",
    "    img[:,:, 0] = img[:,:, 0] * 99.998337\n",
    "    img[:,:, 1] = img[:,:, 1] * (86.182236 + 98.258614) - 86.182236\n",
    "    img[:,:, 2] = img[:,:, 2] * (107.867744 + 94.481682) - 107.867744\n",
    "    img = lab2rgb(img)\n",
    "\n",
    "    plt.subplot(131)\n",
    "    plt.yticks([]),plt.xticks([])\n",
    "    plt.title(\"Image\")\n",
    "    plt.imshow(img)\n",
    "    plt.subplot(132)\n",
    "    plt.yticks([]),plt.xticks([])\n",
    "    plt.title(\"Background\")\n",
    "    plt.imshow(label[0], cmap=\"gray\")\n",
    "    plt.subplot(133)\n",
    "    plt.yticks([]),plt.xticks([])\n",
    "    plt.title(\"Foreground\")\n",
    "    plt.imshow(label[1], cmap=\"gray\")"
   ]
  },
  {
   "cell_type": "markdown",
   "metadata": {},
   "source": [
    "Then, we define our dataset using all training and testing data."
   ]
  },
  {
   "cell_type": "code",
   "execution_count": 6,
   "metadata": {
    "tags": []
   },
   "outputs": [],
   "source": [
    "# DATASETS - TRAIN AND TEST\n",
    "train_dataset = SegDataset(\n",
    "    images_path=ORIG_PATH,\n",
    "    labels_path=LABELS_PATH,\n",
    "    images=train_images,\n",
    "    labels=train_labels,\n",
    "    image_id=None\n",
    ")\n",
    "test_dataset = SegDataset(\n",
    "    images_path=ORIG_PATH,\n",
    "    labels_path=LABELS_PATH,\n",
    "    images=test_images,\n",
    "    labels=test_labels,\n",
    "    image_id=None\n",
    ")"
   ]
  },
  {
   "cell_type": "markdown",
   "metadata": {},
   "source": [
    "Test the method `visualize_dataset_item` to visualize different images (change the `dataset` and `item` parameters)."
   ]
  },
  {
   "cell_type": "code",
   "execution_count": 7,
   "metadata": {
    "tags": []
   },
   "outputs": [
    {
     "data": {
      "image/png": "[encoded data removed]",
      "text/plain": [
       "<Figure size 640x480 with 3 Axes>"
      ]
     },
     "metadata": {},
     "output_type": "display_data"
    }
   ],
   "source": [
    "visualize_dataset_item(train_dataset, 0)"
   ]
  },
  {
   "cell_type": "markdown",
   "metadata": {},
   "source": [
    "## 3. Configure our dataset as a dataloader"
   ]
  },
  {
   "cell_type": "markdown",
   "metadata": {},
   "source": [
    "Through PyTorch data loader ([`torch.utils.data.DataLoader`](https://pytorch.org/docs/stable/data.html#torch.utils.data.DataLoader)), we configure our dataset as a data loader by using:\n",
    "\n",
    "- A Dataset (Our Train and Test datasets);\n",
    "- A batch size (Number of images used to update the model's parameters);\n",
    "- If we want to shuffle our data at each epoch (We see images in different orders for each epoch)."
   ]
  },
  {
   "cell_type": "code",
   "execution_count": 8,
   "metadata": {
    "tags": []
   },
   "outputs": [
    {
     "name": "stdout",
     "output_type": "stream",
     "text": [
      "Images shape =>  torch.Size([4, 3, 240, 240])\n",
      "Labels shape =>  torch.Size([4, 2, 240, 240])\n"
     ]
    }
   ],
   "source": [
    "# DATALOADERS - TRAIN AND TEST\n",
    "train_dataloader = DataLoader(train_dataset, batch_size=4, shuffle=True)\n",
    "test_dataloader  = DataLoader(test_dataset, batch_size=1, shuffle=False)\n",
    "\n",
    "# Visualizes shape of a batch sampled from train dataloder\n",
    "sample_train_images, sample_train_labels = next(iter(train_dataloader))\n",
    "print(\"Images shape => \", sample_train_images.shape)\n",
    "print(\"Labels shape => \", sample_train_labels.shape)"
   ]
  },
  {
   "cell_type": "markdown",
   "metadata": {},
   "source": [
    "## 4. Define a fully convolutional network (U-Net)\n",
    "\n",
    "Now, we have a dataloader working. It is responsible for feeding data, both the input image and the parasite egg's segmentation mask, to a deep learning model. We expect that, given an input image, our model will learn to segment the parasite egg, if any.\n",
    "\n",
    "Now, the following cells define our deep-learning model, a U-Net architecture (**see the image below**). We also enable our model to store the activation maps for visual analysis.\n",
    "\n",
    "U-Net architectures have two parts: an encoder (left part) and a decoder (right part). The encoder extracts image features at different levels while the encoder combines those extracted features to detect and segment.\n",
    "\n",
    "![](arch_sample.png)"
   ]
  },
  {
   "cell_type": "markdown",
   "metadata": {},
   "source": [
    "Let us first define some methods to help us:\n",
    "\n",
    "- **up_conv:** Implements our **ConvTranspose2d** convolutions, responsible for upsampling our features in the decoder;\n",
    "- **Conv:** Implements our **Conv2D** in decoders;\n",
    "- **init_weights:** Initializes our model's parameters, using Xavier uniform for convolution's weights and setting biases to 0.01."
   ]
  },
  {
   "cell_type": "code",
   "execution_count": 9,
   "metadata": {
    "tags": []
   },
   "outputs": [],
   "source": [
    "# Utilitarians blocks for UNet Decoder\n",
    "# Upsamples input feature map\n",
    "def up_conv(in_channels, out_channels, kernel_size=2, padding=0, stride=2, output_padding=0):\n",
    "    return nn.Sequential(\n",
    "        nn.ConvTranspose2d(in_channels, out_channels, kernel_size=kernel_size, padding=padding, stride=stride, output_padding=output_padding),\n",
    "        nn.ReLU(inplace=True)\n",
    "    )\n",
    "    \n",
    "# Defines convolutional blocks for our decoder\n",
    "def conv(in_channels, out_channels, kernel_size, padding=1):\n",
    "    return nn.Sequential(\n",
    "        nn.Conv2d(in_channels, out_channels, kernel_size=kernel_size, stride=1, padding=padding),\n",
    "        nn.BatchNorm2d(out_channels),\n",
    "        nn.ReLU(inplace=True),\n",
    "    )\n",
    "    \n",
    "# Initializes kernel weights\n",
    "def init_weights(m):\n",
    "    if (isinstance(m,nn.Conv2d) or (isinstance(m,nn.ConvTranspose2d))):\n",
    "        torch.nn.init.xavier_uniform_(m.weight)\n",
    "        if m.bias is not None:\n",
    "            m.bias.data.fill_(0.01)"
   ]
  },
  {
   "cell_type": "markdown",
   "metadata": {},
   "source": [
    "Now, the class UNet defines our U-Net architecture:\n",
    "\n",
    "1. On the **__init__** method, we first set a random_seed to guarantee reproducibility. Then, we define our encoder blocks (block1, and block2), our bottleneck, and finally, our decoder (up_convs + dec_convs and the pred convolution, which outputs our segmentation mask);\n",
    "2. Our **forward** method is responsible for passing the input image through the model architecture until we get the parasite egg's mask at the end;\n",
    "3. **write_activation** and **save_activations** saves activations of each network block for visual inspection;\n",
    "4. **save_curves** will save the learning curves of our models at the end of our training loop.\n",
    "\n",
    "To initialize a U-Net model, we must set the following parameters:\n",
    "\n",
    "- `in_channels:` The number of channels of our input (e.g., 3 for RGB and 1 for Gray);\n",
    "- `n_kernels:` A list of 3 integer values specifying the number of kernels for each convolutional block (e.g., [8, 16,32]). Those values are used to define both encoder and decoder convolutional blocks;\n",
    "- `kernel_sizes:` A list of 3 integer values, specifying the kernels' size for each convolutional block (e.g., [3, 3, 3]);\n",
    "- `activations_path:` A path to save each convolutional block activation. After training, one could navigate into that folder to visualize what kind of features the model is extracting."
   ]
  },
  {
   "cell_type": "code",
   "execution_count": 10,
   "metadata": {
    "tags": []
   },
   "outputs": [],
   "source": [
    "class UNet(nn.Module):\n",
    "    def __init__(\n",
    "            self, in_channels: int, # RGB or LAB -> 3 Channels\n",
    "            n_kernels: List[int], # N Kernels by conv block\n",
    "            kernel_sizes: List[int], # Kernel sizes by conv block\n",
    "            bottleneck_size: int, # Kernel size for bottleneck\n",
    "            activations_path: PosixPath = None # Path to save activations\n",
    "    ) -> None:\n",
    "        super().__init__()\n",
    "        \n",
    "        # Sets torch seed to guaratee Reproducibility\n",
    "        random_seed = 7\n",
    "        torch.manual_seed(random_seed)\n",
    "        torch.cuda.manual_seed(random_seed)\n",
    "        torch.backends.cudnn.deterministic = True\n",
    "        torch.backends.cudnn.benchmark = False\n",
    "        \n",
    "        self.activations_path = activations_path\n",
    "        \n",
    "        # Encoder Convolutional Blocks\n",
    "        self.block1 = nn.Sequential(\n",
    "            nn.Conv2d(\n",
    "                in_channels=in_channels, out_channels=n_kernels[0],\n",
    "                kernel_size=kernel_sizes[0],\n",
    "                padding=kernel_sizes[0] // 2\n",
    "            ),\n",
    "            nn.ReLU(),\n",
    "            nn.MaxPool2d(\n",
    "                kernel_size=3, stride=2,\n",
    "                padding=1\n",
    "            )\n",
    "        )\n",
    "        self.block2 = nn.Sequential(\n",
    "            nn.Conv2d(\n",
    "                in_channels=n_kernels[0], out_channels=n_kernels[1],\n",
    "                kernel_size=kernel_sizes[1],\n",
    "                padding=kernel_sizes[1] // 2\n",
    "            ),\n",
    "            nn.ReLU(),\n",
    "            nn.MaxPool2d(\n",
    "                kernel_size=3, stride=2,\n",
    "                padding=1\n",
    "            )\n",
    "        )\n",
    "        \n",
    "        # Bottleneck\n",
    "        self.bottleneck = nn.Conv2d(\n",
    "            in_channels=n_kernels[1], out_channels=2*n_kernels[1],\n",
    "            kernel_size=bottleneck_size, stride=2, padding=bottleneck_size//2\n",
    "        )\n",
    "        \n",
    "        # Decoder\n",
    "        self.up_conv1 = up_conv(\n",
    "            in_channels=2*n_kernels[1], out_channels=n_kernels[1]\n",
    "        )\n",
    "        self.dec_conv1 = conv(\n",
    "            in_channels=2*n_kernels[1], out_channels=n_kernels[1],\n",
    "            kernel_size=kernel_sizes[1], padding=kernel_sizes[1] // 2\n",
    "        )\n",
    "        self.up_conv2 = up_conv(\n",
    "            in_channels=n_kernels[1], out_channels=n_kernels[0]\n",
    "        )\n",
    "        self.dec_conv2 = conv(\n",
    "            in_channels=2*n_kernels[0], out_channels=n_kernels[0],\n",
    "            kernel_size=kernel_sizes[0], padding=kernel_sizes[0] // 2\n",
    "        )\n",
    "        self.up_conv_pred = up_conv(\n",
    "            in_channels=n_kernels[0], out_channels=n_kernels[0]\n",
    "        )\n",
    "        self.pred = nn.Conv2d(\n",
    "            in_channels=n_kernels[0], out_channels=2, kernel_size=1\n",
    "        )\n",
    "        \n",
    "        # Initializes weights\n",
    "        self.block1.apply(init_weights)\n",
    "        self.block2.apply(init_weights)\n",
    "        self.up_conv1.apply(init_weights)\n",
    "        self.dec_conv1.apply(init_weights)\n",
    "        self.up_conv2.apply(init_weights)\n",
    "        self.dec_conv2.apply(init_weights)\n",
    "        self.up_conv_pred.apply(init_weights)\n",
    "        self.pred.apply(init_weights)    \n",
    "    \n",
    "    def forward(self, x: torch.Tensor) -> torch.Tensor:\n",
    "        # Dictionary to keep track of activations\n",
    "        self.activations = {\"encoder\": [], \"decoder\": []}\n",
    "              \n",
    "        # Encoder\n",
    "        x1 = self.block1(x)\n",
    "        self.activations[\"encoder\"].append(x1)\n",
    "        x2 = self.block2(x1)\n",
    "        self.activations[\"encoder\"].append(x2)\n",
    "        \n",
    "        # Bottleneck\n",
    "        bottleneck = self.bottleneck(x2)\n",
    "        \n",
    "        # Decoder - torch.cat performs skip connections on decoder\n",
    "        x = self.up_conv1(bottleneck)\n",
    "        x = torch.cat([x, x2], dim=1)\n",
    "        x = self.dec_conv1(x)\n",
    "        self.activations[\"decoder\"].append(x)\n",
    "        x = self.up_conv2(x)\n",
    "        x = torch.cat([x, x1], dim=1)\n",
    "        x = self.dec_conv2(x)\n",
    "        self.activations[\"decoder\"].append(x)\n",
    "        x = self.up_conv_pred(x)\n",
    "        x = self.pred(x)\n",
    "        \n",
    "        return x\n",
    "    \n",
    "    def write_activation(\n",
    "        self, image: np.ndarray, path: PosixPath, reshape: bool=False\n",
    "    ) -> None:\n",
    "        max_img = np.max(image)\n",
    "        min_img = np.min(image)\n",
    "        if (min_img != max_img):\n",
    "            image = 255 * (image - min_img) / (max_img - min_img)\n",
    "        image = image.astype(np.uint8)\n",
    "\n",
    "        image = Image.fromarray(image)\n",
    "        if reshape:\n",
    "            image = image.resize((240, 240), Image.Resampling.NEAREST)\n",
    "        image.save(path)\n",
    "    \n",
    "    @torch.no_grad()\n",
    "    def save_activations(self, epoch: int, data_loader) -> None:\n",
    "        # Save encoder activations\n",
    "        activations_path = self.activations_path / Path(f\"epoch_{epoch}\")\n",
    "        \n",
    "        # Save activations for each image\n",
    "        print(\"[INFO] Saving activations!\")\n",
    "        images_path = data_loader.dataset.images_path\n",
    "        for image_path in tqdm(images_path):\n",
    "            image_name = os.path.basename(image_path)\n",
    "            saving_path = activations_path / Path(image_name.replace(\".png\",\"\")) / Path(\"encoder\")\n",
    "            saving_path_reshape = activations_path / Path(image_name.replace(\".png\",\"\")) / Path(\"encoder_reshape\") \n",
    "            os.makedirs(saving_path, exist_ok=True)\n",
    "            os.makedirs(saving_path_reshape, exist_ok=True)\n",
    "            \n",
    "            image_data = data_loader.dataset.image_transforms(\n",
    "                Image.open(image_path)\n",
    "            )\n",
    "            # Adds batch dimension\n",
    "            image_data = torch.unsqueeze(image_data, dim=0)\n",
    "            image_data = image_data.to(DEVICE)\n",
    "            self.to(DEVICE)\n",
    "            self.forward(image_data)\n",
    "        \n",
    "            # Save encoder activations\n",
    "            for actv_idx, activations in enumerate(self.activations[\"encoder\"]):\n",
    "                activations = activations.cpu().detach().numpy()\n",
    "                for ch_idx in range(activations.shape[1]):\n",
    "                    channel_activations = activations[0, ch_idx, ...]\n",
    "\n",
    "                    filename = Path(f\"layer_{actv_idx}_ch_{ch_idx}.png\")\n",
    "                    # Save normal size image\n",
    "                    self.write_activation(\n",
    "                        channel_activations, saving_path / filename\n",
    "                    )\n",
    "                    # Reshape to input size\n",
    "                    self.write_activation(\n",
    "                        channel_activations, saving_path_reshape / filename, True\n",
    "                )\n",
    "                    \n",
    "            # Save decoder activations\n",
    "            saving_path = activations_path / Path(image_name.replace(\".png\",\"\")) / Path(\"decoder\")\n",
    "            saving_path_reshape = activations_path / Path(image_name.replace(\".png\",\"\")) / Path(\"decoder_reshape\") \n",
    "            os.makedirs(saving_path, exist_ok=True)\n",
    "            os.makedirs(saving_path_reshape, exist_ok=True)\n",
    "            for actv_idx, activations in enumerate(self.activations[\"decoder\"]):\n",
    "                activations = activations.cpu().detach().numpy()\n",
    "                for ch_idx in range(activations.shape[1]):\n",
    "                    channel_activations = activations[0, ch_idx, ...]\n",
    "\n",
    "                    filename = Path(f\"layer_{actv_idx}_ch_{ch_idx}.png\")\n",
    "                    # Save normal size imagace\n",
    "                    self.write_activation(\n",
    "                        channel_activations, saving_path / filename\n",
    "                    )\n",
    "                    # Reshape to input size\n",
    "                    self.write_activation(\n",
    "                        channel_activations, saving_path_reshape / filename, True\n",
    "                    )\n",
    "\n",
    "        # Save model weights\n",
    "        torch.save(self.state_dict(), activations_path / Path(\"model.pth\"))\n",
    "        \n",
    "    def save_curves(self, logger: torch_snippets.torch_loader.Report) -> None:\n",
    "        _, ax = plt.subplots(figsize=(8, 6))\n",
    "        logger.plot_epochs(['trn_loss'], ax=ax)\n",
    "        savefig_path = self.activations_path / Path(\"loss.png\")\n",
    "        plt.savefig(savefig_path)\n",
    "        \n",
    "        _, ax = plt.subplots(figsize=(8, 6))\n",
    "        logger.plot_epochs(['trn_accuracy'], ax=ax)\n",
    "        savefig_path = self.activations_path / Path(\"accuracy.png\")\n",
    "        plt.savefig(savefig_path)"
   ]
  },
  {
   "cell_type": "markdown",
   "metadata": {},
   "source": [
    "## 5. Define a method to load FLIM-Encoder into our U-Net model"
   ]
  },
  {
   "cell_type": "markdown",
   "metadata": {},
   "source": [
    "Additionally, as we will use a FLIM Encoder as our U-Net encoder, we define methods to load the FLIM Encoder's weight into the U-Net encoder.\n",
    "\n",
    "The method `load_FLIM_encoder`, receives as parameters:\n",
    "\n",
    "- `model`: Our U-Net model;\n",
    "- `arch_json`: The path to a JSON file describing our FLIM-Encoder;\n",
    "- `weights_path`: The path to a folder with the FLIM-Encoder's weights;\n",
    "- `channels`: A list specifying the number of input channels (e.g., 3 for RGB) and the number of filters for each encoder convolutional block."
   ]
  },
  {
   "cell_type": "code",
   "execution_count": 11,
   "metadata": {
    "tags": []
   },
   "outputs": [],
   "source": [
    "def get_bias(bias_path: PosixPath) -> np.ndarray:\n",
    "    with open(bias_path, \"r\") as file:\n",
    "        n_kernels = file.readline()\n",
    "        bias = file.readline().strip().split(\" \")\n",
    "    \n",
    "    bias = np.array(bias).astype(np.float32)\n",
    "    \n",
    "    return bias\n",
    "\n",
    "def shift_weights(weights: np.ndarray, kernel_size: int, in_channels: int) -> np.ndarray:\n",
    "    kn = 1 # neutral element\n",
    "    \n",
    "    # Iterates over each kernel size\n",
    "    for i in range(len(kernel_size)):\n",
    "        kn = kn * kernel_size[i]\n",
    "    \n",
    "    mid_index = int(kn / 2) + 1\n",
    "    \n",
    "    weights = np.concatenate(\n",
    "        (\n",
    "            weights[in_channels: mid_index * in_channels],\n",
    "            weights[0:in_channels],\n",
    "            weights[mid_index * in_channels:]\n",
    "        ),\n",
    "        axis=0\n",
    "    )\n",
    "    \n",
    "    return weights\n",
    "\n",
    "def get_weights(kernel_path: PosixPath,  kernel_size: int, in_channels: int) -> np.ndarray:\n",
    "    weights = np.load(kernel_path)\n",
    "    weights = shift_weights(weights, kernel_size, in_channels)\n",
    "    \n",
    "    return weights\n",
    "\n",
    "def load_FLIM_encoder(model: UNet, arch_json: PosixPath, weights_path: PosixPath, channels: List[int]) -> None:\n",
    "    with open(arch_json, \"r\") as json_data:\n",
    "        arch_description = json.load(json_data)\n",
    "    \n",
    "    n_layers = arch_description[\"nlayers\"]\n",
    "    \n",
    "    in_channels = channels[0]\n",
    "    print(\"[INFO] Loading FLIM Encoder\")\n",
    "    for n in range(1, n_layers + 1):\n",
    "        out_channels = channels[n]\n",
    "\n",
    "        print(f\"[INFO] Loading Layer {n} weights\")\n",
    "        # Gets each encoder Block to set its weights and biases\n",
    "        model_block = getattr(model, f\"block{n}\")\n",
    "        \n",
    "        # Sets its biases\n",
    "        bias_path = weights_path / Path(f\"conv{n}-bias.txt\")\n",
    "        kernel_path = weights_path / Path(f\"conv{n}-kernels.npy\")\n",
    "        # Get biases and set to model - Accessing conv block biases\n",
    "        bias = get_bias(bias_path)\n",
    "        bias = nn.Parameter(torch.from_numpy(bias).float())\n",
    "        model_block[0].bias.data = bias\n",
    "        \n",
    "        # Get kernel weights and set to model - Accessing conv block weights\n",
    "        kernel_size = arch_description[f\"layer{n}\"][\"conv\"][\"kernel_size\"]\n",
    "        weights = get_weights(kernel_path, kernel_size, in_channels)\n",
    "        weights = weights.transpose()\n",
    "        weights = weights.reshape(out_channels, kernel_size[1], kernel_size[0], in_channels).transpose(0, 3, 1, 2)\n",
    "        weights = nn.Parameter(torch.from_numpy(weights).float())\n",
    "        model_block[0].weight.data = weights\n",
    "        \n",
    "        in_channels = channels[n]"
   ]
  },
  {
   "cell_type": "markdown",
   "metadata": {},
   "source": [
    "## 6. Learning rate scheduler"
   ]
  },
  {
   "cell_type": "markdown",
   "metadata": {},
   "source": [
    "Fine-tuning an architecture already trained with an untrained decoder running the first epochs with a small learning rate is helpful. As the first epochs using an untrained decoder will result in higher errors, a lower learning rate scheduler avoids \"forgetting\" what the FLIM-Encoder has already learned.\n",
    "\n",
    "The cell below shows how to define and use a learning rate scheduler."
   ]
  },
  {
   "cell_type": "code",
   "execution_count": 12,
   "metadata": {
    "tags": []
   },
   "outputs": [],
   "source": [
    "# Import necessary libraries\n",
    "import torch.optim as optim\n",
    "import torch.optim.lr_scheduler as lr_scheduler"
   ]
  },
  {
   "cell_type": "code",
   "execution_count": 13,
   "metadata": {
    "tags": []
   },
   "outputs": [],
   "source": [
    "# create a simple model \n",
    "model = nn.Sequential(\n",
    "    nn.Linear(34, 34),\n",
    "    nn.ReLU(),\n",
    "    nn.Linear(34, 1),\n",
    "    nn.Sigmoid()\n",
    ")\n",
    "\n",
    "lr=1e-3\n",
    "optimizer = optim.Adam(model.parameters(), lr=lr)\n",
    "loss_fn = nn.BCELoss()\n",
    "# Start Factor of the optimizer learning rate\n",
    "# End factor of the optimizer learning rate\n",
    "# Total iterations to increase from Start to End Factor\n",
    "scheduler = lr_scheduler.LinearLR(\n",
    "    optimizer, start_factor=1e-3, end_factor=1,\n",
    "    total_iters=400, verbose=False\n",
    ")\n",
    "\n",
    "# List to plot our results\n",
    "lrs = []\n",
    "epochs = []\n",
    "\n",
    "for epoch in range(1000):\n",
    "    lr = scheduler.get_last_lr()\n",
    "    epochs.append(epoch+1)\n",
    "    lrs.append(lr)\n",
    "    optimizer.step()\n",
    "    scheduler.step()"
   ]
  },
  {
   "cell_type": "markdown",
   "metadata": {},
   "source": [
    "The cell below shows our learning rate across 1000 training epochs."
   ]
  },
  {
   "cell_type": "code",
   "execution_count": 14,
   "metadata": {
    "tags": []
   },
   "outputs": [
    {
     "data": {
      "image/png": "[encoded data removed]",
      "text/plain": [
       "<Figure size 640x480 with 1 Axes>"
      ]
     },
     "metadata": {},
     "output_type": "display_data"
    }
   ],
   "source": [
    "plt.plot(epochs, lrs, \"b--\")\n",
    "plt.xlabel(\"Epochs\")\n",
    "plt.ylabel(\"Learning Rate\")\n",
    "plt.title(\"Learning Rate Vs Epochs\")\n",
    "plt.show()"
   ]
  },
  {
   "cell_type": "markdown",
   "metadata": {},
   "source": [
    "## 7. Define a training loop"
   ]
  },
  {
   "cell_type": "markdown",
   "metadata": {},
   "source": [
    "We have everything prepared in our pipeline; we lack a training loop that will feed data from the data loader to our model and use the model's prediction to compute loss and update the model's parameter.\n",
    "\n",
    "Furthermore, as we are using a FLIM-Encoder, we want our training loop to have two additional features:\n",
    "\n",
    "- **Freeze the Encoder's Weights**: In this case, we do not learn the encoder; our training loop updates the decoder's parameters.\n",
    "- **Train with a Learning Rate Scheduler:** We use a learning rate scheduler to optimize the encoder's weights."
   ]
  },
  {
   "cell_type": "markdown",
   "metadata": {},
   "source": [
    "First, we import the necessary libraries."
   ]
  },
  {
   "cell_type": "code",
   "execution_count": 15,
   "metadata": {
    "tags": []
   },
   "outputs": [],
   "source": [
    "from torch_snippets import optim, Report\n",
    "from torchsummary import summary\n",
    "import monai\n",
    "from monai.losses import DiceLoss, DiceFocalLoss\n",
    "import cv2"
   ]
  },
  {
   "cell_type": "markdown",
   "metadata": {},
   "source": [
    "Secondly, we define a loss function which we want to optimize. Those loss functions were calculated by comparing the model's prediction with the ground-truth segmentation mask. To optimize those loss functions is to produce better segmentation masks.\n",
    "\n",
    "Below, we made avaialable the following losses:\n",
    "\n",
    "- [MSE](https://pytorch.org/docs/stable/generated/torch.nn.MSELoss.html#torch.nn.MSELoss)\n",
    "- [BCE](https://pytorch.org/docs/stable/generated/torch.nn.BCELoss.html#torch.nn.BCELoss)\n",
    "- [DiceLoss](https://docs.monai.io/en/stable/losses.html)\n",
    "\n",
    "> See our slide decks and the link provided for further details."
   ]
  },
  {
   "cell_type": "code",
   "execution_count": 16,
   "metadata": {
    "tags": []
   },
   "outputs": [],
   "source": [
    "loss_fuctions = {\n",
    "    \"mse\": nn.MSELoss(),\n",
    "    \"bce\": nn.BCELoss(),\n",
    "    \"dice\": DiceLoss(sigmoid=False, batch=False),\n",
    "}"
   ]
  },
  {
   "cell_type": "markdown",
   "metadata": {},
   "source": [
    "Now, we define our loss class. It is responsible for computing the loss for both masks (background and foreground), but it also enables us to set different weights for each mask.\n",
    "\n",
    "To configure it, we must:\n",
    "\n",
    "- Provide a loss function from the dictionary above (`loss_fn parameter`);\n",
    "- Set the `weights` parameters as a list with weights for each class."
   ]
  },
  {
   "cell_type": "code",
   "execution_count": 17,
   "metadata": {
    "tags": []
   },
   "outputs": [],
   "source": [
    "class Loss(nn.Module):\n",
    "    def __init__(\n",
    "            self,\n",
    "            loss_fn,\n",
    "            weights: List[float] = [1.0, 1.0]\n",
    "        ):\n",
    "        super().__init__()\n",
    "        self.loss_fn = loss_fn\n",
    "        self.background_weight = weights[0]\n",
    "        self.foreground_weight = weights[1]\n",
    "\n",
    "    def forward(self, y_pred, y_true):\n",
    "        background_loss = self.loss_fn(y_pred[:,0, ...], y_true[:, 0, ...])\n",
    "        foreground_loss = self.loss_fn(y_pred[:,1, ...], y_true[:, 1, ...])\n",
    "        background_loss *= self.background_weight\n",
    "        foreground_loss *= self.foreground_weight\n",
    "        loss = background_loss + foreground_loss\n",
    "        return loss"
   ]
  },
  {
   "cell_type": "markdown",
   "metadata": {},
   "source": [
    "Finally, we define our training loop. For such, we must provide:\n",
    "\n",
    "- The number of epochs to train our model;\n",
    "- Our U-Net model;\n",
    "- A data loader;\n",
    "- The name of our loss_function (e.g., \"mse\", \"bce\");\n",
    "- Our learning rate (lr), which controls the size of updates in the models' parameters. A too-high value will cause instability, while a too-low value will result in slower training;\n",
    "- A list with weights for background and foreground (e.g., [1, 1]).\n",
    "- The `freeze_encoder` parameter. `False` allows our training loop to update the encoder's weights, while `True` does not allow it.\n",
    "- The `use_lr_scheduler` parameter. `True` allows our training loop to use a learning rate scheduler, while `True` uses a fixed learning rate.\n",
    "\n",
    "> The N_SAVE_ACTIVATIONS variable controls when we save our convolution activations. For instance, currently, it writes activations for every 200 epochs."
   ]
  },
  {
   "cell_type": "code",
   "execution_count": 18,
   "metadata": {
    "tags": []
   },
   "outputs": [],
   "source": [
    "N_SAVE_ACTIVATIONS = 200\n",
    "def train_loop(\n",
    "        epochs, model, dataloader, lr, loss_function, weights,\n",
    "        freeze_encoder=False, use_lr_scheduler=False\n",
    "    ):\n",
    "    optimizer = optim.Adam(model.parameters(), lr=lr)\n",
    "    if use_lr_scheduler:\n",
    "        scheduler = lr_scheduler.LinearLR(optimizer, start_factor=1e-1, end_factor=1, total_iters=50, verbose=False)\n",
    "    model.to(DEVICE)\n",
    "    \n",
    "    # Freeze encoder weights\n",
    "    if freeze_encoder:\n",
    "        model.block1.requires_grad_(False)\n",
    "        model.block1.trainable = False\n",
    "        model.block2.requires_grad_(False)\n",
    "        model.block2.trainable = False\n",
    "    \n",
    "    logger = Report(epochs)\n",
    "    loss = Loss(loss_function, weights)\n",
    "\n",
    "    for epoch in range(epochs):\n",
    "        losses = []\n",
    "        accuracies = []\n",
    "        for batch in dataloader: # In our case, a single image, or 3\n",
    "            model.train()\n",
    "            image, ground_truth = batch\n",
    "            image = image.to(DEVICE)\n",
    "            ground_truth = ground_truth.to(DEVICE)\n",
    "            prediction = model(image)\n",
    "            optimizer.zero_grad()\n",
    "\n",
    "            # Computes loss and accuracy\n",
    "            prediction = torch.sigmoid(prediction)\n",
    "            loss_value = loss(prediction, ground_truth)\n",
    "\n",
    "            accuracy = (\n",
    "                (prediction[:,1,...] > prediction[:,0,...]) == ground_truth[:,1,...]\n",
    "            ).float().mean()\n",
    "            \n",
    "            losses.append(loss_value)\n",
    "            accuracies.append(accuracy)\n",
    "\n",
    "            loss_value.backward()\n",
    "            optimizer.step()\n",
    "        \n",
    "        # At the end of the epoch, we take a step in our LR Scheduler\n",
    "        if use_lr_scheduler:\n",
    "            scheduler.step()\n",
    "        \n",
    "        mean_loss = torch.mean(torch.Tensor(losses))\n",
    "        mean_acc = torch.mean(torch.Tensor(accuracies))\n",
    "        logger.record(\n",
    "            epoch + 1,\n",
    "            trn_loss=mean_loss.item(),\n",
    "            trn_accuracy=mean_acc.item()\n",
    "            )\n",
    "        if ((epoch + 1) % N_SAVE_ACTIVATIONS) == 0:\n",
    "            model.save_activations(epoch, dataloader)\n",
    "\n",
    "    model.save_curves(logger)"
   ]
  },
  {
   "cell_type": "markdown",
   "metadata": {},
   "source": [
    "## 8. Define a testing loop"
   ]
  },
  {
   "cell_type": "markdown",
   "metadata": {},
   "source": [
    "First, we import necessary libraries"
   ]
  },
  {
   "cell_type": "code",
   "execution_count": 19,
   "metadata": {
    "tags": []
   },
   "outputs": [],
   "source": [
    "from medpy.metric import binary\n",
    "from torchmetrics import JaccardIndex\n",
    "np.bool = np.bool_"
   ]
  },
  {
   "cell_type": "markdown",
   "metadata": {},
   "source": [
    "The cells below define a method to use our trained model and predict a segmentation map. We also compute metrics between the prediction map and the ground truth. The following metrics were used:\n",
    "\n",
    "- [Accuracy](https://torchmetrics.readthedocs.io/en/stable/classification/accuracy.html);\n",
    "- [Dice](http://loli.github.io/medpy/generated/medpy.metric.binary.dc.html#medpy.metric.binary.dc);\n",
    "- [Intersection-over-Union](https://torchmetrics.readthedocs.io/en/stable/classification/jaccard_index.html), also know as jaccard_index.\n",
    "\n",
    "> It will also save the predictions to the folder where activations of our model are saved."
   ]
  },
  {
   "cell_type": "code",
   "execution_count": 20,
   "metadata": {
    "tags": []
   },
   "outputs": [],
   "source": [
    "# This code gets the trained model and execute inferences on the Dataloader\n",
    "@torch.no_grad()\n",
    "def predict_and_evaluate(\n",
    "        model: UNet, \n",
    "        data_loader:torch.utils.data.dataloader.DataLoader\n",
    "    ):\n",
    "    images_path = data_loader.dataset.images_path\n",
    "    labels_path = data_loader.dataset.labels_path\n",
    "    folder_to_save = model.activations_path / Path(\"0_preds\")\n",
    "    os.makedirs(folder_to_save, exist_ok=True)\n",
    "    \n",
    "    accuracies = []\n",
    "    dices = []\n",
    "    ious = []\n",
    "    jaccard_index = JaccardIndex(num_classes=2, task=\"binary\")\n",
    "\n",
    "    for image_path, label_path in tqdm(zip(images_path, labels_path)):\n",
    "        image_data = data_loader.dataset.image_transforms(Image.open(image_path))\n",
    "        ground_truth = data_loader.dataset.label_transforms(\n",
    "            ImageOps.grayscale(Image.open(label_path))\n",
    "        )\n",
    "        ground_truth = ground_truth.cpu().detach().numpy()[0]\n",
    "        # Adds batch dimension\n",
    "        image_data = torch.unsqueeze(image_data, dim=0)\n",
    "        image_data = image_data.to(DEVICE)\n",
    "        prediction = model(image_data)\n",
    "        prediction = torch.sigmoid(prediction)\n",
    "        \n",
    "        image_name = os.path.basename(image_path)\n",
    "        path_to_save = folder_to_save / Path(image_name)\n",
    "        mask = np.zeros((240, 240), dtype=np.uint8)\n",
    "        prediction = prediction.cpu().detach().numpy()\n",
    "        mask[(prediction[0,1,...] > prediction[0,0,...])] = 1\n",
    "        \n",
    "        accuracy = np.mean((mask == ground_truth).astype(np.float32))\n",
    "        accuracies.append(accuracy)\n",
    "        # Verifies if there is parasite eggs on images\n",
    "        if np.any(ground_truth > 0):\n",
    "            dice = binary.dc(mask, ground_truth)\n",
    "            dices.append(dice)\n",
    "            iou = jaccard_index(torch.Tensor(mask).long(), torch.Tensor(ground_truth).long())\n",
    "            \n",
    "            ious.append((iou.numpy()))\n",
    "        else: # If not\n",
    "            # If there is no parasite and our model predicted it, dice and iou equals 0\n",
    "            if np.any(mask > 0):\n",
    "                dices.append(0)\n",
    "                ious.append(0)\n",
    "            # If there is no parasite and our model do not predicted it, dice and iou equals 1 (100%)\n",
    "            else:\n",
    "                dices.append(1)\n",
    "                ious.append(1)\n",
    "                \n",
    "        \n",
    "        cv2.imwrite(\n",
    "            str(path_to_save), mask * 255\n",
    "        )\n",
    "    \n",
    "    accuracies = np.array(accuracies)\n",
    "    dices = np.array(dices)\n",
    "    ious = np.array(ious)\n",
    "    \n",
    "    print(f\"[INFO] Avg Accuracy: {np.mean(accuracies)} +/- {np.std(accuracies)}\")\n",
    "    print(f\"[INFO] Avg Dice: {np.mean(dices)} +/- {np.std(dices)}\")\n",
    "    print(f\"[INFO] Avg IoU: {np.mean(ious)} +/- {np.std(ious)}\")"
   ]
  },
  {
   "cell_type": "markdown",
   "metadata": {},
   "source": [
    "## 9. Run training experiments and test our model"
   ]
  },
  {
   "cell_type": "markdown",
   "metadata": {},
   "source": [
    "The cell below defines our U-Net model and loads FLIM-Encoder weights into it. It is a simpler architecture than the one used in our previous notebook (1_plain_unet). Our last network was more deeper, with one additional encoder and decoder block."
   ]
  },
  {
   "cell_type": "code",
   "execution_count": 21,
   "metadata": {
    "tags": []
   },
   "outputs": [
    {
     "name": "stdout",
     "output_type": "stream",
     "text": [
      "[INFO] Loading FLIM Encoder\n",
      "[INFO] Loading Layer 1 weights\n",
      "[INFO] Loading Layer 2 weights\n"
     ]
    }
   ],
   "source": [
    "unet = UNet(\n",
    "    in_channels=3,\n",
    "    n_kernels=[\n",
    "        arch_description[\"layer1\"][\"conv\"][\"noutput_channels\"],\n",
    "        arch_description[\"layer2\"][\"conv\"][\"noutput_channels\"],\n",
    "    ],\n",
    "    kernel_sizes=[\n",
    "        arch_description[\"layer1\"][\"conv\"][\"kernel_size\"][0],\n",
    "        arch_description[\"layer2\"][\"conv\"][\"kernel_size\"][0]\n",
    "    ],\n",
    "    bottleneck_size=3,\n",
    "    activations_path=DATA_PATH / Path(\"exper/FLIM_ENC_whole_data_frozen_encoder\")\n",
    ").to(DEVICE)\n",
    "\n",
    "load_FLIM_encoder(\n",
    "    model=unet,\n",
    "    arch_json=ARCH_JSON,\n",
    "    weights_path=WEIGHTS_PATH,\n",
    "    channels=[\n",
    "        3,\n",
    "        arch_description[\"layer1\"][\"conv\"][\"noutput_channels\"],\n",
    "        arch_description[\"layer2\"][\"conv\"][\"noutput_channels\"],\n",
    "    ] # [Input Channels, Kernels Layer 1, Kernels Layer 2, ....]\n",
    ")"
   ]
  },
  {
   "cell_type": "markdown",
   "metadata": {},
   "source": [
    "Then, we first train our model without updating the FLIM-Encoder."
   ]
  },
  {
   "cell_type": "code",
   "execution_count": 22,
   "metadata": {
    "tags": []
   },
   "outputs": [
    {
     "name": "stdout",
     "output_type": "stream",
     "text": [
      "EPOCH: 1.000  trn_loss: 1.243  trn_accuracy: 0.581  (2.05s - 407.74s remaining)\n",
      "EPOCH: 2.000  trn_loss: 1.165  trn_accuracy: 0.839  (3.38s - 334.94s remaining)\n",
      "EPOCH: 3.000  trn_loss: 1.102  trn_accuracy: 0.973  (4.63s - 304.13s remaining)\n",
      "EPOCH: 4.000  trn_loss: 1.055  trn_accuracy: 0.987  (6.04s - 296.01s remaining)\n",
      "EPOCH: 5.000  trn_loss: 1.024  trn_accuracy: 0.989  (7.44s - 290.29s remaining)\n",
      "EPOCH: 6.000  trn_loss: 1.004  trn_accuracy: 0.989  (8.66s - 280.04s remaining)\n",
      "EPOCH: 7.000  trn_loss: 0.991  trn_accuracy: 0.989  (10.04s - 276.80s remaining)\n",
      "EPOCH: 8.000  trn_loss: 0.980  trn_accuracy: 0.988  (11.35s - 272.32s remaining)\n",
      "EPOCH: 9.000  trn_loss: 0.967  trn_accuracy: 0.988  (12.70s - 269.56s remaining)\n",
      "EPOCH: 10.000  trn_loss: 0.952  trn_accuracy: 0.988  (14.08s - 267.51s remaining)\n",
      "EPOCH: 11.000  trn_loss: 0.943  trn_accuracy: 0.988  (15.40s - 264.61s remaining)\n",
      "EPOCH: 12.000  trn_loss: 0.935  trn_accuracy: 0.988  (16.76s - 262.55s remaining)\n",
      "EPOCH: 13.000  trn_loss: 0.933  trn_accuracy: 0.988  (18.12s - 260.58s remaining)\n",
      "EPOCH: 14.000  trn_loss: 0.929  trn_accuracy: 0.989  (19.50s - 259.06s remaining)\n",
      "EPOCH: 15.000  trn_loss: 0.927  trn_accuracy: 0.989  (20.93s - 258.10s remaining)\n",
      "EPOCH: 16.000  trn_loss: 0.926  trn_accuracy: 0.989  (22.31s - 256.56s remaining)\n",
      "EPOCH: 17.000  trn_loss: 0.924  trn_accuracy: 0.989  (23.80s - 256.25s remaining)\n",
      "EPOCH: 18.000  trn_loss: 0.923  trn_accuracy: 0.989  (25.18s - 254.59s remaining)\n",
      "EPOCH: 19.000  trn_loss: 0.922  trn_accuracy: 0.989  (26.60s - 253.39s remaining)\n",
      "EPOCH: 20.000  trn_loss: 0.921  trn_accuracy: 0.990  (28.21s - 253.89s remaining)\n",
      "EPOCH: 21.000  trn_loss: 0.920  trn_accuracy: 0.990  (29.81s - 254.11s remaining)\n",
      "EPOCH: 22.000  trn_loss: 0.918  trn_accuracy: 0.990  (31.29s - 253.15s remaining)\n",
      "EPOCH: 23.000  trn_loss: 0.919  trn_accuracy: 0.990  (32.92s - 253.31s remaining)\n",
      "EPOCH: 24.000  trn_loss: 0.920  trn_accuracy: 0.990  (34.49s - 252.93s remaining)\n",
      "EPOCH: 25.000  trn_loss: 0.919  trn_accuracy: 0.990  (36.19s - 253.32s remaining)\n",
      "EPOCH: 26.000  trn_loss: 0.918  trn_accuracy: 0.990  (37.70s - 252.31s remaining)\n",
      "EPOCH: 27.000  trn_loss: 0.920  trn_accuracy: 0.990  (39.21s - 251.26s remaining)\n",
      "EPOCH: 28.000  trn_loss: 0.920  trn_accuracy: 0.990  (41.00s - 251.88s remaining)\n",
      "EPOCH: 29.000  trn_loss: 0.917  trn_accuracy: 0.989  (42.69s - 251.73s remaining)\n",
      "EPOCH: 30.000  trn_loss: 0.917  trn_accuracy: 0.991  (44.15s - 250.19s remaining)\n",
      "EPOCH: 31.000  trn_loss: 0.916  trn_accuracy: 0.991  (45.78s - 249.55s remaining)\n",
      "EPOCH: 32.000  trn_loss: 0.915  trn_accuracy: 0.991  (47.21s - 247.84s remaining)\n",
      "EPOCH: 33.000  trn_loss: 0.914  trn_accuracy: 0.991  (48.84s - 247.18s remaining)\n",
      "EPOCH: 34.000  trn_loss: 0.914  trn_accuracy: 0.992  (50.58s - 246.93s remaining)\n",
      "EPOCH: 35.000  trn_loss: 0.914  trn_accuracy: 0.992  (52.25s - 246.32s remaining)\n",
      "EPOCH: 36.000  trn_loss: 0.914  trn_accuracy: 0.992  (53.97s - 245.87s remaining)\n",
      "EPOCH: 37.000  trn_loss: 0.915  trn_accuracy: 0.991  (55.72s - 245.49s remaining)\n",
      "EPOCH: 38.000  trn_loss: 0.915  trn_accuracy: 0.992  (57.53s - 245.27s remaining)\n",
      "EPOCH: 39.000  trn_loss: 0.914  trn_accuracy: 0.992  (59.32s - 244.89s remaining)\n",
      "EPOCH: 40.000  trn_loss: 0.914  trn_accuracy: 0.992  (61.18s - 244.74s remaining)\n",
      "EPOCH: 41.000  trn_loss: 0.914  trn_accuracy: 0.991  (62.95s - 244.10s remaining)\n",
      "EPOCH: 42.000  trn_loss: 0.917  trn_accuracy: 0.990  (64.72s - 243.45s remaining)\n",
      "EPOCH: 43.000  trn_loss: 0.914  trn_accuracy: 0.991  (66.67s - 243.44s remaining)\n",
      "EPOCH: 44.000  trn_loss: 0.914  trn_accuracy: 0.991  (68.52s - 242.95s remaining)\n",
      "EPOCH: 45.000  trn_loss: 0.914  trn_accuracy: 0.991  (70.32s - 242.22s remaining)\n",
      "EPOCH: 46.000  trn_loss: 0.913  trn_accuracy: 0.993  (72.02s - 241.12s remaining)\n",
      "EPOCH: 47.000  trn_loss: 0.912  trn_accuracy: 0.992  (73.83s - 240.34s remaining)\n",
      "EPOCH: 48.000  trn_loss: 0.912  trn_accuracy: 0.992  (75.44s - 238.90s remaining)\n",
      "EPOCH: 49.000  trn_loss: 0.911  trn_accuracy: 0.993  (76.98s - 237.24s remaining)\n",
      "EPOCH: 50.000  trn_loss: 0.911  trn_accuracy: 0.993  (78.56s - 235.69s remaining)\n",
      "EPOCH: 51.000  trn_loss: 0.912  trn_accuracy: 0.992  (80.35s - 234.74s remaining)\n",
      "EPOCH: 52.000  trn_loss: 0.911  trn_accuracy: 0.992  (82.04s - 233.50s remaining)\n",
      "EPOCH: 53.000  trn_loss: 0.912  trn_accuracy: 0.992  (83.71s - 232.17s remaining)\n",
      "EPOCH: 54.000  trn_loss: 0.912  trn_accuracy: 0.993  (85.55s - 231.31s remaining)\n",
      "EPOCH: 55.000  trn_loss: 0.912  trn_accuracy: 0.992  (87.26s - 230.06s remaining)\n",
      "EPOCH: 56.000  trn_loss: 0.912  trn_accuracy: 0.992  (88.81s - 228.37s remaining)\n",
      "EPOCH: 57.000  trn_loss: 0.912  trn_accuracy: 0.991  (90.37s - 226.71s remaining)\n",
      "EPOCH: 58.000  trn_loss: 0.915  trn_accuracy: 0.989  (91.87s - 224.92s remaining)\n",
      "EPOCH: 59.000  trn_loss: 0.911  trn_accuracy: 0.992  (93.61s - 223.70s remaining)\n",
      "EPOCH: 60.000  trn_loss: 0.760  trn_accuracy: 0.991  (95.53s - 222.90s remaining)\n",
      "EPOCH: 61.000  trn_loss: 0.531  trn_accuracy: 0.989  (97.10s - 221.27s remaining)\n",
      "EPOCH: 62.000  trn_loss: 0.512  trn_accuracy: 0.989  (99.00s - 220.35s remaining)\n",
      "EPOCH: 63.000  trn_loss: 0.501  trn_accuracy: 0.990  (101.58s - 220.90s remaining)\n",
      "EPOCH: 64.000  trn_loss: 0.493  trn_accuracy: 0.989  (103.72s - 220.40s remaining)\n",
      "EPOCH: 65.000  trn_loss: 0.347  trn_accuracy: 0.990  (105.72s - 219.57s remaining)\n",
      "EPOCH: 66.000  trn_loss: 0.104  trn_accuracy: 0.989  (107.78s - 218.82s remaining)\n",
      "EPOCH: 67.000  trn_loss: 0.092  trn_accuracy: 0.989  (109.87s - 218.11s remaining)\n",
      "EPOCH: 68.000  trn_loss: 0.078  trn_accuracy: 0.990  (111.77s - 216.96s remaining)\n",
      "EPOCH: 69.000  trn_loss: 0.077  trn_accuracy: 0.990  (113.79s - 216.03s remaining)\n",
      "EPOCH: 70.000  trn_loss: 0.072  trn_accuracy: 0.991  (115.61s - 214.70s remaining)\n",
      "EPOCH: 71.000  trn_loss: 0.077  trn_accuracy: 0.991  (117.43s - 213.35s remaining)\n",
      "EPOCH: 72.000  trn_loss: 0.066  trn_accuracy: 0.991  (119.24s - 211.98s remaining)\n",
      "EPOCH: 73.000  trn_loss: 0.064  trn_accuracy: 0.992  (121.08s - 210.65s remaining)\n",
      "EPOCH: 74.000  trn_loss: 0.085  trn_accuracy: 0.990  (123.12s - 209.63s remaining)\n",
      "EPOCH: 75.000  trn_loss: 0.082  trn_accuracy: 0.990  (125.14s - 208.57s remaining)\n",
      "EPOCH: 76.000  trn_loss: 0.070  trn_accuracy: 0.990  (127.20s - 207.54s remaining)\n",
      "EPOCH: 77.000  trn_loss: 0.078  trn_accuracy: 0.990  (129.23s - 206.44s remaining)\n",
      "EPOCH: 78.000  trn_loss: 0.080  trn_accuracy: 0.991  (131.25s - 205.29s remaining)\n",
      "EPOCH: 79.000  trn_loss: 0.072  trn_accuracy: 0.990  (133.33s - 204.22s remaining)\n",
      "EPOCH: 80.000  trn_loss: 0.068  trn_accuracy: 0.991  (135.15s - 202.73s remaining)\n",
      "EPOCH: 81.000  trn_loss: 0.058  trn_accuracy: 0.992  (137.12s - 201.44s remaining)\n",
      "EPOCH: 82.000  trn_loss: 0.066  trn_accuracy: 0.991  (138.92s - 199.91s remaining)\n",
      "EPOCH: 83.000  trn_loss: 0.057  trn_accuracy: 0.992  (140.75s - 198.41s remaining)\n",
      "EPOCH: 84.000  trn_loss: 0.065  trn_accuracy: 0.991  (142.62s - 196.95s remaining)\n",
      "EPOCH: 85.000  trn_loss: 0.060  trn_accuracy: 0.992  (144.40s - 195.37s remaining)\n",
      "EPOCH: 86.000  trn_loss: 0.061  trn_accuracy: 0.992  (145.98s - 193.51s remaining)\n",
      "EPOCH: 87.000  trn_loss: 0.052  trn_accuracy: 0.992  (147.65s - 191.77s remaining)\n",
      "EPOCH: 88.000  trn_loss: 0.064  trn_accuracy: 0.993  (149.50s - 190.27s remaining)\n",
      "EPOCH: 89.000  trn_loss: 0.054  trn_accuracy: 0.992  (151.48s - 188.92s remaining)\n",
      "EPOCH: 90.000  trn_loss: 0.058  trn_accuracy: 0.992  (153.48s - 187.59s remaining)\n",
      "EPOCH: 91.000  trn_loss: 0.054  trn_accuracy: 0.992  (155.57s - 186.35s remaining)\n",
      "EPOCH: 92.000  trn_loss: 0.053  trn_accuracy: 0.992  (157.69s - 185.11s remaining)\n",
      "EPOCH: 93.000  trn_loss: 0.059  trn_accuracy: 0.992  (159.89s - 183.96s remaining)\n",
      "EPOCH: 94.000  trn_loss: 0.069  trn_accuracy: 0.991  (162.00s - 182.68s remaining)\n",
      "EPOCH: 95.000  trn_loss: 0.058  trn_accuracy: 0.992  (163.86s - 181.11s remaining)\n",
      "EPOCH: 96.000  trn_loss: 0.055  trn_accuracy: 0.992  (165.70s - 179.51s remaining)\n",
      "EPOCH: 97.000  trn_loss: 0.052  trn_accuracy: 0.993  (167.60s - 177.97s remaining)\n",
      "EPOCH: 98.000  trn_loss: 0.057  trn_accuracy: 0.993  (169.47s - 176.39s remaining)\n",
      "EPOCH: 99.000  trn_loss: 0.049  trn_accuracy: 0.993  (171.36s - 174.82s remaining)\n",
      "EPOCH: 100.000  trn_loss: 0.050  trn_accuracy: 0.993  (173.26s - 173.26s remaining)\n",
      "EPOCH: 101.000  trn_loss: 0.053  trn_accuracy: 0.993  (174.97s - 171.51s remaining)\n",
      "EPOCH: 102.000  trn_loss: 0.051  trn_accuracy: 0.992  (176.94s - 170.00s remaining)\n",
      "EPOCH: 103.000  trn_loss: 0.049  trn_accuracy: 0.992  (178.98s - 168.56s remaining)\n",
      "EPOCH: 104.000  trn_loss: 0.051  trn_accuracy: 0.993  (181.36s - 167.40s remaining)\n",
      "EPOCH: 105.000  trn_loss: 0.058  trn_accuracy: 0.991  (183.44s - 165.97s remaining)\n",
      "EPOCH: 106.000  trn_loss: 0.053  trn_accuracy: 0.992  (185.46s - 164.46s remaining)\n",
      "EPOCH: 107.000  trn_loss: 0.045  trn_accuracy: 0.993  (187.49s - 162.96s remaining)\n",
      "EPOCH: 108.000  trn_loss: 0.045  trn_accuracy: 0.993  (189.78s - 161.67s remaining)\n",
      "EPOCH: 109.000  trn_loss: 0.051  trn_accuracy: 0.993  (191.71s - 160.05s remaining)\n",
      "EPOCH: 110.000  trn_loss: 0.047  trn_accuracy: 0.993  (194.39s - 159.04s remaining)\n",
      "EPOCH: 111.000  trn_loss: 0.047  trn_accuracy: 0.993  (196.65s - 157.67s remaining)\n",
      "EPOCH: 112.000  trn_loss: 0.045  trn_accuracy: 0.994  (198.36s - 155.85s remaining)\n",
      "EPOCH: 113.000  trn_loss: 0.043  trn_accuracy: 0.994  (200.05s - 154.02s remaining)\n",
      "EPOCH: 114.000  trn_loss: 0.042  trn_accuracy: 0.994  (202.24s - 152.57s remaining)\n",
      "EPOCH: 115.000  trn_loss: 0.043  trn_accuracy: 0.994  (204.46s - 151.13s remaining)\n",
      "EPOCH: 116.000  trn_loss: 0.044  trn_accuracy: 0.993  (206.43s - 149.48s remaining)\n",
      "EPOCH: 117.000  trn_loss: 0.042  trn_accuracy: 0.994  (208.08s - 147.62s remaining)\n",
      "EPOCH: 118.000  trn_loss: 0.040  trn_accuracy: 0.994  (210.09s - 146.00s remaining)\n",
      "EPOCH: 119.000  trn_loss: 0.043  trn_accuracy: 0.994  (212.09s - 144.36s remaining)\n",
      "EPOCH: 120.000  trn_loss: 0.041  trn_accuracy: 0.994  (214.10s - 142.73s remaining)\n",
      "EPOCH: 121.000  trn_loss: 0.049  trn_accuracy: 0.994  (216.00s - 141.03s remaining)\n",
      "EPOCH: 122.000  trn_loss: 0.045  trn_accuracy: 0.994  (217.50s - 139.06s remaining)\n",
      "EPOCH: 123.000  trn_loss: 0.044  trn_accuracy: 0.994  (219.15s - 137.19s remaining)\n",
      "EPOCH: 124.000  trn_loss: 0.039  trn_accuracy: 0.994  (221.22s - 135.59s remaining)\n",
      "EPOCH: 125.000  trn_loss: 0.042  trn_accuracy: 0.995  (223.37s - 134.02s remaining)\n",
      "EPOCH: 126.000  trn_loss: 0.042  trn_accuracy: 0.995  (225.35s - 132.35s remaining)\n",
      "EPOCH: 127.000  trn_loss: 0.043  trn_accuracy: 0.995  (226.80s - 130.36s remaining)\n",
      "EPOCH: 128.000  trn_loss: 0.043  trn_accuracy: 0.995  (228.70s - 128.64s remaining)\n",
      "EPOCH: 129.000  trn_loss: 0.057  trn_accuracy: 0.993  (230.53s - 126.88s remaining)\n",
      "EPOCH: 130.000  trn_loss: 0.045  trn_accuracy: 0.995  (232.42s - 125.15s remaining)\n",
      "EPOCH: 131.000  trn_loss: 0.047  trn_accuracy: 0.994  (234.18s - 123.35s remaining)\n",
      "EPOCH: 132.000  trn_loss: 0.038  trn_accuracy: 0.995  (235.90s - 121.52s remaining)\n",
      "EPOCH: 133.000  trn_loss: 0.042  trn_accuracy: 0.995  (237.76s - 119.77s remaining)\n",
      "EPOCH: 134.000  trn_loss: 0.045  trn_accuracy: 0.995  (239.37s - 117.90s remaining)\n",
      "EPOCH: 135.000  trn_loss: 0.038  trn_accuracy: 0.995  (241.08s - 116.08s remaining)\n",
      "EPOCH: 136.000  trn_loss: 0.055  trn_accuracy: 0.994  (242.76s - 114.24s remaining)\n",
      "EPOCH: 137.000  trn_loss: 0.045  trn_accuracy: 0.994  (244.50s - 112.43s remaining)\n",
      "EPOCH: 138.000  trn_loss: 0.043  trn_accuracy: 0.995  (246.69s - 110.83s remaining)\n",
      "EPOCH: 139.000  trn_loss: 0.044  trn_accuracy: 0.995  (248.66s - 109.12s remaining)\n",
      "EPOCH: 140.000  trn_loss: 0.040  trn_accuracy: 0.995  (250.83s - 107.50s remaining)\n",
      "EPOCH: 141.000  trn_loss: 0.037  trn_accuracy: 0.995  (252.70s - 105.74s remaining)\n",
      "EPOCH: 142.000  trn_loss: 0.041  trn_accuracy: 0.995  (254.42s - 103.92s remaining)\n",
      "EPOCH: 143.000  trn_loss: 0.048  trn_accuracy: 0.995  (256.30s - 102.16s remaining)\n",
      "EPOCH: 144.000  trn_loss: 0.038  trn_accuracy: 0.996  (258.09s - 100.37s remaining)\n",
      "EPOCH: 145.000  trn_loss: 0.043  trn_accuracy: 0.995  (259.57s - 98.46s remaining)\n",
      "EPOCH: 146.000  trn_loss: 0.046  trn_accuracy: 0.995  (261.20s - 96.61s remaining)\n",
      "EPOCH: 147.000  trn_loss: 0.039  trn_accuracy: 0.995  (263.01s - 94.83s remaining)\n",
      "EPOCH: 148.000  trn_loss: 0.041  trn_accuracy: 0.995  (264.46s - 92.92s remaining)\n",
      "EPOCH: 149.000  trn_loss: 0.038  trn_accuracy: 0.995  (266.12s - 91.09s remaining)\n",
      "EPOCH: 150.000  trn_loss: 0.036  trn_accuracy: 0.996  (267.92s - 89.31s remaining)\n",
      "EPOCH: 151.000  trn_loss: 0.039  trn_accuracy: 0.995  (269.78s - 87.54s remaining)\n",
      "EPOCH: 152.000  trn_loss: 0.038  trn_accuracy: 0.996  (271.63s - 85.78s remaining)\n",
      "EPOCH: 153.000  trn_loss: 0.060  trn_accuracy: 0.992  (273.35s - 83.97s remaining)\n",
      "EPOCH: 154.000  trn_loss: 0.049  trn_accuracy: 0.994  (275.14s - 82.19s remaining)\n",
      "EPOCH: 155.000  trn_loss: 0.040  trn_accuracy: 0.995  (276.73s - 80.34s remaining)\n",
      "EPOCH: 156.000  trn_loss: 0.035  trn_accuracy: 0.996  (278.16s - 78.46s remaining)\n",
      "EPOCH: 157.000  trn_loss: 0.038  trn_accuracy: 0.996  (279.66s - 76.60s remaining)\n",
      "EPOCH: 158.000  trn_loss: 0.034  trn_accuracy: 0.996  (281.13s - 74.73s remaining)\n",
      "EPOCH: 159.000  trn_loss: 0.036  trn_accuracy: 0.996  (282.93s - 72.96s remaining)\n",
      "EPOCH: 160.000  trn_loss: 0.034  trn_accuracy: 0.996  (284.96s - 71.24s remaining)\n",
      "EPOCH: 161.000  trn_loss: 0.038  trn_accuracy: 0.995  (286.66s - 69.44s remaining)\n",
      "EPOCH: 162.000  trn_loss: 0.038  trn_accuracy: 0.996  (288.24s - 67.61s remaining)\n",
      "EPOCH: 163.000  trn_loss: 0.036  trn_accuracy: 0.996  (290.24s - 65.88s remaining)\n",
      "EPOCH: 164.000  trn_loss: 0.036  trn_accuracy: 0.996  (291.71s - 64.03s remaining)\n",
      "EPOCH: 165.000  trn_loss: 0.033  trn_accuracy: 0.996  (293.38s - 62.23s remaining)\n",
      "EPOCH: 166.000  trn_loss: 0.036  trn_accuracy: 0.996  (295.18s - 60.46s remaining)\n",
      "EPOCH: 167.000  trn_loss: 0.032  trn_accuracy: 0.996  (296.82s - 58.65s remaining)\n",
      "EPOCH: 168.000  trn_loss: 0.035  trn_accuracy: 0.996  (298.28s - 56.81s remaining)\n",
      "EPOCH: 169.000  trn_loss: 0.041  trn_accuracy: 0.995  (299.88s - 55.01s remaining)\n",
      "EPOCH: 170.000  trn_loss: 0.039  trn_accuracy: 0.996  (301.50s - 53.21s remaining)\n",
      "EPOCH: 171.000  trn_loss: 0.034  trn_accuracy: 0.996  (303.46s - 51.46s remaining)\n",
      "EPOCH: 172.000  trn_loss: 0.036  trn_accuracy: 0.996  (305.11s - 49.67s remaining)\n",
      "EPOCH: 173.000  trn_loss: 0.033  trn_accuracy: 0.996  (306.71s - 47.87s remaining)\n",
      "EPOCH: 174.000  trn_loss: 0.038  trn_accuracy: 0.995  (308.43s - 46.09s remaining)\n",
      "EPOCH: 175.000  trn_loss: 0.047  trn_accuracy: 0.995  (310.02s - 44.29s remaining)\n",
      "EPOCH: 176.000  trn_loss: 0.045  trn_accuracy: 0.995  (312.20s - 42.57s remaining)\n",
      "EPOCH: 177.000  trn_loss: 0.037  trn_accuracy: 0.995  (314.16s - 40.82s remaining)\n",
      "EPOCH: 178.000  trn_loss: 0.036  trn_accuracy: 0.996  (316.03s - 39.06s remaining)\n",
      "EPOCH: 179.000  trn_loss: 0.038  trn_accuracy: 0.996  (318.08s - 37.32s remaining)\n",
      "EPOCH: 180.000  trn_loss: 0.037  trn_accuracy: 0.996  (319.71s - 35.52s remaining)\n",
      "EPOCH: 181.000  trn_loss: 0.041  trn_accuracy: 0.995  (321.37s - 33.74s remaining)\n",
      "EPOCH: 182.000  trn_loss: 0.033  trn_accuracy: 0.996  (322.98s - 31.94s remaining)\n",
      "EPOCH: 183.000  trn_loss: 0.034  trn_accuracy: 0.996  (324.49s - 30.14s remaining)\n",
      "EPOCH: 184.000  trn_loss: 0.029  trn_accuracy: 0.997  (326.02s - 28.35s remaining)\n",
      "EPOCH: 185.000  trn_loss: 0.030  trn_accuracy: 0.996  (327.58s - 26.56s remaining)\n",
      "EPOCH: 186.000  trn_loss: 0.035  trn_accuracy: 0.996  (329.13s - 24.77s remaining)\n",
      "EPOCH: 187.000  trn_loss: 0.037  trn_accuracy: 0.996  (331.03s - 23.01s remaining)\n",
      "EPOCH: 188.000  trn_loss: 0.032  trn_accuracy: 0.996  (333.15s - 21.27s remaining)\n",
      "EPOCH: 189.000  trn_loss: 0.033  trn_accuracy: 0.996  (334.89s - 19.49s remaining)\n",
      "EPOCH: 190.000  trn_loss: 0.031  trn_accuracy: 0.997  (336.51s - 17.71s remaining)\n",
      "EPOCH: 191.000  trn_loss: 0.032  trn_accuracy: 0.996  (338.09s - 15.93s remaining)\n",
      "EPOCH: 192.000  trn_loss: 0.035  trn_accuracy: 0.996  (339.74s - 14.16s remaining)\n",
      "EPOCH: 193.000  trn_loss: 0.029  trn_accuracy: 0.996  (341.39s - 12.38s remaining)\n",
      "EPOCH: 194.000  trn_loss: 0.029  trn_accuracy: 0.997  (342.88s - 10.60s remaining)\n",
      "EPOCH: 195.000  trn_loss: 0.032  trn_accuracy: 0.996  (344.35s - 8.83s remaining)\n",
      "EPOCH: 196.000  trn_loss: 0.027  trn_accuracy: 0.997  (345.74s - 7.06s remaining)\n",
      "EPOCH: 197.000  trn_loss: 0.027  trn_accuracy: 0.997  (347.27s - 5.29s remaining)\n",
      "EPOCH: 198.000  trn_loss: 0.029  trn_accuracy: 0.996  (349.07s - 3.53s remaining)\n",
      "EPOCH: 199.000  trn_loss: 0.028  trn_accuracy: 0.997  (350.92s - 1.76s remaining)\n",
      "EPOCH: 200.000  trn_loss: 0.028  trn_accuracy: 0.997  (352.49s - 0.00s remaining)\n",
      "[INFO] Saving activations!\n"
     ]
    },
    {
     "name": "stderr",
     "output_type": "stream",
     "text": [
      "100%|██████████| 76/76 [00:24<00:00,  3.05it/s]\n",
      "100%|██████████| 301/301 [00:00<00:00, 46370.58it/s]\n",
      "100%|██████████| 301/301 [00:00<00:00, 43577.56it/s]\n"
     ]
    },
    {
     "data": {
      "image/png": "[encoded data removed]",
      "text/plain": [
       "<Figure size 800x600 with 1 Axes>"
      ]
     },
     "metadata": {},
     "output_type": "display_data"
    },
    {
     "data": {
      "image/png": "[encoded data removed]",
      "text/plain": [
       "<Figure size 800x600 with 1 Axes>"
      ]
     },
     "metadata": {},
     "output_type": "display_data"
    }
   ],
   "source": [
    "train_loop(\n",
    "    epochs=200,\n",
    "    model=unet,\n",
    "    dataloader=train_dataloader,\n",
    "    lr=1e-3,\n",
    "    loss_function=loss_fuctions[\"dice\"],\n",
    "    weights=[1, 1], # Classes weights (Background and Foreground)\n",
    "    freeze_encoder=True,\n",
    "    use_lr_scheduler=False\n",
    ")"
   ]
  },
  {
   "cell_type": "markdown",
   "metadata": {},
   "source": [
    "Now, we run our testing method (`predict_and_evaluate`) for the trained model, using the training and testing data."
   ]
  },
  {
   "cell_type": "code",
   "execution_count": 23,
   "metadata": {
    "tags": []
   },
   "outputs": [
    {
     "name": "stdout",
     "output_type": "stream",
     "text": [
      "[INFO] Training Metrics\n"
     ]
    },
    {
     "name": "stderr",
     "output_type": "stream",
     "text": [
      "76it [00:02, 33.32it/s]"
     ]
    },
    {
     "name": "stdout",
     "output_type": "stream",
     "text": [
      "[INFO] Avg Accuracy: 0.9969951510429382 +/- 0.005055216606706381\n",
      "[INFO] Avg Dice: 0.8796452365184078 +/- 0.26024825302256366\n",
      "[INFO] Avg IoU: 0.8457958637981823 +/- 0.26427977754432813\n"
     ]
    },
    {
     "name": "stderr",
     "output_type": "stream",
     "text": [
      "\n"
     ]
    }
   ],
   "source": [
    "print(\"[INFO] Training Metrics\")\n",
    "predict_and_evaluate(model=unet, data_loader=train_dataloader)"
   ]
  },
  {
   "cell_type": "code",
   "execution_count": 24,
   "metadata": {
    "tags": []
   },
   "outputs": [
    {
     "name": "stdout",
     "output_type": "stream",
     "text": [
      "[INFO] Test Metrics\n"
     ]
    },
    {
     "name": "stderr",
     "output_type": "stream",
     "text": [
      "20it [00:00, 30.96it/s]"
     ]
    },
    {
     "name": "stdout",
     "output_type": "stream",
     "text": [
      "[INFO] Avg Accuracy: 0.9933193325996399 +/- 0.006627165712416172\n",
      "[INFO] Avg Dice: 0.5252880084300825 +/- 0.3991225710951459\n",
      "[INFO] Avg IoU: 0.4595237299799919 +/- 0.3876603500319952\n"
     ]
    },
    {
     "name": "stderr",
     "output_type": "stream",
     "text": [
      "\n"
     ]
    }
   ],
   "source": [
    "print(\"[INFO] Test Metrics\")\n",
    "predict_and_evaluate(model=unet, data_loader=test_dataloader)"
   ]
  },
  {
   "cell_type": "markdown",
   "metadata": {},
   "source": [
    "____"
   ]
  },
  {
   "cell_type": "markdown",
   "metadata": {},
   "source": [
    "Now, we define a new model and also load FLIM weights."
   ]
  },
  {
   "cell_type": "code",
   "execution_count": 25,
   "metadata": {
    "tags": []
   },
   "outputs": [
    {
     "name": "stdout",
     "output_type": "stream",
     "text": [
      "[INFO] Loading FLIM Encoder\n",
      "[INFO] Loading Layer 1 weights\n",
      "[INFO] Loading Layer 2 weights\n"
     ]
    }
   ],
   "source": [
    "unet = UNet(\n",
    "    in_channels=3,\n",
    "    n_kernels=[\n",
    "        arch_description[\"layer1\"][\"conv\"][\"noutput_channels\"],\n",
    "        arch_description[\"layer2\"][\"conv\"][\"noutput_channels\"],\n",
    "    ],\n",
    "    kernel_sizes=[\n",
    "        arch_description[\"layer1\"][\"conv\"][\"kernel_size\"][0],\n",
    "        arch_description[\"layer2\"][\"conv\"][\"kernel_size\"][0], \n",
    "    ],\n",
    "    bottleneck_size=3,\n",
    "    activations_path=DATA_PATH / Path(\"exper/FLIM_ENC_lr_scheduler\")\n",
    ").to(DEVICE)\n",
    "\n",
    "load_FLIM_encoder(\n",
    "    model=unet,\n",
    "    arch_json=ARCH_JSON,\n",
    "    weights_path=WEIGHTS_PATH,\n",
    "    channels=[\n",
    "        3,\n",
    "        arch_description[\"layer1\"][\"conv\"][\"noutput_channels\"],\n",
    "        arch_description[\"layer2\"][\"conv\"][\"noutput_channels\"],\n",
    "    ] # [Input Channels, Kernels Layer 1, Kernels Layer 2, ....]\n",
    ")"
   ]
  },
  {
   "cell_type": "markdown",
   "metadata": {},
   "source": [
    "However, now, instead of not updating encoder Weights, we will use a learning rate scheduler to update its parameters."
   ]
  },
  {
   "cell_type": "code",
   "execution_count": 26,
   "metadata": {
    "tags": []
   },
   "outputs": [
    {
     "name": "stdout",
     "output_type": "stream",
     "text": [
      "EPOCH: 1.000  trn_loss: 1.289  trn_accuracy: 0.435  (2.24s - 446.54s remaining)\n",
      "EPOCH: 2.000  trn_loss: 1.270  trn_accuracy: 0.480  (4.02s - 398.08s remaining)\n",
      "EPOCH: 3.000  trn_loss: 1.254  trn_accuracy: 0.546  (6.11s - 401.04s remaining)\n",
      "EPOCH: 4.000  trn_loss: 1.239  trn_accuracy: 0.606  (8.47s - 414.95s remaining)\n",
      "EPOCH: 5.000  trn_loss: 1.224  trn_accuracy: 0.660  (10.41s - 405.96s remaining)\n",
      "EPOCH: 6.000  trn_loss: 1.208  trn_accuracy: 0.709  (12.40s - 400.90s remaining)\n",
      "EPOCH: 7.000  trn_loss: 1.191  trn_accuracy: 0.760  (14.63s - 403.45s remaining)\n",
      "EPOCH: 8.000  trn_loss: 1.174  trn_accuracy: 0.819  (16.73s - 401.55s remaining)\n",
      "EPOCH: 9.000  trn_loss: 1.156  trn_accuracy: 0.858  (18.63s - 395.35s remaining)\n",
      "EPOCH: 10.000  trn_loss: 1.139  trn_accuracy: 0.880  (20.85s - 396.15s remaining)\n",
      "EPOCH: 11.000  trn_loss: 1.121  trn_accuracy: 0.892  (22.82s - 392.07s remaining)\n",
      "EPOCH: 12.000  trn_loss: 1.105  trn_accuracy: 0.946  (24.73s - 387.46s remaining)\n",
      "EPOCH: 13.000  trn_loss: 1.088  trn_accuracy: 0.982  (26.83s - 385.99s remaining)\n",
      "EPOCH: 14.000  trn_loss: 1.072  trn_accuracy: 0.985  (28.84s - 383.14s remaining)\n",
      "EPOCH: 15.000  trn_loss: 1.058  trn_accuracy: 0.987  (30.90s - 381.06s remaining)\n",
      "EPOCH: 16.000  trn_loss: 1.045  trn_accuracy: 0.988  (33.11s - 380.75s remaining)\n",
      "EPOCH: 17.000  trn_loss: 1.031  trn_accuracy: 0.990  (35.43s - 381.40s remaining)\n",
      "EPOCH: 18.000  trn_loss: 1.021  trn_accuracy: 0.990  (37.63s - 380.44s remaining)\n",
      "EPOCH: 19.000  trn_loss: 1.011  trn_accuracy: 0.989  (39.84s - 379.53s remaining)\n",
      "EPOCH: 20.000  trn_loss: 1.002  trn_accuracy: 0.989  (42.04s - 378.39s remaining)\n",
      "EPOCH: 21.000  trn_loss: 0.995  trn_accuracy: 0.988  (44.24s - 377.13s remaining)\n",
      "EPOCH: 22.000  trn_loss: 0.986  trn_accuracy: 0.988  (46.44s - 375.72s remaining)\n",
      "EPOCH: 23.000  trn_loss: 0.978  trn_accuracy: 0.988  (48.62s - 374.20s remaining)\n",
      "EPOCH: 24.000  trn_loss: 0.970  trn_accuracy: 0.988  (50.81s - 372.60s remaining)\n",
      "EPOCH: 25.000  trn_loss: 0.962  trn_accuracy: 0.988  (52.95s - 370.67s remaining)\n",
      "EPOCH: 26.000  trn_loss: 0.954  trn_accuracy: 0.988  (55.01s - 368.15s remaining)\n",
      "EPOCH: 27.000  trn_loss: 0.948  trn_accuracy: 0.988  (57.03s - 365.41s remaining)\n",
      "EPOCH: 28.000  trn_loss: 0.942  trn_accuracy: 0.988  (59.22s - 363.75s remaining)\n",
      "EPOCH: 29.000  trn_loss: 0.937  trn_accuracy: 0.990  (61.30s - 361.48s remaining)\n",
      "EPOCH: 30.000  trn_loss: 0.938  trn_accuracy: 0.990  (63.69s - 360.93s remaining)\n",
      "EPOCH: 31.000  trn_loss: 0.933  trn_accuracy: 0.990  (66.12s - 360.47s remaining)\n",
      "EPOCH: 32.000  trn_loss: 0.929  trn_accuracy: 0.990  (68.42s - 359.19s remaining)\n",
      "EPOCH: 33.000  trn_loss: 0.926  trn_accuracy: 0.991  (70.85s - 358.53s remaining)\n",
      "EPOCH: 34.000  trn_loss: 0.924  trn_accuracy: 0.991  (73.03s - 356.57s remaining)\n",
      "EPOCH: 35.000  trn_loss: 0.925  trn_accuracy: 0.991  (75.05s - 353.79s remaining)\n",
      "EPOCH: 36.000  trn_loss: 0.923  trn_accuracy: 0.991  (77.14s - 351.40s remaining)\n",
      "EPOCH: 37.000  trn_loss: 0.921  trn_accuracy: 0.991  (78.79s - 347.09s remaining)\n",
      "EPOCH: 38.000  trn_loss: 0.920  trn_accuracy: 0.991  (80.52s - 343.27s remaining)\n",
      "EPOCH: 39.000  trn_loss: 0.919  trn_accuracy: 0.991  (82.66s - 341.22s remaining)\n",
      "EPOCH: 40.000  trn_loss: 0.920  trn_accuracy: 0.990  (84.83s - 339.31s remaining)\n",
      "EPOCH: 41.000  trn_loss: 0.919  trn_accuracy: 0.991  (86.93s - 337.14s remaining)\n",
      "EPOCH: 42.000  trn_loss: 0.917  trn_accuracy: 0.991  (89.06s - 335.04s remaining)\n",
      "EPOCH: 43.000  trn_loss: 0.917  trn_accuracy: 0.991  (91.31s - 333.38s remaining)\n",
      "EPOCH: 44.000  trn_loss: 0.917  trn_accuracy: 0.991  (93.45s - 331.32s remaining)\n",
      "EPOCH: 45.000  trn_loss: 0.916  trn_accuracy: 0.991  (95.70s - 329.62s remaining)\n",
      "EPOCH: 46.000  trn_loss: 0.916  trn_accuracy: 0.991  (97.91s - 327.79s remaining)\n",
      "EPOCH: 47.000  trn_loss: 0.915  trn_accuracy: 0.991  (100.01s - 325.57s remaining)\n",
      "EPOCH: 48.000  trn_loss: 0.915  trn_accuracy: 0.991  (102.12s - 323.39s remaining)\n",
      "EPOCH: 49.000  trn_loss: 0.914  trn_accuracy: 0.991  (104.22s - 321.16s remaining)\n",
      "EPOCH: 50.000  trn_loss: 0.914  trn_accuracy: 0.991  (106.33s - 318.98s remaining)\n",
      "EPOCH: 51.000  trn_loss: 0.914  trn_accuracy: 0.991  (108.74s - 317.68s remaining)\n",
      "EPOCH: 52.000  trn_loss: 0.919  trn_accuracy: 0.988  (111.17s - 316.41s remaining)\n",
      "EPOCH: 53.000  trn_loss: 0.918  trn_accuracy: 0.990  (113.35s - 314.38s remaining)\n",
      "EPOCH: 54.000  trn_loss: 0.915  trn_accuracy: 0.991  (115.45s - 312.13s remaining)\n",
      "EPOCH: 55.000  trn_loss: 0.913  trn_accuracy: 0.991  (117.56s - 309.94s remaining)\n",
      "EPOCH: 56.000  trn_loss: 0.914  trn_accuracy: 0.991  (119.66s - 307.70s remaining)\n",
      "EPOCH: 57.000  trn_loss: 0.914  trn_accuracy: 0.991  (121.87s - 305.74s remaining)\n",
      "EPOCH: 58.000  trn_loss: 0.913  trn_accuracy: 0.991  (123.67s - 302.78s remaining)\n",
      "EPOCH: 59.000  trn_loss: 0.912  trn_accuracy: 0.992  (125.52s - 299.98s remaining)\n",
      "EPOCH: 60.000  trn_loss: 0.912  trn_accuracy: 0.991  (127.58s - 297.69s remaining)\n",
      "EPOCH: 61.000  trn_loss: 0.911  trn_accuracy: 0.991  (129.73s - 295.61s remaining)\n",
      "EPOCH: 62.000  trn_loss: 0.911  trn_accuracy: 0.991  (131.76s - 293.26s remaining)\n",
      "EPOCH: 63.000  trn_loss: 0.911  trn_accuracy: 0.992  (133.80s - 290.96s remaining)\n",
      "EPOCH: 64.000  trn_loss: 0.911  trn_accuracy: 0.991  (135.69s - 288.34s remaining)\n",
      "EPOCH: 65.000  trn_loss: 0.910  trn_accuracy: 0.991  (137.70s - 286.00s remaining)\n",
      "EPOCH: 66.000  trn_loss: 0.910  trn_accuracy: 0.991  (139.79s - 283.81s remaining)\n",
      "EPOCH: 67.000  trn_loss: 0.910  trn_accuracy: 0.992  (141.91s - 281.70s remaining)\n",
      "EPOCH: 68.000  trn_loss: 0.910  trn_accuracy: 0.991  (144.04s - 279.60s remaining)\n",
      "EPOCH: 69.000  trn_loss: 0.910  trn_accuracy: 0.991  (146.27s - 277.69s remaining)\n",
      "EPOCH: 70.000  trn_loss: 0.910  trn_accuracy: 0.992  (148.72s - 276.19s remaining)\n",
      "EPOCH: 71.000  trn_loss: 0.910  trn_accuracy: 0.992  (150.80s - 273.99s remaining)\n",
      "EPOCH: 72.000  trn_loss: 0.910  trn_accuracy: 0.991  (153.10s - 272.18s remaining)\n",
      "EPOCH: 73.000  trn_loss: 0.910  trn_accuracy: 0.992  (155.79s - 271.03s remaining)\n",
      "EPOCH: 74.000  trn_loss: 0.910  trn_accuracy: 0.991  (157.98s - 268.99s remaining)\n",
      "EPOCH: 75.000  trn_loss: 0.910  trn_accuracy: 0.992  (160.14s - 266.89s remaining)\n",
      "EPOCH: 76.000  trn_loss: 0.910  trn_accuracy: 0.992  (162.21s - 264.65s remaining)\n",
      "EPOCH: 77.000  trn_loss: 0.909  trn_accuracy: 0.992  (164.44s - 262.67s remaining)\n",
      "EPOCH: 78.000  trn_loss: 0.909  trn_accuracy: 0.992  (166.86s - 260.99s remaining)\n",
      "EPOCH: 79.000  trn_loss: 0.909  trn_accuracy: 0.992  (169.26s - 259.25s remaining)\n",
      "EPOCH: 80.000  trn_loss: 0.909  trn_accuracy: 0.992  (172.12s - 258.18s remaining)\n",
      "EPOCH: 81.000  trn_loss: 0.910  trn_accuracy: 0.991  (174.56s - 256.46s remaining)\n",
      "EPOCH: 82.000  trn_loss: 0.911  trn_accuracy: 0.992  (176.61s - 254.15s remaining)\n",
      "EPOCH: 83.000  trn_loss: 0.912  trn_accuracy: 0.991  (178.69s - 251.89s remaining)\n",
      "EPOCH: 84.000  trn_loss: 0.913  trn_accuracy: 0.991  (180.75s - 249.61s remaining)\n",
      "EPOCH: 85.000  trn_loss: 0.916  trn_accuracy: 0.985  (182.82s - 247.35s remaining)\n",
      "EPOCH: 86.000  trn_loss: 0.565  trn_accuracy: 0.973  (184.88s - 245.07s remaining)\n",
      "EPOCH: 87.000  trn_loss: 0.232  trn_accuracy: 0.989  (186.94s - 242.81s remaining)\n",
      "EPOCH: 88.000  trn_loss: 0.174  trn_accuracy: 0.990  (189.03s - 240.59s remaining)\n",
      "EPOCH: 89.000  trn_loss: 0.136  trn_accuracy: 0.989  (191.18s - 238.44s remaining)\n",
      "EPOCH: 90.000  trn_loss: 0.079  trn_accuracy: 0.989  (192.84s - 235.69s remaining)\n",
      "EPOCH: 91.000  trn_loss: 0.072  trn_accuracy: 0.990  (194.42s - 232.88s remaining)\n",
      "EPOCH: 92.000  trn_loss: 0.068  trn_accuracy: 0.990  (196.76s - 230.97s remaining)\n",
      "EPOCH: 93.000  trn_loss: 0.064  trn_accuracy: 0.990  (198.83s - 228.77s remaining)\n",
      "EPOCH: 94.000  trn_loss: 0.061  trn_accuracy: 0.991  (201.00s - 226.66s remaining)\n",
      "EPOCH: 95.000  trn_loss: 0.074  trn_accuracy: 0.991  (203.34s - 224.74s remaining)\n",
      "EPOCH: 96.000  trn_loss: 0.065  trn_accuracy: 0.991  (205.23s - 222.34s remaining)\n",
      "EPOCH: 97.000  trn_loss: 0.061  trn_accuracy: 0.991  (206.92s - 219.72s remaining)\n",
      "EPOCH: 98.000  trn_loss: 0.064  trn_accuracy: 0.991  (209.76s - 218.32s remaining)\n",
      "EPOCH: 99.000  trn_loss: 0.066  trn_accuracy: 0.991  (212.41s - 216.70s remaining)\n",
      "EPOCH: 100.000  trn_loss: 0.074  trn_accuracy: 0.990  (214.51s - 214.51s remaining)\n",
      "EPOCH: 101.000  trn_loss: 0.066  trn_accuracy: 0.991  (216.32s - 212.03s remaining)\n",
      "EPOCH: 102.000  trn_loss: 0.066  trn_accuracy: 0.991  (218.01s - 209.46s remaining)\n",
      "EPOCH: 103.000  trn_loss: 0.065  trn_accuracy: 0.991  (219.71s - 206.92s remaining)\n",
      "EPOCH: 104.000  trn_loss: 0.059  trn_accuracy: 0.992  (221.30s - 204.28s remaining)\n",
      "EPOCH: 105.000  trn_loss: 0.061  trn_accuracy: 0.992  (222.87s - 201.64s remaining)\n",
      "EPOCH: 106.000  trn_loss: 0.054  trn_accuracy: 0.993  (224.73s - 199.29s remaining)\n",
      "EPOCH: 107.000  trn_loss: 0.055  trn_accuracy: 0.993  (226.90s - 197.21s remaining)\n",
      "EPOCH: 108.000  trn_loss: 0.054  trn_accuracy: 0.993  (229.06s - 195.13s remaining)\n",
      "EPOCH: 109.000  trn_loss: 0.054  trn_accuracy: 0.993  (231.25s - 193.06s remaining)\n",
      "EPOCH: 110.000  trn_loss: 0.050  trn_accuracy: 0.993  (233.39s - 190.96s remaining)\n",
      "EPOCH: 111.000  trn_loss: 0.049  trn_accuracy: 0.993  (235.35s - 188.71s remaining)\n",
      "EPOCH: 112.000  trn_loss: 0.048  trn_accuracy: 0.993  (237.31s - 186.46s remaining)\n",
      "EPOCH: 113.000  trn_loss: 0.055  trn_accuracy: 0.993  (239.27s - 184.21s remaining)\n",
      "EPOCH: 114.000  trn_loss: 0.050  trn_accuracy: 0.993  (241.24s - 181.99s remaining)\n",
      "EPOCH: 115.000  trn_loss: 0.049  trn_accuracy: 0.993  (243.21s - 179.76s remaining)\n",
      "EPOCH: 116.000  trn_loss: 0.047  trn_accuracy: 0.994  (245.35s - 177.67s remaining)\n",
      "EPOCH: 117.000  trn_loss: 0.048  trn_accuracy: 0.993  (247.03s - 175.24s remaining)\n",
      "EPOCH: 118.000  trn_loss: 0.046  trn_accuracy: 0.994  (248.79s - 172.89s remaining)\n",
      "EPOCH: 119.000  trn_loss: 0.047  trn_accuracy: 0.993  (250.51s - 170.51s remaining)\n",
      "EPOCH: 120.000  trn_loss: 0.047  trn_accuracy: 0.994  (252.19s - 168.13s remaining)\n",
      "EPOCH: 121.000  trn_loss: 0.048  trn_accuracy: 0.993  (253.85s - 165.73s remaining)\n",
      "EPOCH: 122.000  trn_loss: 0.044  trn_accuracy: 0.994  (255.49s - 163.35s remaining)\n",
      "EPOCH: 123.000  trn_loss: 0.044  trn_accuracy: 0.994  (257.54s - 161.23s remaining)\n",
      "EPOCH: 124.000  trn_loss: 0.045  trn_accuracy: 0.994  (259.86s - 159.27s remaining)\n",
      "EPOCH: 125.000  trn_loss: 0.041  trn_accuracy: 0.994  (261.99s - 157.19s remaining)\n",
      "EPOCH: 126.000  trn_loss: 0.039  trn_accuracy: 0.994  (263.96s - 155.03s remaining)\n",
      "EPOCH: 127.000  trn_loss: 0.043  trn_accuracy: 0.994  (266.00s - 152.90s remaining)\n",
      "EPOCH: 128.000  trn_loss: 0.042  trn_accuracy: 0.994  (268.32s - 150.93s remaining)\n",
      "EPOCH: 129.000  trn_loss: 0.039  trn_accuracy: 0.994  (270.32s - 148.78s remaining)\n",
      "EPOCH: 130.000  trn_loss: 0.040  trn_accuracy: 0.995  (272.36s - 146.65s remaining)\n",
      "EPOCH: 131.000  trn_loss: 0.042  trn_accuracy: 0.995  (274.58s - 144.62s remaining)\n",
      "EPOCH: 132.000  trn_loss: 0.042  trn_accuracy: 0.995  (276.77s - 142.58s remaining)\n",
      "EPOCH: 133.000  trn_loss: 0.041  trn_accuracy: 0.995  (278.99s - 140.54s remaining)\n",
      "EPOCH: 134.000  trn_loss: 0.041  trn_accuracy: 0.995  (281.22s - 138.51s remaining)\n",
      "EPOCH: 135.000  trn_loss: 0.044  trn_accuracy: 0.995  (283.43s - 136.47s remaining)\n",
      "EPOCH: 136.000  trn_loss: 0.040  trn_accuracy: 0.995  (285.31s - 134.26s remaining)\n",
      "EPOCH: 137.000  trn_loss: 0.038  trn_accuracy: 0.996  (286.88s - 131.92s remaining)\n",
      "EPOCH: 138.000  trn_loss: 0.037  trn_accuracy: 0.996  (289.03s - 129.86s remaining)\n",
      "EPOCH: 139.000  trn_loss: 0.038  trn_accuracy: 0.996  (291.28s - 127.83s remaining)\n",
      "EPOCH: 140.000  trn_loss: 0.041  trn_accuracy: 0.996  (293.32s - 125.71s remaining)\n",
      "EPOCH: 141.000  trn_loss: 0.037  trn_accuracy: 0.996  (295.28s - 123.55s remaining)\n",
      "EPOCH: 142.000  trn_loss: 0.038  trn_accuracy: 0.996  (297.46s - 121.50s remaining)\n",
      "EPOCH: 143.000  trn_loss: 0.036  trn_accuracy: 0.996  (299.71s - 119.47s remaining)\n",
      "EPOCH: 144.000  trn_loss: 0.034  trn_accuracy: 0.996  (302.15s - 117.50s remaining)\n",
      "EPOCH: 145.000  trn_loss: 0.035  trn_accuracy: 0.996  (304.51s - 115.50s remaining)\n",
      "EPOCH: 146.000  trn_loss: 0.036  trn_accuracy: 0.996  (306.97s - 113.54s remaining)\n",
      "EPOCH: 147.000  trn_loss: 0.034  trn_accuracy: 0.996  (309.41s - 111.56s remaining)\n",
      "EPOCH: 148.000  trn_loss: 0.034  trn_accuracy: 0.996  (311.87s - 109.58s remaining)\n",
      "EPOCH: 149.000  trn_loss: 0.033  trn_accuracy: 0.996  (314.33s - 107.59s remaining)\n",
      "EPOCH: 150.000  trn_loss: 0.033  trn_accuracy: 0.996  (316.80s - 105.60s remaining)\n",
      "EPOCH: 151.000  trn_loss: 0.032  trn_accuracy: 0.996  (319.25s - 103.60s remaining)\n",
      "EPOCH: 152.000  trn_loss: 0.032  trn_accuracy: 0.997  (321.57s - 101.55s remaining)\n",
      "EPOCH: 153.000  trn_loss: 0.032  trn_accuracy: 0.997  (323.98s - 99.52s remaining)\n",
      "EPOCH: 154.000  trn_loss: 0.032  trn_accuracy: 0.996  (326.38s - 97.49s remaining)\n",
      "EPOCH: 155.000  trn_loss: 0.031  trn_accuracy: 0.997  (328.70s - 95.43s remaining)\n",
      "EPOCH: 156.000  trn_loss: 0.031  trn_accuracy: 0.997  (330.71s - 93.28s remaining)\n",
      "EPOCH: 157.000  trn_loss: 0.030  trn_accuracy: 0.997  (332.70s - 91.12s remaining)\n",
      "EPOCH: 158.000  trn_loss: 0.031  trn_accuracy: 0.997  (334.72s - 88.98s remaining)\n",
      "EPOCH: 159.000  trn_loss: 0.030  trn_accuracy: 0.997  (336.69s - 86.82s remaining)\n",
      "EPOCH: 160.000  trn_loss: 0.030  trn_accuracy: 0.997  (338.37s - 84.59s remaining)\n",
      "EPOCH: 161.000  trn_loss: 0.030  trn_accuracy: 0.997  (340.06s - 82.37s remaining)\n",
      "EPOCH: 162.000  trn_loss: 0.034  trn_accuracy: 0.996  (342.25s - 80.28s remaining)\n",
      "EPOCH: 163.000  trn_loss: 0.031  trn_accuracy: 0.997  (343.97s - 78.08s remaining)\n",
      "EPOCH: 164.000  trn_loss: 0.031  trn_accuracy: 0.997  (346.40s - 76.04s remaining)\n",
      "EPOCH: 165.000  trn_loss: 0.031  trn_accuracy: 0.997  (348.65s - 73.96s remaining)\n",
      "EPOCH: 166.000  trn_loss: 0.031  trn_accuracy: 0.997  (350.95s - 71.88s remaining)\n",
      "EPOCH: 167.000  trn_loss: 0.033  trn_accuracy: 0.997  (352.99s - 69.75s remaining)\n",
      "EPOCH: 168.000  trn_loss: 0.032  trn_accuracy: 0.997  (355.20s - 67.66s remaining)\n",
      "EPOCH: 169.000  trn_loss: 0.039  trn_accuracy: 0.996  (357.78s - 65.63s remaining)\n",
      "EPOCH: 170.000  trn_loss: 0.046  trn_accuracy: 0.995  (360.64s - 63.64s remaining)\n",
      "EPOCH: 171.000  trn_loss: 0.039  trn_accuracy: 0.996  (362.75s - 61.52s remaining)\n",
      "EPOCH: 172.000  trn_loss: 0.034  trn_accuracy: 0.996  (364.88s - 59.40s remaining)\n",
      "EPOCH: 173.000  trn_loss: 0.032  trn_accuracy: 0.996  (367.01s - 57.28s remaining)\n",
      "EPOCH: 174.000  trn_loss: 0.030  trn_accuracy: 0.997  (369.13s - 55.16s remaining)\n",
      "EPOCH: 175.000  trn_loss: 0.032  trn_accuracy: 0.996  (370.85s - 52.98s remaining)\n",
      "EPOCH: 176.000  trn_loss: 0.030  trn_accuracy: 0.997  (372.47s - 50.79s remaining)\n",
      "EPOCH: 177.000  trn_loss: 0.030  trn_accuracy: 0.997  (374.16s - 48.62s remaining)\n",
      "EPOCH: 178.000  trn_loss: 0.030  trn_accuracy: 0.997  (375.97s - 46.47s remaining)\n",
      "EPOCH: 179.000  trn_loss: 0.030  trn_accuracy: 0.997  (378.28s - 44.38s remaining)\n",
      "EPOCH: 180.000  trn_loss: 0.030  trn_accuracy: 0.997  (380.11s - 42.23s remaining)\n",
      "EPOCH: 181.000  trn_loss: 0.029  trn_accuracy: 0.997  (381.68s - 40.07s remaining)\n",
      "EPOCH: 182.000  trn_loss: 0.029  trn_accuracy: 0.997  (383.29s - 37.91s remaining)\n",
      "EPOCH: 183.000  trn_loss: 0.029  trn_accuracy: 0.997  (385.10s - 35.77s remaining)\n",
      "EPOCH: 184.000  trn_loss: 0.027  trn_accuracy: 0.997  (387.46s - 33.69s remaining)\n",
      "EPOCH: 185.000  trn_loss: 0.028  trn_accuracy: 0.997  (389.56s - 31.59s remaining)\n",
      "EPOCH: 186.000  trn_loss: 0.027  trn_accuracy: 0.997  (391.66s - 29.48s remaining)\n",
      "EPOCH: 187.000  trn_loss: 0.028  trn_accuracy: 0.997  (393.79s - 27.38s remaining)\n",
      "EPOCH: 188.000  trn_loss: 0.027  trn_accuracy: 0.997  (395.91s - 25.27s remaining)\n",
      "EPOCH: 189.000  trn_loss: 0.027  trn_accuracy: 0.997  (398.02s - 23.17s remaining)\n",
      "EPOCH: 190.000  trn_loss: 0.029  trn_accuracy: 0.997  (400.16s - 21.06s remaining)\n",
      "EPOCH: 191.000  trn_loss: 0.027  trn_accuracy: 0.997  (402.47s - 18.96s remaining)\n",
      "EPOCH: 192.000  trn_loss: 0.027  trn_accuracy: 0.997  (404.54s - 16.86s remaining)\n",
      "EPOCH: 193.000  trn_loss: 0.027  trn_accuracy: 0.997  (406.91s - 14.76s remaining)\n",
      "EPOCH: 194.000  trn_loss: 0.026  trn_accuracy: 0.997  (409.01s - 12.65s remaining)\n",
      "EPOCH: 195.000  trn_loss: 0.026  trn_accuracy: 0.997  (411.62s - 10.55s remaining)\n",
      "EPOCH: 196.000  trn_loss: 0.025  trn_accuracy: 0.997  (413.76s - 8.44s remaining)\n",
      "EPOCH: 197.000  trn_loss: 0.025  trn_accuracy: 0.997  (416.04s - 6.34s remaining)\n",
      "EPOCH: 198.000  trn_loss: 0.026  trn_accuracy: 0.997  (418.26s - 4.22s remaining)\n",
      "EPOCH: 199.000  trn_loss: 0.025  trn_accuracy: 0.997  (420.38s - 2.11s remaining)\n",
      "EPOCH: 200.000  trn_loss: 0.044  trn_accuracy: 0.996  (422.57s - 0.00s remaining)\n",
      "[INFO] Saving activations!\n"
     ]
    },
    {
     "name": "stderr",
     "output_type": "stream",
     "text": [
      "100%|██████████| 76/76 [00:23<00:00,  3.17it/s]\n",
      "100%|██████████| 301/301 [00:00<00:00, 43775.50it/s]\n",
      "100%|██████████| 301/301 [00:00<00:00, 43237.29it/s]\n"
     ]
    },
    {
     "data": {
      "image/png": "[encoded data removed]",
      "text/plain": [
       "<Figure size 800x600 with 1 Axes>"
      ]
     },
     "metadata": {},
     "output_type": "display_data"
    },
    {
     "data": {
      "image/png": "[encoded data removed]",
      "text/plain": [
       "<Figure size 800x600 with 1 Axes>"
      ]
     },
     "metadata": {},
     "output_type": "display_data"
    }
   ],
   "source": [
    "train_loop(\n",
    "    epochs=200,\n",
    "    model=unet,\n",
    "    dataloader=train_dataloader,\n",
    "    lr=1e-3,\n",
    "    loss_function=loss_fuctions[\"dice\"],\n",
    "    weights=[1, 1], # Classes weights (Background and Foreground)\n",
    "    freeze_encoder=False,\n",
    "    use_lr_scheduler=True\n",
    ")"
   ]
  },
  {
   "cell_type": "markdown",
   "metadata": {},
   "source": [
    "Finally, we also benchmark our model:"
   ]
  },
  {
   "cell_type": "code",
   "execution_count": 27,
   "metadata": {
    "tags": []
   },
   "outputs": [
    {
     "name": "stdout",
     "output_type": "stream",
     "text": [
      "[INFO] Training Metrics\n"
     ]
    },
    {
     "name": "stderr",
     "output_type": "stream",
     "text": [
      "76it [00:02, 28.73it/s]"
     ]
    },
    {
     "name": "stdout",
     "output_type": "stream",
     "text": [
      "[INFO] Avg Accuracy: 0.9954307079315186 +/- 0.006055230740457773\n",
      "[INFO] Avg Dice: 0.8347631871220607 +/- 0.27791214626253014\n",
      "[INFO] Avg IoU: 0.7843382035038973 +/- 0.2907178229468025\n"
     ]
    },
    {
     "name": "stderr",
     "output_type": "stream",
     "text": [
      "\n"
     ]
    }
   ],
   "source": [
    "print(\"[INFO] Training Metrics\")\n",
    "predict_and_evaluate(model=unet, data_loader=train_dataloader)"
   ]
  },
  {
   "cell_type": "code",
   "execution_count": 28,
   "metadata": {
    "tags": []
   },
   "outputs": [
    {
     "name": "stdout",
     "output_type": "stream",
     "text": [
      "[INFO] Test Metrics\n"
     ]
    },
    {
     "name": "stderr",
     "output_type": "stream",
     "text": [
      "20it [00:00, 27.86it/s]"
     ]
    },
    {
     "name": "stdout",
     "output_type": "stream",
     "text": [
      "[INFO] Avg Accuracy: 0.9941164255142212 +/- 0.006666074972599745\n",
      "[INFO] Avg Dice: 0.7416612743618797 +/- 0.3101179919989029\n",
      "[INFO] Avg IoU: 0.6705023936927319 +/- 0.3369482475891635\n"
     ]
    },
    {
     "name": "stderr",
     "output_type": "stream",
     "text": [
      "\n"
     ]
    }
   ],
   "source": [
    "print(\"[INFO] Test Metrics\")\n",
    "predict_and_evaluate(model=unet, data_loader=test_dataloader)"
   ]
  },
  {
   "cell_type": "markdown",
   "metadata": {},
   "source": [
    "As we can see, using only the FLIM-Encoder without fine-tuning it, our model performs worse than the plain U-Net (A dice of 52.53 % against 58.86%). Getting a FLIM-Model better than the plain U-Net requires us to analyze our model and understand the patterns it missed to detect. Then, we could introduce annotations using FLIM to guide our model in learning those features.\n",
    "\n",
    "When we load the FLIM-Encoder and fine-tune it using a learning rate scheduler, we get a better performance (74.17%); it shows that using FLIM, with a simpler architecture, provides a better weight initialization. Furthermore, by guiding the model on learning discriminative features, we also decrease our model overfitting."
   ]
  },
  {
   "cell_type": "markdown",
   "metadata": {},
   "source": [
    "## 10. Run inferences with FLIM-Encoder using an adaptive decoder."
   ]
  },
  {
   "cell_type": "markdown",
   "metadata": {},
   "source": [
    "Here, we will use an adaptive Decoder to segment our parasites."
   ]
  },
  {
   "cell_type": "markdown",
   "metadata": {},
   "source": [
    "First, we define an U-Net model and Load FLIM-Encoder weights:"
   ]
  },
  {
   "cell_type": "code",
   "execution_count": 47,
   "metadata": {
    "tags": []
   },
   "outputs": [
    {
     "name": "stdout",
     "output_type": "stream",
     "text": [
      "[INFO] Loading FLIM Encoder\n",
      "[INFO] Loading Layer 1 weights\n",
      "[INFO] Loading Layer 2 weights\n"
     ]
    }
   ],
   "source": [
    "unet = UNet(\n",
    "    in_channels=3,\n",
    "    n_kernels=[\n",
    "        arch_description[\"layer1\"][\"conv\"][\"noutput_channels\"],\n",
    "        arch_description[\"layer2\"][\"conv\"][\"noutput_channels\"],\n",
    "    ],\n",
    "    kernel_sizes=[\n",
    "        arch_description[\"layer1\"][\"conv\"][\"kernel_size\"][0],\n",
    "        arch_description[\"layer2\"][\"conv\"][\"kernel_size\"][0], \n",
    "    ],\n",
    "    bottleneck_size=3,\n",
    "    activations_path=DATA_PATH / Path(\"exper/FLIM_ENC_lr_scheduler\")\n",
    ").to(DEVICE)\n",
    "\n",
    "load_FLIM_encoder(\n",
    "    model=unet,\n",
    "    arch_json=ARCH_JSON,\n",
    "    weights_path=WEIGHTS_PATH,\n",
    "    channels=[\n",
    "        3,\n",
    "        arch_description[\"layer1\"][\"conv\"][\"noutput_channels\"],\n",
    "        arch_description[\"layer2\"][\"conv\"][\"noutput_channels\"],\n",
    "    ] # [Input Channels, Kernels Layer 1, Kernels Layer 2, ....]\n",
    ")"
   ]
  },
  {
   "cell_type": "markdown",
   "metadata": {},
   "source": [
    "We define some utilitarian functions. `erase_frame` sets the frame border to zero. Some activations also actives for the frame border and could be misinterpreted as background. `get_adaptive_weight` gets weights for the activations, where activations with many activated pixels are set as background (weight=-1), and the opposite as foreground (weight=1)."
   ]
  },
  {
   "cell_type": "code",
   "execution_count": 51,
   "metadata": {
    "tags": []
   },
   "outputs": [],
   "source": [
    "# Zero-out frame border\n",
    "def erase_frame(activation, n):\n",
    "    activation[:n, :] = 0\n",
    "    activation[-n: :] = 0\n",
    "    activation[:, :n] = 0\n",
    "    activation[:, -n:] = 0\n",
    "    \n",
    "    return activation\n",
    "\n",
    "\"\"\"\n",
    "Get activation weight, given the amount of voxels activated.\n",
    "Background activations usually activate most of the image; hence, we set its weight as -1.\n",
    "\"\"\"\n",
    "def get_adaptive_weight(activation, perc_thres):\n",
    "    n_elements = activation.shape[0] * activation.shape[1]\n",
    "    i_max = np.max(activation)\n",
    "    i_min = np.min(activation)\n",
    "    if i_max == i_min:\n",
    "        return 0\n",
    "    image = 255 * (activation - i_min) / (i_max - i_min)\n",
    "    image = image.astype(np.uint8)\n",
    "    \n",
    "    threshold, _ = cv2.threshold(\n",
    "        image, 0, 255, cv2.THRESH_BINARY+cv2.THRESH_OTSU\n",
    "    )\n",
    "    \n",
    "    bin_image = image > threshold\n",
    "    n_activations = np.sum(bin_image)\n",
    "    \n",
    "    if n_activations > (perc_thres * n_elements):\n",
    "        weight = -1\n",
    "    else:\n",
    "        weight = 1\n",
    "        \n",
    "    return weight"
   ]
  },
  {
   "cell_type": "markdown",
   "metadata": {},
   "source": [
    "Our adaptive Decoder works as follows:\n",
    "\n",
    "1. We will instantiate a U-Net and load our FLIM weights\n",
    "2. We start from the lowest encoder block and:\n",
    "    1. For each activation, we verify if it has a background (weight = -1) or a foreground activation (weight = 1);\n",
    "    2. We sum all activations into a single saliency map, using its weight (-1 or 1);\n",
    "    3. Based on this saliency map, we get the coordinates of the largest contour;\n",
    "    4. We repeat steps 1 to 2 for the upper layer; however, we zero activations outside the largest contour activations (avoid false positives).\n",
    "3. Based on the saliency map of the first layer, we compute our metrics."
   ]
  },
  {
   "cell_type": "code",
   "execution_count": 81,
   "metadata": {
    "tags": []
   },
   "outputs": [],
   "source": [
    "def adaptive_decoder(model, dataloader, image_id):\n",
    "    # Get an image and pass it through the network \n",
    "    image_data = train_dataloader.dataset.image_transforms(\n",
    "            rgb2lab(Image.open(train_dataloader.dataset.images_path[image_id]))\n",
    "        )\n",
    "    ground_truth = train_dataloader.dataset.label_transforms(\n",
    "        ImageOps.grayscale(Image.open(train_dataloader.dataset.labels_path[image_id]))\n",
    "    )\n",
    "    ground_truth = ground_truth.cpu().detach().numpy()[0]\n",
    "    image_data = torch.unsqueeze(image_data, dim=0)\n",
    "    image_data = image_data.to(DEVICE)\n",
    "\n",
    "    unet.to(DEVICE)\n",
    "    unet(image_data)\n",
    "    encoder_activations = unet.activations[\"encoder\"]\n",
    "    \n",
    "    for activations in encoder_activations[1].cpu().detach().numpy():\n",
    "        saliency = np.zeros_like(activations[0])\n",
    "        for activation in activations:\n",
    "            activation = erase_frame(activation, 1)\n",
    "            weight = get_adaptive_weight(activation, 0.1)\n",
    "            saliency += weight * activation\n",
    "    \n",
    "    # Gets the largest contour\n",
    "    # Binarizes image\n",
    "    saliency[saliency < 0] = 0\n",
    "    i_max = np.max(saliency)\n",
    "    i_min = np.min(saliency)\n",
    "    detected_contour = False\n",
    "    if i_max != i_min:\n",
    "        image = 255 * (saliency - i_min) / (i_max - i_min)\n",
    "        saliency[saliency > 0] = 255\n",
    "        contours, hierarchy = cv2.findContours(saliency.astype(np.uint8), cv2.RETR_TREE, cv2.CHAIN_APPROX_SIMPLE)\n",
    "        contour = max(contours, key = cv2.contourArea)\n",
    "        x_initial, y_initial, width, height = cv2.boundingRect(contour)\n",
    "        x_final = x_initial + width\n",
    "        y_final = y_initial + height\n",
    "        detected_contour = True\n",
    "    \n",
    "    for activations in encoder_activations[0].cpu().detach().numpy():\n",
    "        saliency = np.zeros_like(activations[0])\n",
    "        for activation in activations:\n",
    "            activation = erase_frame(activation, 1)\n",
    "            weight = get_adaptive_weight(activation, 0.1)\n",
    "            saliency += weight * activation\n",
    "            \n",
    "    saliency[saliency < 0] = 0\n",
    "    i_max = np.max(saliency)\n",
    "    i_min = np.min(saliency)\n",
    "    if i_max != i_min:\n",
    "        image = 255 * (saliency - i_min) / (i_max - i_min)\n",
    "        saliency[saliency > 0] = 1\n",
    "        \n",
    "    if detected_contour:\n",
    "        # Scale bounding box coordinates\n",
    "        x_initial *= 2\n",
    "        x_final *= 2\n",
    "        y_initial *= 2\n",
    "        y_final *= 2\n",
    "        tmp_array = np.zeros_like(saliency)\n",
    "        tmp_array[y_initial:y_final, x_initial:x_final] = saliency[y_initial:y_final, x_initial:x_final]\n",
    "        saliency = tmp_array\n",
    "        \n",
    "    # Scale to the ground truth size\n",
    "    saliency = cv2.resize(saliency, dsize=(240, 240), interpolation=cv2.INTER_NEAREST)\n",
    "    \n",
    "    # Computes metrics\n",
    "    jaccard_index = JaccardIndex(num_classes=2, task=\"binary\")\n",
    "    accuracy = np.mean((saliency == ground_truth).astype(np.float32))\n",
    "    dice = binary.dc(saliency, ground_truth)\n",
    "    iou = jaccard_index(torch.Tensor(saliency).long(), torch.Tensor(ground_truth).long())\n",
    "\n",
    "    print(f\"[INFO] Accuracy: {accuracy}\")\n",
    "    print(f\"[INFO] Dice: {dice}\")\n",
    "    print(f\"[INFO] IoU: {iou}\")\n",
    "    \n",
    "    plt.subplot(121)\n",
    "    plt.imshow(saliency, cmap=\"gray\")\n",
    "    plt.yticks([]),plt.xticks([])\n",
    "    plt.title(f\"Prediction\")\n",
    "    plt.subplot(122)\n",
    "    plt.imshow(ground_truth, cmap=\"gray\")\n",
    "    plt.yticks([]),plt.xticks([])\n",
    "    plt.title(f\"Ground Truth\")"
   ]
  },
  {
   "cell_type": "code",
   "execution_count": 89,
   "metadata": {
    "tags": []
   },
   "outputs": [
    {
     "name": "stdout",
     "output_type": "stream",
     "text": [
      "[INFO] Accuracy: 0.9913889169692993\n",
      "[INFO] Dice: 0.8471965495995071\n",
      "[INFO] IoU: 0.7349011301994324\n"
     ]
    },
    {
     "data": {
      "image/png": "[encoded data removed]",
      "text/plain": [
       "<Figure size 640x480 with 2 Axes>"
      ]
     },
     "metadata": {},
     "output_type": "display_data"
    }
   ],
   "source": [
    "adaptive_decoder(\n",
    "    model=unet,\n",
    "    dataloader=train_dataloader, \n",
    "    image_id=0\n",
    ")"
   ]
  },
  {
   "cell_type": "markdown",
   "metadata": {},
   "source": [
    "## Extra - Activities\n",
    "\n",
    "- Try different losses and Class weights (weights parameter on train_loop). Could you increase performance metrics?\n",
    "- Try to improve the adaptive decoder. Could you implement any modification that increases performance metrics? And about problematic images, how would you tackle them?\n",
    "- Could you apply post-processing on predicted masks to increase performance metrics (e.g., morphological operations)?\n",
    "- Could you replicate the adaptive decoder to the whole dataset?"
   ]
  }
 ],
 "metadata": {
  "kernelspec": {
   "display_name": "Python 3 (ipykernel)",
   "language": "python",
   "name": "python3"
  },
  "language_info": {
   "codemirror_mode": {
    "name": "ipython",
    "version": 3
   },
   "file_extension": ".py",
   "mimetype": "text/x-python",
   "name": "python",
   "nbconvert_exporter": "python",
   "pygments_lexer": "ipython3",
   "version": "3.11.5"
  }
 },
 "nbformat": 4,
 "nbformat_minor": 4
}
