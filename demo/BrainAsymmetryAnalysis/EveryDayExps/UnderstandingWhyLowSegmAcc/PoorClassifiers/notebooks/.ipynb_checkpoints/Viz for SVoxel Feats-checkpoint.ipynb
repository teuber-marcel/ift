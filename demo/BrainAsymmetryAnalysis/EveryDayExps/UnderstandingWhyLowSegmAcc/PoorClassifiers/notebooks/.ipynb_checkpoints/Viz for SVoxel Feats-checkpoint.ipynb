{
 "cells": [
  {
   "cell_type": "code",
   "execution_count": 27,
   "metadata": {},
   "outputs": [
    {
     "data": {
      "text/html": [
       "        <script type=\"text/javascript\">\n",
       "        window.PlotlyConfig = {MathJaxConfig: 'local'};\n",
       "        if (window.MathJax) {MathJax.Hub.Config({SVG: {font: \"STIX-Web\"}});}\n",
       "        if (typeof require !== 'undefined') {\n",
       "        require.undef(\"plotly\");\n",
       "        requirejs.config({\n",
       "            paths: {\n",
       "                'plotly': ['https://cdn.plot.ly/plotly-latest.min']\n",
       "            }\n",
       "        });\n",
       "        require(['plotly'], function(Plotly) {\n",
       "            window._Plotly = Plotly;\n",
       "        });\n",
       "        }\n",
       "        </script>\n",
       "        "
      ]
     },
     "metadata": {},
     "output_type": "display_data"
    }
   ],
   "source": [
    "import os\n",
    "from os.path import join as pjoin\n",
    "import pdb\n",
    "import json\n",
    "\n",
    "import numpy as np\n",
    "import pyift.pyift as ift\n",
    "\n",
    "import plotly.graph_objs as go\n",
    "import plotly as py\n",
    "import ipywidgets as widgets\n",
    "py.offline.init_notebook_mode(connected=True)"
   ]
  },
  {
   "cell_type": "code",
   "execution_count": 24,
   "metadata": {},
   "outputs": [],
   "source": [
    "work_dir = \"/Users/hisamuka/workspace/exps/UnderstandingWhyLowSegmentation\"\n",
    "saad_result_dir = os.path.join(work_dir, \"exps/SAAD\")\n",
    "gt_dir = os.path.join(work_dir, \"bases/ATLAS-304/3T/regs/nonrigid/labels/primary_stroke\")\n",
    "exp_dir = os.path.join(work_dir, \"exps\", \"PoorClassification\")\n",
    "exp_datasets_dir = os.path.join(exp_dir, \"datasets\")"
   ]
  },
  {
   "cell_type": "code",
   "execution_count": 25,
   "metadata": {},
   "outputs": [],
   "source": [
    "##### PREPARING/PROCESSING SVOXELS DATASETS\n",
    "\n",
    "img_id_list = [\"000021_000001\", \"000096_000001\", \"000135_000001\", \"000209_000001\"]\n",
    "# img_id_list = sorted(os.listdir(saad_result_dir))\n",
    "\n",
    "# project feats by t-SNE\n",
    "for img_id in img_id_list:\n",
    "    svoxels_path = os.path.join(saad_result_dir, img_id, \"svoxels.nii.gz\")\n",
    "    clf_result_path = os.path.join(saad_result_dir, img_id, \"result.nii.gz\")\n",
    "    gt_path = os.path.join(gt_dir, img_id + \".nii.gz\")\n",
    "    datasets_dir = os.path.join(saad_result_dir, img_id, \"datasets\")\n",
    "    out_dir = os.path.join(exp_datasets_dir, img_id)\n",
    "    \n",
    "    os.system(f\"python $NEWIFT_DIR/demo/BrainAsymmetryAnalysis/EveryDayExps/UnderstandingWhyLowSegmAcc/PoorClassifiers/prepare_svoxel_datasets.py \"\n",
    "              f\"{svoxels_path} {clf_result_path} {gt_path} {datasets_dir} 40 {out_dir}\")"
   ]
  },
  {
   "cell_type": "code",
   "execution_count": 88,
   "metadata": {},
   "outputs": [],
   "source": [
    "# create our callback function\n",
    "def update_point(trace, points, selector):\n",
    "    c = list(scatter.marker.color)\n",
    "    s = list(scatter.marker.size)\n",
    "    for i in points.point_inds:\n",
    "        c[i] = '#bae2be'\n",
    "        s[i] = 20\n",
    "        scatter.marker.color = c\n",
    "        scatter.marker.size = s"
   ]
  },
  {
   "cell_type": "code",
   "execution_count": 98,
   "metadata": {},
   "outputs": [
    {
     "name": "stdout",
     "output_type": "stream",
     "text": [
      "[0.5584415584415584]\n"
     ]
    }
   ],
   "source": [
    "##### PLOTING SVOXELS DATASET\n",
    "point_opacity = 1\n",
    "colorscale = [[0.0, f'rgba(49,54,149,{point_opacity})'], [0.1111111111111111, f'rgba(69,117,180,{point_opacity})'],\n",
    "              [0.2222222222222222, f'rgba(116,173,209,{point_opacity})'], [0.3333333333333333, f'rgba(171,217,233,{point_opacity})'],\n",
    "              [0.4444444444444444, f'rgba(224,243,248,{point_opacity})'], [0.5555555555555556, f'rgba(254,224,144,{point_opacity})'],\n",
    "              [0.6666666666666666, f'rgba(253,174,97,{point_opacity})'], [0.7777777777777778, f'rgba(244,109,67,{point_opacity})'],\n",
    "              [0.8888888888888888, f'rgba(215,48,39,{point_opacity})'], [1.0, f'rgba(165,0,38,{point_opacity})']]\n",
    "\n",
    "for img_id in sorted(os.listdir(exp_datasets_dir))[:1]:\n",
    "    datasets_img_dir = os.path.join(exp_datasets_dir, img_id)\n",
    "    \n",
    "    for dataset_filename in sorted(os.listdir(datasets_img_dir))[:1]:\n",
    "        svoxel = int(dataset_filename.split(\".zip\")[0].split(\"_\")[1])\n",
    "        dataset_path = os.path.join(datasets_img_dir, dataset_filename)\n",
    "        Z = ift.ReadDataSet(dataset_path)\n",
    "        X = Z.GetData()\n",
    "        ref_data = Z.GetRefData()\n",
    "        \n",
    "        Xtrain = X[:-1,:]\n",
    "        ref_data_train = ref_data[:-1]\n",
    "        \n",
    "        Xtest = X[-1]\n",
    "        ref_data_test = ref_data[-1]\n",
    "        \n",
    "        trace_train = go.Scatter(\n",
    "            x=Xtrain[:, 0],\n",
    "            y=Xtrain[:, 1],\n",
    "            name='Train',\n",
    "            mode='markers',\n",
    "            marker=dict(\n",
    "                size=12,\n",
    "                color=f\"rgba(0, 0, 0, 0.4)\",\n",
    "                \n",
    "                line=dict(\n",
    "                    color='rgb(0, 0, 0)',\n",
    "                    width=1.0\n",
    "                ),\n",
    "            )\n",
    "        )\n",
    "        trace_train.on_click(update_point)        \n",
    "        \n",
    "        iou_list = [float(ref_data_test[-2])]\n",
    "        print(iou_list)\n",
    "        was_detected = bool(ref_data_test[-1])\n",
    "        if was_detected:\n",
    "            name = \"Test Detected\"\n",
    "            symbol = \"star-triangle-up\"\n",
    "        else:\n",
    "            name = \"Test Undetected\"\n",
    "            symbol = \"x\"\n",
    "            \n",
    "        \n",
    "        trace_test = go.Scatter(\n",
    "            x=[Xtest[0]],\n",
    "            y=[Xtest[1]],\n",
    "            name=name,\n",
    "            mode='markers',\n",
    "            marker=dict(\n",
    "                symbol=symbol,\n",
    "                size=12,\n",
    "                color=iou_list,\n",
    "                colorscale=colorscale,\n",
    "                showscale=True,\n",
    "                \n",
    "                colorbar=dict(\n",
    "                    title=dict(\n",
    "                        text=\"IoU for Test\"\n",
    "                    )\n",
    "                ),\n",
    "                \n",
    "                line=dict(\n",
    "                    color='rgb(0, 0, 0)',\n",
    "                    width=1.0\n",
    "                ),\n",
    "            ),\n",
    "        )\n",
    "        \n",
    "        data = [trace_train, trace_test]\n",
    "        \n",
    "        layout = go.Layout(\n",
    "            title = f\"Image <b>{img_id}</b>, SVoxel: <b>{svoxel}</b>\",\n",
    "            legend=dict(x=-.1, y=1.2),\n",
    "            hovermode=\"closest\"\n",
    "        )\n",
    "\n",
    "        \n",
    "        fig = go.FigureWidget(data=data, layout=layout)\n",
    "#         py.offline.iplot(fig)\n",
    "        fig\n",
    "        \n"
   ]
  }
 ],
 "metadata": {
  "kernelspec": {
   "display_name": "Python 3",
   "language": "python",
   "name": "python3"
  },
  "language_info": {
   "codemirror_mode": {
    "name": "ipython",
    "version": 3
   },
   "file_extension": ".py",
   "mimetype": "text/x-python",
   "name": "python",
   "nbconvert_exporter": "python",
   "pygments_lexer": "ipython3",
   "version": "3.7.3"
  }
 },
 "nbformat": 4,
 "nbformat_minor": 2
}
