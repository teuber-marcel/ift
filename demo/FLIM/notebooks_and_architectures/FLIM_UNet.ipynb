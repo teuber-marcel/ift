{
 "cells": [
  {
   "cell_type": "code",
   "execution_count": 1,
   "metadata": {
    "colab": {
     "base_uri": "https://localhost:8080/"
    },
    "id": "5r38dynQvu7D",
    "outputId": "d2c9f2bb-f5b4-4bd3-b5c3-fb0a69af0fb1"
   },
   "outputs": [
    {
     "name": "stdout",
     "output_type": "stream",
     "text": [
      "1.11.0\n",
      "1\n"
     ]
    }
   ],
   "source": [
    "import os\n",
    "os.environ[\"CUDA_VISIBLE_DEVICES\"] = \"0\"\n",
    "from flim.experiments import utils, LIDSDataset, ToTensor\n",
    "from flim.models.lcn import LCNCreator\n",
    "import torch\n",
    "from torch import Tensor\n",
    "from torch import nn\n",
    "from torch.nn import functional as F\n",
    "from torch import optim\n",
    "from torch.utils.data import DataLoader, random_split\n",
    "from torchvision import transforms\n",
    "from torchsummary import summary\n",
    "import torchmetrics as tm\n",
    "from torch_snippets import *\n",
    "from math import ceil, floor\n",
    "import copy\n",
    "import os\n",
    "from os import path\n",
    "import numpy as np\n",
    "from medpy.metric import binary\n",
    "print(torch.__version__)\n",
    "print(torch.cuda.device_count())"
   ]
  },
  {
   "cell_type": "markdown",
   "metadata": {},
   "source": [
    "***\n",
    "## Overview\n",
    "This is a demo jupyter notebook that takes a pretrained FLIM encoder and docks it with a U-Net decoder for image segmentation."
   ]
  },
  {
   "cell_type": "code",
   "execution_count": 2,
   "metadata": {},
   "outputs": [],
   "source": [
    "if torch.cuda.is_available():\n",
    "    device = torch.device(0)\n",
    "else:\n",
    "    device = 'cpu'"
   ]
  },
  {
   "cell_type": "markdown",
   "metadata": {},
   "source": [
    "***\n",
    "## DataLoader"
   ]
  },
  {
   "cell_type": "code",
   "execution_count": 3,
   "metadata": {},
   "outputs": [],
   "source": [
    "class ToTensor(object):\n",
    "    def __call__(self, image):\n",
    "        return torch.from_numpy(image.copy()).float()\n",
    "\n",
    "class SegmDataset():\n",
    "    def __init__(self, input_dir,  gt_dir, ext='.nii.gz'):\n",
    "        assert isinstance(input_dir, str) and len(input_dir) > 0,\\\n",
    "            \"Invalid input_dir\"\n",
    "            \n",
    "        assert isinstance(gt_dir, str) and len(gt_dir) > 0,\\\n",
    "            \"Invalid gt_dir\"\n",
    "\n",
    "        self.gt_dir          = gt_dir\n",
    "        self.input_dir       = input_dir\n",
    "        self.ext             = ext \n",
    "        self.transform       = ToTensor()\n",
    "        self.image_basenames = None\n",
    "        self.gt_basenames    = None\n",
    "        self.image_names     = None\n",
    "        self.gt_names        = None\n",
    "        self.get_image_basenames()\n",
    "        self.get_gt_basenames()\n",
    "\n",
    "    def __getitem__(self, index):\n",
    "\n",
    "        self.image_basenames = self.get_image_basenames()\n",
    "        self.gt_basenames    = self.get_gt_basenames()\n",
    "        \n",
    "        image_path = os.path.join(self.input_dir, self.image_basenames[index]+self.ext)\n",
    "        image      = utils.load_image(image_path)\n",
    "        image      = self.transform(image).permute(3,0,1,2)\n",
    "    \n",
    "        gt_path = os.path.join(self.gt_dir, self.gt_basenames[index]+self.ext)\n",
    "        gt      = utils.load_image(gt_path, lab=False)\n",
    "        gt      = self.transform(gt).permute(0,1,2)\n",
    "    \n",
    "        return image, gt \n",
    "    \n",
    "    def __len__(self):\n",
    "        return len(self.image_names)\n",
    "\n",
    "    def get_image_basenames(self):\n",
    "     \n",
    "        if path.exists(self.input_dir):\n",
    "            self.image_names = []\n",
    "            for name in os.listdir(self.input_dir):\n",
    "                if name.endswith(self.ext):\n",
    "                    self.image_names.append(name.split(self.ext)[0])\n",
    "                else:\n",
    "                    continue\n",
    "            self.image_names.sort()\n",
    "        else:\n",
    "            print(\"{} does not exist\".format(self.input_dir))\n",
    "            exit()\n",
    " \n",
    "        return(self.image_names)\n",
    "    \n",
    "    def get_gt_basenames(self):\n",
    "     \n",
    "        if path.exists(self.gt_dir):\n",
    "            self.gt_names = []\n",
    "            for name in os.listdir(self.gt_dir):\n",
    "                if name.endswith(self.ext):\n",
    "                    self.gt_names.append(name.split(self.ext)[0])\n",
    "                else:\n",
    "                    continue\n",
    "            self.gt_names.sort()\n",
    "        else:\n",
    "            print(\"{} does not exist\".format(self.gt_dir))\n",
    "            exit()\n",
    "               \n",
    "        return(self.gt_names)"
   ]
  },
  {
   "cell_type": "markdown",
   "metadata": {},
   "source": [
    "***\n",
    "## Setting up experiment\n",
    "Setting image sizes and channels"
   ]
  },
  {
   "cell_type": "code",
   "execution_count": 4,
   "metadata": {},
   "outputs": [
    {
     "data": {
      "text/plain": [
       "<torch._C.Generator at 0x7ff7c1ed0bf0>"
      ]
     },
     "execution_count": 4,
     "metadata": {},
     "output_type": "execute_result"
    }
   ],
   "source": [
    "ncols = 120\n",
    "nrows = 160\n",
    "depth = 200\n",
    "bands = 3\n",
    "\n",
    "torch.manual_seed(42)"
   ]
  },
  {
   "cell_type": "markdown",
   "metadata": {},
   "source": [
    "Creating output folder. Please, assign the respective output dir"
   ]
  },
  {
   "cell_type": "code",
   "execution_count": 5,
   "metadata": {},
   "outputs": [
    {
     "name": "stdout",
     "output_type": "stream",
     "text": [
      "output\n"
     ]
    }
   ],
   "source": [
    "output_dir = \"output\" # output model dir\n",
    "if (not os.path.exists(output_dir)):\n",
    "    os.makedirs(output_dir)\n",
    "print(output_dir)"
   ]
  },
  {
   "cell_type": "markdown",
   "metadata": {},
   "source": [
    "Loading training and validation images. Please, assign the training and validation/testing paths accordingly"
   ]
  },
  {
   "cell_type": "code",
   "execution_count": 6,
   "metadata": {},
   "outputs": [],
   "source": [
    "train_path = \"train\" #path to training images\n",
    "train_gt_path = \"train_gt\" #path to training ground truth\n",
    "\n",
    "test_path = \"test\" #path to validation/testing images\n",
    "test_gt_path = \"test_gt\" #path to validation/testing ground truth\n",
    "\n",
    "train_ds = SegmDataset(train_path, \n",
    "                       train_gt_path)\n",
    "                       \n",
    "test_ds  = SegmDataset(test_path, \n",
    "                       test_gt_path)\n",
    "\n",
    "\"\"\"\n",
    "Important, in case you are using the DeepLabV3 decoder model, the batch size \n",
    "must not leave a batch with a single image, otherwise it will raise an error \n",
    "when running the BatchNorm3D.\n",
    "\"\"\"\n",
    "train_dl = DataLoader(train_ds, batch_size=3, num_workers=0, shuffle=True)\n",
    "test_dl  = DataLoader(test_ds, batch_size=1, num_workers=0, shuffle=True)"
   ]
  },
  {
   "cell_type": "markdown",
   "metadata": {},
   "source": [
    "***\n",
    "## Training FLIM network\n",
    "Please, provide the path containing the FLIM model training with the libift and the name of the architecture. Note that the architecture is searched inside the model's path."
   ]
  },
  {
   "cell_type": "code",
   "execution_count": 7,
   "metadata": {
    "scrolled": true
   },
   "outputs": [
    {
     "name": "stdout",
     "output_type": "stream",
     "text": [
      "./model\n",
      "Loading LIDS model...\n",
      "block1.m-norm1\n",
      "block1.conv1\n",
      "block1.relu1\n",
      "block1.pool1\n",
      "block2.m-norm2\n",
      "block2.conv2\n",
      "block2.relu2\n",
      "block2.pool2\n",
      "Finish loading...\n"
     ]
    }
   ],
   "source": [
    "model_path        = \"./model\"# path to the model trained with FLIM.\n",
    "architecture_name = \"arch3D-python.json\"# name of the architecture to be searched in the model_path \n",
    "print(model_path)\n",
    "architecture    = utils.load_architecture('%s/%s' % (model_path,architecture_name))\n",
    "\n",
    "encoder         = utils.build_model(architecture, input_shape=[3]).features\n",
    "encoder         = utils.load_weights_from_lids_model(encoder, '%s/' % (model_path)).to(device=device)"
   ]
  },
  {
   "cell_type": "code",
   "execution_count": 8,
   "metadata": {
    "scrolled": true
   },
   "outputs": [
    {
     "name": "stdout",
     "output_type": "stream",
     "text": [
      "Sequential(\n",
      "  (block1): Sequential(\n",
      "    (m-norm1): MarkerBasedNorm3d(3, epsilon=0.001)\n",
      "    (conv1): Conv3d(3, 32, kernel_size=(3, 3, 3), stride=(1, 1, 1), padding=(1, 1, 1), bias=False)\n",
      "    (relu1): ReLU(inplace=True)\n",
      "    (pool1): MaxPool3d(kernel_size=[3, 3, 3], stride=2, padding=[1, 1, 1], dilation=1, ceil_mode=False)\n",
      "  )\n",
      "  (block2): Sequential(\n",
      "    (m-norm2): MarkerBasedNorm3d(32, epsilon=0.001)\n",
      "    (conv2): Conv3d(32, 64, kernel_size=(3, 3, 3), stride=(1, 1, 1), padding=(1, 1, 1), bias=False)\n",
      "    (relu2): ReLU(inplace=True)\n",
      "    (pool2): MaxPool3d(kernel_size=[3, 3, 3], stride=2, padding=[1, 1, 1], dilation=1, ceil_mode=False)\n",
      "  )\n",
      ")\n",
      "==========================================================================================\n",
      "Layer (type:depth-idx)                   Output Shape              Param #\n",
      "==========================================================================================\n",
      "├─Sequential: 1-1                        [-1, 32, 100, 80, 60]     --\n",
      "|    └─MarkerBasedNorm3d: 2-1            [-1, 3, 200, 160, 120]    12\n",
      "|    └─Conv3d: 2-2                       [-1, 32, 200, 160, 120]   2,592\n",
      "|    └─ReLU: 2-3                         [-1, 32, 200, 160, 120]   --\n",
      "|    └─MaxPool3d: 2-4                    [-1, 32, 100, 80, 60]     --\n",
      "├─Sequential: 1-2                        [-1, 64, 50, 40, 30]      --\n",
      "|    └─MarkerBasedNorm3d: 2-5            [-1, 32, 100, 80, 60]     128\n",
      "|    └─Conv3d: 2-6                       [-1, 64, 100, 80, 60]     55,296\n",
      "|    └─ReLU: 2-7                         [-1, 64, 100, 80, 60]     --\n",
      "|    └─MaxPool3d: 2-8                    [-1, 64, 50, 40, 30]      --\n",
      "==========================================================================================\n",
      "Total params: 58,028\n",
      "Trainable params: 58,028\n",
      "Non-trainable params: 0\n",
      "Total mult-adds (G): 36.50\n",
      "==========================================================================================\n",
      "Input size (MB): 43.95\n",
      "Forward/backward pass size (MB): 1376.95\n",
      "Params size (MB): 0.22\n",
      "Estimated Total Size (MB): 1421.12\n",
      "==========================================================================================\n"
     ]
    },
    {
     "data": {
      "text/plain": [
       "==========================================================================================\n",
       "Layer (type:depth-idx)                   Output Shape              Param #\n",
       "==========================================================================================\n",
       "├─Sequential: 1-1                        [-1, 32, 100, 80, 60]     --\n",
       "|    └─MarkerBasedNorm3d: 2-1            [-1, 3, 200, 160, 120]    12\n",
       "|    └─Conv3d: 2-2                       [-1, 32, 200, 160, 120]   2,592\n",
       "|    └─ReLU: 2-3                         [-1, 32, 200, 160, 120]   --\n",
       "|    └─MaxPool3d: 2-4                    [-1, 32, 100, 80, 60]     --\n",
       "├─Sequential: 1-2                        [-1, 64, 50, 40, 30]      --\n",
       "|    └─MarkerBasedNorm3d: 2-5            [-1, 32, 100, 80, 60]     128\n",
       "|    └─Conv3d: 2-6                       [-1, 64, 100, 80, 60]     55,296\n",
       "|    └─ReLU: 2-7                         [-1, 64, 100, 80, 60]     --\n",
       "|    └─MaxPool3d: 2-8                    [-1, 64, 50, 40, 30]      --\n",
       "==========================================================================================\n",
       "Total params: 58,028\n",
       "Trainable params: 58,028\n",
       "Non-trainable params: 0\n",
       "Total mult-adds (G): 36.50\n",
       "==========================================================================================\n",
       "Input size (MB): 43.95\n",
       "Forward/backward pass size (MB): 1376.95\n",
       "Params size (MB): 0.22\n",
       "Estimated Total Size (MB): 1421.12\n",
       "=========================================================================================="
      ]
     },
     "execution_count": 8,
     "metadata": {},
     "output_type": "execute_result"
    }
   ],
   "source": [
    "print(encoder)\n",
    "summary(encoder, (bands, depth, nrows, ncols))"
   ]
  },
  {
   "cell_type": "markdown",
   "metadata": {},
   "source": [
    "***\n",
    "## Preparing FLIM U-NET\n",
    "Here, the U-Net is built according to the FLIM encoder."
   ]
  },
  {
   "cell_type": "code",
   "execution_count": 9,
   "metadata": {
    "id": "ROi8_8AewZXB"
   },
   "outputs": [],
   "source": [
    "def conv(in_channels, out_channels, padding=1):\n",
    "    return nn.Sequential(\n",
    "        nn.Conv3d(in_channels, out_channels, kernel_size=3, stride=1, padding=padding),\n",
    "        nn.BatchNorm3d(out_channels),\n",
    "        nn.ReLU(inplace=True),\n",
    "        #nn.BatchNorm3d(out_channels)\n",
    "    )"
   ]
  },
  {
   "cell_type": "markdown",
   "metadata": {},
   "source": [
    "All weights are initialized from with the xavier uniform distribution algorithm."
   ]
  },
  {
   "cell_type": "code",
   "execution_count": 10,
   "metadata": {},
   "outputs": [],
   "source": [
    "def init_weights(m):\n",
    "    if (isinstance(m,nn.Conv3d) or (isinstance(m,nn.ConvTranspose3d))):\n",
    "        torch.nn.init.xavier_uniform_(m.weight)\n",
    "        if m.bias is not None:\n",
    "            m.bias.data.fill_(0.01)"
   ]
  },
  {
   "cell_type": "code",
   "execution_count": 11,
   "metadata": {
    "id": "noHOfSF4wg6m"
   },
   "outputs": [],
   "source": [
    "class interp_up_conv(nn.Module):\n",
    "    def __init__(self,in_channels, out_channels, kernel_size=3, stride=1, padding=1,new_dim=(100,200,300)):\n",
    "        super().__init__()\n",
    "\n",
    "        self.new_D      = new_dim[0]\n",
    "        self.new_H      = new_dim[1]\n",
    "        self.new_W      = new_dim[2]\n",
    "        self.conv       = nn.Conv3d(in_channels, out_channels, kernel_size=kernel_size, stride=stride, padding=padding)\n",
    "        self.batch_norm = nn.BatchNorm3d(out_channels)\n",
    "        self.relu       = nn.ReLU(inplace=True)\n",
    "        self.conv.apply(init_weights)\n",
    "\n",
    "    def forward(self,x):\n",
    "\n",
    "        x = F.interpolate(x,(self.new_D,self.new_H,self.new_W),mode=\"trilinear\")\n",
    "        x = self.conv(x)\n",
    "        x = self.batch_norm(x)\n",
    "        x = self.relu(x)\n",
    "\n",
    "        return x\n",
    "\n",
    "\n",
    "def up_conv(in_channels, out_channels, kernel_size=2, padding=0, stride=2, output_padding=(0,0,0)):\n",
    "    return nn.Sequential(\n",
    "        nn.ConvTranspose3d(in_channels, out_channels, kernel_size=kernel_size, padding=padding, stride=stride, output_padding=output_padding),\n",
    "        nn.ReLU(inplace=True)\n",
    "    )"
   ]
  },
  {
   "cell_type": "markdown",
   "metadata": {},
   "source": [
    "Now, the class that defines the UNet decoder."
   ]
  },
  {
   "cell_type": "code",
   "execution_count": 12,
   "metadata": {
    "id": "vIJ-JtHiwiUu"
   },
   "outputs": [],
   "source": [
    "class UNetOneLayer(nn.Module):\n",
    "    def __init__(self, in_channels=3, out1_channels=32, out_channels=2):\n",
    "        super().__init__()\n",
    "        \n",
    "        self.block1     = encoder.block1 # in: 3  out: 32\n",
    "        self.bottleneck = nn.Conv3d(out1_channels, 2*out1_channels, kernel_size=3, stride=2, padding=(1,1,1))\n",
    "        self.up_conv1   = up_conv(2*out1_channels,out1_channels) \n",
    "        self.conv1      = conv(out1_channels+out1_channels,out1_channels)\n",
    "        self.up_conv2   = up_conv(out1_channels,out1_channels) \n",
    "        self.pred       = nn.Conv3d(out1_channels, out_channels, kernel_size=1)    \n",
    "\n",
    "        # Initilizing weights\n",
    "        self.bottleneck.apply(init_weights)\n",
    "        self.up_conv1.apply(init_weights)\n",
    "        self.conv1.apply(init_weights)\n",
    "        self.up_conv2.apply(init_weights)\n",
    "        self.pred.apply(init_weights)\n",
    "        \n",
    "    def forward(self, x):\n",
    "        shape = x.shape\n",
    "        input = x\n",
    "        \n",
    "        x1     = self.block1(x)\n",
    "        bottleneck = self.bottleneck(x1)\n",
    "        x      = self.up_conv1(bottleneck)\n",
    "        x      = torch.cat([x, x1], dim=1)\n",
    "        x      = self.conv1(x)\n",
    "        x      = self.up_conv2(x)\n",
    "        x      = self.pred(x)         \n",
    "    \n",
    "        return x\n",
    "\n",
    "class UNetTwoLayers(nn.Module):\n",
    "    def __init__(self, in_channels=3, out1_channels=32, out2_channels=64, out_channels=2):\n",
    "        super().__init__()\n",
    "        \n",
    "        self.block1     = encoder.block1 # in: 3  out: 32\n",
    "        self.block2     = encoder.block2 # in: 32 out: 64     \n",
    "        self.bottleneck = nn.Conv3d(out2_channels, 2*out2_channels, kernel_size=3, stride=2, padding=(1,1,1))\n",
    "        self.up_conv1   = up_conv(2*out2_channels,out2_channels) \n",
    "        self.conv1      = conv(out2_channels+out2_channels,out2_channels)\n",
    "        self.up_conv2   = up_conv(out2_channels,out1_channels) \n",
    "        self.conv2      = conv(out1_channels+out1_channels,out1_channels) \n",
    "        self.up_conv3   = up_conv(out1_channels,out1_channels)\n",
    "        self.pred       = nn.Conv3d(out1_channels, out_channels, kernel_size=1)    \n",
    "\n",
    "        # Initilizing weights\n",
    "        self.bottleneck.apply(init_weights)\n",
    "        self.up_conv1.apply(init_weights)\n",
    "        self.conv1.apply(init_weights)\n",
    "        self.up_conv2.apply(init_weights)\n",
    "        self.conv2.apply(init_weights)\n",
    "        self.up_conv3.apply(init_weights)\n",
    "        self.pred.apply(init_weights)\n",
    "        \n",
    "    def forward(self, x):\n",
    "        shape = x.shape\n",
    "        input = x\n",
    "        \n",
    "        x1     = self.block1(x)\n",
    "        x2     = self.block2(x1)        \n",
    "        bottleneck = self.bottleneck(x2)\n",
    "        x      = self.up_conv1(bottleneck)\n",
    "        x      = torch.cat([x, x2], dim=1)\n",
    "        x      = self.conv1(x)\n",
    "        x      = self.up_conv2(x)\n",
    "        x      = torch.cat([x, x1], dim=1)\n",
    "        x      = self.conv2(x)\n",
    "        x      = self.up_conv3(x) \n",
    "        x      = self.pred(x)         \n",
    "    \n",
    "        return x"
   ]
  },
  {
   "cell_type": "code",
   "execution_count": 13,
   "metadata": {},
   "outputs": [],
   "source": [
    "in_channels   = 3\n",
    "out1_channels = 32\n",
    "out2_channels = 64\n",
    "model = UNetTwoLayers(in_channels,out1_channels,out2_channels).to(device)\n",
    "#model = UNetOneLayer(in_channels,out1_channels).to(device)"
   ]
  },
  {
   "cell_type": "markdown",
   "metadata": {},
   "source": [
    "### Freezing layers\n",
    "Uncomment the blocks to freeze specific layers"
   ]
  },
  {
   "cell_type": "code",
   "execution_count": 14,
   "metadata": {},
   "outputs": [],
   "source": [
    "# Freezing encoder layers\n",
    "for param in model.block1.parameters():\n",
    "    param.requires_grad = False\n",
    "for param in model.block2.parameters():\n",
    "    param.requires_grad = False"
   ]
  },
  {
   "cell_type": "markdown",
   "metadata": {},
   "source": [
    "### Printing module"
   ]
  },
  {
   "cell_type": "code",
   "execution_count": 15,
   "metadata": {},
   "outputs": [
    {
     "name": "stdout",
     "output_type": "stream",
     "text": [
      "UNetOneLayer(\n",
      "  (block1): Sequential(\n",
      "    (m-norm1): MarkerBasedNorm3d(3, epsilon=0.001)\n",
      "    (conv1): Conv3d(3, 32, kernel_size=(3, 3, 3), stride=(1, 1, 1), padding=(1, 1, 1), bias=False)\n",
      "    (relu1): ReLU(inplace=True)\n",
      "    (pool1): MaxPool3d(kernel_size=[3, 3, 3], stride=2, padding=[1, 1, 1], dilation=1, ceil_mode=False)\n",
      "  )\n",
      "  (bottleneck): Conv3d(32, 64, kernel_size=(3, 3, 3), stride=(2, 2, 2), padding=(1, 1, 1))\n",
      "  (up_conv1): Sequential(\n",
      "    (0): ConvTranspose3d(64, 32, kernel_size=(2, 2, 2), stride=(2, 2, 2))\n",
      "    (1): ReLU(inplace=True)\n",
      "  )\n",
      "  (conv1): Sequential(\n",
      "    (0): Conv3d(64, 32, kernel_size=(3, 3, 3), stride=(1, 1, 1), padding=(1, 1, 1))\n",
      "    (1): BatchNorm3d(32, eps=1e-05, momentum=0.1, affine=True, track_running_stats=True)\n",
      "    (2): ReLU(inplace=True)\n",
      "  )\n",
      "  (up_conv2): Sequential(\n",
      "    (0): ConvTranspose3d(32, 32, kernel_size=(2, 2, 2), stride=(2, 2, 2))\n",
      "    (1): ReLU(inplace=True)\n",
      "  )\n",
      "  (pred): Conv3d(32, 2, kernel_size=(1, 1, 1), stride=(1, 1, 1))\n",
      ")\n",
      "==========================================================================================\n",
      "Layer (type:depth-idx)                   Output Shape              Param #\n",
      "==========================================================================================\n",
      "├─Sequential: 1-1                        [-1, 32, 100, 80, 60]     --\n",
      "|    └─MarkerBasedNorm3d: 2-1            [-1, 3, 200, 160, 120]    12\n",
      "|    └─Conv3d: 2-2                       [-1, 32, 200, 160, 120]   2,592\n",
      "|    └─ReLU: 2-3                         [-1, 32, 200, 160, 120]   --\n",
      "|    └─MaxPool3d: 2-4                    [-1, 32, 100, 80, 60]     --\n",
      "├─Conv3d: 1-2                            [-1, 64, 50, 40, 30]      55,360\n",
      "├─Sequential: 1-3                        [-1, 32, 100, 80, 60]     --\n",
      "|    └─ConvTranspose3d: 2-5              [-1, 32, 100, 80, 60]     16,416\n",
      "|    └─ReLU: 2-6                         [-1, 32, 100, 80, 60]     --\n",
      "├─Sequential: 1-4                        [-1, 32, 100, 80, 60]     --\n",
      "|    └─Conv3d: 2-7                       [-1, 32, 100, 80, 60]     55,328\n",
      "|    └─BatchNorm3d: 2-8                  [-1, 32, 100, 80, 60]     64\n",
      "|    └─ReLU: 2-9                         [-1, 32, 100, 80, 60]     --\n",
      "├─Sequential: 1-5                        [-1, 32, 200, 160, 120]   --\n",
      "|    └─ConvTranspose3d: 2-10             [-1, 32, 200, 160, 120]   8,224\n",
      "|    └─ReLU: 2-11                        [-1, 32, 200, 160, 120]   --\n",
      "├─Conv3d: 1-6                            [-1, 2, 200, 160, 120]    66\n",
      "==========================================================================================\n",
      "Total params: 138,062\n",
      "Trainable params: 138,062\n",
      "Non-trainable params: 0\n",
      "Total mult-adds (G): 79.38\n",
      "==========================================================================================\n",
      "Input size (MB): 43.95\n",
      "Forward/backward pass size (MB): 2402.34\n",
      "Params size (MB): 0.53\n",
      "Estimated Total Size (MB): 2446.82\n",
      "==========================================================================================\n"
     ]
    }
   ],
   "source": [
    "print(model)\n",
    "summary(model, (bands, depth, nrows, ncols))\n",
    "\n",
    "from contextlib import redirect_stdout\n",
    "\n",
    "with open(output_dir+'/model_summary.txt', 'w') as f:\n",
    "    with redirect_stdout(f):\n",
    "        summary(model, (bands, depth, nrows, ncols))"
   ]
  },
  {
   "cell_type": "markdown",
   "metadata": {},
   "source": [
    "***\n",
    "# Training FLIM U-NET\n",
    "\n",
    "Here is the definition of the our loss. The proposed loss for segmentation is the weighted CE + DICE loss. The original CE loss is susceptible to unbalanced data, and our images have small objects, therefore, we gave low weights (0.1) for the background and a high weight (0.9) to the object. If your case differs from the one just depicted, please fit the weights according to your problem."
   ]
  },
  {
   "cell_type": "code",
   "execution_count": 16,
   "metadata": {},
   "outputs": [],
   "source": [
    "def BinaryDice(prediction, targets):\n",
    "    targets    = targets != 0\n",
    "    prediction = prediction.cpu()\n",
    "    targets    = targets.cpu()\n",
    "    score      = []\n",
    "    for p, t in zip(prediction, targets):\n",
    "        score.append(binary.dc(p.numpy(), t.numpy()))\n",
    "    return torch.tensor(score).mean()\n",
    "\n",
    "def DiceLoss(prediction, targets, smooth=1):\n",
    "    inputs = torch.softmax(prediction, dim=1) # can be softmax or sigmoid\n",
    "    inputs = inputs[:,1,:,:,:]\n",
    "    inputs = inputs.contiguous().view(-1)\n",
    "    targets = targets.contiguous().view(-1)\n",
    "    intersection = (inputs * targets).sum()\n",
    "    dice_loss = 1 - (2 * intersection + smooth)/(inputs.sum() + targets.sum() + smooth)\n",
    "    return dice_loss\n",
    "\n",
    "def UnetLoss(preds, targets):\n",
    "    weights       = [0.1,0.9] # best -> [0.1, 0.9]\n",
    "    class_weights = torch.FloatTensor(weights).to(device)\n",
    "    ce            = nn.CrossEntropyLoss(weight=class_weights).to(device)\n",
    "\n",
    "    pred_labels = torch.max(preds, 1)[1] # same as argmax\n",
    "    dice_loss   = DiceLoss(preds, targets.long())\n",
    "    dice        = BinaryDice(targets.long(),pred_labels)\n",
    "    ce_loss     = ce(preds, targets.long())\n",
    "    loss        = ce_loss + dice_loss\n",
    "    return loss, dice"
   ]
  },
  {
   "cell_type": "code",
   "execution_count": 17,
   "metadata": {
    "id": "CzzQfvyrwx6M"
   },
   "outputs": [],
   "source": [
    "def train_batch(model, data, optimizer, criterion, device):\n",
    "    model.train()\n",
    "    ims, masks = data\n",
    "    ims   = ims.to(device=device)\n",
    "    masks = masks.to(device=device)\n",
    "    _masks = model(ims)\n",
    "    loss, dice = criterion(_masks, masks)\n",
    "    loss.backward()\n",
    "    optimizer.step()\n",
    "    optimizer.zero_grad()\n",
    "    return loss.item(), dice.item()\n",
    "\n",
    "@torch.no_grad()\n",
    "def validate_batch(model, data, criterion, device):\n",
    "    model.eval()\n",
    "    ims, masks = data\n",
    "    ims   = ims.to(device=device)\n",
    "    masks = masks.to(device=device)\n",
    "    _masks = model(ims)\n",
    "    loss, dice = criterion(_masks, masks)\n",
    "    return loss.item(), dice.item()"
   ]
  },
  {
   "cell_type": "code",
   "execution_count": 18,
   "metadata": {
    "colab": {
     "base_uri": "https://localhost:8080/",
     "height": 83,
     "referenced_widgets": [
      "5292c3b952b3466f9c2d05bf97dc3fcc",
      "bd6d2b25f8254a77925ed65471913b48",
      "300e54bb169442a19c843ee9b240ae51",
      "f06a86af1f854643bcc67d7921214717",
      "a25e41d7ae29488788c6c3b1cee7d00e",
      "0431d166f9d946a1a9cb6da37e08e900",
      "433a0a7d7d4b49f9bfcf610c9d0f66ad",
      "b0d5e6d13dd14b02a3e60517301dfeb6"
     ]
    },
    "id": "wob9T8n7w0Q-",
    "outputId": "658203d6-fdb0-43f3-8148-076003acbac5"
   },
   "outputs": [],
   "source": [
    "criterion = UnetLoss\n",
    "learning_rate = 1e-2\n",
    "optimizer = optim.Adam(model.parameters(), lr=learning_rate,  weight_decay=1e-4)\n",
    "scheduler = optim.lr_scheduler.StepLR(optimizer, step_size=50, gamma=0.1)\n",
    "n_epochs  = 150"
   ]
  },
  {
   "cell_type": "code",
   "execution_count": 19,
   "metadata": {
    "colab": {
     "base_uri": "https://localhost:8080/"
    },
    "id": "6OfgZty5w1ie",
    "outputId": "5a5c52da-1287-4f0e-f1a1-4740da8c608a"
   },
   "outputs": [
    {
     "name": "stdout",
     "output_type": "stream",
     "text": [
      "EPOCH: 1.000\ttrn_loss: 1.466\ttrn_dice: 0.222\tval_loss: 0.928\tval_dice: 0.259\t(7.36s - 1096.02s remaining)\n",
      "EPOCH: 2.000\ttrn_loss: 0.875\ttrn_dice: 0.626\tval_loss: 0.776\tval_dice: 0.435\t(14.61s - 1081.11s remaining)\n",
      "EPOCH: 3.000\ttrn_loss: 0.475\ttrn_dice: 0.670\tval_loss: 0.503\tval_dice: 0.702\t(21.94s - 1075.24s remaining)\n",
      "EPOCH: 4.000\ttrn_loss: 0.486\ttrn_dice: 0.697\tval_loss: 0.286\tval_dice: 0.795\t(29.26s - 1068.00s remaining)\n",
      "EPOCH: 5.000\ttrn_loss: 0.442\ttrn_dice: 0.688\tval_loss: 0.436\tval_dice: 0.750\t(36.51s - 1058.84s remaining)\n",
      "EPOCH: 6.000\ttrn_loss: 0.378\ttrn_dice: 0.757\tval_loss: 0.341\tval_dice: 0.789\t(43.81s - 1051.47s remaining)\n",
      "EPOCH: 7.000\ttrn_loss: 0.390\ttrn_dice: 0.743\tval_loss: 0.332\tval_dice: 0.752\t(51.10s - 1043.95s remaining)\n",
      "EPOCH: 8.000\ttrn_loss: 0.341\ttrn_dice: 0.783\tval_loss: 0.289\tval_dice: 0.777\t(58.30s - 1034.89s remaining)\n",
      "EPOCH: 9.000\ttrn_loss: 0.481\ttrn_dice: 0.645\tval_loss: 0.343\tval_dice: 0.717\t(65.60s - 1027.71s remaining)\n",
      "EPOCH: 10.000\ttrn_loss: 0.387\ttrn_dice: 0.761\tval_loss: 0.334\tval_dice: 0.793\t(72.89s - 1020.43s remaining)\n",
      "EPOCH: 11.000\ttrn_loss: 0.414\ttrn_dice: 0.722\tval_loss: 0.347\tval_dice: 0.742\t(80.04s - 1011.47s remaining)\n",
      "EPOCH: 12.000\ttrn_loss: 0.395\ttrn_dice: 0.716\tval_loss: 0.353\tval_dice: 0.774\t(87.33s - 1004.32s remaining)\n",
      "EPOCH: 13.000\ttrn_loss: 0.379\ttrn_dice: 0.774\tval_loss: 0.340\tval_dice: 0.764\t(94.62s - 997.18s remaining)\n",
      "EPOCH: 14.000\ttrn_loss: 0.410\ttrn_dice: 0.700\tval_loss: 0.352\tval_dice: 0.761\t(101.96s - 990.42s remaining)\n",
      "EPOCH: 15.000\ttrn_loss: 0.376\ttrn_dice: 0.723\tval_loss: 0.338\tval_dice: 0.784\t(109.28s - 983.52s remaining)\n",
      "EPOCH: 16.000\ttrn_loss: 0.354\ttrn_dice: 0.776\tval_loss: 0.327\tval_dice: 0.765\t(116.58s - 976.39s remaining)\n",
      "EPOCH: 17.000\ttrn_loss: 0.355\ttrn_dice: 0.774\tval_loss: 0.333\tval_dice: 0.787\t(123.95s - 969.76s remaining)\n",
      "EPOCH: 18.000\ttrn_loss: 0.343\ttrn_dice: 0.778\tval_loss: 0.351\tval_dice: 0.793\t(131.27s - 962.65s remaining)\n",
      "EPOCH: 19.000\ttrn_loss: 0.386\ttrn_dice: 0.742\tval_loss: 0.340\tval_dice: 0.799\t(138.57s - 955.39s remaining)\n",
      "EPOCH: 20.000\ttrn_loss: 0.319\ttrn_dice: 0.784\tval_loss: 0.296\tval_dice: 0.815\t(145.99s - 948.92s remaining)\n",
      "EPOCH: 21.000\ttrn_loss: 0.398\ttrn_dice: 0.728\tval_loss: 0.369\tval_dice: 0.763\t(153.28s - 941.59s remaining)\n",
      "EPOCH: 22.000\ttrn_loss: 0.351\ttrn_dice: 0.779\tval_loss: 0.330\tval_dice: 0.799\t(160.57s - 934.20s remaining)\n",
      "EPOCH: 23.000\ttrn_loss: 0.336\ttrn_dice: 0.768\tval_loss: 0.320\tval_dice: 0.804\t(167.93s - 927.24s remaining)\n",
      "EPOCH: 24.000\ttrn_loss: 0.344\ttrn_dice: 0.758\tval_loss: 0.329\tval_dice: 0.793\t(175.39s - 920.78s remaining)\n",
      "EPOCH: 25.000\ttrn_loss: 0.346\ttrn_dice: 0.800\tval_loss: 0.290\tval_dice: 0.805\t(182.80s - 914.02s remaining)\n",
      "EPOCH: 26.000\ttrn_loss: 0.370\ttrn_dice: 0.733\tval_loss: 0.352\tval_dice: 0.762\t(190.21s - 907.15s remaining)\n",
      "EPOCH: 27.000\ttrn_loss: 0.346\ttrn_dice: 0.776\tval_loss: 0.343\tval_dice: 0.758\t(197.65s - 900.43s remaining)\n",
      "EPOCH: 28.000\ttrn_loss: 0.385\ttrn_dice: 0.744\tval_loss: 0.332\tval_dice: 0.782\t(205.09s - 893.60s remaining)\n",
      "EPOCH: 29.000\ttrn_loss: 0.339\ttrn_dice: 0.776\tval_loss: 0.258\tval_dice: 0.831\t(212.46s - 886.49s remaining)\n",
      "EPOCH: 30.000\ttrn_loss: 0.401\ttrn_dice: 0.731\tval_loss: 0.310\tval_dice: 0.775\t(219.87s - 879.49s remaining)\n",
      "EPOCH: 31.000\ttrn_loss: 0.367\ttrn_dice: 0.762\tval_loss: 0.290\tval_dice: 0.807\t(227.21s - 872.19s remaining)\n",
      "EPOCH: 32.000\ttrn_loss: 0.311\ttrn_dice: 0.787\tval_loss: 0.270\tval_dice: 0.825\t(234.55s - 864.90s remaining)\n",
      "EPOCH: 33.000\ttrn_loss: 0.383\ttrn_dice: 0.743\tval_loss: 0.336\tval_dice: 0.782\t(242.11s - 858.38s remaining)\n",
      "EPOCH: 34.000\ttrn_loss: 0.310\ttrn_dice: 0.804\tval_loss: 0.358\tval_dice: 0.833\t(249.57s - 851.47s remaining)\n",
      "EPOCH: 35.000\ttrn_loss: 0.427\ttrn_dice: 0.717\tval_loss: 0.376\tval_dice: 0.756\t(257.04s - 844.55s remaining)\n",
      "EPOCH: 36.000\ttrn_loss: 0.437\ttrn_dice: 0.764\tval_loss: 0.336\tval_dice: 0.780\t(264.54s - 837.71s remaining)\n",
      "EPOCH: 37.000\ttrn_loss: 0.398\ttrn_dice: 0.767\tval_loss: 0.458\tval_dice: 0.728\t(272.00s - 830.70s remaining)\n",
      "EPOCH: 38.000\ttrn_loss: 0.446\ttrn_dice: 0.691\tval_loss: 0.525\tval_dice: 0.647\t(279.37s - 823.41s remaining)\n",
      "EPOCH: 39.000\ttrn_loss: 0.430\ttrn_dice: 0.747\tval_loss: 0.472\tval_dice: 0.645\t(286.72s - 816.06s remaining)\n",
      "EPOCH: 40.000\ttrn_loss: 0.476\ttrn_dice: 0.632\tval_loss: 0.282\tval_dice: 0.787\t(294.13s - 808.87s remaining)\n",
      "EPOCH: 41.000\ttrn_loss: 0.436\ttrn_dice: 0.710\tval_loss: 0.363\tval_dice: 0.746\t(301.62s - 801.87s remaining)\n",
      "EPOCH: 42.000\ttrn_loss: 0.388\ttrn_dice: 0.755\tval_loss: 0.339\tval_dice: 0.754\t(308.99s - 794.56s remaining)\n",
      "EPOCH: 43.000\ttrn_loss: 0.439\ttrn_dice: 0.698\tval_loss: 0.295\tval_dice: 0.798\t(316.45s - 787.46s remaining)\n",
      "EPOCH: 44.000\ttrn_loss: 0.385\ttrn_dice: 0.719\tval_loss: 0.351\tval_dice: 0.771\t(324.04s - 780.63s remaining)\n",
      "EPOCH: 45.000\ttrn_loss: 0.349\ttrn_dice: 0.791\tval_loss: 0.335\tval_dice: 0.789\t(331.54s - 773.60s remaining)\n",
      "EPOCH: 46.000\ttrn_loss: 0.422\ttrn_dice: 0.717\tval_loss: 0.383\tval_dice: 0.739\t(338.96s - 766.34s remaining)\n",
      "EPOCH: 47.000\ttrn_loss: 0.414\ttrn_dice: 0.711\tval_loss: 0.347\tval_dice: 0.789\t(346.43s - 759.20s remaining)\n",
      "EPOCH: 48.000\ttrn_loss: 0.396\ttrn_dice: 0.735\tval_loss: 0.372\tval_dice: 0.757\t(353.78s - 751.79s remaining)\n",
      "EPOCH: 49.000\ttrn_loss: 0.361\ttrn_dice: 0.778\tval_loss: 0.348\tval_dice: 0.794\t(361.25s - 744.62s remaining)\n",
      "EPOCH: 50.000\ttrn_loss: 0.343\ttrn_dice: 0.755\tval_loss: 0.294\tval_dice: 0.816\t(368.86s - 737.72s remaining)\n",
      "updating learning rate: 0.001\n",
      "EPOCH: 51.000\ttrn_loss: 0.357\ttrn_dice: 0.749\tval_loss: 0.335\tval_dice: 0.760\t(376.42s - 730.70s remaining)\n",
      "EPOCH: 52.000\ttrn_loss: 0.374\ttrn_dice: 0.729\tval_loss: 0.309\tval_dice: 0.792\t(383.82s - 723.35s remaining)\n",
      "EPOCH: 53.000\ttrn_loss: 0.355\ttrn_dice: 0.760\tval_loss: 0.294\tval_dice: 0.822\t(391.26s - 716.07s remaining)\n",
      "EPOCH: 54.000\ttrn_loss: 0.322\ttrn_dice: 0.775\tval_loss: 0.326\tval_dice: 0.762\t(398.64s - 708.68s remaining)\n",
      "EPOCH: 55.000\ttrn_loss: 0.416\ttrn_dice: 0.753\tval_loss: 0.318\tval_dice: 0.801\t(406.06s - 701.38s remaining)\n",
      "EPOCH: 56.000\ttrn_loss: 0.317\ttrn_dice: 0.784\tval_loss: 0.308\tval_dice: 0.792\t(413.43s - 693.96s remaining)\n",
      "EPOCH: 57.000\ttrn_loss: 0.388\ttrn_dice: 0.758\tval_loss: 0.306\tval_dice: 0.791\t(421.06s - 687.00s remaining)\n",
      "EPOCH: 58.000\ttrn_loss: 0.351\ttrn_dice: 0.765\tval_loss: 0.277\tval_dice: 0.817\t(428.47s - 679.65s remaining)\n",
      "EPOCH: 59.000\ttrn_loss: 0.377\ttrn_dice: 0.738\tval_loss: 0.305\tval_dice: 0.792\t(435.80s - 672.17s remaining)\n",
      "EPOCH: 60.000\ttrn_loss: 0.357\ttrn_dice: 0.751\tval_loss: 0.323\tval_dice: 0.762\t(443.14s - 664.72s remaining)\n",
      "EPOCH: 61.000\ttrn_loss: 0.355\ttrn_dice: 0.780\tval_loss: 0.309\tval_dice: 0.793\t(450.51s - 657.30s remaining)\n",
      "EPOCH: 62.000\ttrn_loss: 0.363\ttrn_dice: 0.764\tval_loss: 0.290\tval_dice: 0.824\t(457.89s - 649.91s remaining)\n",
      "EPOCH: 63.000\ttrn_loss: 0.360\ttrn_dice: 0.747\tval_loss: 0.320\tval_dice: 0.763\t(465.20s - 642.42s remaining)\n",
      "EPOCH: 64.000\ttrn_loss: 0.335\ttrn_dice: 0.770\tval_loss: 0.317\tval_dice: 0.802\t(472.64s - 635.10s remaining)\n",
      "EPOCH: 65.000\ttrn_loss: 0.342\ttrn_dice: 0.789\tval_loss: 0.308\tval_dice: 0.792\t(480.00s - 627.69s remaining)\n",
      "EPOCH: 66.000\ttrn_loss: 0.406\ttrn_dice: 0.756\tval_loss: 0.279\tval_dice: 0.816\t(487.35s - 620.27s remaining)\n",
      "EPOCH: 67.000\ttrn_loss: 0.364\ttrn_dice: 0.742\tval_loss: 0.327\tval_dice: 0.770\t(494.79s - 612.95s remaining)\n",
      "EPOCH: 68.000\ttrn_loss: 0.340\ttrn_dice: 0.767\tval_loss: 0.302\tval_dice: 0.795\t(502.19s - 605.58s remaining)\n",
      "EPOCH: 69.000\ttrn_loss: 0.363\ttrn_dice: 0.748\tval_loss: 0.295\tval_dice: 0.787\t(509.58s - 598.20s remaining)\n",
      "EPOCH: 70.000\ttrn_loss: 0.348\ttrn_dice: 0.789\tval_loss: 0.293\tval_dice: 0.824\t(517.00s - 590.85s remaining)\n",
      "EPOCH: 71.000\ttrn_loss: 0.343\ttrn_dice: 0.767\tval_loss: 0.305\tval_dice: 0.794\t(524.41s - 583.50s remaining)\n",
      "EPOCH: 72.000\ttrn_loss: 0.335\ttrn_dice: 0.780\tval_loss: 0.318\tval_dice: 0.765\t(531.81s - 576.12s remaining)\n",
      "EPOCH: 73.000\ttrn_loss: 0.335\ttrn_dice: 0.780\tval_loss: 0.305\tval_dice: 0.795\t(539.13s - 568.67s remaining)\n",
      "EPOCH: 74.000\ttrn_loss: 0.348\ttrn_dice: 0.768\tval_loss: 0.315\tval_dice: 0.803\t(546.50s - 561.27s remaining)\n",
      "EPOCH: 75.000\ttrn_loss: 0.389\ttrn_dice: 0.765\tval_loss: 0.303\tval_dice: 0.793\t(553.90s - 553.90s remaining)\n",
      "EPOCH: 76.000\ttrn_loss: 0.349\ttrn_dice: 0.760\tval_loss: 0.274\tval_dice: 0.819\t(561.36s - 546.59s remaining)\n",
      "EPOCH: 77.000\ttrn_loss: 0.350\ttrn_dice: 0.762\tval_loss: 0.300\tval_dice: 0.795\t(568.80s - 539.25s remaining)\n",
      "EPOCH: 78.000\ttrn_loss: 0.359\ttrn_dice: 0.765\tval_loss: 0.325\tval_dice: 0.774\t(576.30s - 531.97s remaining)\n",
      "EPOCH: 79.000\ttrn_loss: 0.331\ttrn_dice: 0.779\tval_loss: 0.294\tval_dice: 0.786\t(583.75s - 524.63s remaining)\n",
      "EPOCH: 80.000\ttrn_loss: 0.356\ttrn_dice: 0.781\tval_loss: 0.293\tval_dice: 0.824\t(591.23s - 517.33s remaining)\n",
      "EPOCH: 81.000\ttrn_loss: 0.343\ttrn_dice: 0.771\tval_loss: 0.313\tval_dice: 0.767\t(598.64s - 509.95s remaining)\n",
      "EPOCH: 82.000\ttrn_loss: 0.341\ttrn_dice: 0.771\tval_loss: 0.291\tval_dice: 0.824\t(606.09s - 502.61s remaining)\n",
      "EPOCH: 83.000\ttrn_loss: 0.322\ttrn_dice: 0.781\tval_loss: 0.303\tval_dice: 0.796\t(613.53s - 495.26s remaining)\n",
      "EPOCH: 84.000\ttrn_loss: 0.356\ttrn_dice: 0.766\tval_loss: 0.321\tval_dice: 0.774\t(621.03s - 487.95s remaining)\n",
      "EPOCH: 85.000\ttrn_loss: 0.392\ttrn_dice: 0.754\tval_loss: 0.286\tval_dice: 0.788\t(628.37s - 480.52s remaining)\n",
      "EPOCH: 86.000\ttrn_loss: 0.366\ttrn_dice: 0.749\tval_loss: 0.295\tval_dice: 0.795\t(635.83s - 473.18s remaining)\n",
      "EPOCH: 87.000\ttrn_loss: 0.331\ttrn_dice: 0.762\tval_loss: 0.281\tval_dice: 0.827\t(643.17s - 465.74s remaining)\n",
      "EPOCH: 88.000\ttrn_loss: 0.357\ttrn_dice: 0.767\tval_loss: 0.303\tval_dice: 0.796\t(650.53s - 458.33s remaining)\n",
      "EPOCH: 89.000\ttrn_loss: 0.326\ttrn_dice: 0.779\tval_loss: 0.321\tval_dice: 0.767\t(657.95s - 450.96s remaining)\n",
      "EPOCH: 90.000\ttrn_loss: 0.353\ttrn_dice: 0.791\tval_loss: 0.289\tval_dice: 0.827\t(665.44s - 443.63s remaining)\n",
      "EPOCH: 91.000\ttrn_loss: 0.356\ttrn_dice: 0.762\tval_loss: 0.299\tval_dice: 0.798\t(672.79s - 436.21s remaining)\n",
      "EPOCH: 92.000\ttrn_loss: 0.340\ttrn_dice: 0.767\tval_loss: 0.325\tval_dice: 0.776\t(680.08s - 428.75s remaining)\n",
      "EPOCH: 93.000\ttrn_loss: 0.352\ttrn_dice: 0.776\tval_loss: 0.295\tval_dice: 0.787\t(687.50s - 421.37s remaining)\n",
      "EPOCH: 94.000\ttrn_loss: 0.320\ttrn_dice: 0.786\tval_loss: 0.291\tval_dice: 0.826\t(694.96s - 414.02s remaining)\n",
      "EPOCH: 95.000\ttrn_loss: 0.384\ttrn_dice: 0.756\tval_loss: 0.321\tval_dice: 0.776\t(702.48s - 406.70s remaining)\n",
      "EPOCH: 96.000\ttrn_loss: 0.331\ttrn_dice: 0.780\tval_loss: 0.284\tval_dice: 0.790\t(710.01s - 399.38s remaining)\n",
      "EPOCH: 97.000\ttrn_loss: 0.348\ttrn_dice: 0.765\tval_loss: 0.275\tval_dice: 0.830\t(717.48s - 392.03s remaining)\n",
      "EPOCH: 98.000\ttrn_loss: 0.348\ttrn_dice: 0.756\tval_loss: 0.323\tval_dice: 0.775\t(724.99s - 384.69s remaining)\n",
      "EPOCH: 99.000\ttrn_loss: 0.348\ttrn_dice: 0.777\tval_loss: 0.300\tval_dice: 0.798\t(732.50s - 377.35s remaining)\n",
      "EPOCH: 100.000\ttrn_loss: 0.384\ttrn_dice: 0.753\tval_loss: 0.288\tval_dice: 0.789\t(740.17s - 370.09s remaining)\n",
      "updating learning rate: 0.0001\n",
      "EPOCH: 101.000\ttrn_loss: 0.333\ttrn_dice: 0.787\tval_loss: 0.295\tval_dice: 0.799\t(747.57s - 362.68s remaining)\n",
      "EPOCH: 102.000\ttrn_loss: 0.356\ttrn_dice: 0.773\tval_loss: 0.293\tval_dice: 0.799\t(755.07s - 355.33s remaining)\n",
      "EPOCH: 103.000\ttrn_loss: 0.347\ttrn_dice: 0.760\tval_loss: 0.277\tval_dice: 0.830\t(762.57s - 347.97s remaining)\n",
      "EPOCH: 104.000\ttrn_loss: 0.339\ttrn_dice: 0.769\tval_loss: 0.293\tval_dice: 0.799\t(770.05s - 340.60s remaining)\n",
      "EPOCH: 105.000\ttrn_loss: 0.323\ttrn_dice: 0.779\tval_loss: 0.295\tval_dice: 0.798\t(777.61s - 333.26s remaining)\n",
      "EPOCH: 106.000\ttrn_loss: 0.333\ttrn_dice: 0.779\tval_loss: 0.294\tval_dice: 0.799\t(785.19s - 325.93s remaining)\n",
      "EPOCH: 107.000\ttrn_loss: 0.376\ttrn_dice: 0.767\tval_loss: 0.308\tval_dice: 0.769\t(792.66s - 318.55s remaining)\n",
      "EPOCH: 108.000\ttrn_loss: 0.381\ttrn_dice: 0.765\tval_loss: 0.278\tval_dice: 0.830\t(800.11s - 311.15s remaining)\n",
      "EPOCH: 109.000\ttrn_loss: 0.373\ttrn_dice: 0.764\tval_loss: 0.292\tval_dice: 0.799\t(807.59s - 303.77s remaining)\n",
      "EPOCH: 110.000\ttrn_loss: 0.331\ttrn_dice: 0.775\tval_loss: 0.308\tval_dice: 0.768\t(815.05s - 296.38s remaining)\n",
      "EPOCH: 111.000\ttrn_loss: 0.332\ttrn_dice: 0.790\tval_loss: 0.303\tval_dice: 0.806\t(822.46s - 288.97s remaining)\n",
      "EPOCH: 112.000\ttrn_loss: 0.327\ttrn_dice: 0.771\tval_loss: 0.282\tval_dice: 0.792\t(829.90s - 281.57s remaining)\n",
      "EPOCH: 113.000\ttrn_loss: 0.359\ttrn_dice: 0.762\tval_loss: 0.304\tval_dice: 0.807\t(837.33s - 274.17s remaining)\n",
      "EPOCH: 114.000\ttrn_loss: 0.341\ttrn_dice: 0.786\tval_loss: 0.294\tval_dice: 0.799\t(844.70s - 266.75s remaining)\n",
      "EPOCH: 115.000\ttrn_loss: 0.332\ttrn_dice: 0.774\tval_loss: 0.271\tval_dice: 0.822\t(852.14s - 259.35s remaining)\n",
      "EPOCH: 116.000\ttrn_loss: 0.329\ttrn_dice: 0.791\tval_loss: 0.320\tval_dice: 0.777\t(859.52s - 251.93s remaining)\n",
      "EPOCH: 117.000\ttrn_loss: 0.354\ttrn_dice: 0.770\tval_loss: 0.296\tval_dice: 0.800\t(866.90s - 244.51s remaining)\n",
      "EPOCH: 118.000\ttrn_loss: 0.339\ttrn_dice: 0.790\tval_loss: 0.296\tval_dice: 0.799\t(874.32s - 237.10s remaining)\n",
      "EPOCH: 119.000\ttrn_loss: 0.351\ttrn_dice: 0.772\tval_loss: 0.295\tval_dice: 0.799\t(881.80s - 229.71s remaining)\n",
      "EPOCH: 120.000\ttrn_loss: 0.346\ttrn_dice: 0.775\tval_loss: 0.271\tval_dice: 0.822\t(889.26s - 222.31s remaining)\n",
      "EPOCH: 121.000\ttrn_loss: 0.350\ttrn_dice: 0.771\tval_loss: 0.320\tval_dice: 0.778\t(896.69s - 214.91s remaining)\n",
      "EPOCH: 122.000\ttrn_loss: 0.341\ttrn_dice: 0.788\tval_loss: 0.286\tval_dice: 0.791\t(904.12s - 207.50s remaining)\n",
      "EPOCH: 123.000\ttrn_loss: 0.355\ttrn_dice: 0.764\tval_loss: 0.296\tval_dice: 0.799\t(911.61s - 200.11s remaining)\n",
      "EPOCH: 124.000\ttrn_loss: 0.317\ttrn_dice: 0.797\tval_loss: 0.305\tval_dice: 0.807\t(918.91s - 192.67s remaining)\n",
      "EPOCH: 125.000\ttrn_loss: 0.389\ttrn_dice: 0.763\tval_loss: 0.267\tval_dice: 0.823\t(926.25s - 185.25s remaining)\n",
      "EPOCH: 126.000\ttrn_loss: 0.347\ttrn_dice: 0.758\tval_loss: 0.320\tval_dice: 0.776\t(933.95s - 177.89s remaining)\n",
      "EPOCH: 127.000\ttrn_loss: 0.332\ttrn_dice: 0.795\tval_loss: 0.268\tval_dice: 0.823\t(941.50s - 170.51s remaining)\n",
      "EPOCH: 128.000\ttrn_loss: 0.343\ttrn_dice: 0.769\tval_loss: 0.319\tval_dice: 0.776\t(949.05s - 163.12s remaining)\n",
      "EPOCH: 129.000\ttrn_loss: 0.308\ttrn_dice: 0.782\tval_loss: 0.283\tval_dice: 0.792\t(956.38s - 155.69s remaining)\n",
      "EPOCH: 130.000\ttrn_loss: 0.391\ttrn_dice: 0.757\tval_loss: 0.304\tval_dice: 0.807\t(963.74s - 148.27s remaining)\n",
      "EPOCH: 131.000\ttrn_loss: 0.334\ttrn_dice: 0.789\tval_loss: 0.295\tval_dice: 0.799\t(971.18s - 140.86s remaining)\n",
      "EPOCH: 132.000\ttrn_loss: 0.353\ttrn_dice: 0.771\tval_loss: 0.294\tval_dice: 0.800\t(978.67s - 133.46s remaining)\n",
      "EPOCH: 133.000\ttrn_loss: 0.350\ttrn_dice: 0.778\tval_loss: 0.294\tval_dice: 0.799\t(986.18s - 126.05s remaining)\n",
      "EPOCH: 134.000\ttrn_loss: 0.324\ttrn_dice: 0.773\tval_loss: 0.266\tval_dice: 0.823\t(993.55s - 118.63s remaining)\n",
      "EPOCH: 135.000\ttrn_loss: 0.369\ttrn_dice: 0.765\tval_loss: 0.319\tval_dice: 0.775\t(1001.03s - 111.23s remaining)\n",
      "EPOCH: 136.000\ttrn_loss: 0.344\ttrn_dice: 0.761\tval_loss: 0.293\tval_dice: 0.800\t(1008.48s - 103.81s remaining)\n",
      "EPOCH: 137.000\ttrn_loss: 0.345\ttrn_dice: 0.785\tval_loss: 0.269\tval_dice: 0.822\t(1015.90s - 96.40s remaining)\n",
      "EPOCH: 138.000\ttrn_loss: 0.328\ttrn_dice: 0.775\tval_loss: 0.319\tval_dice: 0.777\t(1023.24s - 88.98s remaining)\n",
      "EPOCH: 139.000\ttrn_loss: 0.338\ttrn_dice: 0.774\tval_loss: 0.284\tval_dice: 0.792\t(1030.77s - 81.57s remaining)\n",
      "EPOCH: 140.000\ttrn_loss: 0.357\ttrn_dice: 0.771\tval_loss: 0.282\tval_dice: 0.829\t(1038.26s - 74.16s remaining)\n",
      "EPOCH: 141.000\ttrn_loss: 0.333\ttrn_dice: 0.796\tval_loss: 0.310\tval_dice: 0.770\t(1045.77s - 66.75s remaining)\n",
      "EPOCH: 142.000\ttrn_loss: 0.355\ttrn_dice: 0.774\tval_loss: 0.281\tval_dice: 0.830\t(1053.32s - 59.34s remaining)\n",
      "EPOCH: 143.000\ttrn_loss: 0.348\ttrn_dice: 0.772\tval_loss: 0.319\tval_dice: 0.777\t(1060.91s - 51.93s remaining)\n",
      "EPOCH: 144.000\ttrn_loss: 0.343\ttrn_dice: 0.766\tval_loss: 0.284\tval_dice: 0.792\t(1068.46s - 44.52s remaining)\n",
      "EPOCH: 145.000\ttrn_loss: 0.335\ttrn_dice: 0.786\tval_loss: 0.305\tval_dice: 0.808\t(1075.87s - 37.10s remaining)\n",
      "EPOCH: 146.000\ttrn_loss: 0.316\ttrn_dice: 0.796\tval_loss: 0.270\tval_dice: 0.822\t(1083.45s - 29.68s remaining)\n",
      "EPOCH: 147.000\ttrn_loss: 0.371\ttrn_dice: 0.767\tval_loss: 0.319\tval_dice: 0.777\t(1091.05s - 22.27s remaining)\n",
      "EPOCH: 148.000\ttrn_loss: 0.337\ttrn_dice: 0.774\tval_loss: 0.267\tval_dice: 0.823\t(1098.39s - 14.84s remaining)\n",
      "EPOCH: 149.000\ttrn_loss: 0.300\ttrn_dice: 0.791\tval_loss: 0.308\tval_dice: 0.769\t(1105.78s - 7.42s remaining)\n",
      "EPOCH: 150.000\ttrn_loss: 0.393\ttrn_dice: 0.763\tval_loss: 0.302\tval_dice: 0.807\t(1113.17s - 0.00s remaining)\n",
      "updating learning rate: 1e-05\n"
     ]
    }
   ],
   "source": [
    "# initializing variables\n",
    "log = Report(n_epochs)\n",
    "current_lr = learning_rate\n",
    "final_val_dice = 0\n",
    "\n",
    "# starting training\n",
    "for ex in range(n_epochs):\n",
    "    N = len(train_dl)\n",
    "    for bx, data in enumerate(train_dl):\n",
    "        loss, dice = train_batch(model, data, optimizer, criterion, device)\n",
    "        log.record((ex+(bx+1)/N), trn_loss=loss, trn_dice=dice, end='\\r')\n",
    "\n",
    "    N = len(test_dl)\n",
    "    for bx, data in enumerate(test_dl):\n",
    "        loss, dice = validate_batch(model, data, criterion, device)\n",
    "        final_val_dice = dice\n",
    "        log.record((ex+(bx+1)/N), val_loss=loss, val_dice=dice, end='\\r')\n",
    "\n",
    "    log.report_avgs(ex+1)\n",
    "    scheduler.step()\n",
    "    if scheduler.get_last_lr()[0] < current_lr:\n",
    "        current_lr = scheduler.get_last_lr()[0]\n",
    "        print(\"updating learning rate: \"+str(current_lr))"
   ]
  },
  {
   "cell_type": "code",
   "execution_count": 20,
   "metadata": {
    "colab": {
     "base_uri": "https://localhost:8080/",
     "height": 473
    },
    "id": "qO45oGH7w9vr",
    "outputId": "995f5e7c-b75f-4013-f070-6b9207c16949"
   },
   "outputs": [
    {
     "name": "stderr",
     "output_type": "stream",
     "text": [
      "100%|███████████████████████████████████████| 251/251 [00:00<00:00, 8920.50it/s]\n"
     ]
    },
    {
     "data": {
      "image/png": "[encoded data removed]",
      "text/plain": [
       "<Figure size 576x432 with 1 Axes>"
      ]
     },
     "metadata": {
      "needs_background": "light"
     },
     "output_type": "display_data"
    }
   ],
   "source": [
    "log.plot_epochs(['trn_loss','val_loss'])"
   ]
  },
  {
   "cell_type": "code",
   "execution_count": 21,
   "metadata": {},
   "outputs": [
    {
     "name": "stderr",
     "output_type": "stream",
     "text": [
      "100%|███████████████████████████████████████| 251/251 [00:00<00:00, 3215.26it/s]\n"
     ]
    },
    {
     "data": {
      "image/png": "[encoded data removed]",
      "text/plain": [
       "<Figure size 576x432 with 1 Axes>"
      ]
     },
     "metadata": {
      "needs_background": "light"
     },
     "output_type": "display_data"
    }
   ],
   "source": [
    "log.plot_epochs(['trn_dice','val_dice'])"
   ]
  },
  {
   "cell_type": "markdown",
   "metadata": {},
   "source": [
    "***\n",
    "## Saving model"
   ]
  },
  {
   "cell_type": "code",
   "execution_count": 22,
   "metadata": {},
   "outputs": [
    {
     "name": "stdout",
     "output_type": "stream",
     "text": [
      "Saving model in LIDS format...\n"
     ]
    }
   ],
   "source": [
    "# Creating output model dir\n",
    "model_name       = \"flim_unet_epoch%d_valdice%f\" % (n_epochs,final_val_dice)\n",
    "output_model_dir = output_dir + \"/output_model/\"\n",
    "if not(os.path.exists(output_model_dir)):\n",
    "    os.makedirs(output_model_dir)\n",
    "\n",
    "# Saving output model in LIDS format\n",
    "utils.save_lids_model(encoder,architecture,output_model_dir,\"trained_flim_model/\")\n",
    "\n",
    "# Saving output model in Torch format\n",
    "torch.save(model,output_model_dir+model_name+\".pt\")"
   ]
  },
  {
   "cell_type": "markdown",
   "metadata": {},
   "source": [
    "***\n",
    "## Writting predicted segmentation"
   ]
  },
  {
   "cell_type": "code",
   "execution_count": 23,
   "metadata": {},
   "outputs": [],
   "source": [
    "import nibabel as nib\n",
    "\n",
    "def save_pred(output_dir, pred, basename):\n",
    "    \n",
    "    if not os.path.isdir(output_dir):\n",
    "        os.mkdir(output_dir)\n",
    "    pred    = torch.max(pred, 1)[1]\n",
    "    outdata = pred.squeeze(0).detach().cpu().numpy().astype(np.int8).transpose(2,1,0)\n",
    "    outimg  = nib.Nifti1Image(outdata, affine=np.eye(4)*[-1,-1,1,1])\n",
    "    outname = os.path.join(output_dir, basename + '.nii.gz')\n",
    "    nib.save(outimg, outname)\n",
    "\n",
    "basenames = train_ds.image_basenames\n",
    "for i in range(len(basenames)):    \n",
    "    ims, _ = train_ds[i]\n",
    "    ims    = ims.unsqueeze(0)\n",
    "    ims    = ims.to(device=device)\n",
    "    pred   = model(ims)\n",
    "    save_pred(output_dir+\"/train_output\",pred,basenames[i])\n",
    "\n",
    "basenames = test_ds.image_basenames\n",
    "for i in range(len(basenames)):    \n",
    "    ims, _ = test_ds[i]\n",
    "    ims    = ims.unsqueeze(0)\n",
    "    ims    = ims.to(device=device)\n",
    "    pred   = model(ims)\n",
    "    save_pred(output_dir+\"/test_output\",pred,basenames[i])"
   ]
  },
  {
   "cell_type": "markdown",
   "metadata": {},
   "source": [
    "***\n",
    "## Writting training log"
   ]
  },
  {
   "cell_type": "code",
   "execution_count": 24,
   "metadata": {},
   "outputs": [],
   "source": [
    "import contextlib\n",
    "with open(output_dir+'/Log.txt','w') as f:\n",
    "    with contextlib.redirect_stdout(f):\n",
    "        for i in range(1,n_epochs+1):\n",
    "            log.report_avgs(i)"
   ]
  }
 ],
 "metadata": {
  "accelerator": "GPU",
  "colab": {
   "include_colab_link": true,
   "name": "Semantic_Segmentation_with_U_Net.ipynb",
   "provenance": []
  },
  "interpreter": {
   "hash": "6895300d4d065fc1424a67b55d47bfcdfa33df3e124e85dd1644bc8f91c11580"
  },
  "kernelspec": {
   "display_name": "Python 3 (ipykernel)",
   "language": "python",
   "name": "python3"
  },
  "language_info": {
   "codemirror_mode": {
    "name": "ipython",
    "version": 3
   },
   "file_extension": ".py",
   "mimetype": "text/x-python",
   "name": "python",
   "nbconvert_exporter": "python",
   "pygments_lexer": "ipython3",
   "version": "3.10.11"
  },
  "widgets": {
   "application/vnd.jupyter.widget-state+json": {
    "0431d166f9d946a1a9cb6da37e08e900": {
     "model_module": "@jupyter-widgets/base",
     "model_name": "LayoutModel",
     "state": {
      "_model_module": "@jupyter-widgets/base",
      "_model_module_version": "1.2.0",
      "_model_name": "LayoutModel",
      "_view_count": null,
      "_view_module": "@jupyter-widgets/base",
      "_view_module_version": "1.2.0",
      "_view_name": "LayoutView",
      "align_content": null,
      "align_items": null,
      "align_self": null,
      "border": null,
      "bottom": null,
      "display": null,
      "flex": null,
      "flex_flow": null,
      "grid_area": null,
      "grid_auto_columns": null,
      "grid_auto_flow": null,
      "grid_auto_rows": null,
      "grid_column": null,
      "grid_gap": null,
      "grid_row": null,
      "grid_template_areas": null,
      "grid_template_columns": null,
      "grid_template_rows": null,
      "height": null,
      "justify_content": null,
      "justify_items": null,
      "left": null,
      "margin": null,
      "max_height": null,
      "max_width": null,
      "min_height": null,
      "min_width": null,
      "object_fit": null,
      "object_position": null,
      "order": null,
      "overflow": null,
      "overflow_x": null,
      "overflow_y": null,
      "padding": null,
      "right": null,
      "top": null,
      "visibility": null,
      "width": null
     }
    },
    "300e54bb169442a19c843ee9b240ae51": {
     "model_module": "@jupyter-widgets/controls",
     "model_name": "FloatProgressModel",
     "state": {
      "_dom_classes": [],
      "_model_module": "@jupyter-widgets/controls",
      "_model_module_version": "1.5.0",
      "_model_name": "FloatProgressModel",
      "_view_count": null,
      "_view_module": "@jupyter-widgets/controls",
      "_view_module_version": "1.5.0",
      "_view_name": "ProgressView",
      "bar_style": "success",
      "description": "100%",
      "description_tooltip": null,
      "layout": "IPY_MODEL_0431d166f9d946a1a9cb6da37e08e900",
      "max": 553507836,
      "min": 0,
      "orientation": "horizontal",
      "style": "IPY_MODEL_a25e41d7ae29488788c6c3b1cee7d00e",
      "value": 553507836
     }
    },
    "433a0a7d7d4b49f9bfcf610c9d0f66ad": {
     "model_module": "@jupyter-widgets/controls",
     "model_name": "DescriptionStyleModel",
     "state": {
      "_model_module": "@jupyter-widgets/controls",
      "_model_module_version": "1.5.0",
      "_model_name": "DescriptionStyleModel",
      "_view_count": null,
      "_view_module": "@jupyter-widgets/base",
      "_view_module_version": "1.2.0",
      "_view_name": "StyleView",
      "description_width": ""
     }
    },
    "5292c3b952b3466f9c2d05bf97dc3fcc": {
     "model_module": "@jupyter-widgets/controls",
     "model_name": "HBoxModel",
     "state": {
      "_dom_classes": [],
      "_model_module": "@jupyter-widgets/controls",
      "_model_module_version": "1.5.0",
      "_model_name": "HBoxModel",
      "_view_count": null,
      "_view_module": "@jupyter-widgets/controls",
      "_view_module_version": "1.5.0",
      "_view_name": "HBoxView",
      "box_style": "",
      "children": [
       "IPY_MODEL_300e54bb169442a19c843ee9b240ae51",
       "IPY_MODEL_f06a86af1f854643bcc67d7921214717"
      ],
      "layout": "IPY_MODEL_bd6d2b25f8254a77925ed65471913b48"
     }
    },
    "a25e41d7ae29488788c6c3b1cee7d00e": {
     "model_module": "@jupyter-widgets/controls",
     "model_name": "ProgressStyleModel",
     "state": {
      "_model_module": "@jupyter-widgets/controls",
      "_model_module_version": "1.5.0",
      "_model_name": "ProgressStyleModel",
      "_view_count": null,
      "_view_module": "@jupyter-widgets/base",
      "_view_module_version": "1.2.0",
      "_view_name": "StyleView",
      "bar_color": null,
      "description_width": "initial"
     }
    },
    "b0d5e6d13dd14b02a3e60517301dfeb6": {
     "model_module": "@jupyter-widgets/base",
     "model_name": "LayoutModel",
     "state": {
      "_model_module": "@jupyter-widgets/base",
      "_model_module_version": "1.2.0",
      "_model_name": "LayoutModel",
      "_view_count": null,
      "_view_module": "@jupyter-widgets/base",
      "_view_module_version": "1.2.0",
      "_view_name": "LayoutView",
      "align_content": null,
      "align_items": null,
      "align_self": null,
      "border": null,
      "bottom": null,
      "display": null,
      "flex": null,
      "flex_flow": null,
      "grid_area": null,
      "grid_auto_columns": null,
      "grid_auto_flow": null,
      "grid_auto_rows": null,
      "grid_column": null,
      "grid_gap": null,
      "grid_row": null,
      "grid_template_areas": null,
      "grid_template_columns": null,
      "grid_template_rows": null,
      "height": null,
      "justify_content": null,
      "justify_items": null,
      "left": null,
      "margin": null,
      "max_height": null,
      "max_width": null,
      "min_height": null,
      "min_width": null,
      "object_fit": null,
      "object_position": null,
      "order": null,
      "overflow": null,
      "overflow_x": null,
      "overflow_y": null,
      "padding": null,
      "right": null,
      "top": null,
      "visibility": null,
      "width": null
     }
    },
    "bd6d2b25f8254a77925ed65471913b48": {
     "model_module": "@jupyter-widgets/base",
     "model_name": "LayoutModel",
     "state": {
      "_model_module": "@jupyter-widgets/base",
      "_model_module_version": "1.2.0",
      "_model_name": "LayoutModel",
      "_view_count": null,
      "_view_module": "@jupyter-widgets/base",
      "_view_module_version": "1.2.0",
      "_view_name": "LayoutView",
      "align_content": null,
      "align_items": null,
      "align_self": null,
      "border": null,
      "bottom": null,
      "display": null,
      "flex": null,
      "flex_flow": null,
      "grid_area": null,
      "grid_auto_columns": null,
      "grid_auto_flow": null,
      "grid_auto_rows": null,
      "grid_column": null,
      "grid_gap": null,
      "grid_row": null,
      "grid_template_areas": null,
      "grid_template_columns": null,
      "grid_template_rows": null,
      "height": null,
      "justify_content": null,
      "justify_items": null,
      "left": null,
      "margin": null,
      "max_height": null,
      "max_width": null,
      "min_height": null,
      "min_width": null,
      "object_fit": null,
      "object_position": null,
      "order": null,
      "overflow": null,
      "overflow_x": null,
      "overflow_y": null,
      "padding": null,
      "right": null,
      "top": null,
      "visibility": null,
      "width": null
     }
    },
    "f06a86af1f854643bcc67d7921214717": {
     "model_module": "@jupyter-widgets/controls",
     "model_name": "HTMLModel",
     "state": {
      "_dom_classes": [],
      "_model_module": "@jupyter-widgets/controls",
      "_model_module_version": "1.5.0",
      "_model_name": "HTMLModel",
      "_view_count": null,
      "_view_module": "@jupyter-widgets/controls",
      "_view_module_version": "1.5.0",
      "_view_name": "HTMLView",
      "description": "",
      "description_tooltip": null,
      "layout": "IPY_MODEL_b0d5e6d13dd14b02a3e60517301dfeb6",
      "placeholder": "​",
      "style": "IPY_MODEL_433a0a7d7d4b49f9bfcf610c9d0f66ad",
      "value": " 528M/528M [03:52&lt;00:00, 2.38MB/s]"
     }
    }
   }
  }
 },
 "nbformat": 4,
 "nbformat_minor": 1
}
