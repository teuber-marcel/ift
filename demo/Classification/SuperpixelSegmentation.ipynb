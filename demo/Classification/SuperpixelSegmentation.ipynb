{
 "cells": [
  {
   "cell_type": "code",
   "execution_count": 1,
   "metadata": {},
   "outputs": [
    {
     "name": "stderr",
     "output_type": "stream",
     "text": [
      "/home/jordao/myenv/lib/python3.5/importlib/_bootstrap.py:222: RuntimeWarning: numpy.dtype size changed, may indicate binary incompatibility. Expected 96, got 88\n",
      "  return f(*args, **kwds)\n",
      "/home/jordao/myenv/lib/python3.5/importlib/_bootstrap.py:222: RuntimeWarning: numpy.dtype size changed, may indicate binary incompatibility. Expected 96, got 88\n",
      "  return f(*args, **kwds)\n"
     ]
    }
   ],
   "source": [
    "import pyift as ift\n",
    "import numpy as np\n",
    "import matplotlib.pyplot as plt\n",
    "import matplotlib as mpl\n",
    "import networkx as nx\n",
    "\n",
    "%matplotlib notebook"
   ]
  },
  {
   "cell_type": "code",
   "execution_count": 2,
   "metadata": {},
   "outputs": [],
   "source": [
    "def show(img, dpi=125):\n",
    "    fig, ax=plt.subplots(dpi=dpi)\n",
    "    ax.imshow(img)\n",
    "\n",
    "    \n",
    "def drawGraph(G, Z, dpi=150):\n",
    "    fig, ax=plt.subplots(dpi=dpi)\n",
    "    coord = Z.GetData()\n",
    "    coord[:,1] = coord[:, 1] * -1\n",
    "    nx.draw_networkx(G, pos=coord, node_color=Z.GetGroups(), ax=ax, cmap = 'gist_rainbow',\n",
    "                     node_size=50, alpha=0.5, linewidths=0.01, edge_color = 'grey', with_labels=False)\n",
    "    \n",
    "    \n",
    "def imageOverlay(original, label):\n",
    "    A = ift.Circular(1.0)\n",
    "    tmp = ift.CopyImage(original)\n",
    "    cmap = ift.CreateColorTable(ift.MaximumValue(label) + 1)\n",
    "    ift.DrawLabels(tmp, label, cmap, A, True, 0.5)\n",
    "    show(tmp.ToPlot())\n",
    "    \n",
    "    \n",
    "def unsupTrainOPF(Z, kmax):\n",
    "    mst = ift.CreateMST(Z)\n",
    "    graph = ift.MSTtoKnnGraph(mst, kmax)\n",
    "    ift.UnsupTrain(graph, ift.NormalizedCutPtr())\n",
    "    return graph"
   ]
  },
  {
   "cell_type": "code",
   "execution_count": 3,
   "metadata": {},
   "outputs": [],
   "source": [
    "# ATTENTION WITHOUT CORRECT PATHS IT WON'T WORK\n",
    "# img = ift.ReadImageByExt(\"/home/jordao/Documents/grabcut/orig/000001_000007.ppm\") # CHANGE THIS PATH \n",
    "# seeds = ift.ReadSeeds(\"/home/jordao/Documents/ift/demo/Classification/07_2.txt\", img) # ALSO THIS ONE\n",
    "img = ift.ReadImageByExt(\"/home/jordao/Documents/diversas/bears1.ppm\") # CHANGE THIS PATH \n",
    "seeds = ift.ReadSeeds(\"/home/jordao/Documents/ift/demo/Classification/bears1.txt\", img) # ALSO THIS ONE\n",
    "n_suppxl = 30\n",
    "A = ift.Circular(1.0)"
   ]
  },
  {
   "cell_type": "code",
   "execution_count": null,
   "metadata": {},
   "outputs": [],
   "source": [
    "# suppxl = ift.Extract_ISF_MIX_ROOT_Superpixels(img, n_suppxl, 0.5, 12, 10, 2)\n",
    "suppxl = ift.Extract_ISF_MIX_MEAN_Superpixels(img, n_suppxl, 0.5, 12, 10, 2)\n",
    "border = ift.BorderImage(suppxl, False)\n",
    "imageOverlay(img, border)"
   ]
  },
  {
   "cell_type": "code",
   "execution_count": null,
   "metadata": {},
   "outputs": [],
   "source": [
    "feat = ift.ExtractImageFeatures(img, suppxl, A, False) # ATTENTION (True or False)\n",
    "Z = ift.MImageToDataSet(feat, suppxl)\n",
    "ift.SetStatus(Z, ift.IFT_TRAIN)\n",
    "# ift.WriteDataSet(Z, \"bears1.zip\")"
   ]
  },
  {
   "cell_type": "code",
   "execution_count": null,
   "metadata": {},
   "outputs": [],
   "source": [
    "ift.LabelDataSetFromSeeds(Z, seeds, suppxl)\n",
    "# ift.WriteDataSet(Z, \"bears1Seeds.zip\")\n",
    "labels = ift.DataSetToLabelImage(Z, suppxl, False, True)\n",
    "imageOverlay(img, labels)"
   ]
  },
  {
   "cell_type": "code",
   "execution_count": null,
   "metadata": {},
   "outputs": [],
   "source": [
    "knnGraph = unsupTrainOPF(Z, 5)\n",
    "cluster = ift.DataSetClusterInformationToLabelImage(Z, suppxl, False)\n",
    "imageOverlay(img, cluster)\n",
    "# ift.WriteDataSet(Z, \"bears1Cluster.zip\")"
   ]
  },
  {
   "cell_type": "code",
   "execution_count": null,
   "metadata": {},
   "outputs": [],
   "source": [
    "# Z2d = ift.DimReductionByTSNE(Z, 2, 40, 1000)\n",
    "Z2d = ift.DimReductionByTSNE(Z, 2, 5, 1000)\n",
    "plot = ift.Draw2DFeatureSpace(Z2d, ift.IFT_GROUP, ift.IFT_ALL)\n",
    "show(plot.ToPlot(), dpi=200)"
   ]
  },
  {
   "cell_type": "code",
   "execution_count": null,
   "metadata": {},
   "outputs": [],
   "source": [
    "G = nx.Graph(knnGraph.AsDict())\n",
    "drawGraph(G, Z2d)"
   ]
  },
  {
   "cell_type": "code",
   "execution_count": null,
   "metadata": {},
   "outputs": [],
   "source": [
    "cplGraph = ift.SemiSupTrain(Z)\n",
    "ift.Classify(cplGraph, Z)\n",
    "labels = ift.DataSetToLabelImage(Z, suppxl, False, False)\n",
    "imageOverlay(img, labels)"
   ]
  },
  {
   "cell_type": "code",
   "execution_count": null,
   "metadata": {},
   "outputs": [],
   "source": [
    "# Z2d = ift.DimReductionByTSNE(Z, 2, 40, 1000)\n",
    "Z2d = ift.DimReductionByTSNE(Z, 2, 5, 1000)\n",
    "plot = ift.Draw2DFeatureSpace(Z2d, ift.IFT_LABEL, ift.IFT_ALL)\n",
    "show(plot.ToPlot(), dpi=200)"
   ]
  },
  {
   "cell_type": "code",
   "execution_count": null,
   "metadata": {},
   "outputs": [],
   "source": [
    "cplGraph = ift.SemiSupTrain(Z)\n",
    "ZTest = ift.CopyDataSet(Z, True)\n",
    "ift.AddStatus(ZTest, ift.IFT_TEST)\n",
    "ift.ClassifyWithCertaintyValues(cplGraph, ZTest)\n",
    "objmap = ift.DataSetObjectMap(ZTest, suppxl, 255, -1)\n",
    "show(objmap.ToPlot())"
   ]
  },
  {
   "cell_type": "code",
   "execution_count": null,
   "metadata": {},
   "outputs": [],
   "source": [
    "mimg = ift.ImageToMImage(img, ift.LABNorm_CSPACE)\n",
    "mask = ift.DynamicSetRootPolicy(mimg, A, seeds, 1, False)\n",
    "# mask = ift.DynamicSetObjectPolicy(mimg, A, seeds, False)\n",
    "imageOverlay(img, mask)"
   ]
  },
  {
   "cell_type": "code",
   "execution_count": null,
   "metadata": {},
   "outputs": [],
   "source": [
    "# mimg = ift.ImageToMImage(img, ift.LABNorm_CSPACE)\n",
    "# extSeeds = ift.LabeledSetFromSeedImage(labels, True)\n",
    "# mask = ift.DynamicSetRootPolicy(mimg, A, extSeeds, 0, True)\n",
    "# imageOverlay(img, mask)"
   ]
  },
  {
   "cell_type": "code",
   "execution_count": null,
   "metadata": {},
   "outputs": [],
   "source": [
    "# ZSup = ift.ReadDataSet(\"/home/jordao/Documents/ift/demo/Classification/bears1Sup.zip\")\n",
    "# labelsSup = ift.DataSetToLabelImage(ZSup, suppxl, False, True)\n",
    "# imageOverlay(img, labelsSup)"
   ]
  },
  {
   "cell_type": "code",
   "execution_count": null,
   "metadata": {},
   "outputs": [],
   "source": [
    "# cplGraph = ift.SemiSupTrain(ZSup)\n",
    "# ift.Classify(cplGraph, ZSup)\n",
    "# labels = ift.DataSetToLabelImage(ZSup, suppxl, False, False)\n",
    "# imageOverlay(img, labels)00"
   ]
  },
  {
   "cell_type": "code",
   "execution_count": null,
   "metadata": {},
   "outputs": [],
   "source": [
    "# mimg = ift.ImageToMImage(img, ift.LABNorm_CSPACE)\n",
    "# extSeeds = ift.LabeledSetFromSeedImage(labelsSup, True)\n",
    "# mask = ift.DynamicSetRootPolicy(mimg, A, extSeeds, 0, True)\n",
    "# # mask = ift.WaterCut(mimg, A, extSeeds, None)\n",
    "# imageOverlay(img, mask)"
   ]
  },
  {
   "cell_type": "code",
   "execution_count": null,
   "metadata": {},
   "outputs": [],
   "source": []
  },
  {
   "cell_type": "code",
   "execution_count": null,
   "metadata": {},
   "outputs": [],
   "source": []
  }
 ],
 "metadata": {
  "kernelspec": {
   "display_name": "Python 3",
   "language": "python",
   "name": "python3"
  },
  "language_info": {
   "codemirror_mode": {
    "name": "ipython",
    "version": 3
   },
   "file_extension": ".py",
   "mimetype": "text/x-python",
   "name": "python",
   "nbconvert_exporter": "python",
   "pygments_lexer": "ipython3",
   "version": "3.5.2"
  }
 },
 "nbformat": 4,
 "nbformat_minor": 2
}
