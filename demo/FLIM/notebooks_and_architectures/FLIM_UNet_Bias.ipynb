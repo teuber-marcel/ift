{
 "cells": [
  {
   "cell_type": "code",
   "execution_count": 1,
   "metadata": {
    "colab": {
     "base_uri": "https://localhost:8080/"
    },
    "id": "5r38dynQvu7D",
    "outputId": "d2c9f2bb-f5b4-4bd3-b5c3-fb0a69af0fb1"
   },
   "outputs": [
    {
     "name": "stdout",
     "output_type": "stream",
     "text": [
      "1.11.0\n",
      "1\n"
     ]
    }
   ],
   "source": [
    "import os\n",
    "os.environ[\"CUDA_VISIBLE_DEVICES\"] = \"0\"\n",
    "from flim.experiments import utils #, LIDSDataset, ToTensor\n",
    "#from flim.models.lcn import LCNCreator\n",
    "import torch\n",
    "from torch import Tensor\n",
    "from torch import nn\n",
    "from torch.nn import functional as F\n",
    "from torch import optim\n",
    "from torch.utils.data import DataLoader, random_split\n",
    "from torchvision import transforms\n",
    "from torchsummary import summary\n",
    "import torchmetrics as tm\n",
    "from torch_snippets import *\n",
    "from math import ceil, floor\n",
    "import copy\n",
    "import os\n",
    "from os import path\n",
    "import numpy as np\n",
    "from medpy.metric import binary\n",
    "print(torch.__version__)\n",
    "print(torch.cuda.device_count())"
   ]
  },
  {
   "cell_type": "markdown",
   "metadata": {},
   "source": [
    "***\n",
    "## Overview\n",
    "This is a demo jupyter notebook that takes a pretrained FLIM encoder and docks it with a U-Net decoder for image segmentation."
   ]
  },
  {
   "cell_type": "code",
   "execution_count": 2,
   "metadata": {},
   "outputs": [],
   "source": [
    "if torch.cuda.is_available():\n",
    "    device = torch.device(0)\n",
    "else:\n",
    "    device = 'cpu'"
   ]
  },
  {
   "cell_type": "markdown",
   "metadata": {},
   "source": [
    "***\n",
    "## DataLoader"
   ]
  },
  {
   "cell_type": "code",
   "execution_count": 3,
   "metadata": {},
   "outputs": [],
   "source": [
    "class ToTensor(object):\n",
    "    def __call__(self, image):\n",
    "        return torch.from_numpy(image.copy()).float()\n",
    "\n",
    "class SegmDataset():\n",
    "    def __init__(self, input_dir,  gt_dir, ext='.nii.gz'):\n",
    "        assert isinstance(input_dir, str) and len(input_dir) > 0,\\\n",
    "            \"Invalid input_dir\"\n",
    "            \n",
    "        assert isinstance(gt_dir, str) and len(gt_dir) > 0,\\\n",
    "            \"Invalid gt_dir\"\n",
    "\n",
    "        self.gt_dir          = gt_dir\n",
    "        self.input_dir       = input_dir\n",
    "        self.ext             = ext \n",
    "        self.transform       = ToTensor()\n",
    "        self.image_basenames = None\n",
    "        self.gt_basenames    = None\n",
    "        self.image_names     = None\n",
    "        self.gt_names        = None\n",
    "        self.get_image_basenames()\n",
    "        self.get_gt_basenames()\n",
    "\n",
    "    def __getitem__(self, index):\n",
    "\n",
    "        self.image_basenames = self.get_image_basenames()\n",
    "        self.gt_basenames    = self.get_gt_basenames()\n",
    "        \n",
    "        image_path = os.path.join(self.input_dir, self.image_basenames[index]+self.ext)\n",
    "        image      = utils.load_image(image_path)\n",
    "        image      = self.transform(image).permute(3,0,1,2)\n",
    "    \n",
    "        gt_path = os.path.join(self.gt_dir, self.gt_basenames[index]+self.ext)\n",
    "        gt      = utils.load_image(gt_path, lab=False)\n",
    "        gt      = self.transform(gt).permute(0,1,2)\n",
    "    \n",
    "        return image, gt \n",
    "    \n",
    "    def __len__(self):\n",
    "        return len(self.image_names)\n",
    "\n",
    "    def get_image_basenames(self):\n",
    "     \n",
    "        if path.exists(self.input_dir):\n",
    "            self.image_names = []\n",
    "            for name in os.listdir(self.input_dir):\n",
    "                if name.endswith(self.ext):\n",
    "                    self.image_names.append(name.split(self.ext)[0])\n",
    "                else:\n",
    "                    continue\n",
    "            self.image_names.sort()\n",
    "        else:\n",
    "            print(\"{} does not exist\".format(self.input_dir))\n",
    "            exit()\n",
    " \n",
    "        return(self.image_names)\n",
    "    \n",
    "    def get_gt_basenames(self):\n",
    "     \n",
    "        if path.exists(self.gt_dir):\n",
    "            self.gt_names = []\n",
    "            for name in os.listdir(self.gt_dir):\n",
    "                if name.endswith(self.ext):\n",
    "                    self.gt_names.append(name.split(self.ext)[0])\n",
    "                else:\n",
    "                    continue\n",
    "            self.gt_names.sort()\n",
    "        else:\n",
    "            print(\"{} does not exist\".format(self.gt_dir))\n",
    "            exit()\n",
    "               \n",
    "        return(self.gt_names)"
   ]
  },
  {
   "cell_type": "markdown",
   "metadata": {},
   "source": [
    "***\n",
    "## Setting up experiment\n",
    "Setting image sizes and channels"
   ]
  },
  {
   "cell_type": "code",
   "execution_count": 4,
   "metadata": {},
   "outputs": [
    {
     "data": {
      "text/plain": [
       "<torch._C.Generator at 0x7f2de1458bf0>"
      ]
     },
     "execution_count": 4,
     "metadata": {},
     "output_type": "execute_result"
    }
   ],
   "source": [
    "ncols = 120\n",
    "nrows = 160\n",
    "depth = 200\n",
    "bands = 3\n",
    "\n",
    "torch.manual_seed(42)"
   ]
  },
  {
   "cell_type": "markdown",
   "metadata": {},
   "source": [
    "Creating output folder. Please, assign the respective output dir"
   ]
  },
  {
   "cell_type": "code",
   "execution_count": 5,
   "metadata": {},
   "outputs": [
    {
     "name": "stdout",
     "output_type": "stream",
     "text": [
      "output\n"
     ]
    }
   ],
   "source": [
    "output_dir = \"output\" # output model dir\n",
    "if (not os.path.exists(output_dir)):\n",
    "    os.makedirs(output_dir)\n",
    "print(output_dir)"
   ]
  },
  {
   "cell_type": "markdown",
   "metadata": {},
   "source": [
    "Loading training and validation images. Please, assign the training and validation/testing paths accordingly"
   ]
  },
  {
   "cell_type": "code",
   "execution_count": 6,
   "metadata": {},
   "outputs": [],
   "source": [
    "train_path = \"train\" #path to training images\n",
    "train_gt_path = \"train_gt\" #path to training ground truth\n",
    "\n",
    "test_path = \"test\" #path to validation/testing images\n",
    "test_gt_path = \"test_gt\" #path to validation/testing ground truth\n",
    "\n",
    "train_ds = SegmDataset(train_path, \n",
    "                       train_gt_path)\n",
    "                       \n",
    "test_ds  = SegmDataset(test_path, \n",
    "                       test_gt_path)\n",
    "\n",
    "\"\"\"\n",
    "Important, in case you are using the DeepLabV3 decoder model, the batch size \n",
    "must not leave a batch with a single image, otherwise it will raise an error \n",
    "when running the BatchNorm3D.\n",
    "\"\"\"\n",
    "train_dl = DataLoader(train_ds, batch_size=3, num_workers=0, shuffle=True)\n",
    "test_dl  = DataLoader(test_ds, batch_size=1, num_workers=0, shuffle=True)"
   ]
  },
  {
   "cell_type": "markdown",
   "metadata": {},
   "source": [
    "***\n",
    "## Preparing FLIM U-NET\n",
    "Here, the U-Net is built according to the FLIM encoder."
   ]
  },
  {
   "cell_type": "code",
   "execution_count": 7,
   "metadata": {
    "id": "ROi8_8AewZXB"
   },
   "outputs": [],
   "source": [
    "def conv(in_channels, out_channels, padding=1):\n",
    "    return nn.Sequential(\n",
    "        nn.Conv3d(in_channels, out_channels, kernel_size=3, stride=1, padding=padding),\n",
    "        nn.BatchNorm3d(out_channels),\n",
    "        nn.ReLU(inplace=True),\n",
    "        #nn.BatchNorm3d(out_channels)\n",
    "    )"
   ]
  },
  {
   "cell_type": "markdown",
   "metadata": {},
   "source": [
    "All weights are initialized from with the xavier uniform distribution algorithm."
   ]
  },
  {
   "cell_type": "code",
   "execution_count": 8,
   "metadata": {},
   "outputs": [],
   "source": [
    "def init_weights(m):\n",
    "    if (isinstance(m,nn.Conv3d) or (isinstance(m,nn.ConvTranspose3d))):\n",
    "        torch.nn.init.xavier_uniform_(m.weight)\n",
    "        if m.bias is not None:\n",
    "            m.bias.data.fill_(0.01)"
   ]
  },
  {
   "cell_type": "code",
   "execution_count": 9,
   "metadata": {
    "id": "noHOfSF4wg6m"
   },
   "outputs": [],
   "source": [
    "class interp_up_conv(nn.Module):\n",
    "    def __init__(self,in_channels, out_channels, kernel_size=3, stride=1, padding=1,new_dim=(100,200,300)):\n",
    "        super().__init__()\n",
    "\n",
    "        self.new_D      = new_dim[0]\n",
    "        self.new_H      = new_dim[1]\n",
    "        self.new_W      = new_dim[2]\n",
    "        self.conv       = nn.Conv3d(in_channels, out_channels, kernel_size=kernel_size, stride=stride, padding=padding)\n",
    "        self.batch_norm = nn.BatchNorm3d(out_channels)\n",
    "        self.relu       = nn.ReLU(inplace=True)\n",
    "        self.conv.apply(init_weights)\n",
    "\n",
    "    def forward(self,x):\n",
    "\n",
    "        x = F.interpolate(x,(self.new_D,self.new_H,self.new_W),mode=\"trilinear\")\n",
    "        x = self.conv(x)\n",
    "        x = self.batch_norm(x)\n",
    "        x = self.relu(x)\n",
    "\n",
    "        return x\n",
    "\n",
    "\n",
    "def up_conv(in_channels, out_channels, kernel_size=2, padding=0, stride=2, output_padding=(0,0,0)):\n",
    "    return nn.Sequential(\n",
    "        nn.ConvTranspose3d(in_channels, out_channels, kernel_size=kernel_size, padding=padding, stride=stride, output_padding=output_padding),\n",
    "        nn.ReLU(inplace=True)\n",
    "    )"
   ]
  },
  {
   "cell_type": "markdown",
   "metadata": {},
   "source": [
    "Now, the class that defines the UNet decoder."
   ]
  },
  {
   "cell_type": "code",
   "execution_count": 10,
   "metadata": {
    "id": "vIJ-JtHiwiUu"
   },
   "outputs": [],
   "source": [
    "class UNetOneLayer(nn.Module):\n",
    "    def __init__(self, in_channels=3, out1_channels=16, out_channels=2):\n",
    "        super().__init__()\n",
    "        \n",
    "        self.block1     = nn.Sequential(\n",
    "            nn.Conv3d(in_channels, out1_channels, kernel_size=3, padding=1),\n",
    "            nn.ReLU(),\n",
    "            nn.MaxPool3d(kernel_size=3, stride=2, padding=1)\n",
    "        )\n",
    "         \n",
    "        self.bottleneck = nn.Conv3d(out1_channels, 2*out1_channels, kernel_size=3, stride=2, padding=1)\n",
    "        self.up_conv1   = up_conv(2*out1_channels,out1_channels) \n",
    "        self.conv1      = conv(out1_channels+out1_channels,out1_channels)\n",
    "        self.up_conv2   = up_conv(out1_channels,out1_channels) \n",
    "        self.pred       = nn.Conv3d(out1_channels, out_channels, kernel_size=1)    \n",
    "\n",
    "        # Initilizing weights\n",
    "        self.bottleneck.apply(init_weights)\n",
    "        self.up_conv1.apply(init_weights)\n",
    "        self.conv1.apply(init_weights)\n",
    "        self.up_conv2.apply(init_weights)\n",
    "        self.pred.apply(init_weights)\n",
    "        \n",
    "    def forward(self, x):    \n",
    "        input = x\n",
    "        \n",
    "        x1         = self.block1(x)  \n",
    "        bottleneck = self.bottleneck(x1)\n",
    "        x          = self.up_conv1(bottleneck)\n",
    "        x          = torch.cat([x, x1], dim=1)\n",
    "        x          = self.conv1(x)\n",
    "        x          = self.up_conv2(x)\n",
    "        x          = self.pred(x)         \n",
    "    \n",
    "        return x\n",
    "    \n",
    "    \n",
    "class UNetTwoLayersSkip(nn.Module):\n",
    "    def __init__(self, in_channels=3, out1_channels=16, out2_channels=32, out_channels=2):\n",
    "        super().__init__()\n",
    "        \n",
    "        self.block1     = nn.Sequential(\n",
    "            nn.Conv3d(in_channels, out1_channels, kernel_size=3, padding=1),\n",
    "            nn.ReLU(),\n",
    "            nn.MaxPool3d(kernel_size=3, stride=2, padding=1)\n",
    "        )\n",
    "        \n",
    "        self.block2     = nn.Sequential(\n",
    "            nn.Conv3d(out1_channels+in_channels, out2_channels, kernel_size=3, padding=1),\n",
    "            nn.ReLU(),\n",
    "            nn.MaxPool3d(kernel_size=3, stride=2, padding=1)\n",
    "        )        \n",
    "         \n",
    "        self.bottleneck = nn.Conv3d(out2_channels, 2*out2_channels, kernel_size=3, stride=2, padding=1)\n",
    "        self.up_conv1   = up_conv(2*out2_channels,out2_channels) \n",
    "        self.conv1      = conv(out2_channels+out2_channels,out2_channels)\n",
    "        self.up_conv2   = up_conv(out2_channels,out1_channels+in_channels)\n",
    "        self.conv2      = conv(out1_channels+in_channels+out1_channels+in_channels,out1_channels+in_channels)       \n",
    "        self.up_conv3   = up_conv(out1_channels+in_channels,out1_channels+in_channels)     \n",
    "        self.pred       = nn.Conv3d(out1_channels+in_channels, out_channels, kernel_size=1)  \n",
    "\n",
    "        # Initilizing weights\n",
    "        self.bottleneck.apply(init_weights)\n",
    "        self.up_conv1.apply(init_weights)\n",
    "        self.conv1.apply(init_weights)\n",
    "        self.up_conv2.apply(init_weights)\n",
    "        self.conv2.apply(init_weights)\n",
    "        self.up_conv3.apply(init_weights)\n",
    "        self.pred.apply(init_weights)\n",
    "        \n",
    "    def forward(self, x):\n",
    "        input = x\n",
    "        \n",
    "        x1         = self.block1(x) \n",
    "        dims       = x1.shape\n",
    "        x          = F.interpolate(x,(dims[2],dims[3],dims[4]),mode=\"trilinear\")\n",
    "        x1         = torch.cat([x, x1], dim=1)\n",
    "        x2         = self.block2(x1)\n",
    "        bottleneck = self.bottleneck(x2)\n",
    "        x          = self.up_conv1(bottleneck)\n",
    "        x          = torch.cat([x, x2], dim=1)\n",
    "        x          = self.conv1(x)\n",
    "        x          = self.up_conv2(x)\n",
    "        x          = torch.cat([x, x1], dim=1)\n",
    "        x          = self.conv2(x)\n",
    "        x          = self.up_conv3(x)\n",
    "        x          = self.pred(x)         \n",
    "    \n",
    "        return x \n",
    "    \n",
    "class UNetTwoLayers(nn.Module):\n",
    "    def __init__(self, in_channels=3, out1_channels=16, out2_channels=32, out_channels=2):\n",
    "        super().__init__()\n",
    "        \n",
    "        self.block1     = nn.Sequential(\n",
    "            nn.Conv3d(in_channels, out1_channels, kernel_size=3, padding=1),\n",
    "            nn.ReLU(),\n",
    "            nn.MaxPool3d(kernel_size=3, stride=2, padding=1)\n",
    "        )\n",
    "        \n",
    "        self.block2     = nn.Sequential(\n",
    "            nn.Conv3d(out1_channels, out2_channels, kernel_size=3, padding=1),\n",
    "            nn.ReLU(),\n",
    "            nn.MaxPool3d(kernel_size=3, stride=2, padding=1)\n",
    "        )        \n",
    "         \n",
    "        self.bottleneck = nn.Conv3d(out2_channels, 2*out2_channels, kernel_size=3, stride=2, padding=1)\n",
    "        self.up_conv1   = up_conv(2*out2_channels,out2_channels) \n",
    "        self.conv1      = conv(out2_channels+out2_channels,out2_channels)\n",
    "        self.up_conv2   = up_conv(out2_channels,out1_channels)\n",
    "        self.conv2      = conv(out1_channels+out1_channels,out1_channels)       \n",
    "        self.up_conv3   = up_conv(out1_channels,out1_channels)     \n",
    "        self.pred       = nn.Conv3d(out1_channels, out_channels, kernel_size=1) \n",
    "\n",
    "        # Initilizing weights\n",
    "        self.bottleneck.apply(init_weights)\n",
    "        self.up_conv1.apply(init_weights)\n",
    "        self.conv1.apply(init_weights)\n",
    "        self.up_conv2.apply(init_weights)\n",
    "        self.conv2.apply(init_weights)\n",
    "        self.up_conv3.apply(init_weights)\n",
    "        self.pred.apply(init_weights)\n",
    "        \n",
    "    def forward(self, x):\n",
    "        input = x\n",
    "        \n",
    "        x1         = self.block1(x) \n",
    "        x2         = self.block2(x1)\n",
    "        bottleneck = self.bottleneck(x2)\n",
    "        x          = self.up_conv1(bottleneck)\n",
    "        x          = torch.cat([x, x2], dim=1)\n",
    "        x          = self.conv1(x)\n",
    "        x          = self.up_conv2(x)\n",
    "        x          = torch.cat([x, x1], dim=1)\n",
    "        x          = self.conv2(x)\n",
    "        x          = self.up_conv3(x)\n",
    "        x          = self.pred(x)         \n",
    "    \n",
    "        return x "
   ]
  },
  {
   "cell_type": "code",
   "execution_count": 11,
   "metadata": {},
   "outputs": [],
   "source": [
    "def shift_weights(in_weights, in_kernelsize, in_channels):\n",
    "\n",
    "    kn = 1  # neutral element\n",
    "    for i in range(len(in_kernelsize)):\n",
    "        kn = kn * in_kernelsize[i]\n",
    "\n",
    "    mid_index = int(kn / 2) + 1\n",
    "\n",
    "    weights = np.concatenate(\n",
    "        (\n",
    "            in_weights[in_channels : mid_index * in_channels],\n",
    "            in_weights[0:in_channels],\n",
    "            in_weights[mid_index * in_channels :],\n",
    "        ),\n",
    "        axis=0,\n",
    "    )\n",
    "    return weights\n",
    "\n",
    "\n",
    "def unshift_weights(in_weights, in_kernelsize, in_channels):\n",
    "\n",
    "    kn = 1  # neutral element\n",
    "    for i in range(len(in_kernelsize)):\n",
    "        kn = kn * in_kernelsize[i]\n",
    "\n",
    "    mid_index = int(kn / 2)\n",
    "\n",
    "    weights = np.concatenate(\n",
    "        (\n",
    "            in_weights[mid_index * in_channels : (mid_index + 1) * in_channels],\n",
    "            in_weights[0 : mid_index * in_channels],\n",
    "            in_weights[(mid_index + 1) * in_channels :],\n",
    "        ),\n",
    "        axis=0,\n",
    "    )\n",
    "    return weights"
   ]
  },
  {
   "cell_type": "markdown",
   "metadata": {},
   "source": [
    "## Unet with a single layer"
   ]
  },
  {
   "cell_type": "code",
   "execution_count": 12,
   "metadata": {},
   "outputs": [
    {
     "data": {
      "text/plain": [
       "'\\nmodel_path    = \"./model\"\\nin_channels   = 3\\nout1_channels = 32\\nkernelsize    = (3,3,3)\\n\\nmodel    = UNetOneLayer(in_channels, out1_channels).to(device)\\nf        = open(model_path+\"/\"+\"conv1-bias.txt\",\"r\")\\nnkernels = f.readline()\\nbias1    = f.readline().strip().split(\" \")\\nf.close()\\nbias1    = np.array(bias1).astype(float)\\nbias1    = nn.Parameter(torch.from_numpy(bias1).float())\\n\\nweights1 = np.load(model_path+\"/\"+\"conv1-kernels.npy\")\\nweights1 = shift_weights(weights1,kernelsize,in_channels)\\nweights1 = weights1.transpose()\\nweights1 = weights1.reshape(out1_channels,kernelsize[2],kernelsize[1],kernelsize[0],in_channels).transpose(0, 4, 1, 2, 3)\\nweights1 = nn.Parameter(torch.from_numpy(weights1).float())\\n\\nmodel.block1[0].bias.data   = bias1\\nmodel.block1[0].weight.data = weights1\\n'"
      ]
     },
     "execution_count": 12,
     "metadata": {},
     "output_type": "execute_result"
    }
   ],
   "source": [
    "'''\n",
    "model_path    = \"./model\"\n",
    "in_channels   = 3\n",
    "out1_channels = 32\n",
    "kernelsize    = (3,3,3)\n",
    "\n",
    "model    = UNetOneLayer(in_channels, out1_channels).to(device)\n",
    "f        = open(model_path+\"/\"+\"conv1-bias.txt\",\"r\")\n",
    "nkernels = f.readline()\n",
    "bias1    = f.readline().strip().split(\" \")\n",
    "f.close()\n",
    "bias1    = np.array(bias1).astype(float)\n",
    "bias1    = nn.Parameter(torch.from_numpy(bias1).float())\n",
    "\n",
    "weights1 = np.load(model_path+\"/\"+\"conv1-kernels.npy\")\n",
    "weights1 = shift_weights(weights1,kernelsize,in_channels)\n",
    "weights1 = weights1.transpose()\n",
    "weights1 = weights1.reshape(out1_channels,kernelsize[2],kernelsize[1],kernelsize[0],in_channels).transpose(0, 4, 1, 2, 3)\n",
    "weights1 = nn.Parameter(torch.from_numpy(weights1).float())\n",
    "\n",
    "model.block1[0].bias.data   = bias1\n",
    "model.block1[0].weight.data = weights1\n",
    "'''"
   ]
  },
  {
   "cell_type": "markdown",
   "metadata": {},
   "source": [
    "## Unet with two layers and skip connection"
   ]
  },
  {
   "cell_type": "code",
   "execution_count": 13,
   "metadata": {},
   "outputs": [
    {
     "data": {
      "text/plain": [
       "'\\nmodel_path    = \"./model\"\\nin_channels   = 3\\nout1_channels = 32\\nout2_channels = 64\\nkernelsize    = (3,3,3)\\n\\nmodel    = UNetTwoLayersSkip(in_channels, out1_channels, out2_channels).to(device)\\nf        = open(model_path+\"/\"+\"conv1-bias.txt\",\"r\")\\nnkernels = f.readline()\\nbias1    = f.readline().strip().split(\" \")\\nf.close()\\nbias1    = np.array(bias1).astype(float)\\nbias1    = nn.Parameter(torch.from_numpy(bias1).float())\\n\\nweights1 = np.load(model_path+\"/\"+\"conv1-kernels.npy\")\\nweights1 = shift_weights(weights1,kernelsize,in_channels)\\nweights1 = weights1.transpose()\\nweights1 = weights1.reshape(out1_channels,kernelsize[2],kernelsize[1],kernelsize[0],in_channels).transpose(0, 4, 1, 2, 3)\\nweights1 = nn.Parameter(torch.from_numpy(weights1).float())\\n\\nmodel.block1[0].bias.data   = bias1\\nmodel.block1[0].weight.data = weights1\\n\\nf        = open(model_path+\"/\"+\"conv2-bias.txt\",\"r\")\\nnkernels = f.readline()\\nbias2    = f.readline().strip().split(\" \")\\nf.close()\\nbias2    = np.array(bias2).astype(float)\\nbias2    = nn.Parameter(torch.from_numpy(bias2).float())\\n\\nweights2 = np.load(model_path+\"/\"+\"conv2-kernels.npy\")\\nweights2 = shift_weights(weights2,kernelsize,in_channels+out1_channels)\\nweights2 = weights2.transpose()\\nweights2 = weights2.reshape(out2_channels,kernelsize[2],kernelsize[1],kernelsize[0],out1_channels+in_channels).transpose(0, 4, 1, 2, 3)\\nweights2 = nn.Parameter(torch.from_numpy(weights2).float())\\n\\nmodel.block2[0].bias.data   = bias2\\nmodel.block2[0].weight.data = weights2\\n'"
      ]
     },
     "execution_count": 13,
     "metadata": {},
     "output_type": "execute_result"
    }
   ],
   "source": [
    "'''\n",
    "model_path    = \"./model\"\n",
    "in_channels   = 3\n",
    "out1_channels = 32\n",
    "out2_channels = 64\n",
    "kernelsize    = (3,3,3)\n",
    "\n",
    "model    = UNetTwoLayersSkip(in_channels, out1_channels, out2_channels).to(device)\n",
    "f        = open(model_path+\"/\"+\"conv1-bias.txt\",\"r\")\n",
    "nkernels = f.readline()\n",
    "bias1    = f.readline().strip().split(\" \")\n",
    "f.close()\n",
    "bias1    = np.array(bias1).astype(float)\n",
    "bias1    = nn.Parameter(torch.from_numpy(bias1).float())\n",
    "\n",
    "weights1 = np.load(model_path+\"/\"+\"conv1-kernels.npy\")\n",
    "weights1 = shift_weights(weights1,kernelsize,in_channels)\n",
    "weights1 = weights1.transpose()\n",
    "weights1 = weights1.reshape(out1_channels,kernelsize[2],kernelsize[1],kernelsize[0],in_channels).transpose(0, 4, 1, 2, 3)\n",
    "weights1 = nn.Parameter(torch.from_numpy(weights1).float())\n",
    "\n",
    "model.block1[0].bias.data   = bias1\n",
    "model.block1[0].weight.data = weights1\n",
    "\n",
    "f        = open(model_path+\"/\"+\"conv2-bias.txt\",\"r\")\n",
    "nkernels = f.readline()\n",
    "bias2    = f.readline().strip().split(\" \")\n",
    "f.close()\n",
    "bias2    = np.array(bias2).astype(float)\n",
    "bias2    = nn.Parameter(torch.from_numpy(bias2).float())\n",
    "\n",
    "weights2 = np.load(model_path+\"/\"+\"conv2-kernels.npy\")\n",
    "weights2 = shift_weights(weights2,kernelsize,in_channels+out1_channels)\n",
    "weights2 = weights2.transpose()\n",
    "weights2 = weights2.reshape(out2_channels,kernelsize[2],kernelsize[1],kernelsize[0],out1_channels+in_channels).transpose(0, 4, 1, 2, 3)\n",
    "weights2 = nn.Parameter(torch.from_numpy(weights2).float())\n",
    "\n",
    "model.block2[0].bias.data   = bias2\n",
    "model.block2[0].weight.data = weights2\n",
    "'''"
   ]
  },
  {
   "cell_type": "markdown",
   "metadata": {},
   "source": [
    "## Unet with two layers "
   ]
  },
  {
   "cell_type": "code",
   "execution_count": 14,
   "metadata": {},
   "outputs": [],
   "source": [
    "model_path    = \"./model\"\n",
    "in_channels   = 3\n",
    "out1_channels = 32\n",
    "out2_channels = 64\n",
    "kernelsize    = (3,3,3)\n",
    "\n",
    "model    = UNetTwoLayers(in_channels, out1_channels, out2_channels).to(device)\n",
    "f        = open(model_path+\"/\"+\"conv1-bias.txt\",\"r\")\n",
    "nkernels = f.readline()\n",
    "bias1    = f.readline().strip().split(\" \")\n",
    "f.close()\n",
    "bias1    = np.array(bias1).astype(float)\n",
    "bias1    = nn.Parameter(torch.from_numpy(bias1).float())\n",
    "\n",
    "weights1 = np.load(model_path+\"/\"+\"conv1-kernels.npy\")\n",
    "weights1 = shift_weights(weights1,kernelsize,in_channels)\n",
    "weights1 = weights1.transpose()\n",
    "weights1 = weights1.reshape(out1_channels,kernelsize[2],kernelsize[1],kernelsize[0],in_channels).transpose(0, 4, 1, 2, 3)\n",
    "weights1 = nn.Parameter(torch.from_numpy(weights1).float())\n",
    "\n",
    "model.block1[0].bias.data   = bias1\n",
    "model.block1[0].weight.data = weights1\n",
    "\n",
    "f        = open(model_path+\"/\"+\"conv2-bias.txt\",\"r\")\n",
    "nkernels = f.readline()\n",
    "bias2    = f.readline().strip().split(\" \")\n",
    "f.close()\n",
    "bias2    = np.array(bias2).astype(float)\n",
    "bias2    = nn.Parameter(torch.from_numpy(bias2).float())\n",
    "\n",
    "weights2 = np.load(model_path+\"/\"+\"conv2-kernels.npy\")\n",
    "weights2 = shift_weights(weights2,kernelsize,out1_channels)\n",
    "weights2 = weights2.transpose()\n",
    "weights2 = weights2.reshape(out2_channels,kernelsize[2],kernelsize[1],kernelsize[0],out1_channels).transpose(0, 4, 1, 2, 3)\n",
    "weights2 = nn.Parameter(torch.from_numpy(weights2).float())\n",
    "\n",
    "model.block2[0].bias.data   = bias2\n",
    "model.block2[0].weight.data = weights2"
   ]
  },
  {
   "cell_type": "markdown",
   "metadata": {},
   "source": [
    "### Freezing layers\n",
    "Uncomment the blocks to freeze specific layers"
   ]
  },
  {
   "cell_type": "code",
   "execution_count": 15,
   "metadata": {},
   "outputs": [],
   "source": [
    "# Freezing encoder layers\n",
    "#for param in model.block1.parameters():\n",
    "#    param.requires_grad = False\n",
    "#for param in model.block2.parameters():\n",
    "#    param.requires_grad = False"
   ]
  },
  {
   "cell_type": "markdown",
   "metadata": {},
   "source": [
    "### Printing module"
   ]
  },
  {
   "cell_type": "code",
   "execution_count": 16,
   "metadata": {},
   "outputs": [
    {
     "name": "stdout",
     "output_type": "stream",
     "text": [
      "UNetTwoLayers(\n",
      "  (block1): Sequential(\n",
      "    (0): Conv3d(3, 32, kernel_size=(3, 3, 3), stride=(1, 1, 1), padding=(1, 1, 1))\n",
      "    (1): ReLU()\n",
      "    (2): MaxPool3d(kernel_size=3, stride=2, padding=1, dilation=1, ceil_mode=False)\n",
      "  )\n",
      "  (block2): Sequential(\n",
      "    (0): Conv3d(32, 64, kernel_size=(3, 3, 3), stride=(1, 1, 1), padding=(3, 3, 3), dilation=(3, 3, 3))\n",
      "    (1): ReLU()\n",
      "    (2): MaxPool3d(kernel_size=3, stride=2, padding=1, dilation=1, ceil_mode=False)\n",
      "  )\n",
      "  (bottleneck): Conv3d(64, 128, kernel_size=(3, 3, 3), stride=(2, 2, 2), padding=(1, 1, 1))\n",
      "  (up_conv1): Sequential(\n",
      "    (0): ConvTranspose3d(128, 64, kernel_size=(2, 2, 2), stride=(2, 2, 2))\n",
      "    (1): ReLU(inplace=True)\n",
      "  )\n",
      "  (conv1): Sequential(\n",
      "    (0): Conv3d(128, 64, kernel_size=(3, 3, 3), stride=(1, 1, 1), padding=(1, 1, 1))\n",
      "    (1): BatchNorm3d(64, eps=1e-05, momentum=0.1, affine=True, track_running_stats=True)\n",
      "    (2): ReLU(inplace=True)\n",
      "  )\n",
      "  (up_conv2): Sequential(\n",
      "    (0): ConvTranspose3d(64, 32, kernel_size=(2, 2, 2), stride=(2, 2, 2))\n",
      "    (1): ReLU(inplace=True)\n",
      "  )\n",
      "  (conv2): Sequential(\n",
      "    (0): Conv3d(64, 32, kernel_size=(3, 3, 3), stride=(1, 1, 1), padding=(1, 1, 1))\n",
      "    (1): BatchNorm3d(32, eps=1e-05, momentum=0.1, affine=True, track_running_stats=True)\n",
      "    (2): ReLU(inplace=True)\n",
      "  )\n",
      "  (up_conv3): Sequential(\n",
      "    (0): ConvTranspose3d(32, 32, kernel_size=(2, 2, 2), stride=(2, 2, 2))\n",
      "    (1): ReLU(inplace=True)\n",
      "  )\n",
      "  (pred): Conv3d(32, 2, kernel_size=(1, 1, 1), stride=(1, 1, 1))\n",
      ")\n",
      "==========================================================================================\n",
      "Layer (type:depth-idx)                   Output Shape              Param #\n",
      "==========================================================================================\n",
      "├─Sequential: 1-1                        [-1, 32, 100, 80, 60]     --\n",
      "|    └─Conv3d: 2-1                       [-1, 32, 200, 160, 120]   2,624\n",
      "|    └─ReLU: 2-2                         [-1, 32, 200, 160, 120]   --\n",
      "|    └─MaxPool3d: 2-3                    [-1, 32, 100, 80, 60]     --\n",
      "├─Sequential: 1-2                        [-1, 64, 50, 40, 30]      --\n",
      "|    └─Conv3d: 2-4                       [-1, 64, 100, 80, 60]     55,360\n",
      "|    └─ReLU: 2-5                         [-1, 64, 100, 80, 60]     --\n",
      "|    └─MaxPool3d: 2-6                    [-1, 64, 50, 40, 30]      --\n",
      "├─Conv3d: 1-3                            [-1, 128, 25, 20, 15]     221,312\n",
      "├─Sequential: 1-4                        [-1, 64, 50, 40, 30]      --\n",
      "|    └─ConvTranspose3d: 2-7              [-1, 64, 50, 40, 30]      65,600\n",
      "|    └─ReLU: 2-8                         [-1, 64, 50, 40, 30]      --\n",
      "├─Sequential: 1-5                        [-1, 64, 50, 40, 30]      --\n",
      "|    └─Conv3d: 2-9                       [-1, 64, 50, 40, 30]      221,248\n",
      "|    └─BatchNorm3d: 2-10                 [-1, 64, 50, 40, 30]      128\n",
      "|    └─ReLU: 2-11                        [-1, 64, 50, 40, 30]      --\n",
      "├─Sequential: 1-6                        [-1, 32, 100, 80, 60]     --\n",
      "|    └─ConvTranspose3d: 2-12             [-1, 32, 100, 80, 60]     16,416\n",
      "|    └─ReLU: 2-13                        [-1, 32, 100, 80, 60]     --\n",
      "├─Sequential: 1-7                        [-1, 32, 100, 80, 60]     --\n",
      "|    └─Conv3d: 2-14                      [-1, 32, 100, 80, 60]     55,328\n",
      "|    └─BatchNorm3d: 2-15                 [-1, 32, 100, 80, 60]     64\n",
      "|    └─ReLU: 2-16                        [-1, 32, 100, 80, 60]     --\n",
      "├─Sequential: 1-8                        [-1, 32, 200, 160, 120]   --\n",
      "|    └─ConvTranspose3d: 2-17             [-1, 32, 200, 160, 120]   8,224\n",
      "|    └─ReLU: 2-18                        [-1, 32, 200, 160, 120]   --\n",
      "├─Conv3d: 1-9                            [-1, 2, 200, 160, 120]    66\n",
      "==========================================================================================\n",
      "Total params: 646,370\n",
      "Trainable params: 646,370\n",
      "Non-trainable params: 0\n",
      "Total mult-adds (G): 121.47\n",
      "==========================================================================================\n",
      "Input size (MB): 43.95\n",
      "Forward/backward pass size (MB): 2614.75\n",
      "Params size (MB): 2.47\n",
      "Estimated Total Size (MB): 2661.16\n",
      "==========================================================================================\n"
     ]
    }
   ],
   "source": [
    "print(model)\n",
    "summary(model, (bands, depth, nrows, ncols))\n",
    "\n",
    "from contextlib import redirect_stdout\n",
    "\n",
    "with open(output_dir+'/model_summary.txt', 'w') as f:\n",
    "    with redirect_stdout(f):\n",
    "        summary(model, (bands, depth, nrows, ncols))"
   ]
  },
  {
   "cell_type": "markdown",
   "metadata": {},
   "source": [
    "***\n",
    "# Training FLIM U-NET\n",
    "\n",
    "Here is the definition of the our loss. The proposed loss for segmentation is the weighted CE + DICE loss. The original CE loss is susceptible to unbalanced data, and our images have small objects, therefore, we gave low weights (0.1) for the background and a high weight (0.9) to the object. If your case differs from the one just depicted, please fit the weights according to your problem."
   ]
  },
  {
   "cell_type": "code",
   "execution_count": 17,
   "metadata": {},
   "outputs": [],
   "source": [
    "def BinaryDice(prediction, targets):\n",
    "    targets    = targets != 0\n",
    "    prediction = prediction.cpu()\n",
    "    targets    = targets.cpu()\n",
    "    score      = []\n",
    "    for p, t in zip(prediction, targets):\n",
    "        score.append(binary.dc(p.numpy(), t.numpy()))\n",
    "    return torch.tensor(score).mean()\n",
    "\n",
    "def DiceLoss(prediction, targets, smooth=1):\n",
    "    inputs = torch.softmax(prediction, dim=1) # can be softmax or sigmoid\n",
    "    inputs = inputs[:,1,:,:,:]\n",
    "    inputs = inputs.contiguous().view(-1)\n",
    "    targets = targets.contiguous().view(-1)\n",
    "    intersection = (inputs * targets).sum()\n",
    "    dice_loss = 1 - (2 * intersection + smooth)/(inputs.sum() + targets.sum() + smooth)\n",
    "    return dice_loss\n",
    "\n",
    "def UnetLoss(preds, targets):\n",
    "    weights       = [0.1,0.9] # best -> [0.1, 0.9]\n",
    "    class_weights = torch.FloatTensor(weights).to(device)\n",
    "    ce            = nn.CrossEntropyLoss(weight=class_weights).to(device)\n",
    "\n",
    "    pred_labels = torch.max(preds, 1)[1] # same as argmax\n",
    "    dice_loss   = DiceLoss(preds, targets.long())\n",
    "    dice        = BinaryDice(targets.long(),pred_labels)\n",
    "    ce_loss     = ce(preds, targets.long())\n",
    "    loss        = ce_loss + dice_loss\n",
    "    return loss, dice"
   ]
  },
  {
   "cell_type": "code",
   "execution_count": 18,
   "metadata": {
    "id": "CzzQfvyrwx6M"
   },
   "outputs": [],
   "source": [
    "def train_batch(model, data, optimizer, criterion, device):\n",
    "    model.train()\n",
    "    ims, masks = data\n",
    "    ims   = ims.to(device=device)\n",
    "    masks = masks.to(device=device)\n",
    "    _masks = model(ims)\n",
    "    loss, dice = criterion(_masks, masks)\n",
    "    loss.backward()\n",
    "    optimizer.step()\n",
    "    optimizer.zero_grad()\n",
    "    return loss.item(), dice.item()\n",
    "\n",
    "@torch.no_grad()\n",
    "def validate_batch(model, data, criterion, device):\n",
    "    model.eval()\n",
    "    ims, masks = data\n",
    "    ims   = ims.to(device=device)\n",
    "    masks = masks.to(device=device)\n",
    "    _masks = model(ims)\n",
    "    loss, dice = criterion(_masks, masks)\n",
    "    return loss.item(), dice.item()"
   ]
  },
  {
   "cell_type": "code",
   "execution_count": 19,
   "metadata": {
    "colab": {
     "base_uri": "https://localhost:8080/",
     "height": 83,
     "referenced_widgets": [
      "5292c3b952b3466f9c2d05bf97dc3fcc",
      "bd6d2b25f8254a77925ed65471913b48",
      "300e54bb169442a19c843ee9b240ae51",
      "f06a86af1f854643bcc67d7921214717",
      "a25e41d7ae29488788c6c3b1cee7d00e",
      "0431d166f9d946a1a9cb6da37e08e900",
      "433a0a7d7d4b49f9bfcf610c9d0f66ad",
      "b0d5e6d13dd14b02a3e60517301dfeb6"
     ]
    },
    "id": "wob9T8n7w0Q-",
    "outputId": "658203d6-fdb0-43f3-8148-076003acbac5"
   },
   "outputs": [],
   "source": [
    "criterion = UnetLoss\n",
    "learning_rate = 1e-2\n",
    "optimizer = optim.Adam(model.parameters(), lr=learning_rate,  weight_decay=1e-4)\n",
    "scheduler = optim.lr_scheduler.StepLR(optimizer, step_size=50, gamma=0.1)\n",
    "n_epochs  = 150"
   ]
  },
  {
   "cell_type": "code",
   "execution_count": 20,
   "metadata": {
    "colab": {
     "base_uri": "https://localhost:8080/"
    },
    "id": "6OfgZty5w1ie",
    "outputId": "5a5c52da-1287-4f0e-f1a1-4740da8c608a"
   },
   "outputs": [
    {
     "name": "stdout",
     "output_type": "stream",
     "text": [
      "EPOCH: 1.000\ttrn_loss: 1.436\ttrn_dice: 0.313\tval_loss: 1.649\tval_dice: 0.054\t(8.91s - 1327.97s remaining)\n",
      "EPOCH: 2.000\ttrn_loss: 0.789\ttrn_dice: 0.630\tval_loss: 0.882\tval_dice: 0.487\t(17.72s - 1311.60s remaining)\n",
      "EPOCH: 3.000\ttrn_loss: 0.449\ttrn_dice: 0.712\tval_loss: 0.356\tval_dice: 0.763\t(26.55s - 1300.81s remaining)\n",
      "EPOCH: 4.000\ttrn_loss: 0.403\ttrn_dice: 0.739\tval_loss: 0.306\tval_dice: 0.821\t(35.39s - 1291.70s remaining)\n",
      "EPOCH: 5.000\ttrn_loss: 0.418\ttrn_dice: 0.738\tval_loss: 0.306\tval_dice: 0.765\t(44.21s - 1281.96s remaining)\n",
      "EPOCH: 6.000\ttrn_loss: 0.384\ttrn_dice: 0.726\tval_loss: 0.313\tval_dice: 0.803\t(53.16s - 1275.91s remaining)\n",
      "EPOCH: 7.000\ttrn_loss: 0.378\ttrn_dice: 0.728\tval_loss: 0.334\tval_dice: 0.786\t(62.13s - 1269.28s remaining)\n",
      "EPOCH: 8.000\ttrn_loss: 0.366\ttrn_dice: 0.773\tval_loss: 0.308\tval_dice: 0.774\t(71.22s - 1264.19s remaining)\n",
      "EPOCH: 9.000\ttrn_loss: 0.354\ttrn_dice: 0.746\tval_loss: 0.276\tval_dice: 0.833\t(80.13s - 1255.34s remaining)\n",
      "EPOCH: 10.000\ttrn_loss: 0.344\ttrn_dice: 0.775\tval_loss: 0.317\tval_dice: 0.764\t(89.47s - 1252.55s remaining)\n",
      "EPOCH: 11.000\ttrn_loss: 0.360\ttrn_dice: 0.780\tval_loss: 0.275\tval_dice: 0.835\t(98.54s - 1245.16s remaining)\n",
      "EPOCH: 12.000\ttrn_loss: 0.352\ttrn_dice: 0.755\tval_loss: 0.311\tval_dice: 0.766\t(107.40s - 1235.14s remaining)\n",
      "EPOCH: 13.000\ttrn_loss: 0.392\ttrn_dice: 0.722\tval_loss: 0.254\tval_dice: 0.826\t(116.34s - 1226.00s remaining)\n",
      "EPOCH: 14.000\ttrn_loss: 0.357\ttrn_dice: 0.763\tval_loss: 0.307\tval_dice: 0.773\t(125.27s - 1216.94s remaining)\n",
      "EPOCH: 15.000\ttrn_loss: 0.319\ttrn_dice: 0.790\tval_loss: 0.292\tval_dice: 0.803\t(134.23s - 1208.03s remaining)\n",
      "EPOCH: 16.000\ttrn_loss: 0.343\ttrn_dice: 0.783\tval_loss: 0.257\tval_dice: 0.841\t(143.16s - 1198.93s remaining)\n",
      "EPOCH: 17.000\ttrn_loss: 0.373\ttrn_dice: 0.738\tval_loss: 0.272\tval_dice: 0.810\t(152.08s - 1189.82s remaining)\n",
      "EPOCH: 18.000\ttrn_loss: 0.363\ttrn_dice: 0.759\tval_loss: 0.320\tval_dice: 0.768\t(161.15s - 1181.75s remaining)\n",
      "EPOCH: 19.000\ttrn_loss: 0.359\ttrn_dice: 0.779\tval_loss: 0.287\tval_dice: 0.805\t(170.10s - 1172.81s remaining)\n",
      "EPOCH: 20.000\ttrn_loss: 0.349\ttrn_dice: 0.744\tval_loss: 0.298\tval_dice: 0.816\t(179.04s - 1163.74s remaining)\n",
      "EPOCH: 21.000\ttrn_loss: 0.329\ttrn_dice: 0.796\tval_loss: 0.294\tval_dice: 0.791\t(188.01s - 1154.93s remaining)\n",
      "EPOCH: 22.000\ttrn_loss: 0.325\ttrn_dice: 0.783\tval_loss: 0.304\tval_dice: 0.816\t(196.89s - 1145.52s remaining)\n",
      "EPOCH: 23.000\ttrn_loss: 0.334\ttrn_dice: 0.785\tval_loss: 0.267\tval_dice: 0.803\t(206.08s - 1137.90s remaining)\n",
      "EPOCH: 24.000\ttrn_loss: 0.333\ttrn_dice: 0.780\tval_loss: 0.272\tval_dice: 0.825\t(214.99s - 1128.67s remaining)\n",
      "EPOCH: 25.000\ttrn_loss: 0.327\ttrn_dice: 0.791\tval_loss: 0.230\tval_dice: 0.842\t(223.93s - 1119.65s remaining)\n",
      "EPOCH: 26.000\ttrn_loss: 0.310\ttrn_dice: 0.780\tval_loss: 0.293\tval_dice: 0.779\t(232.94s - 1110.94s remaining)\n",
      "EPOCH: 27.000\ttrn_loss: 0.375\ttrn_dice: 0.757\tval_loss: 0.275\tval_dice: 0.813\t(241.92s - 1102.09s remaining)\n",
      "EPOCH: 28.000\ttrn_loss: 0.301\ttrn_dice: 0.799\tval_loss: 0.234\tval_dice: 0.842\t(250.98s - 1093.56s remaining)\n",
      "EPOCH: 29.000\ttrn_loss: 0.322\ttrn_dice: 0.799\tval_loss: 0.295\tval_dice: 0.787\t(259.92s - 1084.49s remaining)\n",
      "EPOCH: 30.000\ttrn_loss: 0.335\ttrn_dice: 0.774\tval_loss: 0.260\tval_dice: 0.822\t(269.01s - 1076.02s remaining)\n",
      "EPOCH: 31.000\ttrn_loss: 0.322\ttrn_dice: 0.785\tval_loss: 0.242\tval_dice: 0.842\t(277.99s - 1067.11s remaining)\n",
      "EPOCH: 32.000\ttrn_loss: 0.314\ttrn_dice: 0.791\tval_loss: 0.273\tval_dice: 0.790\t(286.99s - 1058.29s remaining)\n",
      "EPOCH: 33.000\ttrn_loss: 0.335\ttrn_dice: 0.778\tval_loss: 0.273\tval_dice: 0.831\t(296.04s - 1049.61s remaining)\n",
      "EPOCH: 34.000\ttrn_loss: 0.325\ttrn_dice: 0.788\tval_loss: 0.265\tval_dice: 0.807\t(304.95s - 1040.41s remaining)\n",
      "EPOCH: 35.000\ttrn_loss: 0.309\ttrn_dice: 0.796\tval_loss: 0.249\tval_dice: 0.848\t(313.84s - 1031.18s remaining)\n",
      "EPOCH: 36.000\ttrn_loss: 0.309\ttrn_dice: 0.789\tval_loss: 0.294\tval_dice: 0.787\t(322.85s - 1022.37s remaining)\n",
      "EPOCH: 37.000\ttrn_loss: 0.314\ttrn_dice: 0.791\tval_loss: 0.249\tval_dice: 0.851\t(331.80s - 1013.34s remaining)\n",
      "EPOCH: 38.000\ttrn_loss: 0.329\ttrn_dice: 0.786\tval_loss: 0.287\tval_dice: 0.802\t(340.91s - 1004.80s remaining)\n",
      "EPOCH: 39.000\ttrn_loss: 0.323\ttrn_dice: 0.796\tval_loss: 0.261\tval_dice: 0.823\t(350.05s - 996.30s remaining)\n",
      "EPOCH: 40.000\ttrn_loss: 0.300\ttrn_dice: 0.795\tval_loss: 0.267\tval_dice: 0.822\t(359.05s - 987.39s remaining)\n",
      "EPOCH: 41.000\ttrn_loss: 0.317\ttrn_dice: 0.798\tval_loss: 0.265\tval_dice: 0.821\t(367.95s - 978.21s remaining)\n",
      "EPOCH: 42.000\ttrn_loss: 0.315\ttrn_dice: 0.788\tval_loss: 0.260\tval_dice: 0.824\t(376.77s - 968.84s remaining)\n",
      "EPOCH: 43.000\ttrn_loss: 0.283\ttrn_dice: 0.809\tval_loss: 0.249\tval_dice: 0.816\t(385.78s - 959.95s remaining)\n",
      "EPOCH: 44.000\ttrn_loss: 0.321\ttrn_dice: 0.800\tval_loss: 0.265\tval_dice: 0.831\t(394.88s - 951.29s remaining)\n",
      "EPOCH: 45.000\ttrn_loss: 0.301\ttrn_dice: 0.794\tval_loss: 0.258\tval_dice: 0.827\t(403.96s - 942.58s remaining)\n",
      "EPOCH: 46.000\ttrn_loss: 0.306\ttrn_dice: 0.800\tval_loss: 0.243\tval_dice: 0.819\t(413.14s - 934.05s remaining)\n",
      "EPOCH: 47.000\ttrn_loss: 0.309\ttrn_dice: 0.799\tval_loss: 0.255\tval_dice: 0.822\t(422.21s - 925.27s remaining)\n",
      "EPOCH: 48.000\ttrn_loss: 0.315\ttrn_dice: 0.797\tval_loss: 0.231\tval_dice: 0.859\t(431.13s - 916.15s remaining)\n",
      "EPOCH: 49.000\ttrn_loss: 0.327\ttrn_dice: 0.796\tval_loss: 0.274\tval_dice: 0.787\t(440.13s - 907.20s remaining)\n",
      "EPOCH: 50.000\ttrn_loss: 0.311\ttrn_dice: 0.779\tval_loss: 0.259\tval_dice: 0.846\t(449.16s - 898.32s remaining)\n",
      "updating learning rate: 0.001\n",
      "EPOCH: 51.000\ttrn_loss: 0.332\ttrn_dice: 0.792\tval_loss: 0.283\tval_dice: 0.812\t(458.01s - 889.09s remaining)\n",
      "EPOCH: 52.000\ttrn_loss: 0.313\ttrn_dice: 0.814\tval_loss: 0.288\tval_dice: 0.802\t(467.00s - 880.12s remaining)\n",
      "EPOCH: 53.000\ttrn_loss: 0.293\ttrn_dice: 0.809\tval_loss: 0.244\tval_dice: 0.818\t(476.04s - 871.24s remaining)\n",
      "EPOCH: 54.000\ttrn_loss: 0.318\ttrn_dice: 0.793\tval_loss: 0.253\tval_dice: 0.826\t(485.03s - 862.27s remaining)\n",
      "EPOCH: 55.000\ttrn_loss: 0.296\ttrn_dice: 0.813\tval_loss: 0.254\tval_dice: 0.824\t(493.90s - 853.10s remaining)\n",
      "EPOCH: 56.000\ttrn_loss: 0.295\ttrn_dice: 0.795\tval_loss: 0.259\tval_dice: 0.833\t(502.90s - 844.16s remaining)\n",
      "EPOCH: 57.000\ttrn_loss: 0.297\ttrn_dice: 0.809\tval_loss: 0.253\tval_dice: 0.826\t(511.94s - 835.27s remaining)\n",
      "EPOCH: 58.000\ttrn_loss: 0.288\ttrn_dice: 0.810\tval_loss: 0.225\tval_dice: 0.852\t(520.94s - 826.31s remaining)\n",
      "EPOCH: 59.000\ttrn_loss: 0.304\ttrn_dice: 0.800\tval_loss: 0.286\tval_dice: 0.803\t(529.94s - 817.37s remaining)\n",
      "EPOCH: 60.000\ttrn_loss: 0.284\ttrn_dice: 0.827\tval_loss: 0.245\tval_dice: 0.821\t(538.88s - 808.32s remaining)\n",
      "EPOCH: 61.000\ttrn_loss: 0.289\ttrn_dice: 0.806\tval_loss: 0.253\tval_dice: 0.827\t(547.75s - 799.17s remaining)\n",
      "EPOCH: 62.000\ttrn_loss: 0.309\ttrn_dice: 0.804\tval_loss: 0.261\tval_dice: 0.832\t(556.75s - 790.22s remaining)\n",
      "EPOCH: 63.000\ttrn_loss: 0.306\ttrn_dice: 0.795\tval_loss: 0.240\tval_dice: 0.820\t(565.68s - 781.18s remaining)\n",
      "EPOCH: 64.000\ttrn_loss: 0.308\ttrn_dice: 0.803\tval_loss: 0.259\tval_dice: 0.834\t(574.56s - 772.06s remaining)\n",
      "EPOCH: 65.000\ttrn_loss: 0.288\ttrn_dice: 0.806\tval_loss: 0.220\tval_dice: 0.852\t(583.52s - 763.07s remaining)\n",
      "EPOCH: 66.000\ttrn_loss: 0.292\ttrn_dice: 0.799\tval_loss: 0.271\tval_dice: 0.795\t(592.57s - 754.18s remaining)\n",
      "EPOCH: 67.000\ttrn_loss: 0.298\ttrn_dice: 0.801\tval_loss: 0.240\tval_dice: 0.856\t(601.60s - 745.27s remaining)\n",
      "EPOCH: 68.000\ttrn_loss: 0.277\ttrn_dice: 0.823\tval_loss: 0.253\tval_dice: 0.828\t(610.61s - 736.33s remaining)\n",
      "EPOCH: 69.000\ttrn_loss: 0.308\ttrn_dice: 0.809\tval_loss: 0.268\tval_dice: 0.796\t(619.67s - 727.44s remaining)\n",
      "EPOCH: 70.000\ttrn_loss: 0.279\ttrn_dice: 0.806\tval_loss: 0.232\tval_dice: 0.858\t(628.54s - 718.34s remaining)\n",
      "EPOCH: 71.000\ttrn_loss: 0.338\ttrn_dice: 0.789\tval_loss: 0.249\tval_dice: 0.827\t(637.62s - 709.46s remaining)\n",
      "EPOCH: 72.000\ttrn_loss: 0.288\ttrn_dice: 0.821\tval_loss: 0.269\tval_dice: 0.793\t(646.47s - 700.34s remaining)\n",
      "EPOCH: 73.000\ttrn_loss: 0.293\ttrn_dice: 0.790\tval_loss: 0.230\tval_dice: 0.859\t(655.47s - 691.38s remaining)\n",
      "EPOCH: 74.000\ttrn_loss: 0.276\ttrn_dice: 0.813\tval_loss: 0.258\tval_dice: 0.824\t(664.29s - 682.24s remaining)\n",
      "EPOCH: 75.000\ttrn_loss: 0.288\ttrn_dice: 0.813\tval_loss: 0.268\tval_dice: 0.798\t(673.24s - 673.24s remaining)\n",
      "EPOCH: 76.000\ttrn_loss: 0.314\ttrn_dice: 0.805\tval_loss: 0.254\tval_dice: 0.825\t(682.28s - 664.33s remaining)\n",
      "EPOCH: 77.000\ttrn_loss: 0.291\ttrn_dice: 0.803\tval_loss: 0.249\tval_dice: 0.827\t(691.33s - 655.41s remaining)\n",
      "EPOCH: 78.000\ttrn_loss: 0.283\ttrn_dice: 0.805\tval_loss: 0.250\tval_dice: 0.827\t(700.31s - 646.44s remaining)\n",
      "EPOCH: 79.000\ttrn_loss: 0.328\ttrn_dice: 0.791\tval_loss: 0.230\tval_dice: 0.859\t(709.21s - 637.39s remaining)\n",
      "EPOCH: 80.000\ttrn_loss: 0.280\ttrn_dice: 0.820\tval_loss: 0.251\tval_dice: 0.826\t(718.20s - 628.43s remaining)\n",
      "EPOCH: 81.000\ttrn_loss: 0.304\ttrn_dice: 0.801\tval_loss: 0.272\tval_dice: 0.793\t(727.10s - 619.38s remaining)\n",
      "EPOCH: 82.000\ttrn_loss: 0.271\ttrn_dice: 0.826\tval_loss: 0.230\tval_dice: 0.860\t(736.00s - 610.34s remaining)\n",
      "EPOCH: 83.000\ttrn_loss: 0.323\ttrn_dice: 0.791\tval_loss: 0.275\tval_dice: 0.788\t(745.03s - 601.41s remaining)\n",
      "EPOCH: 84.000\ttrn_loss: 0.297\ttrn_dice: 0.799\tval_loss: 0.225\tval_dice: 0.861\t(753.95s - 592.39s remaining)\n",
      "EPOCH: 85.000\ttrn_loss: 0.300\ttrn_dice: 0.798\tval_loss: 0.257\tval_dice: 0.823\t(762.97s - 583.45s remaining)\n",
      "EPOCH: 86.000\ttrn_loss: 0.293\ttrn_dice: 0.816\tval_loss: 0.256\tval_dice: 0.826\t(771.81s - 574.37s remaining)\n",
      "EPOCH: 87.000\ttrn_loss: 0.298\ttrn_dice: 0.811\tval_loss: 0.277\tval_dice: 0.802\t(781.04s - 565.58s remaining)\n",
      "EPOCH: 88.000\ttrn_loss: 0.303\ttrn_dice: 0.802\tval_loss: 0.237\tval_dice: 0.819\t(790.04s - 556.62s remaining)\n",
      "EPOCH: 89.000\ttrn_loss: 0.279\ttrn_dice: 0.810\tval_loss: 0.260\tval_dice: 0.833\t(799.07s - 547.68s remaining)\n",
      "EPOCH: 90.000\ttrn_loss: 0.278\ttrn_dice: 0.809\tval_loss: 0.240\tval_dice: 0.822\t(808.02s - 538.68s remaining)\n",
      "EPOCH: 91.000\ttrn_loss: 0.288\ttrn_dice: 0.818\tval_loss: 0.254\tval_dice: 0.827\t(816.97s - 529.68s remaining)\n",
      "EPOCH: 92.000\ttrn_loss: 0.299\ttrn_dice: 0.815\tval_loss: 0.234\tval_dice: 0.858\t(825.91s - 520.68s remaining)\n",
      "EPOCH: 93.000\ttrn_loss: 0.284\ttrn_dice: 0.804\tval_loss: 0.269\tval_dice: 0.793\t(834.97s - 511.75s remaining)\n",
      "EPOCH: 94.000\ttrn_loss: 0.328\ttrn_dice: 0.796\tval_loss: 0.259\tval_dice: 0.831\t(843.88s - 502.74s remaining)\n",
      "EPOCH: 95.000\ttrn_loss: 0.292\ttrn_dice: 0.800\tval_loss: 0.219\tval_dice: 0.853\t(852.97s - 493.83s remaining)\n",
      "EPOCH: 96.000\ttrn_loss: 0.283\ttrn_dice: 0.816\tval_loss: 0.258\tval_dice: 0.823\t(861.98s - 484.87s remaining)\n",
      "EPOCH: 97.000\ttrn_loss: 0.287\ttrn_dice: 0.818\tval_loss: 0.281\tval_dice: 0.803\t(870.91s - 475.86s remaining)\n",
      "EPOCH: 98.000\ttrn_loss: 0.252\ttrn_dice: 0.833\tval_loss: 0.252\tval_dice: 0.826\t(879.88s - 466.87s remaining)\n",
      "EPOCH: 99.000\ttrn_loss: 0.353\ttrn_dice: 0.782\tval_loss: 0.237\tval_dice: 0.819\t(888.96s - 457.95s remaining)\n",
      "EPOCH: 100.000\ttrn_loss: 0.285\ttrn_dice: 0.804\tval_loss: 0.249\tval_dice: 0.825\t(897.99s - 448.99s remaining)\n",
      "updating learning rate: 0.0001\n",
      "EPOCH: 101.000\ttrn_loss: 0.315\ttrn_dice: 0.797\tval_loss: 0.225\tval_dice: 0.861\t(906.98s - 440.02s remaining)\n",
      "EPOCH: 102.000\ttrn_loss: 0.284\ttrn_dice: 0.805\tval_loss: 0.250\tval_dice: 0.824\t(915.92s - 431.02s remaining)\n",
      "EPOCH: 103.000\ttrn_loss: 0.308\ttrn_dice: 0.805\tval_loss: 0.282\tval_dice: 0.795\t(924.96s - 422.07s remaining)\n",
      "EPOCH: 104.000\ttrn_loss: 0.280\ttrn_dice: 0.805\tval_loss: 0.242\tval_dice: 0.818\t(933.93s - 413.09s remaining)\n",
      "EPOCH: 105.000\ttrn_loss: 0.303\ttrn_dice: 0.806\tval_loss: 0.259\tval_dice: 0.832\t(942.98s - 404.13s remaining)\n",
      "EPOCH: 106.000\ttrn_loss: 0.288\ttrn_dice: 0.802\tval_loss: 0.251\tval_dice: 0.826\t(951.68s - 395.04s remaining)\n",
      "EPOCH: 107.000\ttrn_loss: 0.284\ttrn_dice: 0.818\tval_loss: 0.223\tval_dice: 0.853\t(960.41s - 385.96s remaining)\n",
      "EPOCH: 108.000\ttrn_loss: 0.265\ttrn_dice: 0.829\tval_loss: 0.281\tval_dice: 0.799\t(969.21s - 376.92s remaining)\n",
      "EPOCH: 109.000\ttrn_loss: 0.325\ttrn_dice: 0.801\tval_loss: 0.242\tval_dice: 0.820\t(978.27s - 367.97s remaining)\n",
      "EPOCH: 110.000\ttrn_loss: 0.284\ttrn_dice: 0.804\tval_loss: 0.251\tval_dice: 0.827\t(987.34s - 359.03s remaining)\n",
      "EPOCH: 111.000\ttrn_loss: 0.300\ttrn_dice: 0.807\tval_loss: 0.252\tval_dice: 0.826\t(996.60s - 350.16s remaining)\n",
      "EPOCH: 112.000\ttrn_loss: 0.262\ttrn_dice: 0.822\tval_loss: 0.262\tval_dice: 0.833\t(1005.74s - 341.23s remaining)\n",
      "EPOCH: 113.000\ttrn_loss: 0.295\ttrn_dice: 0.806\tval_loss: 0.252\tval_dice: 0.827\t(1014.61s - 332.22s remaining)\n",
      "EPOCH: 114.000\ttrn_loss: 0.290\ttrn_dice: 0.824\tval_loss: 0.223\tval_dice: 0.853\t(1023.93s - 323.35s remaining)\n",
      "EPOCH: 115.000\ttrn_loss: 0.255\ttrn_dice: 0.828\tval_loss: 0.251\tval_dice: 0.827\t(1033.18s - 314.45s remaining)\n",
      "EPOCH: 116.000\ttrn_loss: 0.333\ttrn_dice: 0.794\tval_loss: 0.270\tval_dice: 0.793\t(1042.25s - 305.49s remaining)\n",
      "EPOCH: 117.000\ttrn_loss: 0.310\ttrn_dice: 0.804\tval_loss: 0.231\tval_dice: 0.860\t(1051.29s - 296.52s remaining)\n",
      "EPOCH: 118.000\ttrn_loss: 0.295\ttrn_dice: 0.808\tval_loss: 0.271\tval_dice: 0.792\t(1060.34s - 287.55s remaining)\n",
      "EPOCH: 119.000\ttrn_loss: 0.287\ttrn_dice: 0.802\tval_loss: 0.250\tval_dice: 0.826\t(1069.38s - 278.58s remaining)\n",
      "EPOCH: 120.000\ttrn_loss: 0.283\ttrn_dice: 0.804\tval_loss: 0.250\tval_dice: 0.826\t(1078.43s - 269.61s remaining)\n",
      "EPOCH: 121.000\ttrn_loss: 0.324\ttrn_dice: 0.799\tval_loss: 0.233\tval_dice: 0.859\t(1087.42s - 260.62s remaining)\n",
      "EPOCH: 122.000\ttrn_loss: 0.286\ttrn_dice: 0.805\tval_loss: 0.281\tval_dice: 0.800\t(1096.34s - 251.62s remaining)\n",
      "EPOCH: 123.000\ttrn_loss: 0.292\ttrn_dice: 0.806\tval_loss: 0.225\tval_dice: 0.852\t(1105.26s - 242.62s remaining)\n",
      "EPOCH: 124.000\ttrn_loss: 0.274\ttrn_dice: 0.826\tval_loss: 0.268\tval_dice: 0.796\t(1114.11s - 233.60s remaining)\n",
      "EPOCH: 125.000\ttrn_loss: 0.260\ttrn_dice: 0.822\tval_loss: 0.266\tval_dice: 0.833\t(1123.02s - 224.60s remaining)\n",
      "EPOCH: 126.000\ttrn_loss: 0.299\ttrn_dice: 0.809\tval_loss: 0.227\tval_dice: 0.851\t(1131.83s - 215.59s remaining)\n",
      "EPOCH: 127.000\ttrn_loss: 0.286\ttrn_dice: 0.814\tval_loss: 0.253\tval_dice: 0.827\t(1140.83s - 206.61s remaining)\n",
      "EPOCH: 128.000\ttrn_loss: 0.331\ttrn_dice: 0.795\tval_loss: 0.267\tval_dice: 0.796\t(1149.80s - 197.62s remaining)\n",
      "EPOCH: 129.000\ttrn_loss: 0.279\ttrn_dice: 0.825\tval_loss: 0.265\tval_dice: 0.832\t(1158.70s - 188.63s remaining)\n",
      "EPOCH: 130.000\ttrn_loss: 0.304\ttrn_dice: 0.806\tval_loss: 0.251\tval_dice: 0.826\t(1167.40s - 179.60s remaining)\n",
      "EPOCH: 131.000\ttrn_loss: 0.252\ttrn_dice: 0.829\tval_loss: 0.251\tval_dice: 0.826\t(1176.08s - 170.58s remaining)\n",
      "EPOCH: 132.000\ttrn_loss: 0.329\ttrn_dice: 0.797\tval_loss: 0.221\tval_dice: 0.853\t(1185.09s - 161.60s remaining)\n",
      "EPOCH: 133.000\ttrn_loss: 0.329\ttrn_dice: 0.798\tval_loss: 0.270\tval_dice: 0.792\t(1194.09s - 152.63s remaining)\n",
      "EPOCH: 134.000\ttrn_loss: 0.284\ttrn_dice: 0.803\tval_loss: 0.231\tval_dice: 0.860\t(1203.15s - 143.66s remaining)\n",
      "EPOCH: 135.000\ttrn_loss: 0.289\ttrn_dice: 0.817\tval_loss: 0.269\tval_dice: 0.793\t(1212.10s - 134.68s remaining)\n",
      "EPOCH: 136.000\ttrn_loss: 0.278\ttrn_dice: 0.824\tval_loss: 0.262\tval_dice: 0.832\t(1221.08s - 125.70s remaining)\n",
      "EPOCH: 137.000\ttrn_loss: 0.275\ttrn_dice: 0.804\tval_loss: 0.222\tval_dice: 0.853\t(1230.06s - 116.72s remaining)\n",
      "EPOCH: 138.000\ttrn_loss: 0.281\ttrn_dice: 0.818\tval_loss: 0.281\tval_dice: 0.799\t(1239.02s - 107.74s remaining)\n",
      "EPOCH: 139.000\ttrn_loss: 0.293\ttrn_dice: 0.806\tval_loss: 0.251\tval_dice: 0.826\t(1248.16s - 98.78s remaining)\n",
      "EPOCH: 140.000\ttrn_loss: 0.336\ttrn_dice: 0.796\tval_loss: 0.251\tval_dice: 0.826\t(1257.19s - 89.80s remaining)\n",
      "EPOCH: 141.000\ttrn_loss: 0.306\ttrn_dice: 0.802\tval_loss: 0.220\tval_dice: 0.854\t(1266.21s - 80.82s remaining)\n",
      "EPOCH: 142.000\ttrn_loss: 0.274\ttrn_dice: 0.818\tval_loss: 0.272\tval_dice: 0.791\t(1275.05s - 71.83s remaining)\n",
      "EPOCH: 143.000\ttrn_loss: 0.294\ttrn_dice: 0.800\tval_loss: 0.250\tval_dice: 0.827\t(1284.08s - 62.86s remaining)\n",
      "EPOCH: 144.000\ttrn_loss: 0.281\ttrn_dice: 0.822\tval_loss: 0.252\tval_dice: 0.826\t(1293.26s - 53.89s remaining)\n",
      "EPOCH: 145.000\ttrn_loss: 0.267\ttrn_dice: 0.821\tval_loss: 0.252\tval_dice: 0.826\t(1302.22s - 44.90s remaining)\n",
      "EPOCH: 146.000\ttrn_loss: 0.292\ttrn_dice: 0.807\tval_loss: 0.230\tval_dice: 0.860\t(1311.27s - 35.93s remaining)\n",
      "EPOCH: 147.000\ttrn_loss: 0.290\ttrn_dice: 0.805\tval_loss: 0.272\tval_dice: 0.791\t(1320.17s - 26.94s remaining)\n",
      "EPOCH: 148.000\ttrn_loss: 0.282\ttrn_dice: 0.811\tval_loss: 0.233\tval_dice: 0.859\t(1329.11s - 17.96s remaining)\n",
      "EPOCH: 149.000\ttrn_loss: 0.291\ttrn_dice: 0.809\tval_loss: 0.281\tval_dice: 0.800\t(1338.08s - 8.98s remaining)\n",
      "EPOCH: 150.000\ttrn_loss: 0.281\ttrn_dice: 0.817\tval_loss: 0.227\tval_dice: 0.851\t(1346.96s - 0.00s remaining)\n",
      "updating learning rate: 1e-05\n"
     ]
    }
   ],
   "source": [
    "# initializing variables\n",
    "log = Report(n_epochs)\n",
    "current_lr = learning_rate\n",
    "final_val_dice = 0\n",
    "\n",
    "# starting training\n",
    "for ex in range(n_epochs):\n",
    "    N = len(train_dl)\n",
    "    for bx, data in enumerate(train_dl):\n",
    "        loss, dice = train_batch(model, data, optimizer, criterion, device)\n",
    "        log.record((ex+(bx+1)/N), trn_loss=loss, trn_dice=dice, end='\\r')\n",
    "\n",
    "    N = len(test_dl)\n",
    "    for bx, data in enumerate(test_dl):\n",
    "        loss, dice = validate_batch(model, data, criterion, device)\n",
    "        final_val_dice = dice\n",
    "        log.record((ex+(bx+1)/N), val_loss=loss, val_dice=dice, end='\\r')\n",
    "\n",
    "    log.report_avgs(ex+1)\n",
    "    scheduler.step()\n",
    "    if scheduler.get_last_lr()[0] < current_lr:\n",
    "        current_lr = scheduler.get_last_lr()[0]\n",
    "        print(\"updating learning rate: \"+str(current_lr))"
   ]
  },
  {
   "cell_type": "code",
   "execution_count": 21,
   "metadata": {
    "colab": {
     "base_uri": "https://localhost:8080/",
     "height": 473
    },
    "id": "qO45oGH7w9vr",
    "outputId": "995f5e7c-b75f-4013-f070-6b9207c16949",
    "scrolled": true
   },
   "outputs": [
    {
     "name": "stderr",
     "output_type": "stream",
     "text": [
      "100%|███████████████████████████████████████| 251/251 [00:00<00:00, 6437.54it/s]\n"
     ]
    },
    {
     "data": {
      "image/png": "[encoded data removed]",
      "text/plain": [
       "<Figure size 576x432 with 1 Axes>"
      ]
     },
     "metadata": {
      "needs_background": "light"
     },
     "output_type": "display_data"
    }
   ],
   "source": [
    "log.plot_epochs(['trn_loss','val_loss'])"
   ]
  },
  {
   "cell_type": "code",
   "execution_count": 22,
   "metadata": {
    "scrolled": true
   },
   "outputs": [
    {
     "name": "stderr",
     "output_type": "stream",
     "text": [
      "100%|███████████████████████████████████████| 251/251 [00:00<00:00, 9549.46it/s]\n"
     ]
    },
    {
     "data": {
      "image/png": "[encoded data removed]",
      "text/plain": [
       "<Figure size 576x432 with 1 Axes>"
      ]
     },
     "metadata": {
      "needs_background": "light"
     },
     "output_type": "display_data"
    }
   ],
   "source": [
    "log.plot_epochs(['trn_dice','val_dice'])"
   ]
  },
  {
   "cell_type": "markdown",
   "metadata": {},
   "source": [
    "***\n",
    "## Saving model"
   ]
  },
  {
   "cell_type": "code",
   "execution_count": 23,
   "metadata": {},
   "outputs": [],
   "source": [
    "# Creating output model dir\n",
    "model_name       = \"flim_unet_epoch%d_valdice%f\" % (n_epochs,final_val_dice)\n",
    "output_model_dir = output_dir + \"/output_model/\"\n",
    "if not(os.path.exists(output_model_dir)):\n",
    "    os.makedirs(output_model_dir)\n",
    "\n",
    "# Saving output model in Torch format\n",
    "torch.save(model,output_model_dir+model_name+\".pt\")"
   ]
  },
  {
   "cell_type": "markdown",
   "metadata": {},
   "source": [
    "***\n",
    "## Writting predicted segmentation"
   ]
  },
  {
   "cell_type": "code",
   "execution_count": 24,
   "metadata": {},
   "outputs": [],
   "source": [
    "import nibabel as nib\n",
    "\n",
    "def save_pred(output_dir, pred, basename):\n",
    "    \n",
    "    if not os.path.isdir(output_dir):\n",
    "        os.mkdir(output_dir)\n",
    "    pred    = torch.max(pred, 1)[1]\n",
    "    outdata = pred.squeeze(0).detach().cpu().numpy().astype(np.int8).transpose(2,1,0)\n",
    "    outimg  = nib.Nifti1Image(outdata, affine=np.eye(4)*[-1,-1,1,1])\n",
    "    outname = os.path.join(output_dir, basename + '.nii.gz')\n",
    "    nib.save(outimg, outname)\n",
    "\n",
    "basenames = train_ds.image_basenames\n",
    "for i in range(len(basenames)):    \n",
    "    ims, _ = train_ds[i]\n",
    "    ims    = ims.unsqueeze(0)\n",
    "    ims    = ims.to(device=device)\n",
    "    pred   = model(ims)\n",
    "    save_pred(output_dir+\"/train_output\",pred,basenames[i])\n",
    "\n",
    "basenames = test_ds.image_basenames\n",
    "for i in range(len(basenames)):    \n",
    "    ims, _ = test_ds[i]\n",
    "    ims    = ims.unsqueeze(0)\n",
    "    ims    = ims.to(device=device)\n",
    "    pred   = model(ims)\n",
    "    save_pred(output_dir+\"/test_output\",pred,basenames[i])"
   ]
  },
  {
   "cell_type": "markdown",
   "metadata": {},
   "source": [
    "***\n",
    "## Writting training log"
   ]
  },
  {
   "cell_type": "code",
   "execution_count": 25,
   "metadata": {},
   "outputs": [],
   "source": [
    "import contextlib\n",
    "with open(output_dir+'/Log.txt','w') as f:\n",
    "    with contextlib.redirect_stdout(f):\n",
    "        for i in range(1,n_epochs+1):\n",
    "            log.report_avgs(i)"
   ]
  }
 ],
 "metadata": {
  "accelerator": "GPU",
  "colab": {
   "include_colab_link": true,
   "name": "Semantic_Segmentation_with_U_Net.ipynb",
   "provenance": []
  },
  "interpreter": {
   "hash": "6895300d4d065fc1424a67b55d47bfcdfa33df3e124e85dd1644bc8f91c11580"
  },
  "kernelspec": {
   "display_name": "Python 3 (ipykernel)",
   "language": "python",
   "name": "python3"
  },
  "language_info": {
   "codemirror_mode": {
    "name": "ipython",
    "version": 3
   },
   "file_extension": ".py",
   "mimetype": "text/x-python",
   "name": "python",
   "nbconvert_exporter": "python",
   "pygments_lexer": "ipython3",
   "version": "3.10.11"
  },
  "widgets": {
   "application/vnd.jupyter.widget-state+json": {
    "0431d166f9d946a1a9cb6da37e08e900": {
     "model_module": "@jupyter-widgets/base",
     "model_name": "LayoutModel",
     "state": {
      "_model_module": "@jupyter-widgets/base",
      "_model_module_version": "1.2.0",
      "_model_name": "LayoutModel",
      "_view_count": null,
      "_view_module": "@jupyter-widgets/base",
      "_view_module_version": "1.2.0",
      "_view_name": "LayoutView",
      "align_content": null,
      "align_items": null,
      "align_self": null,
      "border": null,
      "bottom": null,
      "display": null,
      "flex": null,
      "flex_flow": null,
      "grid_area": null,
      "grid_auto_columns": null,
      "grid_auto_flow": null,
      "grid_auto_rows": null,
      "grid_column": null,
      "grid_gap": null,
      "grid_row": null,
      "grid_template_areas": null,
      "grid_template_columns": null,
      "grid_template_rows": null,
      "height": null,
      "justify_content": null,
      "justify_items": null,
      "left": null,
      "margin": null,
      "max_height": null,
      "max_width": null,
      "min_height": null,
      "min_width": null,
      "object_fit": null,
      "object_position": null,
      "order": null,
      "overflow": null,
      "overflow_x": null,
      "overflow_y": null,
      "padding": null,
      "right": null,
      "top": null,
      "visibility": null,
      "width": null
     }
    },
    "300e54bb169442a19c843ee9b240ae51": {
     "model_module": "@jupyter-widgets/controls",
     "model_name": "FloatProgressModel",
     "state": {
      "_dom_classes": [],
      "_model_module": "@jupyter-widgets/controls",
      "_model_module_version": "1.5.0",
      "_model_name": "FloatProgressModel",
      "_view_count": null,
      "_view_module": "@jupyter-widgets/controls",
      "_view_module_version": "1.5.0",
      "_view_name": "ProgressView",
      "bar_style": "success",
      "description": "100%",
      "description_tooltip": null,
      "layout": "IPY_MODEL_0431d166f9d946a1a9cb6da37e08e900",
      "max": 553507836,
      "min": 0,
      "orientation": "horizontal",
      "style": "IPY_MODEL_a25e41d7ae29488788c6c3b1cee7d00e",
      "value": 553507836
     }
    },
    "433a0a7d7d4b49f9bfcf610c9d0f66ad": {
     "model_module": "@jupyter-widgets/controls",
     "model_name": "DescriptionStyleModel",
     "state": {
      "_model_module": "@jupyter-widgets/controls",
      "_model_module_version": "1.5.0",
      "_model_name": "DescriptionStyleModel",
      "_view_count": null,
      "_view_module": "@jupyter-widgets/base",
      "_view_module_version": "1.2.0",
      "_view_name": "StyleView",
      "description_width": ""
     }
    },
    "5292c3b952b3466f9c2d05bf97dc3fcc": {
     "model_module": "@jupyter-widgets/controls",
     "model_name": "HBoxModel",
     "state": {
      "_dom_classes": [],
      "_model_module": "@jupyter-widgets/controls",
      "_model_module_version": "1.5.0",
      "_model_name": "HBoxModel",
      "_view_count": null,
      "_view_module": "@jupyter-widgets/controls",
      "_view_module_version": "1.5.0",
      "_view_name": "HBoxView",
      "box_style": "",
      "children": [
       "IPY_MODEL_300e54bb169442a19c843ee9b240ae51",
       "IPY_MODEL_f06a86af1f854643bcc67d7921214717"
      ],
      "layout": "IPY_MODEL_bd6d2b25f8254a77925ed65471913b48"
     }
    },
    "a25e41d7ae29488788c6c3b1cee7d00e": {
     "model_module": "@jupyter-widgets/controls",
     "model_name": "ProgressStyleModel",
     "state": {
      "_model_module": "@jupyter-widgets/controls",
      "_model_module_version": "1.5.0",
      "_model_name": "ProgressStyleModel",
      "_view_count": null,
      "_view_module": "@jupyter-widgets/base",
      "_view_module_version": "1.2.0",
      "_view_name": "StyleView",
      "bar_color": null,
      "description_width": "initial"
     }
    },
    "b0d5e6d13dd14b02a3e60517301dfeb6": {
     "model_module": "@jupyter-widgets/base",
     "model_name": "LayoutModel",
     "state": {
      "_model_module": "@jupyter-widgets/base",
      "_model_module_version": "1.2.0",
      "_model_name": "LayoutModel",
      "_view_count": null,
      "_view_module": "@jupyter-widgets/base",
      "_view_module_version": "1.2.0",
      "_view_name": "LayoutView",
      "align_content": null,
      "align_items": null,
      "align_self": null,
      "border": null,
      "bottom": null,
      "display": null,
      "flex": null,
      "flex_flow": null,
      "grid_area": null,
      "grid_auto_columns": null,
      "grid_auto_flow": null,
      "grid_auto_rows": null,
      "grid_column": null,
      "grid_gap": null,
      "grid_row": null,
      "grid_template_areas": null,
      "grid_template_columns": null,
      "grid_template_rows": null,
      "height": null,
      "justify_content": null,
      "justify_items": null,
      "left": null,
      "margin": null,
      "max_height": null,
      "max_width": null,
      "min_height": null,
      "min_width": null,
      "object_fit": null,
      "object_position": null,
      "order": null,
      "overflow": null,
      "overflow_x": null,
      "overflow_y": null,
      "padding": null,
      "right": null,
      "top": null,
      "visibility": null,
      "width": null
     }
    },
    "bd6d2b25f8254a77925ed65471913b48": {
     "model_module": "@jupyter-widgets/base",
     "model_name": "LayoutModel",
     "state": {
      "_model_module": "@jupyter-widgets/base",
      "_model_module_version": "1.2.0",
      "_model_name": "LayoutModel",
      "_view_count": null,
      "_view_module": "@jupyter-widgets/base",
      "_view_module_version": "1.2.0",
      "_view_name": "LayoutView",
      "align_content": null,
      "align_items": null,
      "align_self": null,
      "border": null,
      "bottom": null,
      "display": null,
      "flex": null,
      "flex_flow": null,
      "grid_area": null,
      "grid_auto_columns": null,
      "grid_auto_flow": null,
      "grid_auto_rows": null,
      "grid_column": null,
      "grid_gap": null,
      "grid_row": null,
      "grid_template_areas": null,
      "grid_template_columns": null,
      "grid_template_rows": null,
      "height": null,
      "justify_content": null,
      "justify_items": null,
      "left": null,
      "margin": null,
      "max_height": null,
      "max_width": null,
      "min_height": null,
      "min_width": null,
      "object_fit": null,
      "object_position": null,
      "order": null,
      "overflow": null,
      "overflow_x": null,
      "overflow_y": null,
      "padding": null,
      "right": null,
      "top": null,
      "visibility": null,
      "width": null
     }
    },
    "f06a86af1f854643bcc67d7921214717": {
     "model_module": "@jupyter-widgets/controls",
     "model_name": "HTMLModel",
     "state": {
      "_dom_classes": [],
      "_model_module": "@jupyter-widgets/controls",
      "_model_module_version": "1.5.0",
      "_model_name": "HTMLModel",
      "_view_count": null,
      "_view_module": "@jupyter-widgets/controls",
      "_view_module_version": "1.5.0",
      "_view_name": "HTMLView",
      "description": "",
      "description_tooltip": null,
      "layout": "IPY_MODEL_b0d5e6d13dd14b02a3e60517301dfeb6",
      "placeholder": "​",
      "style": "IPY_MODEL_433a0a7d7d4b49f9bfcf610c9d0f66ad",
      "value": " 528M/528M [03:52&lt;00:00, 2.38MB/s]"
     }
    }
   }
  }
 },
 "nbformat": 4,
 "nbformat_minor": 4
}
