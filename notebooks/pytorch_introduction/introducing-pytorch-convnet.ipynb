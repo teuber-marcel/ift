{
 "cells": [
  {
   "cell_type": "markdown",
   "metadata": {
    "colab_type": "text",
    "id": "UACxZR8ciiUQ"
   },
   "source": [
    "# Using PyTorch to build, train, and test convolutional neural networks"
   ]
  },
  {
   "cell_type": "markdown",
   "metadata": {
    "colab_type": "text",
    "id": "wz1OQ5nuzcZs"
   },
   "source": [
    "## Agenda\n",
    "*   Basic operations\n",
    "  *    Convolution\n",
    "  *    Activation\n",
    "  *    Pooling\n",
    "  *    Batch normalization\n",
    "  *    Skip conection\n",
    "  *    Linear\n",
    "  *    Dropout\n",
    "*   Loading and splitting a dataset  \n",
    "*   Building a convolutional neural network\n",
    "*   Defining loss function and optimizer\n",
    "*   Training and testing\n",
    "*   Saving and loading the model\n",
    "\n",
    "\n",
    "\n"
   ]
  },
  {
   "cell_type": "markdown",
   "metadata": {
    "colab_type": "text",
    "id": "F07sd5Oa_lce"
   },
   "source": [
    "## Basic operations"
   ]
  },
  {
   "cell_type": "markdown",
   "metadata": {
    "colab_type": "text",
    "id": "gAnRUGQwlD7C"
   },
   "source": [
    "PyTorch has a module called `nn` that provides a lot of useful tools to build neural networks. This module defines most commonly used operations, such as convolution, pooling and activation. We will see how to use some of these operations using module `nn`: \n",
    "\n",
    "*   Convolution\n",
    "*   Activation\n",
    "*   Pooling\n",
    "*   Batch normalization\n",
    "*   Skip connection\n",
    "*   Linear transformation (dense layer) \n",
    "*   Dropout"
   ]
  },
  {
   "cell_type": "code",
   "execution_count": 1,
   "metadata": {
    "colab": {},
    "colab_type": "code",
    "id": "sCdMfoJL_ii9"
   },
   "outputs": [],
   "source": [
    "#import module nn\n",
    "import torch\n",
    "from torch import nn as nn"
   ]
  },
  {
   "cell_type": "markdown",
   "metadata": {
    "colab_type": "text",
    "id": "6p4eyRIkAYHq"
   },
   "source": [
    "### Convolution"
   ]
  },
  {
   "cell_type": "markdown",
   "metadata": {
    "colab_type": "text",
    "id": "ffbtsg3Fr8I8"
   },
   "source": [
    "You must provide the number of input channels, the number of output channels (i.e., number of kernels), and the kernel sizes. To preserve image dimensions, you must provide the padding size. \n",
    "\n",
    "CLASS torch.nn.Conv2d(in_channels, out_channels, kernel_size, stride=1, padding=0, dilation=1, groups=1, bias=True, padding_mode='zeros', device=None, dtype=None)"
   ]
  },
  {
   "cell_type": "code",
   "execution_count": 2,
   "metadata": {
    "colab": {},
    "colab_type": "code",
    "id": "GulcMRYF_yMg"
   },
   "outputs": [],
   "source": [
    "#it defines a convolution with 3 kernels of sizes 5 x 3\n",
    "conv = nn.Conv2d(in_channels=2, out_channels=3, kernel_size=(5, 3), padding=(2,1))"
   ]
  },
  {
   "cell_type": "markdown",
   "metadata": {
    "colab_type": "text",
    "id": "vIPiM70Bn-ib"
   },
   "source": [
    "The weights are stored in a tensor $K_{N, M, P, Q}$, such that\n",
    "$N$ is the number of kernels, $M$ is the number of input channels, $P$ and $Q$ are the input dimensions (height, width). \n",
    "\n"
   ]
  },
  {
   "cell_type": "code",
   "execution_count": 3,
   "metadata": {
    "colab": {
     "base_uri": "https://localhost:8080/",
     "height": 34
    },
    "colab_type": "code",
    "id": "nAWDHZM-UmOO",
    "outputId": "83229aad-6f46-4b41-ee64-baca763b5160"
   },
   "outputs": [
    {
     "name": "stdout",
     "output_type": "stream",
     "text": [
      "torch.Size([3, 2, 5, 3])\n"
     ]
    }
   ],
   "source": [
    "print(conv.weight.data.shape)"
   ]
  },
  {
   "cell_type": "markdown",
   "metadata": {
    "colab_type": "text",
    "id": "znFB_adxsduZ"
   },
   "source": [
    "The input is a tensor $I_{B, M, P, Q}$, such that $B$ is the batch size, $M$ is the number of channels, and $P$ and $Q$ are the input dimensions (height, width). "
   ]
  },
  {
   "cell_type": "code",
   "execution_count": 4,
   "metadata": {
    "colab": {
     "base_uri": "https://localhost:8080/",
     "height": 34
    },
    "colab_type": "code",
    "id": "jGgzqB0N_6Bn",
    "outputId": "deb325d2-3828-47ed-a930-131ae2e60d2a"
   },
   "outputs": [
    {
     "name": "stdout",
     "output_type": "stream",
     "text": [
      "x =  tensor([[[[0.3979, 0.6781, 0.2888, 0.3042, 0.5884, 0.6078, 0.0167, 0.0748],\n",
      "          [0.8096, 0.8215, 0.8733, 0.1625, 0.8922, 0.6365, 0.2907, 0.2644],\n",
      "          [0.9397, 0.2292, 0.6480, 0.8906, 0.2314, 0.5614, 0.7014, 0.8380],\n",
      "          [0.3092, 0.2521, 0.6766, 0.5781, 0.1808, 0.4587, 0.3983, 0.0020],\n",
      "          [0.1866, 0.8839, 0.8563, 0.7240, 0.0454, 0.5466, 0.5761, 0.8567],\n",
      "          [0.1083, 0.5772, 0.9383, 0.0878, 0.2443, 0.5965, 0.6737, 0.3262],\n",
      "          [0.8654, 0.3666, 0.0937, 0.6625, 0.1207, 0.9134, 0.1388, 0.7043],\n",
      "          [0.3417, 0.3609, 0.5373, 0.9902, 0.7912, 0.2393, 0.4815, 0.2962],\n",
      "          [0.3991, 0.3097, 0.8783, 0.4206, 0.8329, 0.8307, 0.5787, 0.1998],\n",
      "          [0.2880, 0.8772, 0.3219, 0.1805, 0.4838, 0.4176, 0.3693, 0.6310]],\n",
      "\n",
      "         [[0.9508, 0.9297, 0.1803, 0.7249, 0.1210, 0.4052, 0.7632, 0.4455],\n",
      "          [0.4198, 0.6128, 0.4652, 0.2981, 0.6985, 0.5656, 0.0910, 0.1242],\n",
      "          [0.1980, 0.9878, 0.2479, 0.8759, 0.6822, 0.0426, 0.1474, 0.4371],\n",
      "          [0.5330, 0.5453, 0.1122, 0.7287, 0.4534, 0.3506, 0.9201, 0.7427],\n",
      "          [0.5112, 0.7451, 0.7298, 0.2578, 0.0032, 0.6687, 0.5989, 0.2988],\n",
      "          [0.6938, 0.7594, 0.5960, 0.5756, 0.8196, 0.8932, 0.9024, 0.5393],\n",
      "          [0.3771, 0.2076, 0.0892, 0.8313, 0.9915, 0.9860, 0.8123, 0.7750],\n",
      "          [0.4525, 0.0463, 0.7884, 0.9122, 0.8513, 0.5076, 0.5624, 0.6198],\n",
      "          [0.4507, 0.4990, 0.2812, 0.0496, 0.0848, 0.3359, 0.7971, 0.5558],\n",
      "          [0.8541, 0.3261, 0.6012, 0.9435, 0.8805, 0.9774, 0.8569, 0.4018]]]])\n",
      "torch.Size([1, 2, 10, 8])\n"
     ]
    }
   ],
   "source": [
    "#creating a random input\n",
    "x = torch.rand(1, 2, 10, 8)\n",
    "print(\"x = \", x)\n",
    "print(x.size())"
   ]
  },
  {
   "cell_type": "code",
   "execution_count": 5,
   "metadata": {
    "colab": {},
    "colab_type": "code",
    "id": "PmW5oc9wAMtf"
   },
   "outputs": [
    {
     "name": "stdout",
     "output_type": "stream",
     "text": [
      "y_conv =  tensor([[[[ 0.0040, -0.0247,  0.0764,  0.0679, -0.1193,  0.2254,  0.1084,\n",
      "           -0.0519],\n",
      "          [ 0.1206,  0.2520, -0.0385,  0.2421,  0.1433, -0.0509, -0.0220,\n",
      "            0.0231],\n",
      "          [-0.0276, -0.1122, -0.4948,  0.3909,  0.1087, -0.3444, -0.0338,\n",
      "            0.0799],\n",
      "          [-0.0831, -0.0869, -0.0401,  0.1578, -0.0640, -0.2404, -0.0681,\n",
      "           -0.1891],\n",
      "          [ 0.0276,  0.0853,  0.0437,  0.0820, -0.0877,  0.0484,  0.2515,\n",
      "            0.1303],\n",
      "          [ 0.0168,  0.1924, -0.1729, -0.2009,  0.0240, -0.0090, -0.0060,\n",
      "           -0.3504],\n",
      "          [ 0.1943, -0.0556, -0.1534,  0.0571,  0.3767,  0.2100,  0.0468,\n",
      "           -0.0677],\n",
      "          [-0.2474, -0.1657, -0.0165, -0.0464, -0.0421, -0.2024, -0.0150,\n",
      "           -0.0975],\n",
      "          [ 0.1013, -0.0082,  0.3216,  0.0416, -0.0983,  0.0576,  0.0824,\n",
      "           -0.1266],\n",
      "          [ 0.1839,  0.0362,  0.0542, -0.0994, -0.1890, -0.0745, -0.0760,\n",
      "           -0.1342]],\n",
      "\n",
      "         [[-0.1631, -0.2011, -0.4468, -0.3829, -0.2734, -0.3156, -0.3596,\n",
      "           -0.4067],\n",
      "          [ 0.1135, -0.3795, -0.2983, -0.3063, -0.5607, -0.2403, -0.1209,\n",
      "           -0.2795],\n",
      "          [-0.1948, -0.5248, -0.6969, -0.5718, -0.5274, -0.3353, -0.5441,\n",
      "           -0.4936],\n",
      "          [-0.2759, -0.4242, -0.7320, -0.6296, -0.5474, -0.4379, -0.4966,\n",
      "           -0.5230],\n",
      "          [-0.4980, -0.6127, -0.5383, -0.4268, -0.5576, -0.6704, -0.7804,\n",
      "           -0.5784],\n",
      "          [-0.2639, -0.6275, -0.2355, -0.6576, -0.9561, -0.7305, -0.6904,\n",
      "           -0.5330],\n",
      "          [-0.2579, -0.3609, -0.6061, -0.3073, -0.8917, -0.7366, -0.8592,\n",
      "           -0.5598],\n",
      "          [-0.2004, -0.7563, -0.5611, -0.5708, -0.4846, -0.7171, -0.6757,\n",
      "           -0.6746],\n",
      "          [-0.1026, -0.3996, -0.2601, -0.4692, -0.5756, -0.4593, -0.6058,\n",
      "           -0.3145],\n",
      "          [-0.3522, -0.3467, -0.5982, -0.6465, -0.5003, -0.5417, -0.5136,\n",
      "           -0.2028]],\n",
      "\n",
      "         [[ 0.0018, -0.0950, -0.2942, -0.0962, -0.2067, -0.1351, -0.0829,\n",
      "           -0.3742],\n",
      "          [ 0.1052,  0.3117,  0.0981, -0.1930, -0.0227, -0.0395, -0.0243,\n",
      "           -0.2853],\n",
      "          [ 0.0576, -0.1651,  0.0531, -0.1028,  0.0225,  0.1905, -0.0396,\n",
      "           -0.5071],\n",
      "          [ 0.1748,  0.0478, -0.1852, -0.0556,  0.1981, -0.1538, -0.3744,\n",
      "           -0.4368],\n",
      "          [ 0.1673,  0.1262, -0.0153, -0.0445, -0.0836, -0.3013,  0.0674,\n",
      "           -0.1511],\n",
      "          [-0.0950,  0.0834,  0.3063, -0.1592, -0.2533, -0.3455, -0.0886,\n",
      "           -0.5811],\n",
      "          [ 0.0140,  0.0871,  0.2699,  0.2768,  0.1516,  0.1135, -0.0254,\n",
      "           -0.1521],\n",
      "          [-0.0703, -0.0904, -0.1158,  0.2513, -0.0407, -0.0156, -0.0716,\n",
      "           -0.3494],\n",
      "          [ 0.1179,  0.0841,  0.1677,  0.1886,  0.2542,  0.1347,  0.0579,\n",
      "           -0.2074],\n",
      "          [ 0.1497,  0.1415,  0.1737,  0.0678,  0.0283,  0.1059,  0.2103,\n",
      "            0.1383]]]], grad_fn=<ConvolutionBackward0>)\n",
      "torch.Size([1, 3, 10, 8])\n"
     ]
    }
   ],
   "source": [
    "#Convolving x with the three kernels that have already been randomly initialized\n",
    "y_conv = conv(x)\n",
    "print(\"y_conv = \", y_conv)\n",
    "print(y_conv.shape)"
   ]
  },
  {
   "cell_type": "markdown",
   "metadata": {
    "colab_type": "text",
    "id": "4kuaU58CtqfE"
   },
   "source": [
    "We can also set the kernel weights as we want."
   ]
  },
  {
   "cell_type": "code",
   "execution_count": 6,
   "metadata": {
    "colab": {},
    "colab_type": "code",
    "id": "XV21oH6IBZnS"
   },
   "outputs": [],
   "source": [
    "#initializing weights and biases\n",
    "conv.weight.data = torch.rand(3, 2, 5, 3, requires_grad=True) - 0.5\n",
    "conv.bias.data   = torch.rand(3, requires_grad=True) - 0.5"
   ]
  },
  {
   "cell_type": "code",
   "execution_count": 7,
   "metadata": {
    "colab": {},
    "colab_type": "code",
    "id": "FRb2j6YlFxRH"
   },
   "outputs": [
    {
     "name": "stdout",
     "output_type": "stream",
     "text": [
      "y_conv =  tensor([[[[-0.8875, -1.4548,  0.0847, -0.5870, -1.0588, -0.1963, -0.6282,\n",
      "           -0.7722],\n",
      "          [-1.4421, -0.7055, -0.4705, -0.9756,  0.0602, -0.6978, -1.0524,\n",
      "           -0.5475],\n",
      "          [-0.6672, -0.6853, -0.5835, -0.3754, -0.7118, -0.0790,  0.0212,\n",
      "           -0.4468],\n",
      "          [-1.1319, -0.3543,  0.0182, -0.1459,  0.2724, -0.1850, -0.4768,\n",
      "           -0.5945],\n",
      "          [-0.9012, -0.5329, -0.3257, -0.0383, -0.2956, -0.3960, -0.1929,\n",
      "            0.3082],\n",
      "          [-1.3071, -0.0706, -0.5128, -0.3653, -0.2953, -0.9476, -0.1974,\n",
      "           -1.0320],\n",
      "          [-0.6798, -0.8435, -0.8809, -1.2966, -0.4661, -0.7328, -0.8817,\n",
      "           -0.2691],\n",
      "          [-1.0643,  0.1733, -0.5080, -0.7785, -0.9575, -1.2882, -0.4106,\n",
      "           -0.5308],\n",
      "          [-1.0575, -0.2965, -0.3232, -0.7536, -0.3227, -0.6735, -0.8061,\n",
      "           -0.9563],\n",
      "          [-0.6425, -0.0086, -0.0233,  0.1433, -0.2794, -0.5209, -0.7532,\n",
      "           -0.6030]],\n",
      "\n",
      "         [[-0.4186, -0.4564, -1.1498, -0.2193, -1.0603, -0.6500, -0.2327,\n",
      "           -0.3576],\n",
      "          [-1.0363, -0.2030, -0.7993, -0.9162, -0.4530, -0.3447, -0.6078,\n",
      "           -0.4297],\n",
      "          [-0.3675, -0.2449, -0.9866, -0.3265,  0.3806, -0.5372, -0.4039,\n",
      "           -0.5578],\n",
      "          [ 0.3745, -0.7597, -0.9366,  0.1792, -0.2594, -0.9097, -0.6390,\n",
      "           -0.3056],\n",
      "          [-0.2968, -0.1206,  0.2391, -0.2332, -0.7880, -1.1798, -0.9292,\n",
      "           -1.2447],\n",
      "          [-0.1981,  0.0103, -0.7122, -0.8376, -0.5670, -1.1803, -0.1399,\n",
      "           -0.1511],\n",
      "          [-0.0795, -0.2136,  0.1459, -0.9964, -0.1764, -0.8888, -0.4537,\n",
      "           -0.6844],\n",
      "          [ 0.3006, -0.3088, -0.6083,  0.2469, -0.4508,  0.0172, -0.8268,\n",
      "           -0.2382],\n",
      "          [ 0.2037,  0.4267,  0.6601,  0.7113,  0.8000,  0.0248,  1.1605,\n",
      "           -0.0270],\n",
      "          [ 0.6241,  0.1064,  1.1781,  0.9191,  0.7081,  1.0242,  0.6727,\n",
      "            0.3193]],\n",
      "\n",
      "         [[-0.4196, -0.2278, -0.5519, -0.1338, -0.8262, -0.1377,  0.4060,\n",
      "            0.2297],\n",
      "          [-0.7029, -0.9845, -0.5740,  0.2603, -0.4912, -0.9673, -0.3414,\n",
      "           -0.1233],\n",
      "          [-0.9597, -0.2788, -0.2944,  0.5323, -0.1652, -0.2321, -0.2390,\n",
      "            0.0122],\n",
      "          [-1.4512, -0.4331, -0.2217,  0.3905,  0.1821, -0.5861,  0.0487,\n",
      "            0.4034],\n",
      "          [-0.7842,  0.4809, -0.3359,  0.0197, -0.2014, -1.1209, -0.8548,\n",
      "            0.1573],\n",
      "          [-0.0237, -0.3225, -0.3705, -0.0916,  0.2578, -0.2282,  0.4381,\n",
      "            0.2599],\n",
      "          [-1.0063, -0.1432, -0.5358,  0.6061,  0.3983,  0.0106,  0.3460,\n",
      "            0.2622],\n",
      "          [-0.9671, -0.5045,  0.4567, -0.8047, -0.5013, -0.6175,  0.1773,\n",
      "            0.2644],\n",
      "          [-0.4456,  0.5166, -0.0673, -0.2549,  0.1780,  0.6954,  0.5449,\n",
      "            0.8747],\n",
      "          [-0.1582,  0.1679,  0.5581,  1.2151,  0.7950,  0.4880,  0.1591,\n",
      "            0.3395]]]], grad_fn=<ConvolutionBackward0>)\n",
      "torch.Size([1, 3, 10, 8])\n"
     ]
    }
   ],
   "source": [
    "#Convolving x with our new kernel bank of three kernels\n",
    "y_conv = conv(x)\n",
    "print(\"y_conv = \", y_conv)\n",
    "print(y_conv.shape)"
   ]
  },
  {
   "cell_type": "markdown",
   "metadata": {
    "colab_type": "text",
    "id": "QNk_uCdTGv1B"
   },
   "source": [
    "\n",
    "### Activation"
   ]
  },
  {
   "cell_type": "markdown",
   "metadata": {
    "colab_type": "text",
    "id": "2kN1eYB9zZqN"
   },
   "source": [
    "Now we define a ReLU activation function.\n",
    "\n",
    "CLASS torch.nn.ReLU(inplace=False)"
   ]
  },
  {
   "cell_type": "code",
   "execution_count": 8,
   "metadata": {
    "colab": {},
    "colab_type": "code",
    "id": "jJqb6tldGow7"
   },
   "outputs": [],
   "source": [
    "#defining relu function\n",
    "\n",
    "relu = nn.ReLU()"
   ]
  },
  {
   "cell_type": "code",
   "execution_count": 9,
   "metadata": {
    "colab": {},
    "colab_type": "code",
    "id": "euCH4HNfGp38"
   },
   "outputs": [
    {
     "name": "stdout",
     "output_type": "stream",
     "text": [
      "y_relu =  tensor([[[[0.0000, 0.0000, 0.0847, 0.0000, 0.0000, 0.0000, 0.0000, 0.0000],\n",
      "          [0.0000, 0.0000, 0.0000, 0.0000, 0.0602, 0.0000, 0.0000, 0.0000],\n",
      "          [0.0000, 0.0000, 0.0000, 0.0000, 0.0000, 0.0000, 0.0212, 0.0000],\n",
      "          [0.0000, 0.0000, 0.0182, 0.0000, 0.2724, 0.0000, 0.0000, 0.0000],\n",
      "          [0.0000, 0.0000, 0.0000, 0.0000, 0.0000, 0.0000, 0.0000, 0.3082],\n",
      "          [0.0000, 0.0000, 0.0000, 0.0000, 0.0000, 0.0000, 0.0000, 0.0000],\n",
      "          [0.0000, 0.0000, 0.0000, 0.0000, 0.0000, 0.0000, 0.0000, 0.0000],\n",
      "          [0.0000, 0.1733, 0.0000, 0.0000, 0.0000, 0.0000, 0.0000, 0.0000],\n",
      "          [0.0000, 0.0000, 0.0000, 0.0000, 0.0000, 0.0000, 0.0000, 0.0000],\n",
      "          [0.0000, 0.0000, 0.0000, 0.1433, 0.0000, 0.0000, 0.0000, 0.0000]],\n",
      "\n",
      "         [[0.0000, 0.0000, 0.0000, 0.0000, 0.0000, 0.0000, 0.0000, 0.0000],\n",
      "          [0.0000, 0.0000, 0.0000, 0.0000, 0.0000, 0.0000, 0.0000, 0.0000],\n",
      "          [0.0000, 0.0000, 0.0000, 0.0000, 0.3806, 0.0000, 0.0000, 0.0000],\n",
      "          [0.3745, 0.0000, 0.0000, 0.1792, 0.0000, 0.0000, 0.0000, 0.0000],\n",
      "          [0.0000, 0.0000, 0.2391, 0.0000, 0.0000, 0.0000, 0.0000, 0.0000],\n",
      "          [0.0000, 0.0103, 0.0000, 0.0000, 0.0000, 0.0000, 0.0000, 0.0000],\n",
      "          [0.0000, 0.0000, 0.1459, 0.0000, 0.0000, 0.0000, 0.0000, 0.0000],\n",
      "          [0.3006, 0.0000, 0.0000, 0.2469, 0.0000, 0.0172, 0.0000, 0.0000],\n",
      "          [0.2037, 0.4267, 0.6601, 0.7113, 0.8000, 0.0248, 1.1605, 0.0000],\n",
      "          [0.6241, 0.1064, 1.1781, 0.9191, 0.7081, 1.0242, 0.6727, 0.3193]],\n",
      "\n",
      "         [[0.0000, 0.0000, 0.0000, 0.0000, 0.0000, 0.0000, 0.4060, 0.2297],\n",
      "          [0.0000, 0.0000, 0.0000, 0.2603, 0.0000, 0.0000, 0.0000, 0.0000],\n",
      "          [0.0000, 0.0000, 0.0000, 0.5323, 0.0000, 0.0000, 0.0000, 0.0122],\n",
      "          [0.0000, 0.0000, 0.0000, 0.3905, 0.1821, 0.0000, 0.0487, 0.4034],\n",
      "          [0.0000, 0.4809, 0.0000, 0.0197, 0.0000, 0.0000, 0.0000, 0.1573],\n",
      "          [0.0000, 0.0000, 0.0000, 0.0000, 0.2578, 0.0000, 0.4381, 0.2599],\n",
      "          [0.0000, 0.0000, 0.0000, 0.6061, 0.3983, 0.0106, 0.3460, 0.2622],\n",
      "          [0.0000, 0.0000, 0.4567, 0.0000, 0.0000, 0.0000, 0.1773, 0.2644],\n",
      "          [0.0000, 0.5166, 0.0000, 0.0000, 0.1780, 0.6954, 0.5449, 0.8747],\n",
      "          [0.0000, 0.1679, 0.5581, 1.2151, 0.7950, 0.4880, 0.1591, 0.3395]]]],\n",
      "       grad_fn=<ReluBackward0>)\n"
     ]
    }
   ],
   "source": [
    "#applying the relu function to output of a convolution\n",
    "y_relu = relu(y_conv)\n",
    "print(\"y_relu = \",y_relu)"
   ]
  },
  {
   "cell_type": "markdown",
   "metadata": {
    "colab_type": "text",
    "id": "-C32PFOzHoJI"
   },
   "source": [
    "### Pooling"
   ]
  },
  {
   "cell_type": "markdown",
   "metadata": {
    "colab_type": "text",
    "id": "QTAQUZ2Q0sN4"
   },
   "source": [
    "We may define now max poolin. Note that strides greater than 1 will reduce the input size. \n",
    "\n",
    "CLASS torch.nn.MaxPool2d(kernel_size, stride=None, padding=0, dilation=1, return_indices=False, ceil_mode=False)"
   ]
  },
  {
   "cell_type": "code",
   "execution_count": 10,
   "metadata": {
    "colab": {},
    "colab_type": "code",
    "id": "VWeA5kA8HeK4"
   },
   "outputs": [],
   "source": [
    "pool = nn.MaxPool2d(kernel_size=3, stride=1, padding=1)"
   ]
  },
  {
   "cell_type": "code",
   "execution_count": 11,
   "metadata": {
    "colab": {},
    "colab_type": "code",
    "id": "RJZUQLWdH2-7"
   },
   "outputs": [
    {
     "name": "stdout",
     "output_type": "stream",
     "text": [
      "y_pool =  tensor([[[[0.0000, 0.0847, 0.0847, 0.0847, 0.0602, 0.0602, 0.0000, 0.0000],\n",
      "          [0.0000, 0.0847, 0.0847, 0.0847, 0.0602, 0.0602, 0.0212, 0.0212],\n",
      "          [0.0000, 0.0182, 0.0182, 0.2724, 0.2724, 0.2724, 0.0212, 0.0212],\n",
      "          [0.0000, 0.0182, 0.0182, 0.2724, 0.2724, 0.2724, 0.3082, 0.3082],\n",
      "          [0.0000, 0.0182, 0.0182, 0.2724, 0.2724, 0.2724, 0.3082, 0.3082],\n",
      "          [0.0000, 0.0000, 0.0000, 0.0000, 0.0000, 0.0000, 0.3082, 0.3082],\n",
      "          [0.1733, 0.1733, 0.1733, 0.0000, 0.0000, 0.0000, 0.0000, 0.0000],\n",
      "          [0.1733, 0.1733, 0.1733, 0.0000, 0.0000, 0.0000, 0.0000, 0.0000],\n",
      "          [0.1733, 0.1733, 0.1733, 0.1433, 0.1433, 0.0000, 0.0000, 0.0000],\n",
      "          [0.0000, 0.0000, 0.1433, 0.1433, 0.1433, 0.0000, 0.0000, 0.0000]],\n",
      "\n",
      "         [[0.0000, 0.0000, 0.0000, 0.0000, 0.0000, 0.0000, 0.0000, 0.0000],\n",
      "          [0.0000, 0.0000, 0.0000, 0.3806, 0.3806, 0.3806, 0.0000, 0.0000],\n",
      "          [0.3745, 0.3745, 0.1792, 0.3806, 0.3806, 0.3806, 0.0000, 0.0000],\n",
      "          [0.3745, 0.3745, 0.2391, 0.3806, 0.3806, 0.3806, 0.0000, 0.0000],\n",
      "          [0.3745, 0.3745, 0.2391, 0.2391, 0.1792, 0.0000, 0.0000, 0.0000],\n",
      "          [0.0103, 0.2391, 0.2391, 0.2391, 0.0000, 0.0000, 0.0000, 0.0000],\n",
      "          [0.3006, 0.3006, 0.2469, 0.2469, 0.2469, 0.0172, 0.0172, 0.0000],\n",
      "          [0.4267, 0.6601, 0.7113, 0.8000, 0.8000, 1.1605, 1.1605, 1.1605],\n",
      "          [0.6241, 1.1781, 1.1781, 1.1781, 1.0242, 1.1605, 1.1605, 1.1605],\n",
      "          [0.6241, 1.1781, 1.1781, 1.1781, 1.0242, 1.1605, 1.1605, 1.1605]],\n",
      "\n",
      "         [[0.0000, 0.0000, 0.2603, 0.2603, 0.2603, 0.4060, 0.4060, 0.4060],\n",
      "          [0.0000, 0.0000, 0.5323, 0.5323, 0.5323, 0.4060, 0.4060, 0.4060],\n",
      "          [0.0000, 0.0000, 0.5323, 0.5323, 0.5323, 0.1821, 0.4034, 0.4034],\n",
      "          [0.4809, 0.4809, 0.5323, 0.5323, 0.5323, 0.1821, 0.4034, 0.4034],\n",
      "          [0.4809, 0.4809, 0.4809, 0.3905, 0.3905, 0.4381, 0.4381, 0.4381],\n",
      "          [0.4809, 0.4809, 0.6061, 0.6061, 0.6061, 0.4381, 0.4381, 0.4381],\n",
      "          [0.0000, 0.4567, 0.6061, 0.6061, 0.6061, 0.4381, 0.4381, 0.4381],\n",
      "          [0.5166, 0.5166, 0.6061, 0.6061, 0.6954, 0.6954, 0.8747, 0.8747],\n",
      "          [0.5166, 0.5581, 1.2151, 1.2151, 1.2151, 0.7950, 0.8747, 0.8747],\n",
      "          [0.5166, 0.5581, 1.2151, 1.2151, 1.2151, 0.7950, 0.8747, 0.8747]]]],\n",
      "       grad_fn=<MaxPool2DWithIndicesBackward0>)\n",
      "torch.Size([1, 3, 10, 8])\n"
     ]
    }
   ],
   "source": [
    "#applying max pooling to output of ReLu\n",
    "y_pool = pool(y_relu)\n",
    "print(\"y_pool = \", y_pool)\n",
    "print(y_pool.shape)"
   ]
  },
  {
   "cell_type": "markdown",
   "metadata": {
    "colab_type": "text",
    "id": "oXdqFTYZXkz1"
   },
   "source": [
    "### Batch normalization"
   ]
  },
  {
   "cell_type": "markdown",
   "metadata": {
    "colab_type": "text",
    "id": "bMzMfrvq16l-"
   },
   "source": [
    "Now we may define batch normalization to normalize batches in the following way $$y = \\frac{x - \\mathbb{E}[x]}{\\sqrt{\\mathrm{Var}[x]}}\\gamma + \\beta.$$ You must indicate the number of input channels.\n",
    "\n",
    "\n",
    "CLASS torch.nn.BatchNorm1d(num_features, eps=1e-05, momentum=0.1, affine=True, track_running_stats=True, device=None, dtype=None)"
   ]
  },
  {
   "cell_type": "code",
   "execution_count": 12,
   "metadata": {
    "colab": {},
    "colab_type": "code",
    "id": "kwbKQ3LK5VfZ"
   },
   "outputs": [],
   "source": [
    "#defining batch normalization layer: affine=False indicates without learnable parameters. \n",
    "norm = nn.BatchNorm2d(num_features=3, affine=False)"
   ]
  },
  {
   "cell_type": "code",
   "execution_count": 13,
   "metadata": {
    "colab": {},
    "colab_type": "code",
    "id": "946BtTY85shc"
   },
   "outputs": [
    {
     "name": "stdout",
     "output_type": "stream",
     "text": [
      "y_norm =  tensor([[[[-0.8554, -0.0843, -0.0843, -0.0843, -0.3076, -0.3076, -0.8554,\n",
      "           -0.8554],\n",
      "          [-0.8554, -0.0843, -0.0843, -0.0843, -0.3076, -0.3076, -0.6629,\n",
      "           -0.6629],\n",
      "          [-0.8554, -0.6901, -0.6901,  1.6234,  1.6234,  1.6234, -0.6629,\n",
      "           -0.6629],\n",
      "          [-0.8554, -0.6901, -0.6901,  1.6234,  1.6234,  1.6234,  1.9496,\n",
      "            1.9496],\n",
      "          [-0.8554, -0.6901, -0.6901,  1.6234,  1.6234,  1.6234,  1.9496,\n",
      "            1.9496],\n",
      "          [-0.8554, -0.8554, -0.8554, -0.8554, -0.8554, -0.8554,  1.9496,\n",
      "            1.9496],\n",
      "          [ 0.7215,  0.7215,  0.7215, -0.8554, -0.8554, -0.8554, -0.8554,\n",
      "           -0.8554],\n",
      "          [ 0.7215,  0.7215,  0.7215, -0.8554, -0.8554, -0.8554, -0.8554,\n",
      "           -0.8554],\n",
      "          [ 0.7215,  0.7215,  0.7215,  0.4489,  0.4489, -0.8554, -0.8554,\n",
      "           -0.8554],\n",
      "          [-0.8554, -0.8554,  0.4489,  0.4489,  0.4489, -0.8554, -0.8554,\n",
      "           -0.8554]],\n",
      "\n",
      "         [[-0.9549, -0.9549, -0.9549, -0.9549, -0.9549, -0.9549, -0.9549,\n",
      "           -0.9549],\n",
      "          [-0.9549, -0.9549, -0.9549, -0.0755, -0.0755, -0.0755, -0.9549,\n",
      "           -0.9549],\n",
      "          [-0.0895, -0.0895, -0.5407, -0.0755, -0.0755, -0.0755, -0.9549,\n",
      "           -0.9549],\n",
      "          [-0.0895, -0.0895, -0.4025, -0.0755, -0.0755, -0.0755, -0.9549,\n",
      "           -0.9549],\n",
      "          [-0.0895, -0.0895, -0.4025, -0.4025, -0.5407, -0.9549, -0.9549,\n",
      "           -0.9549],\n",
      "          [-0.9310, -0.4025, -0.4025, -0.4025, -0.9549, -0.9549, -0.9549,\n",
      "           -0.9549],\n",
      "          [-0.2603, -0.2603, -0.3843, -0.3843, -0.3843, -0.9151, -0.9151,\n",
      "           -0.9549],\n",
      "          [ 0.0312,  0.5705,  0.6886,  0.8937,  0.8937,  1.7265,  1.7265,\n",
      "            1.7265],\n",
      "          [ 0.4872,  1.7673,  1.7673,  1.7673,  1.4116,  1.7265,  1.7265,\n",
      "            1.7265],\n",
      "          [ 0.4872,  1.7673,  1.7673,  1.7673,  1.4116,  1.7265,  1.7265,\n",
      "            1.7265]],\n",
      "\n",
      "         [[-1.8465, -1.8465, -0.9327, -0.9327, -0.9327, -0.4212, -0.4212,\n",
      "           -0.4212],\n",
      "          [-1.8465, -1.8465,  0.0219,  0.0219,  0.0219, -0.4212, -0.4212,\n",
      "           -0.4212],\n",
      "          [-1.8465, -1.8465,  0.0219,  0.0219,  0.0219, -1.2075, -0.4306,\n",
      "           -0.4306],\n",
      "          [-0.1585, -0.1585,  0.0219,  0.0219,  0.0219, -1.2075, -0.4306,\n",
      "           -0.4306],\n",
      "          [-0.1585, -0.1585, -0.1585, -0.4759, -0.4759, -0.3087, -0.3087,\n",
      "           -0.3087],\n",
      "          [-0.1585, -0.1585,  0.2810,  0.2810,  0.2810, -0.3087, -0.3087,\n",
      "           -0.3087],\n",
      "          [-1.8465, -0.2435,  0.2810,  0.2810,  0.2810, -0.3087, -0.3087,\n",
      "           -0.3087],\n",
      "          [-0.0331, -0.0331,  0.2810,  0.2810,  0.5945,  0.5945,  1.2238,\n",
      "            1.2238],\n",
      "          [-0.0331,  0.1127,  2.4188,  2.4188,  2.4188,  0.9441,  1.2238,\n",
      "            1.2238],\n",
      "          [-0.0331,  0.1127,  2.4188,  2.4188,  2.4188,  0.9441,  1.2238,\n",
      "            1.2238]]]], grad_fn=<NativeBatchNormBackward0>)\n"
     ]
    }
   ],
   "source": [
    "#applying batch normalization\n",
    "y_norm = norm(y_pool)\n",
    "print(\"y_norm = \", y_norm)"
   ]
  },
  {
   "cell_type": "markdown",
   "metadata": {
    "colab_type": "text",
    "id": "dxsxUHlk6in6"
   },
   "source": [
    "### Skip connection"
   ]
  },
  {
   "cell_type": "markdown",
   "metadata": {
    "colab_type": "text",
    "id": "pktxly2T7Wau"
   },
   "source": [
    "To skip layers without passing through previus layers, we may concatenate the output of two layers along a given axis. For instance, we may concatenate the input and output of relu as follows.\n",
    "\n",
    "torch.cat(tensors, dim=0, *, out=None) → Tensor"
   ]
  },
  {
   "cell_type": "code",
   "execution_count": 14,
   "metadata": {
    "colab": {},
    "colab_type": "code",
    "id": "mkbib1Lk8fPv"
   },
   "outputs": [
    {
     "name": "stdout",
     "output_type": "stream",
     "text": [
      "concat =  tensor([[[[0.3979, 0.6781, 0.2888, 0.3042, 0.5884, 0.6078, 0.0167, 0.0748],\n",
      "          [0.8096, 0.8215, 0.8733, 0.1625, 0.8922, 0.6365, 0.2907, 0.2644],\n",
      "          [0.9397, 0.2292, 0.6480, 0.8906, 0.2314, 0.5614, 0.7014, 0.8380],\n",
      "          [0.3092, 0.2521, 0.6766, 0.5781, 0.1808, 0.4587, 0.3983, 0.0020],\n",
      "          [0.1866, 0.8839, 0.8563, 0.7240, 0.0454, 0.5466, 0.5761, 0.8567],\n",
      "          [0.1083, 0.5772, 0.9383, 0.0878, 0.2443, 0.5965, 0.6737, 0.3262],\n",
      "          [0.8654, 0.3666, 0.0937, 0.6625, 0.1207, 0.9134, 0.1388, 0.7043],\n",
      "          [0.3417, 0.3609, 0.5373, 0.9902, 0.7912, 0.2393, 0.4815, 0.2962],\n",
      "          [0.3991, 0.3097, 0.8783, 0.4206, 0.8329, 0.8307, 0.5787, 0.1998],\n",
      "          [0.2880, 0.8772, 0.3219, 0.1805, 0.4838, 0.4176, 0.3693, 0.6310]],\n",
      "\n",
      "         [[0.9508, 0.9297, 0.1803, 0.7249, 0.1210, 0.4052, 0.7632, 0.4455],\n",
      "          [0.4198, 0.6128, 0.4652, 0.2981, 0.6985, 0.5656, 0.0910, 0.1242],\n",
      "          [0.1980, 0.9878, 0.2479, 0.8759, 0.6822, 0.0426, 0.1474, 0.4371],\n",
      "          [0.5330, 0.5453, 0.1122, 0.7287, 0.4534, 0.3506, 0.9201, 0.7427],\n",
      "          [0.5112, 0.7451, 0.7298, 0.2578, 0.0032, 0.6687, 0.5989, 0.2988],\n",
      "          [0.6938, 0.7594, 0.5960, 0.5756, 0.8196, 0.8932, 0.9024, 0.5393],\n",
      "          [0.3771, 0.2076, 0.0892, 0.8313, 0.9915, 0.9860, 0.8123, 0.7750],\n",
      "          [0.4525, 0.0463, 0.7884, 0.9122, 0.8513, 0.5076, 0.5624, 0.6198],\n",
      "          [0.4507, 0.4990, 0.2812, 0.0496, 0.0848, 0.3359, 0.7971, 0.5558],\n",
      "          [0.8541, 0.3261, 0.6012, 0.9435, 0.8805, 0.9774, 0.8569, 0.4018]],\n",
      "\n",
      "         [[0.0000, 0.0000, 0.0847, 0.0000, 0.0000, 0.0000, 0.0000, 0.0000],\n",
      "          [0.0000, 0.0000, 0.0000, 0.0000, 0.0602, 0.0000, 0.0000, 0.0000],\n",
      "          [0.0000, 0.0000, 0.0000, 0.0000, 0.0000, 0.0000, 0.0212, 0.0000],\n",
      "          [0.0000, 0.0000, 0.0182, 0.0000, 0.2724, 0.0000, 0.0000, 0.0000],\n",
      "          [0.0000, 0.0000, 0.0000, 0.0000, 0.0000, 0.0000, 0.0000, 0.3082],\n",
      "          [0.0000, 0.0000, 0.0000, 0.0000, 0.0000, 0.0000, 0.0000, 0.0000],\n",
      "          [0.0000, 0.0000, 0.0000, 0.0000, 0.0000, 0.0000, 0.0000, 0.0000],\n",
      "          [0.0000, 0.1733, 0.0000, 0.0000, 0.0000, 0.0000, 0.0000, 0.0000],\n",
      "          [0.0000, 0.0000, 0.0000, 0.0000, 0.0000, 0.0000, 0.0000, 0.0000],\n",
      "          [0.0000, 0.0000, 0.0000, 0.1433, 0.0000, 0.0000, 0.0000, 0.0000]],\n",
      "\n",
      "         [[0.0000, 0.0000, 0.0000, 0.0000, 0.0000, 0.0000, 0.0000, 0.0000],\n",
      "          [0.0000, 0.0000, 0.0000, 0.0000, 0.0000, 0.0000, 0.0000, 0.0000],\n",
      "          [0.0000, 0.0000, 0.0000, 0.0000, 0.3806, 0.0000, 0.0000, 0.0000],\n",
      "          [0.3745, 0.0000, 0.0000, 0.1792, 0.0000, 0.0000, 0.0000, 0.0000],\n",
      "          [0.0000, 0.0000, 0.2391, 0.0000, 0.0000, 0.0000, 0.0000, 0.0000],\n",
      "          [0.0000, 0.0103, 0.0000, 0.0000, 0.0000, 0.0000, 0.0000, 0.0000],\n",
      "          [0.0000, 0.0000, 0.1459, 0.0000, 0.0000, 0.0000, 0.0000, 0.0000],\n",
      "          [0.3006, 0.0000, 0.0000, 0.2469, 0.0000, 0.0172, 0.0000, 0.0000],\n",
      "          [0.2037, 0.4267, 0.6601, 0.7113, 0.8000, 0.0248, 1.1605, 0.0000],\n",
      "          [0.6241, 0.1064, 1.1781, 0.9191, 0.7081, 1.0242, 0.6727, 0.3193]],\n",
      "\n",
      "         [[0.0000, 0.0000, 0.0000, 0.0000, 0.0000, 0.0000, 0.4060, 0.2297],\n",
      "          [0.0000, 0.0000, 0.0000, 0.2603, 0.0000, 0.0000, 0.0000, 0.0000],\n",
      "          [0.0000, 0.0000, 0.0000, 0.5323, 0.0000, 0.0000, 0.0000, 0.0122],\n",
      "          [0.0000, 0.0000, 0.0000, 0.3905, 0.1821, 0.0000, 0.0487, 0.4034],\n",
      "          [0.0000, 0.4809, 0.0000, 0.0197, 0.0000, 0.0000, 0.0000, 0.1573],\n",
      "          [0.0000, 0.0000, 0.0000, 0.0000, 0.2578, 0.0000, 0.4381, 0.2599],\n",
      "          [0.0000, 0.0000, 0.0000, 0.6061, 0.3983, 0.0106, 0.3460, 0.2622],\n",
      "          [0.0000, 0.0000, 0.4567, 0.0000, 0.0000, 0.0000, 0.1773, 0.2644],\n",
      "          [0.0000, 0.5166, 0.0000, 0.0000, 0.1780, 0.6954, 0.5449, 0.8747],\n",
      "          [0.0000, 0.1679, 0.5581, 1.2151, 0.7950, 0.4880, 0.1591, 0.3395]]]],\n",
      "       grad_fn=<CatBackward0>)\n",
      "torch.Size([1, 5, 10, 8])\n"
     ]
    }
   ],
   "source": [
    "#concatenating tensors\n",
    "concat = torch.cat((x, y_relu), dim=1)\n",
    "print(\"concat = \", concat)\n",
    "print(concat.shape)"
   ]
  },
  {
   "cell_type": "markdown",
   "metadata": {
    "colab_type": "text",
    "id": "L04BvhVaMF8g"
   },
   "source": [
    "### Linear"
   ]
  },
  {
   "cell_type": "markdown",
   "metadata": {
    "colab_type": "text",
    "id": "Ba9bi_dX9-RR"
   },
   "source": [
    "Dense layers can be implemented by flattening output activations followed by a linear transformation. We must indicate the input and output sizes.\n",
    "\n",
    "torch.flatten(input, start_dim=0, end_dim=-1) → Tensor\n",
    "\n",
    "CLASS torch.nn.Linear(in_features, out_features, bias=True, device=None, dtype=None)"
   ]
  },
  {
   "cell_type": "code",
   "execution_count": 15,
   "metadata": {
    "colab": {},
    "colab_type": "code",
    "id": "BffJeqoYKQgz"
   },
   "outputs": [
    {
     "name": "stdout",
     "output_type": "stream",
     "text": [
      "torch.Size([1, 240])\n"
     ]
    }
   ],
   "source": [
    "#transforming it into a 2D tensor\n",
    "y_flatten = y_pool.flatten(start_dim=1)\n",
    "print(y_flatten.shape)"
   ]
  },
  {
   "cell_type": "code",
   "execution_count": 16,
   "metadata": {
    "colab": {},
    "colab_type": "code",
    "id": "DCzjDwz0MPda"
   },
   "outputs": [],
   "source": [
    "#defining the linear layer\n",
    "linear = nn.Linear(in_features=240, out_features=2, bias=True)"
   ]
  },
  {
   "cell_type": "code",
   "execution_count": 17,
   "metadata": {
    "colab": {},
    "colab_type": "code",
    "id": "AP5e4LInMgm-"
   },
   "outputs": [
    {
     "name": "stdout",
     "output_type": "stream",
     "text": [
      "tensor([[-0.0037, -0.2588]], grad_fn=<AddmmBackward0>)\n",
      "torch.Size([1, 2])\n"
     ]
    }
   ],
   "source": [
    "#applying linear the transformation\n",
    "y_linear = linear(y_flatten)\n",
    "print(y_linear)\n",
    "print(y_linear.shape)"
   ]
  },
  {
   "cell_type": "markdown",
   "metadata": {},
   "source": [
    "### Dropout"
   ]
  },
  {
   "cell_type": "markdown",
   "metadata": {},
   "source": [
    "For regularization, we may also add a dropout layer to randomly disconsider elements of the input tensor (it sets zeroes) with probability p by following a Bernoulli distribution. The outputs are scaled by a factor $\\frac{1}{1-p}$ during training. \n",
    "\n",
    "CLASStorch.nn.Dropout(p=0.5, inplace=False)"
   ]
  },
  {
   "cell_type": "code",
   "execution_count": 18,
   "metadata": {},
   "outputs": [],
   "source": [
    "drop = nn.Dropout(0.5)"
   ]
  },
  {
   "cell_type": "code",
   "execution_count": 19,
   "metadata": {},
   "outputs": [],
   "source": [
    "x = torch.randn((5,5))"
   ]
  },
  {
   "cell_type": "code",
   "execution_count": 20,
   "metadata": {},
   "outputs": [],
   "source": [
    "y = drop(x)"
   ]
  },
  {
   "cell_type": "code",
   "execution_count": 21,
   "metadata": {},
   "outputs": [
    {
     "name": "stdout",
     "output_type": "stream",
     "text": [
      "Before dropout:  tensor([[ 0.2533,  1.6724,  0.6718, -0.4869, -2.3044],\n",
      "        [ 0.3521, -0.6614,  0.9708, -0.0864,  0.7105],\n",
      "        [-0.9476, -0.5692,  0.3070, -0.5911,  0.8759],\n",
      "        [-0.3633, -0.3425, -0.4009, -0.3206,  0.5074],\n",
      "        [ 0.2459, -0.6035, -1.6855,  0.2002, -1.2850]])\n"
     ]
    }
   ],
   "source": [
    "print(\"Before dropout: \", x)"
   ]
  },
  {
   "cell_type": "code",
   "execution_count": 22,
   "metadata": {},
   "outputs": [
    {
     "name": "stdout",
     "output_type": "stream",
     "text": [
      "After dropout tensor([[ 0.0000,  3.3449,  0.0000, -0.0000, -0.0000],\n",
      "        [ 0.7042, -1.3227,  0.0000, -0.1728,  0.0000],\n",
      "        [-1.8951, -1.1384,  0.0000, -0.0000,  1.7518],\n",
      "        [-0.0000, -0.6849, -0.8018, -0.6411,  0.0000],\n",
      "        [ 0.0000, -0.0000, -3.3711,  0.4004, -0.0000]])\n"
     ]
    }
   ],
   "source": [
    "print(\"After dropout\", y)"
   ]
  },
  {
   "cell_type": "markdown",
   "metadata": {
    "colab_type": "text",
    "id": "ngs43NaBIQlu"
   },
   "source": [
    "# Building a CNN for fashion mnist"
   ]
  },
  {
   "cell_type": "code",
   "execution_count": 23,
   "metadata": {},
   "outputs": [
    {
     "data": {
      "image/png": "[encoded data removed]",
      "text/plain": [
       "<Figure size 640x480 with 1 Axes>"
      ]
     },
     "metadata": {},
     "output_type": "display_data"
    }
   ],
   "source": [
    "import matplotlib.pyplot as plt\n",
    "\n",
    "fig = plt.imread('./fmnist.png')\n",
    "plt.imshow(fig)\n",
    "plt.axis(\"off\")\n",
    "plt.show()"
   ]
  },
  {
   "cell_type": "markdown",
   "metadata": {},
   "source": [
    "### Loading the Dataset"
   ]
  },
  {
   "cell_type": "code",
   "execution_count": 24,
   "metadata": {},
   "outputs": [],
   "source": [
    "#import modules to manipulate data\n",
    "from torch.utils.data import DataLoader, random_split\n",
    "from torchvision import datasets\n",
    "from torchvision import transforms\n",
    "# important to report the training results\n",
    "from torch_snippets import Report"
   ]
  },
  {
   "cell_type": "code",
   "execution_count": 25,
   "metadata": {},
   "outputs": [],
   "source": [
    "#define transformations between brackets to apply on the dataset images. For instance, convert them into tensors.\n",
    "transformations = transforms.Compose([transforms.ToTensor()]) "
   ]
  },
  {
   "cell_type": "markdown",
   "metadata": {},
   "source": [
    "#### You may load training and test images separately or"
   ]
  },
  {
   "cell_type": "code",
   "execution_count": 26,
   "metadata": {},
   "outputs": [],
   "source": [
    "#training_set = datasets.FashionMNIST(\n",
    "#    root=\"./images\",\n",
    "#    train=True,\n",
    "#    download=True,\n",
    "#    transform=transformations\n",
    "#)\n",
    "\n",
    "#test_set = datasets.FashionMNIST(\n",
    "#    root=\"./images\",\n",
    "#    train=False,\n",
    "#    download=True,\n",
    "#    transform=transformations\n",
    "#)"
   ]
  },
  {
   "cell_type": "markdown",
   "metadata": {},
   "source": [
    "#### you may download the training set and split it as you wish."
   ]
  },
  {
   "cell_type": "code",
   "execution_count": 27,
   "metadata": {},
   "outputs": [],
   "source": [
    "data_set = datasets.FashionMNIST(\n",
    "    root=\"./data\",\n",
    "    train=True,\n",
    "    download=True,\n",
    "    transform=transformations\n",
    ")"
   ]
  },
  {
   "cell_type": "code",
   "execution_count": 28,
   "metadata": {},
   "outputs": [],
   "source": [
    "#divide the dataset randomly into train, valid, and test sets. \n",
    "trainset, validset, testset = random_split(data_set, [30000, 15000, 15000])"
   ]
  },
  {
   "cell_type": "markdown",
   "metadata": {},
   "source": [
    "### Visualizing training images"
   ]
  },
  {
   "cell_type": "code",
   "execution_count": 29,
   "metadata": {},
   "outputs": [
    {
     "data": {
      "image/png": "[encoded data removed]",
      "text/plain": [
       "<Figure size 800x800 with 9 Axes>"
      ]
     },
     "metadata": {},
     "output_type": "display_data"
    }
   ],
   "source": [
    "labels_map = {\n",
    "    0: \"T-Shirt\",\n",
    "    1: \"Trouser\",\n",
    "    2: \"Pullover\",\n",
    "    3: \"Dress\",\n",
    "    4: \"Coat\",\n",
    "    5: \"Sandal\",\n",
    "    6: \"Shirt\",\n",
    "    7: \"Sneaker\",\n",
    "    8: \"Bag\",\n",
    "    9: \"Ankle Boot\",\n",
    "}\n",
    "figure = plt.figure(figsize=(8, 8))\n",
    "cols, rows = 3, 3\n",
    "for i in range(1, cols * rows + 1):\n",
    "    sample_idx = torch.randint(len(trainset), size=(1,)).item()\n",
    "    img, label = trainset[sample_idx]\n",
    "    figure.add_subplot(rows, cols, i)\n",
    "    plt.title(labels_map[label])\n",
    "    plt.axis(\"off\")\n",
    "    plt.imshow(img.squeeze(), cmap=\"gray\")\n",
    "plt.show()"
   ]
  },
  {
   "cell_type": "markdown",
   "metadata": {},
   "source": [
    "### Defining Dataloaders"
   ]
  },
  {
   "cell_type": "markdown",
   "metadata": {},
   "source": [
    "A dataloader divides a dataset into batches for iteration. Each iteration returns the next batch of train_features and train_labels (containing batch_size=64 features and labels, for instance). By specifying shuffle=True, after we iterate over all batches the dataset is shuffled (this is important to avoid overfitting when training a NN).\n",
    "\n",
    "DataLoader(dataset, batch_size=1, shuffle=False, sampler=None,\n",
    "           batch_sampler=None, num_workers=0, collate_fn=None,\n",
    "           pin_memory=False, drop_last=False, timeout=0,\n",
    "           worker_init_fn=None, *, prefetch_factor=2,\n",
    "           persistent_workers=False)"
   ]
  },
  {
   "cell_type": "code",
   "execution_count": 30,
   "metadata": {},
   "outputs": [],
   "source": [
    "#defining dataloader that will generate batches with 64 images at random \n",
    "trainload = DataLoader(trainset, batch_size=64, shuffle=True)\n",
    "testload  = DataLoader(testset, batch_size=64, shuffle=True)\n",
    "validload = DataLoader(validset, batch_size=64, shuffle=True)"
   ]
  },
  {
   "cell_type": "code",
   "execution_count": 31,
   "metadata": {},
   "outputs": [
    {
     "name": "stdout",
     "output_type": "stream",
     "text": [
      "Feature batch shape: torch.Size([64, 1, 28, 28])\n",
      "Label batch shape: torch.Size([64])\n"
     ]
    },
    {
     "data": {
      "image/png": "[encoded data removed]",
      "text/plain": [
       "<Figure size 640x480 with 1 Axes>"
      ]
     },
     "metadata": {},
     "output_type": "display_data"
    },
    {
     "name": "stdout",
     "output_type": "stream",
     "text": [
      "Label: 1 Object: Trouser\n"
     ]
    }
   ],
   "source": [
    "# For instance, you can access a batch and display image and label of its first sample.\n",
    "\n",
    "train_features, train_labels = next(iter(trainload)) # returns a batch\n",
    "print(\"Feature batch shape: {}\".format(train_features.shape)) # prints the shape of the features\n",
    "print(\"Label batch shape: {}\".format(train_labels.shape)) # prints the shape of the labels\n",
    "img   = train_features[16].squeeze() # returns the first image\n",
    "label = train_labels[16] # returns its labelfrom torch_snippets import *\n",
    "plt.imshow(img, cmap=\"gray\") # shows image and label\n",
    "plt.show()\n",
    "print(\"Label: {} Object: {}\".format(label.item(), labels_map[label.item()]))"
   ]
  },
  {
   "cell_type": "markdown",
   "metadata": {},
   "source": [
    "### Defining our CNN model"
   ]
  },
  {
   "cell_type": "code",
   "execution_count": 32,
   "metadata": {
    "colab": {},
    "colab_type": "code",
    "id": "P3harIz2LtcR"
   },
   "outputs": [],
   "source": [
    "import math"
   ]
  },
  {
   "cell_type": "code",
   "execution_count": 33,
   "metadata": {
    "colab": {},
    "colab_type": "code",
    "id": "PnEm1AsiITWZ"
   },
   "outputs": [],
   "source": [
    "# a convolutional block\n",
    "def conv_block(nchannels_in, nchannels_out, stride_val):\n",
    "    return nn.Sequential(\n",
    "        #defining convolutional layer \n",
    "        nn.Conv2d(in_channels=nchannels_in, out_channels=nchannels_out, kernel_size=(3, 3),\n",
    "                  stride=1, padding=1, bias=False),\n",
    "        #defining a batch normalization layer\n",
    "        nn.BatchNorm2d(num_features=nchannels_out),\n",
    "        #defining activation layer\n",
    "        nn.ReLU(),\n",
    "        #defining a pooling layer\n",
    "        nn.MaxPool2d(kernel_size=(3, 3), stride=stride_val, padding=1)\n",
    "    )\n",
    "  \n",
    "# Note that some operations, such as skip connection and downsampling, can be done in the forward method\n",
    "class FMNISTNet(nn.Module):\n",
    "\n",
    "    def __init__(self, num_classes):\n",
    "        super(FMNISTNet, self).__init__()\n",
    "        \n",
    "        #define the first conv_block\n",
    "        self.conv1 = conv_block(1,16,1)\n",
    "        \n",
    "        #defining the second conv_block\n",
    "        self.conv2 = conv_block(16,64,2)                      \n",
    "        \n",
    "        #defining classifier\n",
    "        self.classifier = nn.Sequential(\n",
    "            #defining linear layer\n",
    "            nn.Linear(in_features=int((28*28*(16+64))/(2*2)), out_features=512, bias=True),\n",
    "            #defining activation layer\n",
    "            nn.ReLU(),\n",
    "            # defining a dropout layer\n",
    "            nn.Dropout(0.2),\n",
    "            #defining linear layer as decision layer\n",
    "            nn.Linear(512, num_classes) #Note that you do not need nn.Softmax in torch\n",
    "        )\n",
    "\n",
    "        #initialize weights\n",
    "        self._initialize_weights()\n",
    "\n",
    "    def forward(self, x):\n",
    "        #extracts features\n",
    "        x1      = self.conv1(x)\n",
    "        x2      = self.conv2(x1)\n",
    "        #resizes x1 to have the same size of x2. See other operations in functional.\n",
    "        x1      = torch.nn.functional.interpolate(x1, scale_factor=(0.5, 0.5), mode='nearest',\n",
    "                                                  recompute_scale_factor=True)\n",
    "        #performs skip connection \n",
    "        x       = torch.cat((x1, x2), dim=1)\n",
    "    \n",
    "        #transforms outputs into a 2D tensor\n",
    "        x = torch.flatten(x, start_dim=1)\n",
    "\n",
    "        #classifies features\n",
    "        y = self.classifier(x)\n",
    "  \n",
    "        return y\n",
    "  \n",
    "    # Same as Xavier\n",
    "    def _initialize_weights(self):\n",
    "        #for each submodule of our network\n",
    "        for m in self.modules():\n",
    "            if isinstance(m, nn.Conv2d):\n",
    "                #get the number of elements in the layer weights\n",
    "                n = m.kernel_size[0] * m.kernel_size[1] * m.in_channels\n",
    "\n",
    "                #initialize layer weights with random values generated from a normal\n",
    "                #distribution with mean = 0 and std = sqrt(2. / n))\n",
    "                m.weight.data.normal_(mean=0, std=math.sqrt(2. / n))\n",
    "\n",
    "                if m.bias is not None:\n",
    "                    #initialize bias with 0 \n",
    "                    m.bias.data.zero_()\n",
    "            elif isinstance(m, nn.Linear):\n",
    "                #initialize layer weights with random values generated from a normal\n",
    "                #distribution with mean = 0 and std = 1/100\n",
    "                m.weight.data.normal_(mean=0, std=0.01)\n",
    "                if m.bias is not None:\n",
    "                #initialize bias with 0 \n",
    "                    m.bias.data.zero_()"
   ]
  },
  {
   "cell_type": "markdown",
   "metadata": {
    "colab_type": "text",
    "id": "PuN-_jLnKX_p"
   },
   "source": [
    "### Defining a device and creating the model"
   ]
  },
  {
   "cell_type": "code",
   "execution_count": 34,
   "metadata": {
    "colab": {},
    "colab_type": "code",
    "id": "kZ3A0UlWUBAx"
   },
   "outputs": [],
   "source": [
    "#is GPU available?\n",
    "gpu = torch.cuda.is_available()\n",
    "\n",
    "#defining device where to to the computation\n",
    "device = torch.device(0) if gpu else torch.device('cpu')"
   ]
  },
  {
   "cell_type": "code",
   "execution_count": 35,
   "metadata": {
    "colab": {},
    "colab_type": "code",
    "id": "SXOFYjUDLfHI"
   },
   "outputs": [],
   "source": [
    "#creating the model to a dataset with 10 classes and moving it to the correct device\n",
    "model = FMNISTNet(num_classes=10).to(device)"
   ]
  },
  {
   "cell_type": "markdown",
   "metadata": {},
   "source": [
    "### Show the summary of the model"
   ]
  },
  {
   "cell_type": "code",
   "execution_count": 36,
   "metadata": {},
   "outputs": [
    {
     "name": "stdout",
     "output_type": "stream",
     "text": [
      "==========================================================================================\n",
      "Layer (type:depth-idx)                   Output Shape              Param #\n",
      "==========================================================================================\n",
      "├─Sequential: 1-1                        [-1, 16, 28, 28]          --\n",
      "|    └─Conv2d: 2-1                       [-1, 16, 28, 28]          144\n",
      "|    └─BatchNorm2d: 2-2                  [-1, 16, 28, 28]          32\n",
      "|    └─ReLU: 2-3                         [-1, 16, 28, 28]          --\n",
      "|    └─MaxPool2d: 2-4                    [-1, 16, 28, 28]          --\n",
      "├─Sequential: 1-2                        [-1, 64, 14, 14]          --\n",
      "|    └─Conv2d: 2-5                       [-1, 64, 28, 28]          9,216\n",
      "|    └─BatchNorm2d: 2-6                  [-1, 64, 28, 28]          128\n",
      "|    └─ReLU: 2-7                         [-1, 64, 28, 28]          --\n",
      "|    └─MaxPool2d: 2-8                    [-1, 64, 14, 14]          --\n",
      "├─Sequential: 1-3                        [-1, 10]                  --\n",
      "|    └─Linear: 2-9                       [-1, 512]                 8,028,672\n",
      "|    └─ReLU: 2-10                        [-1, 512]                 --\n",
      "|    └─Dropout: 2-11                     [-1, 512]                 --\n",
      "|    └─Linear: 2-12                      [-1, 10]                  5,130\n",
      "==========================================================================================\n",
      "Total params: 8,043,322\n",
      "Trainable params: 8,043,322\n",
      "Non-trainable params: 0\n",
      "Total mult-adds (M): 23.41\n",
      "==========================================================================================\n",
      "Input size (MB): 0.00\n",
      "Forward/backward pass size (MB): 0.96\n",
      "Params size (MB): 30.68\n",
      "Estimated Total Size (MB): 31.65\n",
      "==========================================================================================\n"
     ]
    },
    {
     "data": {
      "text/plain": [
       "==========================================================================================\n",
       "Layer (type:depth-idx)                   Output Shape              Param #\n",
       "==========================================================================================\n",
       "├─Sequential: 1-1                        [-1, 16, 28, 28]          --\n",
       "|    └─Conv2d: 2-1                       [-1, 16, 28, 28]          144\n",
       "|    └─BatchNorm2d: 2-2                  [-1, 16, 28, 28]          32\n",
       "|    └─ReLU: 2-3                         [-1, 16, 28, 28]          --\n",
       "|    └─MaxPool2d: 2-4                    [-1, 16, 28, 28]          --\n",
       "├─Sequential: 1-2                        [-1, 64, 14, 14]          --\n",
       "|    └─Conv2d: 2-5                       [-1, 64, 28, 28]          9,216\n",
       "|    └─BatchNorm2d: 2-6                  [-1, 64, 28, 28]          128\n",
       "|    └─ReLU: 2-7                         [-1, 64, 28, 28]          --\n",
       "|    └─MaxPool2d: 2-8                    [-1, 64, 14, 14]          --\n",
       "├─Sequential: 1-3                        [-1, 10]                  --\n",
       "|    └─Linear: 2-9                       [-1, 512]                 8,028,672\n",
       "|    └─ReLU: 2-10                        [-1, 512]                 --\n",
       "|    └─Dropout: 2-11                     [-1, 512]                 --\n",
       "|    └─Linear: 2-12                      [-1, 10]                  5,130\n",
       "==========================================================================================\n",
       "Total params: 8,043,322\n",
       "Trainable params: 8,043,322\n",
       "Non-trainable params: 0\n",
       "Total mult-adds (M): 23.41\n",
       "==========================================================================================\n",
       "Input size (MB): 0.00\n",
       "Forward/backward pass size (MB): 0.96\n",
       "Params size (MB): 30.68\n",
       "Estimated Total Size (MB): 31.65\n",
       "=========================================================================================="
      ]
     },
     "execution_count": 36,
     "metadata": {},
     "output_type": "execute_result"
    }
   ],
   "source": [
    "from torchsummary import summary\n",
    "\n",
    "summary(model,(1,28,28)) # FMNIST contains 28x28 images with 1 channel"
   ]
  },
  {
   "cell_type": "markdown",
   "metadata": {},
   "source": [
    "### Show the trainable parameters: weights and bias"
   ]
  },
  {
   "cell_type": "code",
   "execution_count": 37,
   "metadata": {},
   "outputs": [
    {
     "name": "stdout",
     "output_type": "stream",
     "text": [
      "10\n",
      "tensor([[[ 0.3229,  0.0129, -0.4722],\n",
      "         [-0.3620, -0.2724,  0.3840],\n",
      "         [ 0.3310,  0.1292, -0.7613]]], device='cuda:0',\n",
      "       grad_fn=<SelectBackward0>)\n",
      "tensor(1., device='cuda:0', grad_fn=<SelectBackward0>)\n"
     ]
    }
   ],
   "source": [
    "params = list(model.parameters())\n",
    "print(len(params))\n",
    "print(params[0][0]) # random weights of the first filter of the convolutional layer\n",
    "print(params[1][0]) # the bias of that filter"
   ]
  },
  {
   "cell_type": "markdown",
   "metadata": {
    "colab_type": "text",
    "id": "ns-aYW2hLG53"
   },
   "source": [
    "### Loss function"
   ]
  },
  {
   "cell_type": "markdown",
   "metadata": {
    "colab_type": "text",
    "id": "tyibIOQ7IKMs"
   },
   "source": [
    "We use the cross entropy as loss function, which combines softmax and cross entropy.\n",
    "\n",
    "CLASS torch.nn.CrossEntropyLoss(weight=None, size_average=None, ignore_index=-100, reduce=None, reduction='mean')"
   ]
  },
  {
   "cell_type": "code",
   "execution_count": 38,
   "metadata": {
    "colab": {},
    "colab_type": "code",
    "id": "ywWsP2vTLIeL"
   },
   "outputs": [],
   "source": [
    "def Criterion(preds, targets):\n",
    "    ce            = nn.CrossEntropyLoss().to(device)\n",
    "    loss          = ce(preds, targets.long()) \n",
    "    pred_labels   = torch.max(preds, 1)[1] # same as argmax\n",
    "    acc           = torch.sum(pred_labels == targets.data)\n",
    "    n             = pred_labels.size(0)\n",
    "    acc           = acc/n\n",
    "    return loss, acc\n",
    "\n",
    "\n",
    "criterion = Criterion"
   ]
  },
  {
   "cell_type": "markdown",
   "metadata": {
    "colab_type": "text",
    "id": "2MvRRGK1LQDY"
   },
   "source": [
    "### Optimizer"
   ]
  },
  {
   "cell_type": "markdown",
   "metadata": {
    "colab_type": "text",
    "id": "JB-a-LvFeT11"
   },
   "source": [
    "PyTorch has many optimization algorithms. Here we are going to use the Stochastic Gradient Descent."
   ]
  },
  {
   "cell_type": "code",
   "execution_count": 39,
   "metadata": {
    "colab": {},
    "colab_type": "code",
    "id": "WlgVPXhJMCo2"
   },
   "outputs": [],
   "source": [
    "#import module that defines the optimizer\n",
    "import torch.optim as optim"
   ]
  },
  {
   "cell_type": "markdown",
   "metadata": {
    "colab_type": "text",
    "id": "Ap-bAHoUeoUI"
   },
   "source": [
    "To create a optimizer, we need to set a learning rate, a momentum, a weight_decay (L2 regularization).\n",
    "\n",
    "CLASS torch.optim.SGD(params, lr=<required parameter>, momentum=0, dampening=0, weight_decay=0, nesterov=False)"
   ]
  },
  {
   "cell_type": "code",
   "execution_count": 40,
   "metadata": {
    "colab": {},
    "colab_type": "code",
    "id": "yq5b97faLO-l"
   },
   "outputs": [],
   "source": [
    "#defining optimizer\n",
    "optimizer = optim.SGD(model.parameters(), lr=0.01, momentum=0.85, weight_decay=0.0001)"
   ]
  },
  {
   "cell_type": "markdown",
   "metadata": {
    "colab_type": "text",
    "id": "tFXAiYRZe5u-"
   },
   "source": [
    "We can use a learning rate scheduler that can update the learning rate during training. Here we will use a scheduler that multiply the learning rate by a factor $\\gamma$ at every $25$ epochs: e.g., lr=0.5, 0.05, 0.005...\n",
    "\n",
    "CLASS torch.optim.lr_scheduler.StepLR(optimizer, step_size, gamma=0.1, last_epoch=-1, verbose=False)\n"
   ]
  },
  {
   "cell_type": "code",
   "execution_count": 41,
   "metadata": {
    "colab": {},
    "colab_type": "code",
    "id": "g9bEjCBPLZZ0"
   },
   "outputs": [],
   "source": [
    "#defining learning rate scheduler\n",
    "lr_scheduler = optim.lr_scheduler.StepLR(optimizer, step_size=25, gamma=0.1)"
   ]
  },
  {
   "cell_type": "markdown",
   "metadata": {
    "colab_type": "text",
    "id": "EG0RRG5uUJYF"
   },
   "source": [
    "### Defining training and validation/test functions"
   ]
  },
  {
   "cell_type": "code",
   "execution_count": 42,
   "metadata": {
    "colab": {},
    "colab_type": "code",
    "id": "2uWGZ_y7T2b0"
   },
   "outputs": [],
   "source": [
    "def train_batch(model, data, optimizer, criterion, device):\n",
    "    model.train()\n",
    "    ims, targets = data\n",
    "    ims     = ims.to(device=device)\n",
    "    targets = targets.to(device=device)\n",
    "    preds   = model(ims)\n",
    "    loss, acc = criterion(preds, targets)\n",
    "    loss.backward()\n",
    "    optimizer.step()\n",
    "    optimizer.zero_grad()\n",
    "\n",
    "    return loss.item(), acc.item()\n",
    "\n",
    "@torch.no_grad()\n",
    "def validate_batch(model, data, criterion, device):\n",
    "    model.eval()\n",
    "    ims, targets = data\n",
    "    ims     = ims.to(device=device)\n",
    "    targets = targets.to(device=device)\n",
    "    preds   = model(ims)\n",
    "    loss, acc = criterion(preds, targets)\n",
    "    return loss.item(), acc.item()\n",
    "            "
   ]
  },
  {
   "cell_type": "markdown",
   "metadata": {},
   "source": [
    "### Training your model"
   ]
  },
  {
   "cell_type": "code",
   "execution_count": 43,
   "metadata": {
    "colab": {
     "base_uri": "https://localhost:8080/",
     "height": 1000
    },
    "colab_type": "code",
    "id": "pRht_kqVUa4H",
    "outputId": "e52bded8-59e0-4a90-aeb4-b75e46b58561"
   },
   "outputs": [
    {
     "name": "stdout",
     "output_type": "stream",
     "text": [
      "EPOCH: 10.000  val_loss: 0.280  val_acc: 0.904  trn_acc: 0.939  trn_loss: 0.162  (52.29s - 156.86s remaining)\n",
      "EPOCH: 20.000  val_loss: 0.269  val_acc: 0.923  trn_acc: 0.980  trn_loss: 0.056  (101.01s - 101.01s remaining)\n",
      "EPOCH: 30.000  val_loss: 0.313  val_acc: 0.928  trn_acc: 0.998  trn_loss: 0.009  (150.82s - 50.27s remaining)\n",
      "EPOCH: 40.000  val_loss: 0.323  val_acc: 0.929  trn_acc: 0.999  trn_loss: 0.007  (201.26s - 0.00s remaining)\n"
     ]
    }
   ],
   "source": [
    "# initializing variables\n",
    "n_epochs = 40\n",
    "log      = Report(n_epochs)\n",
    "\n",
    "# starting training and validation\n",
    "for ex in range(n_epochs):\n",
    "    N = len(trainload)\n",
    "    for bx, data in enumerate(trainload):\n",
    "        loss, acc = train_batch(model, data, optimizer, criterion, device)\n",
    "        #report results for the batch\n",
    "        log.record((ex+(bx+1)/N), trn_loss=loss, trn_acc=acc, end='\\r')\n",
    "\n",
    "    N = len(validload)\n",
    "    for bx, data in enumerate(validload):\n",
    "        loss, acc = validate_batch(model, data, criterion, device)\n",
    "        log.record((ex+(bx+1)/N), val_loss=loss, val_acc=acc, end='\\r')\n",
    "\n",
    "    if (ex+1) % 10 == 0: log.report_avgs(ex+1)\n",
    "    #count epochs for auto-adjusting the learning rate\n",
    "    lr_scheduler.step()"
   ]
  },
  {
   "cell_type": "markdown",
   "metadata": {},
   "source": [
    "### Plot the results"
   ]
  },
  {
   "cell_type": "code",
   "execution_count": 44,
   "metadata": {},
   "outputs": [
    {
     "name": "stderr",
     "output_type": "stream",
     "text": [
      "100%|████████████████████████████████████████| 141/141 [00:00<00:00, 318.68it/s]\n"
     ]
    },
    {
     "data": {
      "image/png": "[encoded data removed]",
      "text/plain": [
       "<Figure size 800x600 with 1 Axes>"
      ]
     },
     "metadata": {},
     "output_type": "display_data"
    },
    {
     "name": "stderr",
     "output_type": "stream",
     "text": [
      "100%|████████████████████████████████████████| 141/141 [00:00<00:00, 333.52it/s]\n"
     ]
    },
    {
     "data": {
      "image/png": "[encoded data removed]",
      "text/plain": [
       "<Figure size 800x600 with 1 Axes>"
      ]
     },
     "metadata": {},
     "output_type": "display_data"
    }
   ],
   "source": [
    "log.plot_epochs(['trn_loss','val_loss'])\n",
    "log.plot_epochs(['trn_acc','val_acc'])"
   ]
  },
  {
   "cell_type": "markdown",
   "metadata": {},
   "source": [
    "### Test your model"
   ]
  },
  {
   "cell_type": "code",
   "execution_count": 45,
   "metadata": {
    "colab": {
     "base_uri": "https://localhost:8080/",
     "height": 68
    },
    "colab_type": "code",
    "id": "cltw3oIuirqD",
    "outputId": "f554d3dd-d308-457c-c7aa-9966c624cdf8"
   },
   "outputs": [],
   "source": [
    "def Test(model, testload, criterion, device):\n",
    "    N = len(testload)\n",
    "    mean_loss = 0\n",
    "    mean_acc  = 0\n",
    "    for bx, data in enumerate(testload):\n",
    "        loss, acc  = validate_batch(model, data, criterion, device)\n",
    "        mean_loss += loss\n",
    "        mean_acc  += acc\n",
    "    \n",
    "    mean_loss = mean_loss / N\n",
    "    mean_acc  = mean_acc / N\n",
    "    return(mean_loss, mean_acc)\n",
    "\n",
    "\n"
   ]
  },
  {
   "cell_type": "code",
   "execution_count": 46,
   "metadata": {},
   "outputs": [
    {
     "name": "stdout",
     "output_type": "stream",
     "text": [
      "Loss: 0.332331 Acc: 0.924490\n"
     ]
    }
   ],
   "source": [
    "(mean, acc) = Test(model, testload, criterion, device)\n",
    "print('Loss: {:.6f} Acc: {:.6f}'.format(mean,acc))"
   ]
  },
  {
   "cell_type": "markdown",
   "metadata": {},
   "source": [
    "### Save and load your model"
   ]
  },
  {
   "cell_type": "code",
   "execution_count": 47,
   "metadata": {},
   "outputs": [],
   "source": [
    "# Save the tensors in the CPU format rather than in the GPU format to facilitate loading them later. It\n",
    "# does not save the architecture of the model, so the class of the model is required to load it later. \n",
    "torch.save(model.to('cpu').state_dict(), 'FMNistCNN.pth')\n",
    "#model.load_state_dict(torch.load('FMNistCNN.pth'))"
   ]
  },
  {
   "cell_type": "markdown",
   "metadata": {},
   "source": [
    "#### Exercise: The model is overfitted. Play with datasets' sizes, network architecture, and hiperparameters to improve results without overfitting and underfitting."
   ]
  }
 ],
 "metadata": {
  "accelerator": "GPU",
  "colab": {
   "collapsed_sections": [],
   "name": "presentation.ipynb",
   "provenance": []
  },
  "kernelspec": {
   "display_name": "Python 3 (ipykernel)",
   "language": "python",
   "name": "python3"
  },
  "language_info": {
   "codemirror_mode": {
    "name": "ipython",
    "version": 3
   },
   "file_extension": ".py",
   "mimetype": "text/x-python",
   "name": "python",
   "nbconvert_exporter": "python",
   "pygments_lexer": "ipython3",
   "version": "3.10.13"
  }
 },
 "nbformat": 4,
 "nbformat_minor": 4
}
